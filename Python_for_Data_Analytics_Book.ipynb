{
 "cells": [
  {
   "cell_type": "code",
   "execution_count": 94,
   "id": "fccebc39-c734-4a58-a8ab-48e5b272f8e7",
   "metadata": {},
   "outputs": [
    {
     "name": "stdout",
     "output_type": "stream",
     "text": [
      "Hello World !!\n"
     ]
    }
   ],
   "source": [
    "print(\"Hello World !!\")"
   ]
  },
  {
   "cell_type": "code",
   "execution_count": 95,
   "id": "775057f0-6e74-4038-84bb-295efc7c4be4",
   "metadata": {},
   "outputs": [
    {
     "data": {
      "text/plain": [
       "'c:\\\\Users\\\\Rahul Jangid\\\\wesm\\\\book-materials\\\\pydata-book-3rd-edition\\\\pydata-book-3rd-edition\\\\projects'"
      ]
     },
     "execution_count": 95,
     "metadata": {},
     "output_type": "execute_result"
    }
   ],
   "source": [
    "%pwd"
   ]
  },
  {
   "cell_type": "code",
   "execution_count": 96,
   "id": "542d8c78-f8f3-4e5e-bb10-badd7cc6161a",
   "metadata": {},
   "outputs": [],
   "source": [
    "an_apple = 27"
   ]
  },
  {
   "cell_type": "code",
   "execution_count": 97,
   "id": "76fd6c4f-61c5-477a-be27-0e36bfd7d048",
   "metadata": {},
   "outputs": [],
   "source": [
    "an_example = 42"
   ]
  },
  {
   "cell_type": "code",
   "execution_count": 98,
   "id": "8c58b2e4-8357-4804-965c-02e45e53f848",
   "metadata": {},
   "outputs": [],
   "source": [
    "b = [1,2,3]"
   ]
  },
  {
   "cell_type": "code",
   "execution_count": 99,
   "id": "12790212-1d6e-434b-b664-bfab4c29a45d",
   "metadata": {},
   "outputs": [],
   "source": [
    "b.reverse()"
   ]
  },
  {
   "cell_type": "code",
   "execution_count": 100,
   "id": "c97db771-d88d-4154-b6ac-be10880cfd20",
   "metadata": {},
   "outputs": [
    {
     "data": {
      "text/plain": [
       "[3, 2, 1]"
      ]
     },
     "execution_count": 100,
     "metadata": {},
     "output_type": "execute_result"
    }
   ],
   "source": [
    "b"
   ]
  },
  {
   "cell_type": "code",
   "execution_count": 101,
   "id": "7f3896eb-be34-42bb-b65a-76a30e8f0a05",
   "metadata": {},
   "outputs": [],
   "source": [
    "b.append(2)"
   ]
  },
  {
   "cell_type": "code",
   "execution_count": 102,
   "id": "2de4d519-2ef7-425e-87cc-49226d1e7487",
   "metadata": {},
   "outputs": [
    {
     "data": {
      "text/plain": [
       "[3, 2, 1, 2]"
      ]
     },
     "execution_count": 102,
     "metadata": {},
     "output_type": "execute_result"
    }
   ],
   "source": [
    "b"
   ]
  },
  {
   "cell_type": "code",
   "execution_count": 103,
   "id": "62f82594-30d6-4419-9e9a-32f7b6020391",
   "metadata": {},
   "outputs": [
    {
     "data": {
      "text/plain": [
       "[]"
      ]
     },
     "execution_count": 103,
     "metadata": {},
     "output_type": "execute_result"
    }
   ],
   "source": [
    "b.clear()\n",
    "b"
   ]
  },
  {
   "cell_type": "code",
   "execution_count": 104,
   "id": "9be24bb4-5b59-4730-9cc0-68454f1c81de",
   "metadata": {},
   "outputs": [],
   "source": [
    "b = [1,2,3]"
   ]
  },
  {
   "cell_type": "code",
   "execution_count": 105,
   "id": "c2d2b665-5c68-40b8-976f-ca45ce2ba5b3",
   "metadata": {},
   "outputs": [
    {
     "data": {
      "text/plain": [
       "[1, 2, 3]"
      ]
     },
     "execution_count": 105,
     "metadata": {},
     "output_type": "execute_result"
    }
   ],
   "source": [
    "b"
   ]
  },
  {
   "cell_type": "code",
   "execution_count": 106,
   "id": "2a5edb97-81ca-465b-a7d1-6c90cc1ae579",
   "metadata": {},
   "outputs": [],
   "source": [
    "import datetime"
   ]
  },
  {
   "cell_type": "code",
   "execution_count": 107,
   "id": "1390b40a-02a7-4ff9-993f-5cf6f8e6a73d",
   "metadata": {},
   "outputs": [],
   "source": [
    "def func_with_keywords(abra=1, abbra=2, abbbra=3):\n",
    "    return abra, abbra, abbbra"
   ]
  },
  {
   "cell_type": "code",
   "execution_count": 108,
   "id": "c37be7ea-d7f7-43eb-8e42-81ff8650965f",
   "metadata": {},
   "outputs": [
    {
     "data": {
      "text/plain": [
       "(1, 2, 3)"
      ]
     },
     "execution_count": 108,
     "metadata": {},
     "output_type": "execute_result"
    }
   ],
   "source": [
    "func_with_keywords (abbra=2)"
   ]
  },
  {
   "cell_type": "code",
   "execution_count": 109,
   "id": "79b99344-2769-40b8-a96a-5f8a5e4ffc3c",
   "metadata": {},
   "outputs": [
    {
     "name": "stdout",
     "output_type": "stream",
     "text": [
      "\u001b[31mType:\u001b[39m        list\n",
      "\u001b[31mString form:\u001b[39m [1, 2, 3]\n",
      "\u001b[31mLength:\u001b[39m      3\n",
      "\u001b[31mDocstring:\u001b[39m  \n",
      "Built-in mutable sequence.\n",
      "\n",
      "If no argument is given, the constructor creates a new empty list.\n",
      "The argument must be an iterable if specified."
     ]
    }
   ],
   "source": [
    "b?"
   ]
  },
  {
   "cell_type": "code",
   "execution_count": 110,
   "id": "c7667922-c53f-45a1-a447-35ca744d75bf",
   "metadata": {},
   "outputs": [
    {
     "name": "stdout",
     "output_type": "stream",
     "text": [
      "\u001b[31mSignature:\u001b[39m print(*args, sep=\u001b[33m' '\u001b[39m, end=\u001b[33m'\\n'\u001b[39m, file=\u001b[38;5;28;01mNone\u001b[39;00m, flush=\u001b[38;5;28;01mFalse\u001b[39;00m)\n",
      "\u001b[31mDocstring:\u001b[39m\n",
      "Prints the values to a stream, or to sys.stdout by default.\n",
      "\n",
      "sep\n",
      "  string inserted between values, default a space.\n",
      "end\n",
      "  string appended after the last value, default a newline.\n",
      "file\n",
      "  a file-like object (stream); defaults to the current sys.stdout.\n",
      "flush\n",
      "  whether to forcibly flush the stream.\n",
      "\u001b[31mType:\u001b[39m      builtin_function_or_method"
     ]
    }
   ],
   "source": [
    "print?"
   ]
  },
  {
   "cell_type": "code",
   "execution_count": 111,
   "id": "83b3ab52-158c-49f3-8d47-e97ab4bd6840",
   "metadata": {},
   "outputs": [],
   "source": [
    "def add_numbers(a,b):\n",
    "    \"\"\"\n",
    "    Add two numbers together\n",
    "\n",
    "    Returns\n",
    "    -------\n",
    "    the_sum : type of arguments\n",
    "    \"\"\"\n",
    "    return a + b"
   ]
  },
  {
   "cell_type": "code",
   "execution_count": 112,
   "id": "1015bb46-585d-4eda-991a-0de8877fbb6f",
   "metadata": {},
   "outputs": [
    {
     "name": "stdout",
     "output_type": "stream",
     "text": [
      "\u001b[31mSignature:\u001b[39m add_numbers(a, b)\n",
      "\u001b[31mDocstring:\u001b[39m\n",
      "Add two numbers together\n",
      "\n",
      "Returns\n",
      "-------\n",
      "the_sum : type of arguments\n",
      "\u001b[31mFile:\u001b[39m      c:\\users\\rahul jangid\\appdata\\local\\temp\\ipykernel_37396\\398033348.py\n",
      "\u001b[31mType:\u001b[39m      function"
     ]
    }
   ],
   "source": [
    "add_numbers?"
   ]
  },
  {
   "cell_type": "code",
   "execution_count": 113,
   "id": "42900d1c-e135-41a6-802e-6b1ae18a8501",
   "metadata": {},
   "outputs": [],
   "source": [
    "import numpy as np"
   ]
  },
  {
   "cell_type": "code",
   "execution_count": 114,
   "id": "55da3ed1-a7f0-4162-99b8-f30db84998a9",
   "metadata": {},
   "outputs": [
    {
     "name": "stdout",
     "output_type": "stream",
     "text": [
      "np.__loader__\n",
      "np.load\n",
      "np.loadtxt"
     ]
    }
   ],
   "source": [
    "np.*load*?"
   ]
  },
  {
   "cell_type": "code",
   "execution_count": 115,
   "id": "0178a0fb-8244-47cc-8a1b-3fde309d6aaa",
   "metadata": {},
   "outputs": [],
   "source": [
    "# 9th Oct, 2025 Chapter 2 "
   ]
  },
  {
   "cell_type": "code",
   "execution_count": 116,
   "id": "a4378f39-7952-4170-a69a-579358b46d83",
   "metadata": {},
   "outputs": [],
   "source": [
    "# Python LAnguage Basics, IPython and Jupyter Notebooks"
   ]
  },
  {
   "cell_type": "code",
   "execution_count": 117,
   "id": "9b959fba-1921-4582-97d9-fe98ab191e83",
   "metadata": {},
   "outputs": [
    {
     "data": {
      "text/plain": [
       "[1, 2, 3]"
      ]
     },
     "execution_count": 117,
     "metadata": {},
     "output_type": "execute_result"
    }
   ],
   "source": [
    "\n",
    "a = [1,2,3]\n",
    "b = a\n",
    "b"
   ]
  },
  {
   "cell_type": "code",
   "execution_count": 118,
   "id": "9e0e0268-0eb8-4f5a-8be2-28ca8a2571f7",
   "metadata": {},
   "outputs": [],
   "source": [
    "a.append(4)"
   ]
  },
  {
   "cell_type": "code",
   "execution_count": 119,
   "id": "c01d2129-04f6-4e08-9d60-08ec406a3195",
   "metadata": {},
   "outputs": [
    {
     "data": {
      "text/plain": [
       "[1, 2, 3, 4]"
      ]
     },
     "execution_count": 119,
     "metadata": {},
     "output_type": "execute_result"
    }
   ],
   "source": [
    "b"
   ]
  },
  {
   "cell_type": "code",
   "execution_count": 120,
   "id": "392d2871-664a-46e4-89f4-9560e462c578",
   "metadata": {},
   "outputs": [],
   "source": [
    "def append_element(some_list,element):\n",
    "    some_list.append(element)"
   ]
  },
  {
   "cell_type": "code",
   "execution_count": 121,
   "id": "c0221cd3-594f-4505-9add-a02dbd8a18bc",
   "metadata": {},
   "outputs": [
    {
     "data": {
      "text/plain": [
       "[1, 2, 3, 4]"
      ]
     },
     "execution_count": 121,
     "metadata": {},
     "output_type": "execute_result"
    }
   ],
   "source": [
    "data = [1,2,3]\n",
    "append_element(data,4)\n",
    "\n",
    "data"
   ]
  },
  {
   "cell_type": "code",
   "execution_count": 122,
   "id": "0de1fce2-47d0-49bc-8c9e-6efde7cfd3aa",
   "metadata": {},
   "outputs": [
    {
     "data": {
      "text/plain": [
       "int"
      ]
     },
     "execution_count": 122,
     "metadata": {},
     "output_type": "execute_result"
    }
   ],
   "source": [
    "a = 5 \n",
    "type(a)"
   ]
  },
  {
   "cell_type": "code",
   "execution_count": 123,
   "id": "c91c9467-b525-43b5-9574-8022ee707ff9",
   "metadata": {},
   "outputs": [
    {
     "data": {
      "text/plain": [
       "str"
      ]
     },
     "execution_count": 123,
     "metadata": {},
     "output_type": "execute_result"
    }
   ],
   "source": [
    "a = \"foo\"\n",
    "type(a)"
   ]
  },
  {
   "cell_type": "code",
   "execution_count": 124,
   "id": "f23346bf-9f22-4ed4-a5b3-006af1689139",
   "metadata": {},
   "outputs": [
    {
     "name": "stdout",
     "output_type": "stream",
     "text": [
      "a is <class 'float'>, b is <class 'int'>\n"
     ]
    }
   ],
   "source": [
    "a = 4.5\n",
    "b = 2\n",
    "\n",
    "print(f\"a is {type(a)}, b is {type(b)}\")"
   ]
  },
  {
   "cell_type": "code",
   "execution_count": 125,
   "id": "cba8aa6e-49c7-4ac8-8cf5-531e9dfa8327",
   "metadata": {},
   "outputs": [
    {
     "data": {
      "text/plain": [
       "2.25"
      ]
     },
     "execution_count": 125,
     "metadata": {},
     "output_type": "execute_result"
    }
   ],
   "source": [
    "a/b"
   ]
  },
  {
   "cell_type": "code",
   "execution_count": 126,
   "id": "fd2c5d29-6ee7-4f73-b424-1f7e1fb897f8",
   "metadata": {},
   "outputs": [
    {
     "data": {
      "text/plain": [
       "True"
      ]
     },
     "execution_count": 126,
     "metadata": {},
     "output_type": "execute_result"
    }
   ],
   "source": [
    "a = 5 \n",
    "isinstance(a,int)"
   ]
  },
  {
   "cell_type": "code",
   "execution_count": 127,
   "id": "35684005-6dcd-4526-a325-1e10706dd2f9",
   "metadata": {},
   "outputs": [],
   "source": [
    "a = 5; b = 4.5"
   ]
  },
  {
   "cell_type": "code",
   "execution_count": 128,
   "id": "e14c52e3-4e29-4d8b-b7ac-32af150ec99c",
   "metadata": {},
   "outputs": [
    {
     "data": {
      "text/plain": [
       "True"
      ]
     },
     "execution_count": 128,
     "metadata": {},
     "output_type": "execute_result"
    }
   ],
   "source": [
    "isinstance(a,(int,float))"
   ]
  },
  {
   "cell_type": "code",
   "execution_count": 129,
   "id": "04f13d5c-0c24-43fc-a401-7c0d8e3d3ae7",
   "metadata": {},
   "outputs": [
    {
     "data": {
      "text/plain": [
       "True"
      ]
     },
     "execution_count": 129,
     "metadata": {},
     "output_type": "execute_result"
    }
   ],
   "source": [
    "isinstance(b,(int,float))"
   ]
  },
  {
   "cell_type": "code",
   "execution_count": 130,
   "id": "e5f50d72-95bc-40ac-b2e6-bb2bad55254e",
   "metadata": {},
   "outputs": [
    {
     "name": "stdout",
     "output_type": "stream",
     "text": [
      "['f', 'oo']\n"
     ]
    },
    {
     "data": {
      "text/plain": [
       "<function str.rjust(width, fillchar=' ', /)>"
      ]
     },
     "execution_count": 130,
     "metadata": {},
     "output_type": "execute_result"
    }
   ],
   "source": [
    "a = \"f-oo\"\n",
    "print(a.split(sep=\"-\"))\n",
    "\n",
    "getattr(a,\"rjust\")"
   ]
  },
  {
   "cell_type": "code",
   "execution_count": 131,
   "id": "067809c5-7dab-4882-a9ae-0f9176705e82",
   "metadata": {},
   "outputs": [],
   "source": [
    "def isiterable(obj):\n",
    "    try:\n",
    "        iter(obj)\n",
    "        return True\n",
    "    except TypeError:\n",
    "        return False"
   ]
  },
  {
   "cell_type": "code",
   "execution_count": 132,
   "id": "b936deda-d356-4768-a134-9302b1a2c50b",
   "metadata": {},
   "outputs": [
    {
     "data": {
      "text/plain": [
       "True"
      ]
     },
     "execution_count": 132,
     "metadata": {},
     "output_type": "execute_result"
    }
   ],
   "source": [
    "import numpy as np\n",
    "isiterable({5:\"5\",6:\"6\"})\n",
    "a = np.array([1, 2, 3])\n",
    "isiterable([int(x) for x in a])\n"
   ]
  },
  {
   "cell_type": "code",
   "execution_count": 133,
   "id": "760a1fbc-fc95-4221-a5f7-db524f407777",
   "metadata": {},
   "outputs": [
    {
     "data": {
      "text/plain": [
       "True"
      ]
     },
     "execution_count": 133,
     "metadata": {},
     "output_type": "execute_result"
    }
   ],
   "source": [
    "a = [1,2,3]\n",
    "b = a\n",
    "a is b"
   ]
  },
  {
   "cell_type": "code",
   "execution_count": 134,
   "id": "6d91e852-a785-4c9d-99c2-6494771b2d14",
   "metadata": {},
   "outputs": [],
   "source": [
    "#Mutable and Immutable objects\n",
    "a_list = [\"foo\",2,[4,5]]\n",
    "a_list[2] = (3,4)"
   ]
  },
  {
   "cell_type": "code",
   "execution_count": 135,
   "id": "f94d6224-2a6c-4982-a34b-5d82949bc9e8",
   "metadata": {},
   "outputs": [
    {
     "data": {
      "text/plain": [
       "['foo', 2, (3, 4)]"
      ]
     },
     "execution_count": 135,
     "metadata": {},
     "output_type": "execute_result"
    }
   ],
   "source": [
    "a_list"
   ]
  },
  {
   "cell_type": "code",
   "execution_count": 136,
   "id": "ba07ad8d-9e27-4c9f-879e-5e132918f705",
   "metadata": {},
   "outputs": [],
   "source": [
    "a_tuple = (3,5,(4,5))"
   ]
  },
  {
   "cell_type": "code",
   "execution_count": 137,
   "id": "3304604a-d604-4585-8e71-cf72bef72137",
   "metadata": {},
   "outputs": [
    {
     "ename": "TypeError",
     "evalue": "'tuple' object does not support item assignment",
     "output_type": "error",
     "traceback": [
      "\u001b[31m---------------------------------------------------------------------------\u001b[39m",
      "\u001b[31mTypeError\u001b[39m                                 Traceback (most recent call last)",
      "\u001b[36mCell\u001b[39m\u001b[36m \u001b[39m\u001b[32mIn[137]\u001b[39m\u001b[32m, line 1\u001b[39m\n\u001b[32m----> \u001b[39m\u001b[32m1\u001b[39m \u001b[43ma_tuple\u001b[49m\u001b[43m[\u001b[49m\u001b[32;43m1\u001b[39;49m\u001b[43m]\u001b[49m = \u001b[33m\"\u001b[39m\u001b[33mfour\u001b[39m\u001b[33m\"\u001b[39m\n",
      "\u001b[31mTypeError\u001b[39m: 'tuple' object does not support item assignment"
     ]
    }
   ],
   "source": [
    "a_tuple[1] = \"four\""
   ]
  },
  {
   "cell_type": "code",
   "execution_count": 138,
   "id": "22bfbb7d-e2f6-41af-a89d-65a3ad2e519d",
   "metadata": {},
   "outputs": [],
   "source": [
    "ival = 17239871"
   ]
  },
  {
   "cell_type": "code",
   "execution_count": 139,
   "id": "2fc03376-bc47-4f0e-9228-ae0917f286de",
   "metadata": {},
   "outputs": [
    {
     "data": {
      "text/plain": [
       "26254519291092456596965462913230729701102721"
      ]
     },
     "execution_count": 139,
     "metadata": {},
     "output_type": "execute_result"
    }
   ],
   "source": [
    "ival**6"
   ]
  },
  {
   "cell_type": "code",
   "execution_count": 140,
   "id": "e4b1f0ee-ef53-49c4-bc78-67cda4aedeab",
   "metadata": {},
   "outputs": [
    {
     "data": {
      "text/plain": [
       "1.5"
      ]
     },
     "execution_count": 140,
     "metadata": {},
     "output_type": "execute_result"
    }
   ],
   "source": [
    "fval = 7.243\n",
    "fval2 = 6.78e-5\n",
    "\n",
    "3/2"
   ]
  },
  {
   "cell_type": "code",
   "execution_count": 141,
   "id": "6048f9e6-87b8-4ed8-98d5-70c7293a80cc",
   "metadata": {},
   "outputs": [
    {
     "data": {
      "text/plain": [
       "1"
      ]
     },
     "execution_count": 141,
     "metadata": {},
     "output_type": "execute_result"
    }
   ],
   "source": [
    "3//2"
   ]
  },
  {
   "cell_type": "code",
   "execution_count": 142,
   "id": "b35b88a7-7b84-42a6-8fda-a2382bbced25",
   "metadata": {},
   "outputs": [],
   "source": [
    "a = 'one way of writing strings'\n",
    "b = \"another way\""
   ]
  },
  {
   "cell_type": "code",
   "execution_count": 143,
   "id": "99814387-c6e0-4803-8c9d-8f0cea98ec6b",
   "metadata": {},
   "outputs": [
    {
     "data": {
      "text/plain": [
       "3"
      ]
     },
     "execution_count": 143,
     "metadata": {},
     "output_type": "execute_result"
    }
   ],
   "source": [
    "c = \"\"\"\n",
    "This is a longer string that \n",
    "spans multiple lines\n",
    "\"\"\"\n",
    "c.count(\"\\n\")"
   ]
  },
  {
   "cell_type": "code",
   "execution_count": 144,
   "id": "d4919ca0-36c9-48be-8905-334ff3fd952a",
   "metadata": {},
   "outputs": [],
   "source": [
    "a = \"this is a string\"\n",
    "b = a.replace(\"string\", \"longer string\")"
   ]
  },
  {
   "cell_type": "code",
   "execution_count": 145,
   "id": "e21f14b2-ce2e-4fcf-9f36-b793f8d1ea41",
   "metadata": {},
   "outputs": [
    {
     "data": {
      "text/plain": [
       "'this is a longer string'"
      ]
     },
     "execution_count": 145,
     "metadata": {},
     "output_type": "execute_result"
    }
   ],
   "source": [
    "b"
   ]
  },
  {
   "cell_type": "code",
   "execution_count": 146,
   "id": "7c994bb2-9ede-4c5f-8fe4-1805b3bbc1a6",
   "metadata": {},
   "outputs": [
    {
     "data": {
      "text/plain": [
       "'this is a string'"
      ]
     },
     "execution_count": 146,
     "metadata": {},
     "output_type": "execute_result"
    }
   ],
   "source": [
    "a"
   ]
  },
  {
   "cell_type": "code",
   "execution_count": 147,
   "id": "d8666ee0-208d-403c-8937-455908df0466",
   "metadata": {},
   "outputs": [
    {
     "name": "stdout",
     "output_type": "stream",
     "text": [
      "5 2\n"
     ]
    }
   ],
   "source": [
    "count = 0; count2 = 0\n",
    "for i in \"boooool\":\n",
    "    if i == 'o':\n",
    "        count+=1\n",
    "    else:\n",
    "        count2+=1\n",
    "print(count,count2)"
   ]
  },
  {
   "cell_type": "code",
   "execution_count": 148,
   "id": "59a38d11-de54-4006-9a52-6bf5799ea503",
   "metadata": {},
   "outputs": [],
   "source": [
    "s = \"python\""
   ]
  },
  {
   "cell_type": "code",
   "execution_count": 149,
   "id": "32ca11b4-0f55-48d2-b230-56d55dceb4bb",
   "metadata": {},
   "outputs": [
    {
     "data": {
      "text/plain": [
       "['p', 'y', 't', 'h', 'o', 'n']"
      ]
     },
     "execution_count": 149,
     "metadata": {},
     "output_type": "execute_result"
    }
   ],
   "source": [
    "list(s)"
   ]
  },
  {
   "cell_type": "code",
   "execution_count": 150,
   "id": "6abdc140-a118-4995-a171-34c547c69244",
   "metadata": {},
   "outputs": [
    {
     "data": {
      "text/plain": [
       "'pyt'"
      ]
     },
     "execution_count": 150,
     "metadata": {},
     "output_type": "execute_result"
    }
   ],
   "source": [
    "s[:3]"
   ]
  },
  {
   "cell_type": "code",
   "execution_count": 151,
   "id": "f753da99-2a46-48cd-ac45-2e5587dceb7a",
   "metadata": {},
   "outputs": [
    {
     "name": "stdout",
     "output_type": "stream",
     "text": [
      "12\\34\n"
     ]
    }
   ],
   "source": [
    "s = \"12\\\\34\"\n",
    "print(s)"
   ]
  },
  {
   "cell_type": "code",
   "execution_count": 152,
   "id": "78fb3d33-a4ae-4224-8ec3-ea79855107cf",
   "metadata": {},
   "outputs": [
    {
     "name": "stdout",
     "output_type": "stream",
     "text": [
      "this\\has\\no\\special\\characters\n"
     ]
    }
   ],
   "source": [
    "s = r\"this\\has\\no\\special\\characters\"\n",
    "print(s)"
   ]
  },
  {
   "cell_type": "code",
   "execution_count": 153,
   "id": "9a05f4fe-dab4-46eb-a1d8-dbdbafec5937",
   "metadata": {},
   "outputs": [
    {
     "data": {
      "text/plain": [
       "'this is the first half and this is the second half'"
      ]
     },
     "execution_count": 153,
     "metadata": {},
     "output_type": "execute_result"
    }
   ],
   "source": [
    "a = \"this is the first half \"\n",
    "b = \"and this is the second half\"\n",
    "a+b"
   ]
  },
  {
   "cell_type": "code",
   "execution_count": 154,
   "id": "22f48ea4-6c47-4748-a977-615b8742642a",
   "metadata": {},
   "outputs": [
    {
     "data": {
      "text/plain": [
       "'12 Hello There! 4.5567'"
      ]
     },
     "execution_count": 154,
     "metadata": {},
     "output_type": "execute_result"
    }
   ],
   "source": [
    "template = \"{0:.2f} {1:s} are worth US${2:d}\"\n",
    "template.format(88.46,\"Argentine Pesos\",1)\n",
    "\"{0:d} {1:s} {2:.4f}\".format(12, \"Hello There!\", 4.5567)"
   ]
  },
  {
   "cell_type": "code",
   "execution_count": 155,
   "id": "f517af16-4bf6-40d9-94d9-c71180ee251d",
   "metadata": {},
   "outputs": [
    {
     "name": "stdout",
     "output_type": "stream",
     "text": [
      "10 Pesos is worth US$0.11304544426859599\n"
     ]
    }
   ],
   "source": [
    "amount = 10\n",
    "rate = 88.46\n",
    "currency = \"Pesos\"\n",
    "\n",
    "result = f\"{amount} {currency} is worth US${amount/rate}\"\n",
    "print(result)"
   ]
  },
  {
   "cell_type": "code",
   "execution_count": 156,
   "id": "eb8e3ab5-5d5f-46e8-86a6-ac4c4dec332f",
   "metadata": {},
   "outputs": [
    {
     "name": "stdout",
     "output_type": "stream",
     "text": [
      "10 Pesos is worth US$0.11\n"
     ]
    }
   ],
   "source": [
    "result = f\"{amount} {currency} is worth US${amount/rate:.2f}\"\n",
    "print(result)"
   ]
  },
  {
   "cell_type": "code",
   "execution_count": 157,
   "id": "234257b4-9407-47d9-8638-32d8f9385866",
   "metadata": {},
   "outputs": [
    {
     "data": {
      "text/plain": [
       "'español'"
      ]
     },
     "execution_count": 157,
     "metadata": {},
     "output_type": "execute_result"
    }
   ],
   "source": [
    "val = \"español\"\n",
    "val"
   ]
  },
  {
   "cell_type": "code",
   "execution_count": 158,
   "id": "6139346b-3bd8-4ecb-ba6b-b1f375189579",
   "metadata": {},
   "outputs": [
    {
     "data": {
      "text/plain": [
       "b'espa\\xc3\\xb1ol'"
      ]
     },
     "execution_count": 158,
     "metadata": {},
     "output_type": "execute_result"
    }
   ],
   "source": [
    "val_utf8 = val.encode('utf-8')\n",
    "val_utf8"
   ]
  },
  {
   "cell_type": "code",
   "execution_count": 159,
   "id": "d27dff37-68e6-4239-a859-799a085abfbc",
   "metadata": {},
   "outputs": [
    {
     "data": {
      "text/plain": [
       "bytes"
      ]
     },
     "execution_count": 159,
     "metadata": {},
     "output_type": "execute_result"
    }
   ],
   "source": [
    "type(val_utf8)"
   ]
  },
  {
   "cell_type": "code",
   "execution_count": 160,
   "id": "12ab9713-4bb5-41b5-81fd-4d1a922762e3",
   "metadata": {},
   "outputs": [
    {
     "data": {
      "text/plain": [
       "'español'"
      ]
     },
     "execution_count": 160,
     "metadata": {},
     "output_type": "execute_result"
    }
   ],
   "source": [
    "val_utf8.decode(\"utf-8\")"
   ]
  },
  {
   "cell_type": "code",
   "execution_count": 161,
   "id": "55a51f68-92af-4361-b877-10f1dec6709e",
   "metadata": {},
   "outputs": [
    {
     "data": {
      "text/plain": [
       "b'espa\\xf1ol'"
      ]
     },
     "execution_count": 161,
     "metadata": {},
     "output_type": "execute_result"
    }
   ],
   "source": [
    "val.encode(\"latin1\")"
   ]
  },
  {
   "cell_type": "code",
   "execution_count": 162,
   "id": "4ebe88ef-2f54-41e7-a73a-e083f08df04a",
   "metadata": {},
   "outputs": [
    {
     "data": {
      "text/plain": [
       "b'\\xff\\xfee\\x00s\\x00p\\x00a\\x00\\xf1\\x00o\\x00l\\x00'"
      ]
     },
     "execution_count": 162,
     "metadata": {},
     "output_type": "execute_result"
    }
   ],
   "source": [
    "val.encode(\"utf-16\")"
   ]
  },
  {
   "cell_type": "code",
   "execution_count": 163,
   "id": "b88431e4-1678-4b63-aea3-00b5d6fd5271",
   "metadata": {},
   "outputs": [
    {
     "data": {
      "text/plain": [
       "b'e\\x00s\\x00p\\x00a\\x00\\xf1\\x00o\\x00l\\x00'"
      ]
     },
     "execution_count": 163,
     "metadata": {},
     "output_type": "execute_result"
    }
   ],
   "source": [
    "val.encode(\"utf-16le\")"
   ]
  },
  {
   "cell_type": "code",
   "execution_count": 164,
   "id": "cf8d8643-bd3d-4f6d-90fc-d7a348a47b07",
   "metadata": {},
   "outputs": [
    {
     "data": {
      "text/plain": [
       "True"
      ]
     },
     "execution_count": 164,
     "metadata": {},
     "output_type": "execute_result"
    }
   ],
   "source": [
    "# Boolenas\n",
    "True and True"
   ]
  },
  {
   "cell_type": "code",
   "execution_count": 165,
   "id": "1dba03a7-3718-452e-8f06-d6dad15a0166",
   "metadata": {},
   "outputs": [
    {
     "data": {
      "text/plain": [
       "True"
      ]
     },
     "execution_count": 165,
     "metadata": {},
     "output_type": "execute_result"
    }
   ],
   "source": [
    "False or True"
   ]
  },
  {
   "cell_type": "code",
   "execution_count": 166,
   "id": "361714c1-2a0c-4673-b20e-59a358f74a5d",
   "metadata": {},
   "outputs": [
    {
     "data": {
      "text/plain": [
       "0"
      ]
     },
     "execution_count": 166,
     "metadata": {},
     "output_type": "execute_result"
    }
   ],
   "source": [
    "int(False)"
   ]
  },
  {
   "cell_type": "code",
   "execution_count": 167,
   "id": "1adb5acc-3831-4085-9a76-44596c80557f",
   "metadata": {},
   "outputs": [
    {
     "data": {
      "text/plain": [
       "1"
      ]
     },
     "execution_count": 167,
     "metadata": {},
     "output_type": "execute_result"
    }
   ],
   "source": [
    "int(True)"
   ]
  },
  {
   "cell_type": "code",
   "execution_count": 168,
   "id": "625b119e-16a1-46d8-a7b2-4f56192b61db",
   "metadata": {},
   "outputs": [],
   "source": [
    "a = True\n",
    "b = False"
   ]
  },
  {
   "cell_type": "code",
   "execution_count": 169,
   "id": "7a6caab5-48a9-46e3-8f53-7b84056a7ced",
   "metadata": {},
   "outputs": [
    {
     "data": {
      "text/plain": [
       "False"
      ]
     },
     "execution_count": 169,
     "metadata": {},
     "output_type": "execute_result"
    }
   ],
   "source": [
    "not a"
   ]
  },
  {
   "cell_type": "code",
   "execution_count": 170,
   "id": "c0f5ec2f-eb0b-48ec-97ee-e73000e22982",
   "metadata": {},
   "outputs": [
    {
     "data": {
      "text/plain": [
       "True"
      ]
     },
     "execution_count": 170,
     "metadata": {},
     "output_type": "execute_result"
    }
   ],
   "source": [
    "not b"
   ]
  },
  {
   "cell_type": "code",
   "execution_count": 171,
   "id": "3be3f9b7-1692-4b47-9616-02b764214ccf",
   "metadata": {},
   "outputs": [
    {
     "data": {
      "text/plain": [
       "float"
      ]
     },
     "execution_count": 171,
     "metadata": {},
     "output_type": "execute_result"
    }
   ],
   "source": [
    "s = \"3.45456\"\n",
    "fval = float(s)\n",
    "type(fval)"
   ]
  },
  {
   "cell_type": "code",
   "execution_count": 172,
   "id": "192d52bd-8910-4384-9eb2-2d9c8bf1ba8a",
   "metadata": {},
   "outputs": [
    {
     "data": {
      "text/plain": [
       "3"
      ]
     },
     "execution_count": 172,
     "metadata": {},
     "output_type": "execute_result"
    }
   ],
   "source": [
    "int(fval)"
   ]
  },
  {
   "cell_type": "code",
   "execution_count": 173,
   "id": "906a92b2-e4ef-44f0-847d-5019d9c9f84b",
   "metadata": {},
   "outputs": [
    {
     "data": {
      "text/plain": [
       "True"
      ]
     },
     "execution_count": 173,
     "metadata": {},
     "output_type": "execute_result"
    }
   ],
   "source": [
    "bool(fval)"
   ]
  },
  {
   "cell_type": "code",
   "execution_count": 174,
   "id": "b6839677-a653-4410-bf8a-7693d699c8d0",
   "metadata": {},
   "outputs": [
    {
     "data": {
      "text/plain": [
       "False"
      ]
     },
     "execution_count": 174,
     "metadata": {},
     "output_type": "execute_result"
    }
   ],
   "source": [
    "bool(0)"
   ]
  },
  {
   "cell_type": "code",
   "execution_count": 175,
   "id": "81b52d1a-3ba3-4581-acb3-7820ceb8479f",
   "metadata": {},
   "outputs": [],
   "source": [
    "a = None"
   ]
  },
  {
   "cell_type": "code",
   "execution_count": 176,
   "id": "ea4d1b62-da55-4f8b-9cc5-5d39297a71fd",
   "metadata": {},
   "outputs": [
    {
     "data": {
      "text/plain": [
       "True"
      ]
     },
     "execution_count": 176,
     "metadata": {},
     "output_type": "execute_result"
    }
   ],
   "source": [
    "a is None"
   ]
  },
  {
   "cell_type": "code",
   "execution_count": 177,
   "id": "b971e289-7ced-4a62-ac3a-6605cc35ec83",
   "metadata": {},
   "outputs": [],
   "source": [
    "b = 5"
   ]
  },
  {
   "cell_type": "code",
   "execution_count": 178,
   "id": "676842a7-a689-4d40-84f6-e26e1d32dab9",
   "metadata": {},
   "outputs": [
    {
     "data": {
      "text/plain": [
       "True"
      ]
     },
     "execution_count": 178,
     "metadata": {},
     "output_type": "execute_result"
    }
   ],
   "source": [
    "b is not None"
   ]
  },
  {
   "cell_type": "code",
   "execution_count": 179,
   "id": "f588df39-3810-435d-8d13-144337c39567",
   "metadata": {},
   "outputs": [],
   "source": [
    "def add_and_maybe_multiply(a,b,c=None):\n",
    "    result = a + b\n",
    "\n",
    "    if c is not None:\n",
    "        result = result*c\n",
    "    return result"
   ]
  },
  {
   "cell_type": "code",
   "execution_count": 180,
   "id": "754b80cf-7853-42d2-aa0f-4c4854e20eea",
   "metadata": {},
   "outputs": [
    {
     "data": {
      "text/plain": [
       "12"
      ]
     },
     "execution_count": 180,
     "metadata": {},
     "output_type": "execute_result"
    }
   ],
   "source": [
    "add_and_maybe_multiply(1,2,4)"
   ]
  },
  {
   "cell_type": "code",
   "execution_count": 181,
   "id": "0b9b3410-41fd-440b-b746-2dd5b82ad00e",
   "metadata": {},
   "outputs": [],
   "source": [
    "# 10th Oct, 2025 Chapter 2,3"
   ]
  },
  {
   "cell_type": "code",
   "execution_count": 182,
   "id": "9fd301c4-8305-4f76-8e18-1fc3a07d2bab",
   "metadata": {},
   "outputs": [],
   "source": [
    "from datetime import datetime, date, time"
   ]
  },
  {
   "cell_type": "code",
   "execution_count": 183,
   "id": "816e606c-ec19-4fa5-8686-d0a1f1925340",
   "metadata": {},
   "outputs": [],
   "source": [
    "dt = datetime(2011,10,29,20,30,21)"
   ]
  },
  {
   "cell_type": "code",
   "execution_count": 184,
   "id": "c7b7b2c3-1929-435c-9f3d-de089cfd614d",
   "metadata": {},
   "outputs": [
    {
     "name": "stdout",
     "output_type": "stream",
     "text": [
      "2011-30-29 20:30\n",
      "2025-11-07 00:00:00\n"
     ]
    }
   ],
   "source": [
    "print(dt.strftime(\"%Y-%M-%d %H:%M\"))\n",
    "print(datetime.strptime(\"2025/11/07\", \"%Y/%m/%d\"))"
   ]
  },
  {
   "cell_type": "code",
   "execution_count": 185,
   "id": "e45256c6-c0b4-4c09-a780-eac81f39eed2",
   "metadata": {},
   "outputs": [
    {
     "data": {
      "text/plain": [
       "30"
      ]
     },
     "execution_count": 185,
     "metadata": {},
     "output_type": "execute_result"
    }
   ],
   "source": [
    "dt.minute"
   ]
  },
  {
   "cell_type": "code",
   "execution_count": 186,
   "id": "f199d873-cc8b-498e-9099-97ccf0efe956",
   "metadata": {},
   "outputs": [
    {
     "data": {
      "text/plain": [
       "datetime.date(2011, 10, 29)"
      ]
     },
     "execution_count": 186,
     "metadata": {},
     "output_type": "execute_result"
    }
   ],
   "source": [
    "dt.date()"
   ]
  },
  {
   "cell_type": "code",
   "execution_count": 187,
   "id": "ea2e7a27-2002-41a2-8535-19b1d595e6df",
   "metadata": {},
   "outputs": [
    {
     "data": {
      "text/plain": [
       "datetime.time(20, 30, 21)"
      ]
     },
     "execution_count": 187,
     "metadata": {},
     "output_type": "execute_result"
    }
   ],
   "source": [
    "dt.time()"
   ]
  },
  {
   "cell_type": "code",
   "execution_count": 188,
   "id": "9ea63b75-841d-46b7-bc94-3108b2ac6d23",
   "metadata": {},
   "outputs": [
    {
     "data": {
      "text/plain": [
       "'2011-10-29 20:30'"
      ]
     },
     "execution_count": 188,
     "metadata": {},
     "output_type": "execute_result"
    }
   ],
   "source": [
    "dt.strftime(\"%Y-%m-%d %H:%M\")"
   ]
  },
  {
   "cell_type": "code",
   "execution_count": 189,
   "id": "a3d87172-5a68-48ad-90ca-17286ed01e46",
   "metadata": {},
   "outputs": [
    {
     "data": {
      "text/plain": [
       "datetime.datetime(2009, 10, 31, 0, 0)"
      ]
     },
     "execution_count": 189,
     "metadata": {},
     "output_type": "execute_result"
    }
   ],
   "source": [
    "datetime.strptime(\"20091031\", \"%Y%m%d\")"
   ]
  },
  {
   "cell_type": "code",
   "execution_count": 190,
   "id": "71f92579-7a82-454e-91d5-7bd92684525d",
   "metadata": {},
   "outputs": [],
   "source": [
    "dt_hour = dt.replace(minute=0, second=0, year=2022)"
   ]
  },
  {
   "cell_type": "code",
   "execution_count": 191,
   "id": "7b373a97-98e7-452f-9170-6bb7575d75c1",
   "metadata": {},
   "outputs": [
    {
     "data": {
      "text/plain": [
       "datetime.datetime(2022, 10, 29, 20, 0)"
      ]
     },
     "execution_count": 191,
     "metadata": {},
     "output_type": "execute_result"
    }
   ],
   "source": [
    "dt_hour"
   ]
  },
  {
   "cell_type": "code",
   "execution_count": 192,
   "id": "63dc715c-42f4-43fa-902b-88b36ac4df59",
   "metadata": {},
   "outputs": [
    {
     "data": {
      "text/plain": [
       "datetime.datetime(2011, 10, 29, 20, 30, 21)"
      ]
     },
     "execution_count": 192,
     "metadata": {},
     "output_type": "execute_result"
    }
   ],
   "source": [
    "dt"
   ]
  },
  {
   "cell_type": "code",
   "execution_count": 193,
   "id": "a37e466e-0abd-46ee-aea6-5ef3668364b0",
   "metadata": {},
   "outputs": [],
   "source": [
    "dt2 = datetime(2011, 11, 15, 22, 30)"
   ]
  },
  {
   "cell_type": "code",
   "execution_count": 194,
   "id": "4742025d-927a-4cf3-a9b0-eae03c028e1b",
   "metadata": {},
   "outputs": [],
   "source": [
    "delta = dt2 - dt"
   ]
  },
  {
   "cell_type": "code",
   "execution_count": 195,
   "id": "590f113e-31e4-4211-a296-19b6c26e9ca9",
   "metadata": {},
   "outputs": [
    {
     "data": {
      "text/plain": [
       "datetime.timedelta"
      ]
     },
     "execution_count": 195,
     "metadata": {},
     "output_type": "execute_result"
    }
   ],
   "source": [
    "delta\n",
    "type(delta)"
   ]
  },
  {
   "cell_type": "code",
   "execution_count": 196,
   "id": "1cb182b2-6ed4-4c91-9ee0-c2794ef29909",
   "metadata": {},
   "outputs": [
    {
     "data": {
      "text/plain": [
       "datetime.datetime(2011, 10, 29, 20, 30, 21)"
      ]
     },
     "execution_count": 196,
     "metadata": {},
     "output_type": "execute_result"
    }
   ],
   "source": [
    "dt"
   ]
  },
  {
   "cell_type": "code",
   "execution_count": 197,
   "id": "73f49f83-b899-4852-8d60-915da51b74b4",
   "metadata": {},
   "outputs": [
    {
     "name": "stdout",
     "output_type": "stream",
     "text": [
      "<class 'datetime.datetime'> : 2011-11-15 22:30:00\n",
      "<class 'datetime.timedelta'> : 17 days, 1:59:39\n"
     ]
    }
   ],
   "source": [
    "a = dt+delta\n",
    "print(f\"{type(a)} : {a}\")\n",
    "print(f\"{type(delta)} : {delta}\")"
   ]
  },
  {
   "cell_type": "code",
   "execution_count": 198,
   "id": "6b09e087-954a-4a05-aa1c-a9245854687b",
   "metadata": {},
   "outputs": [],
   "source": [
    "# Control Flow"
   ]
  },
  {
   "cell_type": "code",
   "execution_count": 199,
   "id": "448762ae-a2f2-494a-809a-a151ec815c31",
   "metadata": {},
   "outputs": [
    {
     "name": "stdout",
     "output_type": "stream",
     "text": [
      "It's either 0 or positive\n"
     ]
    }
   ],
   "source": [
    "x = 369\n",
    "if x < 0:\n",
    "    print(\"It's negative\")\n",
    "else:\n",
    "    print(\"It's either 0 or positive\")"
   ]
  },
  {
   "cell_type": "code",
   "execution_count": 200,
   "id": "1591e59a-49b8-40cb-8f14-9cb049e8167a",
   "metadata": {},
   "outputs": [
    {
     "name": "stdout",
     "output_type": "stream",
     "text": [
      "Positive and larger than or equal to 5\n"
     ]
    }
   ],
   "source": [
    "if x < 0:\n",
    "    print(\"It's negative\")\n",
    "elif x == 0:\n",
    "    print(\"Equal to Zero\")\n",
    "elif 0 < x < 5:\n",
    "    print(\"Between 0 and 5 \")\n",
    "else:\n",
    "    print(\"Positive and larger than or equal to 5\")"
   ]
  },
  {
   "cell_type": "code",
   "execution_count": 201,
   "id": "423fe33b-0067-424d-9576-ffd47f9efa8d",
   "metadata": {},
   "outputs": [],
   "source": [
    "a = 3; b = 7"
   ]
  },
  {
   "cell_type": "code",
   "execution_count": 202,
   "id": "757a48c9-f505-402c-8557-ff657bd2336f",
   "metadata": {},
   "outputs": [],
   "source": [
    "c = 8; d = 4"
   ]
  },
  {
   "cell_type": "code",
   "execution_count": 203,
   "id": "6280dd9b-ec93-458e-8342-2b4dfcf85e35",
   "metadata": {},
   "outputs": [
    {
     "name": "stdout",
     "output_type": "stream",
     "text": [
      "Made it!\n"
     ]
    }
   ],
   "source": [
    "if a < b or c > d:\n",
    "    print(\"Made it!\")"
   ]
  },
  {
   "cell_type": "code",
   "execution_count": 204,
   "id": "5a2d7714-9232-433c-80ff-0a65549e8f6d",
   "metadata": {},
   "outputs": [
    {
     "name": "stdout",
     "output_type": "stream",
     "text": [
      "12\n"
     ]
    },
    {
     "data": {
      "text/plain": [
       "[None, None]"
      ]
     },
     "execution_count": 204,
     "metadata": {},
     "output_type": "execute_result"
    }
   ],
   "source": [
    "sequence = [1, 2, None, 4, None, 5]\n",
    "total = 0\n",
    "for value in sequence:\n",
    "    if value is None:\n",
    "        continue\n",
    "    total+=value\n",
    "print(total)\n",
    "[x for x in sequence if x is None]"
   ]
  },
  {
   "cell_type": "code",
   "execution_count": 205,
   "id": "b56c30d7-f0f2-4d52-a909-a5301ec030c6",
   "metadata": {},
   "outputs": [
    {
     "name": "stdout",
     "output_type": "stream",
     "text": [
      "13\n"
     ]
    }
   ],
   "source": [
    "sequence = [1,2,0,4,6,5,2,1]\n",
    "total_until_5 = 0\n",
    "for value in sequence:\n",
    "    if value == 5:\n",
    "        break\n",
    "    total_until_5 += value\n",
    "print(total_until_5)"
   ]
  },
  {
   "cell_type": "code",
   "execution_count": 206,
   "id": "ce3c3b31-a2d8-4cba-8d51-f2989f0898bf",
   "metadata": {},
   "outputs": [
    {
     "name": "stdout",
     "output_type": "stream",
     "text": [
      "(0, 0)\n",
      "(1, 0)\n",
      "(1, 1)\n",
      "(2, 0)\n",
      "(2, 1)\n",
      "(2, 2)\n",
      "(3, 0)\n",
      "(3, 1)\n",
      "(3, 2)\n",
      "(3, 3)\n"
     ]
    }
   ],
   "source": [
    "for i in range(4):\n",
    "    for j in range(4):\n",
    "        if j > i:\n",
    "            break\n",
    "        print((i,j))\n",
    "        "
   ]
  },
  {
   "cell_type": "code",
   "execution_count": 207,
   "id": "2fc03963-9070-41a5-9f7a-38a881f99685",
   "metadata": {},
   "outputs": [
    {
     "name": "stdout",
     "output_type": "stream",
     "text": [
      "504\n"
     ]
    }
   ],
   "source": [
    "x = 256\n",
    "total = 0\n",
    "while x > 0:\n",
    "    if total > 500:\n",
    "        break\n",
    "    total += x\n",
    "    x = x//2\n",
    "print(total)"
   ]
  },
  {
   "cell_type": "code",
   "execution_count": 208,
   "id": "11091e4b-646e-4450-8d8f-8efc2b61f05c",
   "metadata": {},
   "outputs": [
    {
     "data": {
      "text/plain": [
       "504"
      ]
     },
     "execution_count": 208,
     "metadata": {},
     "output_type": "execute_result"
    }
   ],
   "source": [
    "256+128+64+32+16+8"
   ]
  },
  {
   "cell_type": "code",
   "execution_count": 209,
   "id": "5b05d1e8-6b65-49b2-8a0f-e08e2a72000f",
   "metadata": {},
   "outputs": [],
   "source": [
    "x = 0\n",
    "if x < 0:\n",
    "    print(\"negative!\")\n",
    "elif x == 0:\n",
    "    pass\n",
    "else:\n",
    "    print(\"Positive!\")"
   ]
  },
  {
   "cell_type": "code",
   "execution_count": 210,
   "id": "b8b8f0b4-ac17-4759-8bab-84b53f54f3f9",
   "metadata": {},
   "outputs": [
    {
     "data": {
      "text/plain": [
       "range(0, 10)"
      ]
     },
     "execution_count": 210,
     "metadata": {},
     "output_type": "execute_result"
    }
   ],
   "source": [
    "range(10)"
   ]
  },
  {
   "cell_type": "code",
   "execution_count": 211,
   "id": "88d8ce1c-1707-4055-8a81-c165eb4b20c8",
   "metadata": {},
   "outputs": [
    {
     "data": {
      "text/plain": [
       "[0, 1, 2, 3, 4, 5, 6, 7, 8, 9]"
      ]
     },
     "execution_count": 211,
     "metadata": {},
     "output_type": "execute_result"
    }
   ],
   "source": [
    "list(range(10))"
   ]
  },
  {
   "cell_type": "code",
   "execution_count": 212,
   "id": "dd4808f1-2622-4b08-91f7-e2f1fa2e520f",
   "metadata": {},
   "outputs": [
    {
     "data": {
      "text/plain": [
       "[0, 1, 2, 3, 4, 5, 6, 7, 8, 9]"
      ]
     },
     "execution_count": 212,
     "metadata": {},
     "output_type": "execute_result"
    }
   ],
   "source": [
    "list(range(10))"
   ]
  },
  {
   "cell_type": "code",
   "execution_count": 213,
   "id": "bd25cd34-8efa-455c-be6f-6e55684e4688",
   "metadata": {},
   "outputs": [
    {
     "data": {
      "text/plain": [
       "[0, 2, 4, 6, 8, 10, 12, 14, 16, 18]"
      ]
     },
     "execution_count": 213,
     "metadata": {},
     "output_type": "execute_result"
    }
   ],
   "source": [
    "list(range(0,20,2))"
   ]
  },
  {
   "cell_type": "code",
   "execution_count": 214,
   "id": "2b35db08-dc78-46a9-9131-ddaa75c8f1bb",
   "metadata": {},
   "outputs": [
    {
     "data": {
      "text/plain": [
       "[5, 4, 3, 2, 1]"
      ]
     },
     "execution_count": 214,
     "metadata": {},
     "output_type": "execute_result"
    }
   ],
   "source": [
    "list(range(5,0,-1))"
   ]
  },
  {
   "cell_type": "code",
   "execution_count": 215,
   "id": "416a5cd1-895c-4d27-86db-c98c635b21f1",
   "metadata": {},
   "outputs": [
    {
     "name": "stdout",
     "output_type": "stream",
     "text": [
      "element 0: 1\n",
      "element 1: 2\n",
      "element 2: 3\n",
      "element 3: 4\n"
     ]
    }
   ],
   "source": [
    "seq = [1,2,3,4]\n",
    "for i in range(len(seq)):\n",
    "    print(f\"element {i}: {seq[i]}\")"
   ]
  },
  {
   "cell_type": "code",
   "execution_count": 216,
   "id": "0b257298-4169-409a-9abc-d7db40d369fc",
   "metadata": {},
   "outputs": [],
   "source": [
    "total = 0"
   ]
  },
  {
   "cell_type": "code",
   "execution_count": 217,
   "id": "0c8f6ffc-1738-4946-b239-c53435ba483d",
   "metadata": {},
   "outputs": [
    {
     "name": "stdout",
     "output_type": "stream",
     "text": [
      "2333316668\n"
     ]
    }
   ],
   "source": [
    "for i in range(100_000):\n",
    "    if i % 3 == 0 or i % 5 == 0:\n",
    "        total += i\n",
    "\n",
    "print(total)"
   ]
  },
  {
   "cell_type": "code",
   "execution_count": 218,
   "id": "18d2c901-a86a-435d-9e79-75a9cf4f5988",
   "metadata": {},
   "outputs": [],
   "source": [
    "# 10th Oct, 2025 Chapter 3"
   ]
  },
  {
   "cell_type": "code",
   "execution_count": 219,
   "id": "f005fcb6-95ab-4b39-aa28-5e6ca5a626ad",
   "metadata": {},
   "outputs": [],
   "source": [
    "# Data Structures and Sequences"
   ]
  },
  {
   "cell_type": "code",
   "execution_count": 220,
   "id": "c4bb2833-9ef6-4643-854e-fdc5ddb72dc0",
   "metadata": {},
   "outputs": [],
   "source": [
    "tup = (4,5,6)"
   ]
  },
  {
   "cell_type": "code",
   "execution_count": 221,
   "id": "89805f52-6876-4b66-a153-6df2428f33d4",
   "metadata": {},
   "outputs": [
    {
     "data": {
      "text/plain": [
       "(4, 5, 6)"
      ]
     },
     "execution_count": 221,
     "metadata": {},
     "output_type": "execute_result"
    }
   ],
   "source": [
    "tup"
   ]
  },
  {
   "cell_type": "code",
   "execution_count": 222,
   "id": "9e1ccd5b-b860-428e-82c4-2b5482e7a550",
   "metadata": {},
   "outputs": [],
   "source": [
    "tup = 4, 5, 6"
   ]
  },
  {
   "cell_type": "code",
   "execution_count": 223,
   "id": "50e5b6c3-c727-4cf3-9b1c-b9c8bc297d3a",
   "metadata": {},
   "outputs": [
    {
     "data": {
      "text/plain": [
       "(4, 5, 6)"
      ]
     },
     "execution_count": 223,
     "metadata": {},
     "output_type": "execute_result"
    }
   ],
   "source": [
    "tup"
   ]
  },
  {
   "cell_type": "code",
   "execution_count": 224,
   "id": "c3ea41c3-8475-4367-8a52-838582f8caf6",
   "metadata": {},
   "outputs": [
    {
     "data": {
      "text/plain": [
       "(4, 0, 2)"
      ]
     },
     "execution_count": 224,
     "metadata": {},
     "output_type": "execute_result"
    }
   ],
   "source": [
    "tuple([4,0,2])"
   ]
  },
  {
   "cell_type": "code",
   "execution_count": 225,
   "id": "f66e6e70-8470-4111-9c58-021be837cb58",
   "metadata": {},
   "outputs": [],
   "source": [
    "tup = tuple('string')"
   ]
  },
  {
   "cell_type": "code",
   "execution_count": 226,
   "id": "a21ccd3c-f5cd-44c2-ad32-b05b00a385a3",
   "metadata": {},
   "outputs": [
    {
     "data": {
      "text/plain": [
       "('s', 't', 'r', 'i', 'n', 'g')"
      ]
     },
     "execution_count": 226,
     "metadata": {},
     "output_type": "execute_result"
    }
   ],
   "source": [
    "tup"
   ]
  },
  {
   "cell_type": "code",
   "execution_count": 227,
   "id": "00a9bff8-0989-4d6e-9b24-e1be2ed1441d",
   "metadata": {},
   "outputs": [
    {
     "data": {
      "text/plain": [
       "'s'"
      ]
     },
     "execution_count": 227,
     "metadata": {},
     "output_type": "execute_result"
    }
   ],
   "source": [
    "tup[0]"
   ]
  },
  {
   "cell_type": "code",
   "execution_count": 228,
   "id": "d52729d9-5e07-481f-87f6-8641ee4c6e3e",
   "metadata": {},
   "outputs": [],
   "source": [
    "nested_tup = (4,5,6), (7,8)"
   ]
  },
  {
   "cell_type": "code",
   "execution_count": 229,
   "id": "5864c285-b88a-4fc4-b927-022ec4b0ef29",
   "metadata": {},
   "outputs": [
    {
     "data": {
      "text/plain": [
       "((4, 5, 6), (7, 8))"
      ]
     },
     "execution_count": 229,
     "metadata": {},
     "output_type": "execute_result"
    }
   ],
   "source": [
    "nested_tup"
   ]
  },
  {
   "cell_type": "code",
   "execution_count": 230,
   "id": "a6251ebd-5bbb-4915-9ce6-83b713295032",
   "metadata": {},
   "outputs": [
    {
     "data": {
      "text/plain": [
       "(4, 5, 6)"
      ]
     },
     "execution_count": 230,
     "metadata": {},
     "output_type": "execute_result"
    }
   ],
   "source": [
    "nested_tup[0]"
   ]
  },
  {
   "cell_type": "code",
   "execution_count": 231,
   "id": "6c9cae35-e533-4056-b588-6be70fb203aa",
   "metadata": {},
   "outputs": [
    {
     "data": {
      "text/plain": [
       "(7, 8)"
      ]
     },
     "execution_count": 231,
     "metadata": {},
     "output_type": "execute_result"
    }
   ],
   "source": [
    "nested_tup[1]"
   ]
  },
  {
   "cell_type": "code",
   "execution_count": 232,
   "id": "6f643727-df7f-4b98-9751-7e7ab61adc6f",
   "metadata": {},
   "outputs": [],
   "source": [
    "tup = tuple([\"foo\",[1,2],True])"
   ]
  },
  {
   "cell_type": "code",
   "execution_count": 233,
   "id": "0a0390b1-c240-4ea7-9547-226110310f47",
   "metadata": {},
   "outputs": [
    {
     "ename": "TypeError",
     "evalue": "'tuple' object does not support item assignment",
     "output_type": "error",
     "traceback": [
      "\u001b[31m---------------------------------------------------------------------------\u001b[39m",
      "\u001b[31mTypeError\u001b[39m                                 Traceback (most recent call last)",
      "\u001b[36mCell\u001b[39m\u001b[36m \u001b[39m\u001b[32mIn[233]\u001b[39m\u001b[32m, line 1\u001b[39m\n\u001b[32m----> \u001b[39m\u001b[32m1\u001b[39m \u001b[43mtup\u001b[49m\u001b[43m[\u001b[49m\u001b[32;43m2\u001b[39;49m\u001b[43m]\u001b[49m = \u001b[38;5;28;01mFalse\u001b[39;00m\n",
      "\u001b[31mTypeError\u001b[39m: 'tuple' object does not support item assignment"
     ]
    }
   ],
   "source": [
    "tup[2] = False"
   ]
  },
  {
   "cell_type": "code",
   "execution_count": 234,
   "id": "b74a266e-e1c8-4431-9635-fc19572acfe7",
   "metadata": {},
   "outputs": [],
   "source": [
    "tup[1].append(3)"
   ]
  },
  {
   "cell_type": "code",
   "execution_count": 235,
   "id": "a02268cb-e89c-492d-bdd3-3f80383c7474",
   "metadata": {},
   "outputs": [
    {
     "data": {
      "text/plain": [
       "('foo', [1, 2, 3], True)"
      ]
     },
     "execution_count": 235,
     "metadata": {},
     "output_type": "execute_result"
    }
   ],
   "source": [
    "tup"
   ]
  },
  {
   "cell_type": "code",
   "execution_count": 236,
   "id": "d6cb7e45-49c0-429a-9470-bd631afd6063",
   "metadata": {},
   "outputs": [
    {
     "data": {
      "text/plain": [
       "(4, None, 'foo', 6, 0, 'bar')"
      ]
     },
     "execution_count": 236,
     "metadata": {},
     "output_type": "execute_result"
    }
   ],
   "source": [
    "(4, None, 'foo') + (6,0) + ('bar',) "
   ]
  },
  {
   "cell_type": "code",
   "execution_count": 237,
   "id": "8940e483-c8d5-4519-86b8-75ae0a4c16b9",
   "metadata": {},
   "outputs": [
    {
     "data": {
      "text/plain": [
       "('foo', 'bar', 'foo', 'bar', 'foo', 'bar', 'foo', 'bar')"
      ]
     },
     "execution_count": 237,
     "metadata": {},
     "output_type": "execute_result"
    }
   ],
   "source": [
    "('foo', 'bar')*4"
   ]
  },
  {
   "cell_type": "code",
   "execution_count": 238,
   "id": "b8aa89c4-cf30-4a9d-9808-bfdb54f0a6a1",
   "metadata": {},
   "outputs": [],
   "source": [
    "tup = (4, 5, 6)"
   ]
  },
  {
   "cell_type": "code",
   "execution_count": 239,
   "id": "0a9088f9-429c-4fa5-8f5a-1fb1e40a73fc",
   "metadata": {},
   "outputs": [],
   "source": [
    "a, b, c = tup"
   ]
  },
  {
   "cell_type": "code",
   "execution_count": 240,
   "id": "e09c66e4-99c5-43eb-a281-8f0f5b25ee20",
   "metadata": {},
   "outputs": [
    {
     "data": {
      "text/plain": [
       "5"
      ]
     },
     "execution_count": 240,
     "metadata": {},
     "output_type": "execute_result"
    }
   ],
   "source": [
    "b"
   ]
  },
  {
   "cell_type": "code",
   "execution_count": 241,
   "id": "ebf447e8-6c37-42cb-8b28-bf8e8e80ffc5",
   "metadata": {},
   "outputs": [],
   "source": [
    "tup = 4, 5, (6,7)"
   ]
  },
  {
   "cell_type": "code",
   "execution_count": 242,
   "id": "a93d8287-d84c-435b-aafa-0ebda5824d8b",
   "metadata": {},
   "outputs": [],
   "source": [
    "a, b, (c, d) = tup"
   ]
  },
  {
   "cell_type": "code",
   "execution_count": 243,
   "id": "3d1de0dc-cc95-4b70-afe5-f4027c892711",
   "metadata": {},
   "outputs": [
    {
     "data": {
      "text/plain": [
       "7"
      ]
     },
     "execution_count": 243,
     "metadata": {},
     "output_type": "execute_result"
    }
   ],
   "source": [
    "d"
   ]
  },
  {
   "cell_type": "code",
   "execution_count": 244,
   "id": "36a37c74-fe8e-4a7e-8b50-d047b5a24ddc",
   "metadata": {},
   "outputs": [],
   "source": [
    "a, b = 1, 2"
   ]
  },
  {
   "cell_type": "code",
   "execution_count": 245,
   "id": "1802edb0-1408-4443-a648-c44386827ac7",
   "metadata": {},
   "outputs": [
    {
     "data": {
      "text/plain": [
       "1"
      ]
     },
     "execution_count": 245,
     "metadata": {},
     "output_type": "execute_result"
    }
   ],
   "source": [
    "a"
   ]
  },
  {
   "cell_type": "code",
   "execution_count": 246,
   "id": "739706f7-68e3-4505-9d0a-1ed9dee5bd40",
   "metadata": {},
   "outputs": [
    {
     "data": {
      "text/plain": [
       "2"
      ]
     },
     "execution_count": 246,
     "metadata": {},
     "output_type": "execute_result"
    }
   ],
   "source": [
    "b"
   ]
  },
  {
   "cell_type": "code",
   "execution_count": 247,
   "id": "ae158dac-6811-42f8-91b6-f86dd4e2267d",
   "metadata": {},
   "outputs": [],
   "source": [
    "b, a = a, b"
   ]
  },
  {
   "cell_type": "code",
   "execution_count": 248,
   "id": "09ab4111-01c3-4920-98e9-24d4fd4a1133",
   "metadata": {},
   "outputs": [
    {
     "data": {
      "text/plain": [
       "2"
      ]
     },
     "execution_count": 248,
     "metadata": {},
     "output_type": "execute_result"
    }
   ],
   "source": [
    "a"
   ]
  },
  {
   "cell_type": "code",
   "execution_count": 249,
   "id": "4ec660c8-a829-44dc-bb19-c482c26f249f",
   "metadata": {},
   "outputs": [
    {
     "data": {
      "text/plain": [
       "1"
      ]
     },
     "execution_count": 249,
     "metadata": {},
     "output_type": "execute_result"
    }
   ],
   "source": [
    "b"
   ]
  },
  {
   "cell_type": "code",
   "execution_count": 250,
   "id": "7f51232d-19d5-4a01-853d-6d17ba1397bb",
   "metadata": {},
   "outputs": [],
   "source": [
    "seq = [(1, 2, 3), (4, 5, 6), (7, 8, 9)]"
   ]
  },
  {
   "cell_type": "code",
   "execution_count": 251,
   "id": "1951c2a7-8cb1-487c-8cbf-bcf47ceec78a",
   "metadata": {},
   "outputs": [
    {
     "name": "stdout",
     "output_type": "stream",
     "text": [
      "a=1, b=2, c=3\n",
      "a=4, b=5, c=6\n",
      "a=7, b=8, c=9\n"
     ]
    }
   ],
   "source": [
    "for a, b, c in seq:\n",
    "    print(f'a={a}, b={b}, c={c}')"
   ]
  },
  {
   "cell_type": "code",
   "execution_count": 252,
   "id": "d1019a00-b580-45db-bdcf-e4170c30b344",
   "metadata": {},
   "outputs": [],
   "source": [
    "values = 1, 2, 3, 4, 5"
   ]
  },
  {
   "cell_type": "code",
   "execution_count": 253,
   "id": "de0a55e1-0d10-412c-b2de-fce44ee4cdb0",
   "metadata": {},
   "outputs": [],
   "source": [
    "a, b, *rest = values"
   ]
  },
  {
   "cell_type": "code",
   "execution_count": 254,
   "id": "6cad85f1-1363-4431-aeec-6c780093b3bb",
   "metadata": {},
   "outputs": [
    {
     "data": {
      "text/plain": [
       "1"
      ]
     },
     "execution_count": 254,
     "metadata": {},
     "output_type": "execute_result"
    }
   ],
   "source": [
    "a"
   ]
  },
  {
   "cell_type": "code",
   "execution_count": 255,
   "id": "ec067f2d-3a3a-4d3c-929a-dff74a5d9839",
   "metadata": {},
   "outputs": [
    {
     "data": {
      "text/plain": [
       "2"
      ]
     },
     "execution_count": 255,
     "metadata": {},
     "output_type": "execute_result"
    }
   ],
   "source": [
    "b"
   ]
  },
  {
   "cell_type": "code",
   "execution_count": 256,
   "id": "00e15986-1a43-4ce7-85be-81950eb80633",
   "metadata": {},
   "outputs": [
    {
     "data": {
      "text/plain": [
       "[3, 4, 5]"
      ]
     },
     "execution_count": 256,
     "metadata": {},
     "output_type": "execute_result"
    }
   ],
   "source": [
    "rest"
   ]
  },
  {
   "cell_type": "code",
   "execution_count": 257,
   "id": "702409cf-bb71-4853-bb82-27ba377e6e5e",
   "metadata": {},
   "outputs": [
    {
     "data": {
      "text/plain": [
       "list"
      ]
     },
     "execution_count": 257,
     "metadata": {},
     "output_type": "execute_result"
    }
   ],
   "source": [
    "type(rest)"
   ]
  },
  {
   "cell_type": "code",
   "execution_count": 258,
   "id": "9fda2939-178b-41d1-9aee-ed63c6600409",
   "metadata": {},
   "outputs": [],
   "source": [
    "a, b, *_ = values"
   ]
  },
  {
   "cell_type": "code",
   "execution_count": 259,
   "id": "8003337f-aa6b-4599-8de8-381de2b29beb",
   "metadata": {},
   "outputs": [
    {
     "data": {
      "text/plain": [
       "list"
      ]
     },
     "execution_count": 259,
     "metadata": {},
     "output_type": "execute_result"
    }
   ],
   "source": [
    "type(_)"
   ]
  },
  {
   "cell_type": "code",
   "execution_count": 260,
   "id": "2e64e5fe-0e0c-4987-a8a1-3f4046024aae",
   "metadata": {},
   "outputs": [],
   "source": [
    "a = (1, 2, 2, 2, 3, 4, 2)\n",
    "b = [1, 2, 3, 4, 5, 6, 2, 2, 2, 2]"
   ]
  },
  {
   "cell_type": "code",
   "execution_count": 261,
   "id": "ead7f6b1-73d2-4e0c-bc42-fb3566d361e2",
   "metadata": {},
   "outputs": [
    {
     "name": "stdout",
     "output_type": "stream",
     "text": [
      "Tuple Count 2s : 4 \n",
      " List Count 2s : 5\n"
     ]
    }
   ],
   "source": [
    "print(f\"Tuple Count 2s : {a.count(2)} \\n List Count 2s : {b.count(2)}\")"
   ]
  },
  {
   "cell_type": "code",
   "execution_count": 262,
   "id": "627bba48-db90-4e86-98e1-45f833682468",
   "metadata": {},
   "outputs": [],
   "source": [
    "# List"
   ]
  },
  {
   "cell_type": "code",
   "execution_count": 263,
   "id": "782cea5f-252b-4628-b45f-3af678ea286f",
   "metadata": {},
   "outputs": [],
   "source": [
    "a_list = [2, 3, 7, None]"
   ]
  },
  {
   "cell_type": "code",
   "execution_count": 264,
   "id": "e7174a95-9aaa-4ab9-ae9f-90d4088741c6",
   "metadata": {},
   "outputs": [],
   "source": [
    "tup = (\"foo\", \"bar\", \"baz\")"
   ]
  },
  {
   "cell_type": "code",
   "execution_count": 265,
   "id": "dc57934b-dc37-4c2d-a44b-d60d16038321",
   "metadata": {},
   "outputs": [],
   "source": [
    "b_list = list(tup)"
   ]
  },
  {
   "cell_type": "code",
   "execution_count": 266,
   "id": "1f0088f3-bf60-4bd4-a4ea-9b42558c0a92",
   "metadata": {},
   "outputs": [
    {
     "data": {
      "text/plain": [
       "['foo', 'bar', 'baz']"
      ]
     },
     "execution_count": 266,
     "metadata": {},
     "output_type": "execute_result"
    }
   ],
   "source": [
    "b_list"
   ]
  },
  {
   "cell_type": "code",
   "execution_count": 267,
   "id": "d9bd3d2a-db0f-447e-88c1-98a2dc4bd866",
   "metadata": {},
   "outputs": [],
   "source": [
    "b_list[1] = \"peekaboo\""
   ]
  },
  {
   "cell_type": "code",
   "execution_count": 268,
   "id": "bce85e99-5e1d-4204-a620-5eec7208d4a1",
   "metadata": {},
   "outputs": [
    {
     "data": {
      "text/plain": [
       "['foo', 'peekaboo', 'baz']"
      ]
     },
     "execution_count": 268,
     "metadata": {},
     "output_type": "execute_result"
    }
   ],
   "source": [
    "b_list"
   ]
  },
  {
   "cell_type": "code",
   "execution_count": 269,
   "id": "9fd9a7e3-790b-465d-8c4e-684bad8753a8",
   "metadata": {},
   "outputs": [],
   "source": [
    "gen = range(10)"
   ]
  },
  {
   "cell_type": "code",
   "execution_count": 270,
   "id": "a7c6409d-9faa-4f04-bcf5-868b61877ace",
   "metadata": {},
   "outputs": [
    {
     "data": {
      "text/plain": [
       "range(0, 10)"
      ]
     },
     "execution_count": 270,
     "metadata": {},
     "output_type": "execute_result"
    }
   ],
   "source": [
    "gen"
   ]
  },
  {
   "cell_type": "code",
   "execution_count": 271,
   "id": "8e865a3b-d271-4d36-b120-aad5469c5a68",
   "metadata": {},
   "outputs": [
    {
     "data": {
      "text/plain": [
       "[0, 1, 2, 3, 4, 5, 6, 7, 8, 9]"
      ]
     },
     "execution_count": 271,
     "metadata": {},
     "output_type": "execute_result"
    }
   ],
   "source": [
    "list(gen)"
   ]
  },
  {
   "cell_type": "code",
   "execution_count": 272,
   "id": "2d352820-c12c-4cbb-afaa-bf3184369abd",
   "metadata": {},
   "outputs": [],
   "source": [
    "b_list.append(\"dwarf\")"
   ]
  },
  {
   "cell_type": "code",
   "execution_count": 273,
   "id": "05c1db6f-c439-4085-9b37-e278e63c4033",
   "metadata": {},
   "outputs": [
    {
     "data": {
      "text/plain": [
       "['foo', 'peekaboo', 'baz', 'dwarf']"
      ]
     },
     "execution_count": 273,
     "metadata": {},
     "output_type": "execute_result"
    }
   ],
   "source": [
    "b_list"
   ]
  },
  {
   "cell_type": "code",
   "execution_count": 274,
   "id": "cef2538d-3eaa-46f0-8141-eb7a00f3f8fd",
   "metadata": {},
   "outputs": [],
   "source": [
    "b_list.insert(1, \"red\")"
   ]
  },
  {
   "cell_type": "code",
   "execution_count": 275,
   "id": "b22a548b-5544-4802-8280-cc0019e7d6c1",
   "metadata": {},
   "outputs": [
    {
     "data": {
      "text/plain": [
       "['foo', 'red', 'peekaboo', 'baz', 'dwarf']"
      ]
     },
     "execution_count": 275,
     "metadata": {},
     "output_type": "execute_result"
    }
   ],
   "source": [
    "b_list"
   ]
  },
  {
   "cell_type": "code",
   "execution_count": 276,
   "id": "c9beaab3-9451-45db-af41-f6ad6eb1103a",
   "metadata": {},
   "outputs": [
    {
     "data": {
      "text/plain": [
       "'peekaboo'"
      ]
     },
     "execution_count": 276,
     "metadata": {},
     "output_type": "execute_result"
    }
   ],
   "source": [
    "b_list.pop(2)"
   ]
  },
  {
   "cell_type": "code",
   "execution_count": 277,
   "id": "4359e1d7-5218-41da-84bd-44f05fcae32d",
   "metadata": {},
   "outputs": [
    {
     "data": {
      "text/plain": [
       "['foo', 'red', 'baz', 'dwarf']"
      ]
     },
     "execution_count": 277,
     "metadata": {},
     "output_type": "execute_result"
    }
   ],
   "source": [
    "b_list"
   ]
  },
  {
   "cell_type": "code",
   "execution_count": 278,
   "id": "5310bed3-3127-45ae-a8e2-8af2dff36f7f",
   "metadata": {},
   "outputs": [],
   "source": [
    "b_list.append(\"foo\")"
   ]
  },
  {
   "cell_type": "code",
   "execution_count": 279,
   "id": "d9da2468-22a7-40c9-b875-508d7d0953ee",
   "metadata": {},
   "outputs": [
    {
     "data": {
      "text/plain": [
       "['foo', 'red', 'baz', 'dwarf', 'foo']"
      ]
     },
     "execution_count": 279,
     "metadata": {},
     "output_type": "execute_result"
    }
   ],
   "source": [
    "b_list"
   ]
  },
  {
   "cell_type": "code",
   "execution_count": 280,
   "id": "bcdf6c6d-6187-4d93-a5e3-8b17f41c9b08",
   "metadata": {},
   "outputs": [],
   "source": [
    "b_list.remove('red')"
   ]
  },
  {
   "cell_type": "code",
   "execution_count": 281,
   "id": "519a5145-e502-4649-b094-0bdc4539cceb",
   "metadata": {},
   "outputs": [
    {
     "data": {
      "text/plain": [
       "['foo', 'baz', 'dwarf', 'foo']"
      ]
     },
     "execution_count": 281,
     "metadata": {},
     "output_type": "execute_result"
    }
   ],
   "source": [
    "b_list"
   ]
  },
  {
   "cell_type": "code",
   "execution_count": 282,
   "id": "68700894-812a-4460-8ef4-68e0b98d7618",
   "metadata": {},
   "outputs": [
    {
     "data": {
      "text/plain": [
       "True"
      ]
     },
     "execution_count": 282,
     "metadata": {},
     "output_type": "execute_result"
    }
   ],
   "source": [
    "\"dwarf\" in b_list"
   ]
  },
  {
   "cell_type": "code",
   "execution_count": 283,
   "id": "aab1be97-da0e-458b-a307-8ccfc7b6b732",
   "metadata": {},
   "outputs": [
    {
     "data": {
      "text/plain": [
       "False"
      ]
     },
     "execution_count": 283,
     "metadata": {},
     "output_type": "execute_result"
    }
   ],
   "source": [
    "\"dwarf\" not in b_list"
   ]
  },
  {
   "cell_type": "code",
   "execution_count": 284,
   "id": "9c28855f-d8f5-4136-b76a-d5d14df06699",
   "metadata": {},
   "outputs": [
    {
     "data": {
      "text/plain": [
       "[4, None, 'foo', 7, 8, (2, 3)]"
      ]
     },
     "execution_count": 284,
     "metadata": {},
     "output_type": "execute_result"
    }
   ],
   "source": [
    "[4, None, \"foo\"] + [7, 8, (2,3)]"
   ]
  },
  {
   "cell_type": "code",
   "execution_count": 285,
   "id": "49e8cee7-c0f0-4cf2-97f9-8e7562e49389",
   "metadata": {},
   "outputs": [],
   "source": [
    "x = [4, None, \"foo\"]"
   ]
  },
  {
   "cell_type": "code",
   "execution_count": 286,
   "id": "75db2cbc-9eb1-4683-805c-4b123b733e0c",
   "metadata": {},
   "outputs": [],
   "source": [
    "x.extend([7, 8, (2,3)])"
   ]
  },
  {
   "cell_type": "code",
   "execution_count": 287,
   "id": "ef549659-53ff-4845-a6d7-4c9ed63fae5c",
   "metadata": {},
   "outputs": [
    {
     "data": {
      "text/plain": [
       "[4, None, 'foo', 7, 8, (2, 3)]"
      ]
     },
     "execution_count": 287,
     "metadata": {},
     "output_type": "execute_result"
    }
   ],
   "source": [
    "x"
   ]
  },
  {
   "cell_type": "code",
   "execution_count": 288,
   "id": "2f5d407e-11d4-4d21-8ba3-78c5b8c49e6e",
   "metadata": {},
   "outputs": [],
   "source": [
    "a = [7, 2, 5, 1, 3]"
   ]
  },
  {
   "cell_type": "code",
   "execution_count": 289,
   "id": "898a24f3-2291-4427-a060-210522defbfc",
   "metadata": {},
   "outputs": [],
   "source": [
    "a.sort()"
   ]
  },
  {
   "cell_type": "code",
   "execution_count": 290,
   "id": "f22fbe20-c53e-4d05-a8ad-42776ca8ae9a",
   "metadata": {},
   "outputs": [
    {
     "data": {
      "text/plain": [
       "[1, 2, 3, 5, 7]"
      ]
     },
     "execution_count": 290,
     "metadata": {},
     "output_type": "execute_result"
    }
   ],
   "source": [
    "a"
   ]
  },
  {
   "cell_type": "code",
   "execution_count": 291,
   "id": "b055dd74-adda-427d-a945-9cc44c689a82",
   "metadata": {},
   "outputs": [],
   "source": [
    "b = [\"saw\", \"small\", \"He\", \"foxes\", \"six\"]"
   ]
  },
  {
   "cell_type": "code",
   "execution_count": 292,
   "id": "fa67855f-5344-402e-a265-4b45c48db449",
   "metadata": {},
   "outputs": [],
   "source": [
    "b.sort(key=len)"
   ]
  },
  {
   "cell_type": "code",
   "execution_count": 293,
   "id": "1ecf085a-e214-4845-954e-12bb7b128ab1",
   "metadata": {},
   "outputs": [
    {
     "data": {
      "text/plain": [
       "['He', 'saw', 'six', 'small', 'foxes']"
      ]
     },
     "execution_count": 293,
     "metadata": {},
     "output_type": "execute_result"
    }
   ],
   "source": [
    "b"
   ]
  },
  {
   "cell_type": "code",
   "execution_count": 294,
   "id": "4fd845f0-bb29-4aed-b23c-c68787159905",
   "metadata": {},
   "outputs": [],
   "source": [
    "seq = [7, 2, 3, 7, 5, 6, 0, 1]"
   ]
  },
  {
   "cell_type": "code",
   "execution_count": 295,
   "id": "a98c874d-c900-462c-9145-9e1e9d756404",
   "metadata": {},
   "outputs": [
    {
     "data": {
      "text/plain": [
       "[2, 3, 7, 5]"
      ]
     },
     "execution_count": 295,
     "metadata": {},
     "output_type": "execute_result"
    }
   ],
   "source": [
    "seq[1:5]"
   ]
  },
  {
   "cell_type": "code",
   "execution_count": 296,
   "id": "d23043f2-0211-4eee-89e9-cbd31b82f4f6",
   "metadata": {},
   "outputs": [],
   "source": [
    "seq[3:5] = [6,3]"
   ]
  },
  {
   "cell_type": "code",
   "execution_count": 297,
   "id": "139c1a1c-3b26-405d-b239-caac4941074d",
   "metadata": {},
   "outputs": [
    {
     "data": {
      "text/plain": [
       "[7, 2, 3, 6, 3, 6, 0, 1]"
      ]
     },
     "execution_count": 297,
     "metadata": {},
     "output_type": "execute_result"
    }
   ],
   "source": [
    "seq"
   ]
  },
  {
   "cell_type": "code",
   "execution_count": 298,
   "id": "95ac9535-2cdc-4097-b517-5bb16d9f85bf",
   "metadata": {},
   "outputs": [
    {
     "data": {
      "text/plain": [
       "[7, 2, 3, 6, 3]"
      ]
     },
     "execution_count": 298,
     "metadata": {},
     "output_type": "execute_result"
    }
   ],
   "source": [
    "seq[:5]"
   ]
  },
  {
   "cell_type": "code",
   "execution_count": 299,
   "id": "04104c78-8e9d-4248-aa25-9f6724ed2e9c",
   "metadata": {},
   "outputs": [
    {
     "data": {
      "text/plain": [
       "[6, 3, 6, 0, 1]"
      ]
     },
     "execution_count": 299,
     "metadata": {},
     "output_type": "execute_result"
    }
   ],
   "source": [
    "seq[3:]"
   ]
  },
  {
   "cell_type": "code",
   "execution_count": 300,
   "id": "f57119e3-d523-43c8-a5a9-9549aa225660",
   "metadata": {},
   "outputs": [
    {
     "data": {
      "text/plain": [
       "[3, 6, 0, 1]"
      ]
     },
     "execution_count": 300,
     "metadata": {},
     "output_type": "execute_result"
    }
   ],
   "source": [
    "seq[-4:]"
   ]
  },
  {
   "cell_type": "code",
   "execution_count": 301,
   "id": "63f71866-c95d-4b0d-bf6b-eb4b9be83ff1",
   "metadata": {},
   "outputs": [
    {
     "data": {
      "text/plain": [
       "[3, 6, 3, 6]"
      ]
     },
     "execution_count": 301,
     "metadata": {},
     "output_type": "execute_result"
    }
   ],
   "source": [
    "seq[-6:-2]"
   ]
  },
  {
   "cell_type": "code",
   "execution_count": 302,
   "id": "ea320296-df2c-4e37-8f11-c7884c2c4679",
   "metadata": {},
   "outputs": [
    {
     "data": {
      "text/plain": [
       "[7, 3, 3, 0]"
      ]
     },
     "execution_count": 302,
     "metadata": {},
     "output_type": "execute_result"
    }
   ],
   "source": [
    "seq[::2]"
   ]
  },
  {
   "cell_type": "code",
   "execution_count": 303,
   "id": "b194143c-796a-48a6-b2bb-75932d64317e",
   "metadata": {},
   "outputs": [
    {
     "data": {
      "text/plain": [
       "[1, 0, 6, 3, 6, 3, 2, 7]"
      ]
     },
     "execution_count": 303,
     "metadata": {},
     "output_type": "execute_result"
    }
   ],
   "source": [
    "seq[::-1]"
   ]
  },
  {
   "cell_type": "code",
   "execution_count": 304,
   "id": "8970a4b7-b30c-4fdc-b1ff-a2a242ac2b09",
   "metadata": {},
   "outputs": [],
   "source": [
    "empty_dict = {}"
   ]
  },
  {
   "cell_type": "code",
   "execution_count": 305,
   "id": "e29e870a-4c2a-47ff-84bd-45fa2fb6cd73",
   "metadata": {},
   "outputs": [],
   "source": [
    "d1 = {\"a\": \"some value\", \"b\": [1,2,3,4]}"
   ]
  },
  {
   "cell_type": "code",
   "execution_count": 306,
   "id": "1484a106-f06e-4de3-b1d8-16b1d0afa833",
   "metadata": {},
   "outputs": [
    {
     "data": {
      "text/plain": [
       "{'a': 'some value', 'b': [1, 2, 3, 4]}"
      ]
     },
     "execution_count": 306,
     "metadata": {},
     "output_type": "execute_result"
    }
   ],
   "source": [
    "d1"
   ]
  },
  {
   "cell_type": "code",
   "execution_count": 307,
   "id": "868aa978-9b97-46b5-99dd-14a2dae373e5",
   "metadata": {},
   "outputs": [],
   "source": [
    "d1[7] = \"an integer\""
   ]
  },
  {
   "cell_type": "code",
   "execution_count": 308,
   "id": "b89729af-e584-4e0d-9f89-c28f304d8fae",
   "metadata": {},
   "outputs": [
    {
     "data": {
      "text/plain": [
       "{'a': 'some value', 'b': [1, 2, 3, 4], 7: 'an integer'}"
      ]
     },
     "execution_count": 308,
     "metadata": {},
     "output_type": "execute_result"
    }
   ],
   "source": [
    "d1"
   ]
  },
  {
   "cell_type": "code",
   "execution_count": 309,
   "id": "91601244-a134-48bf-9f04-589cf69651d8",
   "metadata": {},
   "outputs": [],
   "source": [
    "d1[True] = \"A boolean\""
   ]
  },
  {
   "cell_type": "code",
   "execution_count": 310,
   "id": "125648fb-0a65-4356-b068-bbb64b3d7fe6",
   "metadata": {},
   "outputs": [],
   "source": [
    "d1[True] = \"Another boolean\""
   ]
  },
  {
   "cell_type": "code",
   "execution_count": 311,
   "id": "42ee1fdd-9dff-4ac8-b711-c40d1ece5db9",
   "metadata": {},
   "outputs": [
    {
     "data": {
      "text/plain": [
       "{'a': 'some value',\n",
       " 'b': [1, 2, 3, 4],\n",
       " 7: 'an integer',\n",
       " True: 'Another boolean'}"
      ]
     },
     "execution_count": 311,
     "metadata": {},
     "output_type": "execute_result"
    }
   ],
   "source": [
    "d1"
   ]
  },
  {
   "cell_type": "code",
   "execution_count": 312,
   "id": "2bc380af-b5bd-4f66-b600-40b05f9b8d97",
   "metadata": {},
   "outputs": [
    {
     "data": {
      "text/plain": [
       "[1, 2, 3, 4]"
      ]
     },
     "execution_count": 312,
     "metadata": {},
     "output_type": "execute_result"
    }
   ],
   "source": [
    "d1[\"b\"]"
   ]
  },
  {
   "cell_type": "code",
   "execution_count": 313,
   "id": "913e98bd-b414-41c3-91bd-ac2b2fb7ac67",
   "metadata": {},
   "outputs": [
    {
     "data": {
      "text/plain": [
       "True"
      ]
     },
     "execution_count": 313,
     "metadata": {},
     "output_type": "execute_result"
    }
   ],
   "source": [
    "\"b\" in d1"
   ]
  },
  {
   "cell_type": "code",
   "execution_count": 314,
   "id": "b4025a71-b95c-4caf-a73a-bbdb722435d4",
   "metadata": {},
   "outputs": [],
   "source": [
    "d1[5] = \"some value\""
   ]
  },
  {
   "cell_type": "code",
   "execution_count": 315,
   "id": "e3cd91a6-e096-4d05-82e8-cfad1282a508",
   "metadata": {},
   "outputs": [
    {
     "data": {
      "text/plain": [
       "{'a': 'some value',\n",
       " 'b': [1, 2, 3, 4],\n",
       " 7: 'an integer',\n",
       " True: 'Another boolean',\n",
       " 5: 'some value'}"
      ]
     },
     "execution_count": 315,
     "metadata": {},
     "output_type": "execute_result"
    }
   ],
   "source": [
    "d1"
   ]
  },
  {
   "cell_type": "code",
   "execution_count": 316,
   "id": "e8ca7223-9185-44eb-9ac9-1c9b35b4b561",
   "metadata": {},
   "outputs": [],
   "source": [
    "d1[\"dummy\"] = \"another value\""
   ]
  },
  {
   "cell_type": "code",
   "execution_count": 317,
   "id": "199993f4-3892-44e5-9b6d-adf2f247514a",
   "metadata": {},
   "outputs": [
    {
     "data": {
      "text/plain": [
       "{'a': 'some value',\n",
       " 'b': [1, 2, 3, 4],\n",
       " 7: 'an integer',\n",
       " True: 'Another boolean',\n",
       " 5: 'some value',\n",
       " 'dummy': 'another value'}"
      ]
     },
     "execution_count": 317,
     "metadata": {},
     "output_type": "execute_result"
    }
   ],
   "source": [
    "d1"
   ]
  },
  {
   "cell_type": "code",
   "execution_count": 318,
   "id": "826c422f-a49d-4d75-9f9a-de7d3b914b7c",
   "metadata": {},
   "outputs": [],
   "source": [
    "del d1[5]\n",
    "del d1[True]"
   ]
  },
  {
   "cell_type": "code",
   "execution_count": 319,
   "id": "8122f0bb-10be-465b-ab4c-826f8caab101",
   "metadata": {},
   "outputs": [
    {
     "data": {
      "text/plain": [
       "{'a': 'some value',\n",
       " 'b': [1, 2, 3, 4],\n",
       " 7: 'an integer',\n",
       " 'dummy': 'another value'}"
      ]
     },
     "execution_count": 319,
     "metadata": {},
     "output_type": "execute_result"
    }
   ],
   "source": [
    "d1"
   ]
  },
  {
   "cell_type": "code",
   "execution_count": 320,
   "id": "a038e797-cc17-4d88-897a-3b61a222f61c",
   "metadata": {},
   "outputs": [],
   "source": [
    "ret = d1.pop(\"dummy\")"
   ]
  },
  {
   "cell_type": "code",
   "execution_count": 321,
   "id": "149635fe-452e-4f2b-991a-54710a56b8bc",
   "metadata": {},
   "outputs": [
    {
     "data": {
      "text/plain": [
       "'another value'"
      ]
     },
     "execution_count": 321,
     "metadata": {},
     "output_type": "execute_result"
    }
   ],
   "source": [
    "ret"
   ]
  },
  {
   "cell_type": "code",
   "execution_count": 322,
   "id": "e78bbffc-cc6d-482e-857b-42ba79625d89",
   "metadata": {},
   "outputs": [
    {
     "data": {
      "text/plain": [
       "{'a': 'some value', 'b': [1, 2, 3, 4], 7: 'an integer'}"
      ]
     },
     "execution_count": 322,
     "metadata": {},
     "output_type": "execute_result"
    }
   ],
   "source": [
    "d1"
   ]
  },
  {
   "cell_type": "code",
   "execution_count": 323,
   "id": "3d61d277-c6ac-4e65-b1f8-23deaf72433c",
   "metadata": {},
   "outputs": [
    {
     "data": {
      "text/plain": [
       "['a', 'b', 7]"
      ]
     },
     "execution_count": 323,
     "metadata": {},
     "output_type": "execute_result"
    }
   ],
   "source": [
    "list(d1.keys())"
   ]
  },
  {
   "cell_type": "code",
   "execution_count": 324,
   "id": "2e1808f2-f719-4592-8dfd-7564630b05b2",
   "metadata": {},
   "outputs": [
    {
     "data": {
      "text/plain": [
       "['some value', [1, 2, 3, 4], 'an integer']"
      ]
     },
     "execution_count": 324,
     "metadata": {},
     "output_type": "execute_result"
    }
   ],
   "source": [
    "list(d1.values())"
   ]
  },
  {
   "cell_type": "code",
   "execution_count": 325,
   "id": "05418f2c-0bad-4475-82a7-9dca27596e49",
   "metadata": {},
   "outputs": [
    {
     "data": {
      "text/plain": [
       "[('a', 'some value'), ('b', [1, 2, 3, 4]), (7, 'an integer')]"
      ]
     },
     "execution_count": 325,
     "metadata": {},
     "output_type": "execute_result"
    }
   ],
   "source": [
    "list(d1.items())"
   ]
  },
  {
   "cell_type": "code",
   "execution_count": 326,
   "id": "b17a1c4c-7d41-421d-86ae-0ad0575c439c",
   "metadata": {},
   "outputs": [],
   "source": [
    "d1.update({\"b\": \"foo\", \"c\": 12})"
   ]
  },
  {
   "cell_type": "code",
   "execution_count": 327,
   "id": "87a4c048-8f44-4e77-884b-d46a210c96d5",
   "metadata": {},
   "outputs": [
    {
     "data": {
      "text/plain": [
       "{'a': 'some value', 'b': 'foo', 7: 'an integer', 'c': 12}"
      ]
     },
     "execution_count": 327,
     "metadata": {},
     "output_type": "execute_result"
    }
   ],
   "source": [
    "d1"
   ]
  },
  {
   "cell_type": "code",
   "execution_count": 328,
   "id": "b140a33b-abc6-48e3-a70c-37110bc5ecd4",
   "metadata": {},
   "outputs": [],
   "source": [
    "tuples = zip(range(5), reversed(range(5)))"
   ]
  },
  {
   "cell_type": "code",
   "execution_count": 329,
   "id": "d9c344cc-66d2-403c-8d13-5181ad0a2145",
   "metadata": {},
   "outputs": [
    {
     "data": {
      "text/plain": [
       "<zip at 0x1edb236a5c0>"
      ]
     },
     "execution_count": 329,
     "metadata": {},
     "output_type": "execute_result"
    }
   ],
   "source": [
    "tuples"
   ]
  },
  {
   "cell_type": "code",
   "execution_count": 330,
   "id": "cda4ca98-c823-4c30-8e4b-f167ff0153ce",
   "metadata": {},
   "outputs": [],
   "source": [
    "mapping = (dict(tuples))"
   ]
  },
  {
   "cell_type": "code",
   "execution_count": 331,
   "id": "7b7c5d1b-a558-458f-a6de-5b58208a9ef8",
   "metadata": {},
   "outputs": [
    {
     "data": {
      "text/plain": [
       "{0: 4, 1: 3, 2: 2, 3: 1, 4: 0}"
      ]
     },
     "execution_count": 331,
     "metadata": {},
     "output_type": "execute_result"
    }
   ],
   "source": [
    "mapping"
   ]
  },
  {
   "cell_type": "code",
   "execution_count": 332,
   "id": "3ec2e01a-cbe1-4bd9-b804-06f855f56719",
   "metadata": {},
   "outputs": [],
   "source": [
    "words = [\"apple\", \"bat\", \"bar\", \"atom\", \"book\"]"
   ]
  },
  {
   "cell_type": "code",
   "execution_count": 333,
   "id": "360128cf-d049-4733-95ba-893c6fcc3cec",
   "metadata": {},
   "outputs": [],
   "source": [
    "by_letter = {}"
   ]
  },
  {
   "cell_type": "code",
   "execution_count": 334,
   "id": "efa62930-ddd8-430b-ac7f-0d19f62b9b55",
   "metadata": {},
   "outputs": [],
   "source": [
    "for word in words:\n",
    "    letter = word[0]\n",
    "    if letter not in by_letter:\n",
    "        by_letter[letter] = [word]\n",
    "    else:\n",
    "        by_letter[letter].append(word)"
   ]
  },
  {
   "cell_type": "code",
   "execution_count": 335,
   "id": "c4311473-b8af-46c6-b051-32a79578d2b4",
   "metadata": {},
   "outputs": [
    {
     "data": {
      "text/plain": [
       "{'a': ['apple', 'atom'], 'b': ['bat', 'bar', 'book']}"
      ]
     },
     "execution_count": 335,
     "metadata": {},
     "output_type": "execute_result"
    }
   ],
   "source": [
    "by_letter"
   ]
  },
  {
   "cell_type": "code",
   "execution_count": 336,
   "id": "f8e1472a-4d82-4622-8b20-07a2b583c0dc",
   "metadata": {},
   "outputs": [],
   "source": [
    "by_letter = {}"
   ]
  },
  {
   "cell_type": "code",
   "execution_count": 337,
   "id": "49a7068b-e9b9-4f99-a47c-0aa588993e72",
   "metadata": {},
   "outputs": [],
   "source": [
    "for word in words:\n",
    "    letter = word[0]\n",
    "    by_letter.setdefault(letter, []).append(word)"
   ]
  },
  {
   "cell_type": "code",
   "execution_count": 338,
   "id": "5332b851-0b85-4b5a-b766-ce70cb8f94d7",
   "metadata": {},
   "outputs": [
    {
     "data": {
      "text/plain": [
       "{'a': ['apple', 'atom'], 'b': ['bat', 'bar', 'book']}"
      ]
     },
     "execution_count": 338,
     "metadata": {},
     "output_type": "execute_result"
    }
   ],
   "source": [
    "by_letter"
   ]
  },
  {
   "cell_type": "code",
   "execution_count": 339,
   "id": "730863a9-a790-4880-ba3c-920ff18a6015",
   "metadata": {},
   "outputs": [],
   "source": [
    "by_letter.setdefault(\"d\",[]).append(\"dog\")"
   ]
  },
  {
   "cell_type": "code",
   "execution_count": 340,
   "id": "7516373c-671c-4b5f-af24-c5c990098712",
   "metadata": {},
   "outputs": [
    {
     "data": {
      "text/plain": [
       "{'a': ['apple', 'atom'], 'b': ['bat', 'bar', 'book'], 'd': ['dog']}"
      ]
     },
     "execution_count": 340,
     "metadata": {},
     "output_type": "execute_result"
    }
   ],
   "source": [
    "by_letter"
   ]
  },
  {
   "cell_type": "code",
   "execution_count": 341,
   "id": "f2489674-0028-4dd1-8851-e7b2074e1cc1",
   "metadata": {},
   "outputs": [],
   "source": [
    "from collections import defaultdict"
   ]
  },
  {
   "cell_type": "code",
   "execution_count": 342,
   "id": "5cb5ebdf-161a-4cb4-ab36-b032ec04504b",
   "metadata": {},
   "outputs": [
    {
     "data": {
      "text/plain": [
       "defaultdict(list, {'a': ['apple', 'atom'], 'b': ['bat', 'bar', 'book']})"
      ]
     },
     "execution_count": 342,
     "metadata": {},
     "output_type": "execute_result"
    }
   ],
   "source": [
    "words = [\"apple\", \"bat\", \"bar\", \"atom\", \"book\"]\n",
    "by_letter = defaultdict(list)\n",
    "for word in words:\n",
    "    by_letter[word[0]].append(word)\n",
    "#[by_letter[word[0]].append(word) for word in words]\n",
    "by_letter"
   ]
  },
  {
   "cell_type": "code",
   "execution_count": 343,
   "id": "646dab1b-8ceb-4f94-936f-36c5d62d2a76",
   "metadata": {},
   "outputs": [
    {
     "data": {
      "text/plain": [
       "{'a': ['apple', 'atom'], 'b': ['bat', 'bar', 'book']}"
      ]
     },
     "execution_count": 343,
     "metadata": {},
     "output_type": "execute_result"
    }
   ],
   "source": [
    "dict(by_letter)"
   ]
  },
  {
   "cell_type": "code",
   "execution_count": 344,
   "id": "248d37bf-3965-4891-b931-729604b7a8e8",
   "metadata": {},
   "outputs": [
    {
     "data": {
      "text/plain": [
       "-2441645881365229512"
      ]
     },
     "execution_count": 344,
     "metadata": {},
     "output_type": "execute_result"
    }
   ],
   "source": [
    "hash(\"string\")"
   ]
  },
  {
   "cell_type": "code",
   "execution_count": 345,
   "id": "c80ee85d-3ef8-4358-9ecd-a88ae9b06f6d",
   "metadata": {},
   "outputs": [
    {
     "data": {
      "text/plain": [
       "-9209053662355515447"
      ]
     },
     "execution_count": 345,
     "metadata": {},
     "output_type": "execute_result"
    }
   ],
   "source": [
    "hash((1, 2, (2,3)))"
   ]
  },
  {
   "cell_type": "code",
   "execution_count": 346,
   "id": "fb77c4d7-a7c9-411b-ba4d-e930325e503c",
   "metadata": {},
   "outputs": [
    {
     "ename": "TypeError",
     "evalue": "unhashable type: 'list'",
     "output_type": "error",
     "traceback": [
      "\u001b[31m---------------------------------------------------------------------------\u001b[39m",
      "\u001b[31mTypeError\u001b[39m                                 Traceback (most recent call last)",
      "\u001b[36mCell\u001b[39m\u001b[36m \u001b[39m\u001b[32mIn[346]\u001b[39m\u001b[32m, line 1\u001b[39m\n\u001b[32m----> \u001b[39m\u001b[32m1\u001b[39m \u001b[38;5;28;43mhash\u001b[39;49m\u001b[43m(\u001b[49m\u001b[43m(\u001b[49m\u001b[32;43m1\u001b[39;49m\u001b[43m,\u001b[49m\u001b[43m \u001b[49m\u001b[32;43m2\u001b[39;49m\u001b[43m,\u001b[49m\u001b[43m \u001b[49m\u001b[43m[\u001b[49m\u001b[32;43m2\u001b[39;49m\u001b[43m,\u001b[49m\u001b[32;43m3\u001b[39;49m\u001b[43m]\u001b[49m\u001b[43m)\u001b[49m\u001b[43m)\u001b[49m\n",
      "\u001b[31mTypeError\u001b[39m: unhashable type: 'list'"
     ]
    }
   ],
   "source": [
    "hash((1, 2, [2,3]))"
   ]
  },
  {
   "cell_type": "code",
   "execution_count": 347,
   "id": "2a4dabee-53f3-42b5-a421-2bccea6f2f16",
   "metadata": {},
   "outputs": [],
   "source": [
    "d = {}"
   ]
  },
  {
   "cell_type": "code",
   "execution_count": 348,
   "id": "44527db0-94b4-4727-929f-56eea786e1dd",
   "metadata": {},
   "outputs": [],
   "source": [
    "d[tuple([1,2,3])] = 5"
   ]
  },
  {
   "cell_type": "code",
   "execution_count": 349,
   "id": "b077d77c-36bc-4424-ac8a-3eb793642d3b",
   "metadata": {},
   "outputs": [
    {
     "data": {
      "text/plain": [
       "{(1, 2, 3): 5}"
      ]
     },
     "execution_count": 349,
     "metadata": {},
     "output_type": "execute_result"
    }
   ],
   "source": [
    "d"
   ]
  },
  {
   "cell_type": "code",
   "execution_count": 350,
   "id": "2e2318a3-cdfa-413a-bdc6-519a85c293a3",
   "metadata": {},
   "outputs": [],
   "source": [
    "# Sets"
   ]
  },
  {
   "cell_type": "code",
   "execution_count": 351,
   "id": "38917ffe-cbc2-47e2-820c-4a70a8b968db",
   "metadata": {},
   "outputs": [
    {
     "data": {
      "text/plain": [
       "{1, 2, 3}"
      ]
     },
     "execution_count": 351,
     "metadata": {},
     "output_type": "execute_result"
    }
   ],
   "source": [
    "set([2, 2, 2, 1, 3, 3])"
   ]
  },
  {
   "cell_type": "code",
   "execution_count": 352,
   "id": "803c3db5-0040-4c02-9520-bf13353274ba",
   "metadata": {},
   "outputs": [
    {
     "data": {
      "text/plain": [
       "{1, 2, 3}"
      ]
     },
     "execution_count": 352,
     "metadata": {},
     "output_type": "execute_result"
    }
   ],
   "source": [
    "{2, 2, 2, 1, 3, 3}"
   ]
  },
  {
   "cell_type": "code",
   "execution_count": 353,
   "id": "7f2f1740-36aa-4148-817d-097e561d0a5a",
   "metadata": {},
   "outputs": [],
   "source": [
    "a = {1, 2, 3, 4, 5}"
   ]
  },
  {
   "cell_type": "code",
   "execution_count": 354,
   "id": "7681e0a3-feac-483e-9548-4112b75ded99",
   "metadata": {},
   "outputs": [],
   "source": [
    "b = {3, 4, 5, 6, 7, 8}"
   ]
  },
  {
   "cell_type": "code",
   "execution_count": 355,
   "id": "1ef83970-a5fe-44ad-9abe-b9ce4356759c",
   "metadata": {},
   "outputs": [
    {
     "data": {
      "text/plain": [
       "{1, 2, 3, 4, 5, 6, 7, 8}"
      ]
     },
     "execution_count": 355,
     "metadata": {},
     "output_type": "execute_result"
    }
   ],
   "source": [
    "a.union(b)"
   ]
  },
  {
   "cell_type": "code",
   "execution_count": 356,
   "id": "ac745107-c7d0-4016-8d68-e02682038390",
   "metadata": {},
   "outputs": [
    {
     "data": {
      "text/plain": [
       "{1, 2, 3, 4, 5, 6, 7, 8}"
      ]
     },
     "execution_count": 356,
     "metadata": {},
     "output_type": "execute_result"
    }
   ],
   "source": [
    "a | b"
   ]
  },
  {
   "cell_type": "code",
   "execution_count": 357,
   "id": "683c4ba9-6e93-4f84-89f2-9aea0eff4024",
   "metadata": {},
   "outputs": [
    {
     "data": {
      "text/plain": [
       "{3, 4, 5}"
      ]
     },
     "execution_count": 357,
     "metadata": {},
     "output_type": "execute_result"
    }
   ],
   "source": [
    "a.intersection(b)"
   ]
  },
  {
   "cell_type": "code",
   "execution_count": 358,
   "id": "c654c3c8-bc18-42fd-b6f3-d8aa313f6310",
   "metadata": {},
   "outputs": [
    {
     "data": {
      "text/plain": [
       "{3, 4, 5}"
      ]
     },
     "execution_count": 358,
     "metadata": {},
     "output_type": "execute_result"
    }
   ],
   "source": [
    "a & b"
   ]
  },
  {
   "cell_type": "code",
   "execution_count": 359,
   "id": "10935a67-bfea-41b5-94e0-2bfa73d5ce37",
   "metadata": {},
   "outputs": [],
   "source": [
    "c = a.copy()"
   ]
  },
  {
   "cell_type": "code",
   "execution_count": 360,
   "id": "2726756c-632e-4954-a943-b9be00944d23",
   "metadata": {},
   "outputs": [],
   "source": [
    "c |= b"
   ]
  },
  {
   "cell_type": "code",
   "execution_count": 361,
   "id": "07c83238-1583-4fe4-888d-1e62e30d2d68",
   "metadata": {},
   "outputs": [
    {
     "data": {
      "text/plain": [
       "{1, 2, 3, 4, 5, 6, 7, 8}"
      ]
     },
     "execution_count": 361,
     "metadata": {},
     "output_type": "execute_result"
    }
   ],
   "source": [
    "c"
   ]
  },
  {
   "cell_type": "code",
   "execution_count": 362,
   "id": "31d63a57-7ee7-4d30-86fe-63733779046f",
   "metadata": {},
   "outputs": [],
   "source": [
    "d = a.copy()"
   ]
  },
  {
   "cell_type": "code",
   "execution_count": 363,
   "id": "4ad7709b-03f8-4db8-9ba2-22fbec530236",
   "metadata": {},
   "outputs": [],
   "source": [
    "d &= b"
   ]
  },
  {
   "cell_type": "code",
   "execution_count": 364,
   "id": "f0722776-fa9a-402a-b0b4-2028f0e50200",
   "metadata": {},
   "outputs": [
    {
     "data": {
      "text/plain": [
       "{3, 4, 5}"
      ]
     },
     "execution_count": 364,
     "metadata": {},
     "output_type": "execute_result"
    }
   ],
   "source": [
    "d"
   ]
  },
  {
   "cell_type": "code",
   "execution_count": 365,
   "id": "41813d5f-16a5-4474-b104-d4dea301ad64",
   "metadata": {},
   "outputs": [],
   "source": [
    "my_data = [1, 2, 3, 4]"
   ]
  },
  {
   "cell_type": "code",
   "execution_count": 366,
   "id": "718a0844-491f-45c9-a670-f98ed7f13e67",
   "metadata": {},
   "outputs": [],
   "source": [
    "my_set = {tuple(my_data)}"
   ]
  },
  {
   "cell_type": "code",
   "execution_count": 367,
   "id": "b1adefd3-910e-40cc-84f1-51c7d06a1f1a",
   "metadata": {},
   "outputs": [
    {
     "data": {
      "text/plain": [
       "{(1, 2, 3, 4)}"
      ]
     },
     "execution_count": 367,
     "metadata": {},
     "output_type": "execute_result"
    }
   ],
   "source": [
    "my_set"
   ]
  },
  {
   "cell_type": "code",
   "execution_count": 368,
   "id": "849c4e15-74e1-44ae-a043-40d36912616f",
   "metadata": {},
   "outputs": [],
   "source": [
    "a_set = {1, 2, 3, 4, 5}"
   ]
  },
  {
   "cell_type": "code",
   "execution_count": 369,
   "id": "60f65e73-7729-40a8-a8b4-d7b3f40c04d9",
   "metadata": {},
   "outputs": [
    {
     "data": {
      "text/plain": [
       "True"
      ]
     },
     "execution_count": 369,
     "metadata": {},
     "output_type": "execute_result"
    }
   ],
   "source": [
    "{1, 2, 3}.issubset(a_set)"
   ]
  },
  {
   "cell_type": "code",
   "execution_count": 370,
   "id": "f51a4fab-cdbd-4ba3-9b78-ea54d7d1f8b0",
   "metadata": {},
   "outputs": [
    {
     "data": {
      "text/plain": [
       "True"
      ]
     },
     "execution_count": 370,
     "metadata": {},
     "output_type": "execute_result"
    }
   ],
   "source": [
    "a_set.issuperset({1,2,3})"
   ]
  },
  {
   "cell_type": "code",
   "execution_count": 371,
   "id": "768c85c7-2b1b-41ae-8dd2-5286309d3113",
   "metadata": {},
   "outputs": [
    {
     "data": {
      "text/plain": [
       "True"
      ]
     },
     "execution_count": 371,
     "metadata": {},
     "output_type": "execute_result"
    }
   ],
   "source": [
    "{1, 2, 3} == {2, 3, 3, 1}"
   ]
  },
  {
   "cell_type": "code",
   "execution_count": 372,
   "id": "a7634849-3399-4aa2-b90a-7d069684c319",
   "metadata": {},
   "outputs": [],
   "source": [
    "# 11th Oct, 2025 Chapter 3"
   ]
  },
  {
   "cell_type": "code",
   "execution_count": 373,
   "id": "75f3f5b2-e2ca-433d-a20c-04656bd57ae4",
   "metadata": {},
   "outputs": [],
   "source": [
    "# Built-In Sequence Functions"
   ]
  },
  {
   "cell_type": "code",
   "execution_count": 374,
   "id": "ffb2577a-ab16-4148-84c7-663d2b7c1913",
   "metadata": {},
   "outputs": [
    {
     "name": "stdout",
     "output_type": "stream",
     "text": [
      "index:0, value:0\n",
      "index:1, value:1\n",
      "index:2, value:2\n",
      "index:3, value:3\n",
      "index:4, value:4\n",
      "index:5, value:5\n",
      "index:6, value:6\n",
      "index:7, value:7\n",
      "index:8, value:8\n",
      "index:9, value:9\n"
     ]
    }
   ],
   "source": [
    "index = 0\n",
    "for value in range(10):\n",
    "    print(f\"index:{index}, value:{value}\")\n",
    "    index+=1"
   ]
  },
  {
   "cell_type": "code",
   "execution_count": 375,
   "id": "aa59c6a9-e9a6-4618-8084-ac45154b9fd3",
   "metadata": {},
   "outputs": [
    {
     "name": "stdout",
     "output_type": "stream",
     "text": [
      "index: 0, value: 0\n",
      "index: 1, value: 1\n",
      "index: 2, value: 2\n",
      "index: 3, value: 3\n",
      "index: 4, value: 4\n",
      "index: 5, value: 5\n",
      "index: 6, value: 6\n",
      "index: 7, value: 7\n",
      "index: 8, value: 8\n",
      "index: 9, value: 9\n",
      "a : [(0, 0), (1, 1), (2, 2), (3, 3), (4, 4)] \n",
      "Iterable? : True\n"
     ]
    }
   ],
   "source": [
    "for index, value in enumerate(range(10)):\n",
    "    print(f\"index: {index}, value: {value}\")\n",
    "a = enumerate(range(5))\n",
    "print(f\"a : {list(a)} \\nIterable? : {isiterable(a)}\")"
   ]
  },
  {
   "cell_type": "code",
   "execution_count": 376,
   "id": "b6d78028-976d-4e9a-a205-1ac44f7646ad",
   "metadata": {},
   "outputs": [
    {
     "data": {
      "text/plain": [
       "[(0, 2), (1, 3), (2, 4), (3, 5), (4, 6), (5, 7), (6, 8), (7, 9)]"
      ]
     },
     "execution_count": 376,
     "metadata": {},
     "output_type": "execute_result"
    }
   ],
   "source": [
    "list(enumerate(range(2,10)))"
   ]
  },
  {
   "cell_type": "code",
   "execution_count": 377,
   "id": "79b4551d-bbbd-43a4-a408-8cede3335ac9",
   "metadata": {},
   "outputs": [
    {
     "data": {
      "text/plain": [
       "[0, 1, 2, 2, 3, 6, 7]"
      ]
     },
     "execution_count": 377,
     "metadata": {},
     "output_type": "execute_result"
    }
   ],
   "source": [
    "list_1 = [7, 1, 2, 6, 0, 3, 2]\n",
    "sorted(list_1)"
   ]
  },
  {
   "cell_type": "code",
   "execution_count": 378,
   "id": "c1b2b617-6ed4-4e4a-849c-2aeb212d6740",
   "metadata": {},
   "outputs": [
    {
     "data": {
      "text/plain": [
       "[' ', 'a', 'c', 'e', 'e', 'h', 'o', 'r', 'r', 's']"
      ]
     },
     "execution_count": 378,
     "metadata": {},
     "output_type": "execute_result"
    }
   ],
   "source": [
    "string = \"horse race\"\n",
    "sorted(string)"
   ]
  },
  {
   "cell_type": "code",
   "execution_count": 379,
   "id": "c779f4dc-b7ce-4773-9c03-0870d814fb37",
   "metadata": {},
   "outputs": [
    {
     "data": {
      "text/plain": [
       "['polymath', 'command', 'hello', 'how', 'you']"
      ]
     },
     "execution_count": 379,
     "metadata": {},
     "output_type": "execute_result"
    }
   ],
   "source": [
    "list_2 = [\"hello\", \"how\", \"you\", \"command\", \"polymath\"]\n",
    "sorted(list_2, key = len, reverse = True)"
   ]
  },
  {
   "cell_type": "code",
   "execution_count": 380,
   "id": "feb140b8-c565-42d2-8cdc-ac856d376f1c",
   "metadata": {},
   "outputs": [],
   "source": [
    "seq1 = [\"foo\", \"bar\", \"baz\"]\n",
    "seq2 = [\"one\", \"two\", \"three\"]"
   ]
  },
  {
   "cell_type": "code",
   "execution_count": 381,
   "id": "27f019b2-f032-4a61-b01f-d930ebce5963",
   "metadata": {},
   "outputs": [],
   "source": [
    "zipped = zip(seq1, seq2)"
   ]
  },
  {
   "cell_type": "code",
   "execution_count": 382,
   "id": "741ade1c-33b0-476b-9032-bd10719c30df",
   "metadata": {},
   "outputs": [
    {
     "data": {
      "text/plain": [
       "[('foo', 'one'), ('bar', 'two'), ('baz', 'three')]"
      ]
     },
     "execution_count": 382,
     "metadata": {},
     "output_type": "execute_result"
    }
   ],
   "source": [
    "list(zipped)"
   ]
  },
  {
   "cell_type": "code",
   "execution_count": 383,
   "id": "f51524be-8ee0-479c-bf32-bd2a0929e0f2",
   "metadata": {},
   "outputs": [],
   "source": [
    " seq3 = [False, True]"
   ]
  },
  {
   "cell_type": "code",
   "execution_count": 384,
   "id": "c5208134-2658-4be7-8b03-b942d3f27e22",
   "metadata": {},
   "outputs": [
    {
     "name": "stdout",
     "output_type": "stream",
     "text": [
      "[('foo', 'one', False), ('bar', 'two', True)]\n",
      "[(0, ('foo', 'one')), (1, ('bar', 'two')), (2, ('baz', 'three'))]\n"
     ]
    }
   ],
   "source": [
    "print(list(zip(seq1, seq2, seq3)))\n",
    "print(list(enumerate(zip(seq1, seq2))))"
   ]
  },
  {
   "cell_type": "code",
   "execution_count": 385,
   "id": "31e57ad2-fa10-4f40-ba2e-8e89813f7030",
   "metadata": {},
   "outputs": [
    {
     "name": "stdout",
     "output_type": "stream",
     "text": [
      "0: foo, one\n",
      "1: bar, two\n",
      "2: baz, three\n"
     ]
    }
   ],
   "source": [
    "for index, (a, b) in enumerate(zip(seq1, seq2)):\n",
    "    print(f\"{index}: {a}, {b}\")"
   ]
  },
  {
   "cell_type": "code",
   "execution_count": 386,
   "id": "81d57591-2172-4253-8087-eb5b1e0b9268",
   "metadata": {},
   "outputs": [
    {
     "data": {
      "text/plain": [
       "[9, 8, 7, 6, 5, 4, 3, 2, 1, 0]"
      ]
     },
     "execution_count": 386,
     "metadata": {},
     "output_type": "execute_result"
    }
   ],
   "source": [
    "list(reversed(range(10)))"
   ]
  },
  {
   "cell_type": "code",
   "execution_count": 387,
   "id": "bd830644-20f9-4970-a2c9-a8f21ac10a1e",
   "metadata": {},
   "outputs": [],
   "source": [
    "# List, Set, and Dictionary Comprehensions"
   ]
  },
  {
   "cell_type": "code",
   "execution_count": 388,
   "id": "b368d2a9-61be-4e20-85de-6d4696669f0d",
   "metadata": {},
   "outputs": [],
   "source": [
    "keys = [\"name\", \"age\", \"city\"]\n",
    "values = [\"Alice\", 25, \"New York\"]"
   ]
  },
  {
   "cell_type": "code",
   "execution_count": 389,
   "id": "eb64fd0d-073a-40c8-987b-d1b972699ac7",
   "metadata": {},
   "outputs": [
    {
     "name": "stdout",
     "output_type": "stream",
     "text": [
      "{'name': 'Alice', 'age': 25, 'city': 'New York'}\n"
     ]
    }
   ],
   "source": [
    "my_dict = dict(zip(keys, values))\n",
    "print(my_dict)"
   ]
  },
  {
   "cell_type": "code",
   "execution_count": 390,
   "id": "09eb112d-fb3c-4756-a873-21d5d7992e7e",
   "metadata": {},
   "outputs": [],
   "source": [
    "strings = [\"a\", \"as\", \"bat\", \"car\", \"dove\", \"python\"]"
   ]
  },
  {
   "cell_type": "code",
   "execution_count": 391,
   "id": "72bcdc49-66d6-449a-954f-37520875d4a6",
   "metadata": {},
   "outputs": [
    {
     "data": {
      "text/plain": [
       "['BAT', 'CAR', 'DOVE', 'PYTHON']"
      ]
     },
     "execution_count": 391,
     "metadata": {},
     "output_type": "execute_result"
    }
   ],
   "source": [
    "[x.upper() for x in strings if len(x) > 2] # [expr for x in iterable conditional]"
   ]
  },
  {
   "cell_type": "code",
   "execution_count": 392,
   "id": "4d480eb9-6967-40a4-9421-774824c5ff7b",
   "metadata": {},
   "outputs": [],
   "source": [
    "unique_lengths = {len(x) for x in strings} # Set comprehension"
   ]
  },
  {
   "cell_type": "code",
   "execution_count": 393,
   "id": "1d76a3ce-01e3-4204-ac1a-7086ccee7851",
   "metadata": {},
   "outputs": [
    {
     "data": {
      "text/plain": [
       "{1, 2, 3, 4, 6}"
      ]
     },
     "execution_count": 393,
     "metadata": {},
     "output_type": "execute_result"
    }
   ],
   "source": [
    "unique_lengths"
   ]
  },
  {
   "cell_type": "code",
   "execution_count": 394,
   "id": "97a72ce1-161c-46c8-be98-ef7b5f640802",
   "metadata": {},
   "outputs": [
    {
     "data": {
      "text/plain": [
       "{1, 2, 3, 4, 6}"
      ]
     },
     "execution_count": 394,
     "metadata": {},
     "output_type": "execute_result"
    }
   ],
   "source": [
    "set(map(len, strings))"
   ]
  },
  {
   "cell_type": "code",
   "execution_count": 395,
   "id": "e500ddb7-36fc-4fa4-bc8f-a6151f4677c9",
   "metadata": {},
   "outputs": [
    {
     "name": "stdout",
     "output_type": "stream",
     "text": [
      "\u001b[31mInit signature:\u001b[39m map(function, iterable, /, *iterables)\n",
      "\u001b[31mDocstring:\u001b[39m     \n",
      "Make an iterator that computes the function using arguments from\n",
      "each of the iterables.  Stops when the shortest iterable is exhausted.\n",
      "\u001b[31mType:\u001b[39m           type\n",
      "\u001b[31mSubclasses:\u001b[39m     "
     ]
    }
   ],
   "source": [
    "map?"
   ]
  },
  {
   "cell_type": "code",
   "execution_count": 396,
   "id": "078b5391-c705-4bd0-ae78-cd39e154f981",
   "metadata": {},
   "outputs": [],
   "source": [
    "loc_mapping = {value: index for index, value in enumerate(strings)} # dictionary comprehension"
   ]
  },
  {
   "cell_type": "code",
   "execution_count": 397,
   "id": "8e434c58-d489-4ae2-afcc-66e8d2225dc8",
   "metadata": {},
   "outputs": [
    {
     "data": {
      "text/plain": [
       "{'a': 0, 'as': 1, 'bat': 2, 'car': 3, 'dove': 4, 'python': 5}"
      ]
     },
     "execution_count": 397,
     "metadata": {},
     "output_type": "execute_result"
    }
   ],
   "source": [
    "loc_mapping"
   ]
  },
  {
   "cell_type": "code",
   "execution_count": 398,
   "id": "f0c336c6-1603-4fae-848c-4a7e25117ca5",
   "metadata": {},
   "outputs": [],
   "source": [
    "all_data = [[\"John\", \"Emily\", \"Michael\", \"Mary\", \"Steven\"], [\"Maria\", \"Juan\", \"Javier\", \"Natalia\", \"Pilar\"]]"
   ]
  },
  {
   "cell_type": "code",
   "execution_count": 399,
   "id": "1c5f2058-a7b2-4293-a5be-6feecd627237",
   "metadata": {},
   "outputs": [],
   "source": [
    "names_of_interest = []"
   ]
  },
  {
   "cell_type": "code",
   "execution_count": 400,
   "id": "402f2481-fdf3-4b7d-a051-b495c5ee4fdb",
   "metadata": {},
   "outputs": [],
   "source": [
    "for names in all_data:\n",
    "    enough_as = [name for name in names if name.count(\"a\") >= 2]\n",
    "    names_of_interest.extend(enough_as)"
   ]
  },
  {
   "cell_type": "code",
   "execution_count": 401,
   "id": "da7dcf87-8f6a-4629-a742-b20ddd840214",
   "metadata": {},
   "outputs": [
    {
     "data": {
      "text/plain": [
       "['Maria', 'Natalia']"
      ]
     },
     "execution_count": 401,
     "metadata": {},
     "output_type": "execute_result"
    }
   ],
   "source": [
    "names_of_interest"
   ]
  },
  {
   "cell_type": "code",
   "execution_count": 402,
   "id": "7f05605c-4e06-48bd-b724-96af754663f9",
   "metadata": {},
   "outputs": [],
   "source": [
    "result = [name for names in all_data for name in names if name.count(\"a\") >= 2] # nested comprehension"
   ]
  },
  {
   "cell_type": "code",
   "execution_count": 403,
   "id": "75c5a1c5-c0bb-4e91-8da8-dbb043ee5a26",
   "metadata": {},
   "outputs": [
    {
     "data": {
      "text/plain": [
       "['Maria', 'Natalia']"
      ]
     },
     "execution_count": 403,
     "metadata": {},
     "output_type": "execute_result"
    }
   ],
   "source": [
    "result"
   ]
  },
  {
   "cell_type": "code",
   "execution_count": 404,
   "id": "08f98e17-aa89-4b78-8ed4-53096e2eae13",
   "metadata": {},
   "outputs": [],
   "source": [
    "some_touples = [(1, 2, 3), (4, 5, 6), (7, 8, 9)]"
   ]
  },
  {
   "cell_type": "code",
   "execution_count": 405,
   "id": "504a9b49-2f82-48c1-866f-cc3c56886ac6",
   "metadata": {},
   "outputs": [],
   "source": [
    "flattened = [x for tup in some_touples for x in tup]"
   ]
  },
  {
   "cell_type": "code",
   "execution_count": 406,
   "id": "40feeb04-f63c-4ebf-b248-7f76f2b04250",
   "metadata": {},
   "outputs": [
    {
     "data": {
      "text/plain": [
       "[1, 2, 3, 4, 5, 6, 7, 8, 9]"
      ]
     },
     "execution_count": 406,
     "metadata": {},
     "output_type": "execute_result"
    }
   ],
   "source": [
    "flattened"
   ]
  },
  {
   "cell_type": "code",
   "execution_count": 407,
   "id": "e9331d97-fcb5-40f5-8ec5-42e567e450e4",
   "metadata": {},
   "outputs": [],
   "source": [
    "flattened = []"
   ]
  },
  {
   "cell_type": "code",
   "execution_count": 408,
   "id": "0a9246a2-a82f-4417-a1a4-23624475e288",
   "metadata": {},
   "outputs": [],
   "source": [
    "for tup in some_touples:\n",
    "    for x in tup:\n",
    "        flattened.append(x)"
   ]
  },
  {
   "cell_type": "code",
   "execution_count": 409,
   "id": "3290253b-ef74-49b0-8393-ce024b9a9853",
   "metadata": {},
   "outputs": [
    {
     "data": {
      "text/plain": [
       "[1, 2, 3, 4, 5, 6, 7, 8, 9]"
      ]
     },
     "execution_count": 409,
     "metadata": {},
     "output_type": "execute_result"
    }
   ],
   "source": [
    "flattened"
   ]
  },
  {
   "cell_type": "code",
   "execution_count": 410,
   "id": "22002c31-4171-485c-a07a-efbea1b54c23",
   "metadata": {},
   "outputs": [
    {
     "data": {
      "text/plain": [
       "[[1, 2, 3], [4, 5, 6], [7, 8, 9]]"
      ]
     },
     "execution_count": 410,
     "metadata": {},
     "output_type": "execute_result"
    }
   ],
   "source": [
    "[[x for x in tup] for tup in some_touples]"
   ]
  },
  {
   "cell_type": "code",
   "execution_count": 411,
   "id": "07c56a2a-d218-4488-9d06-13ea4a6e0e40",
   "metadata": {},
   "outputs": [],
   "source": [
    "# Functions"
   ]
  },
  {
   "cell_type": "code",
   "execution_count": 412,
   "id": "33b2ed80-921b-40ab-bfb8-5d7c508a0fe8",
   "metadata": {},
   "outputs": [],
   "source": [
    "def my_function(x, y):\n",
    "    return x + y"
   ]
  },
  {
   "cell_type": "code",
   "execution_count": 413,
   "id": "fb0ed75c-d8ab-4204-8d82-01051c9975b5",
   "metadata": {},
   "outputs": [
    {
     "data": {
      "text/plain": [
       "3"
      ]
     },
     "execution_count": 413,
     "metadata": {},
     "output_type": "execute_result"
    }
   ],
   "source": [
    "my_function(1, 2)"
   ]
  },
  {
   "cell_type": "code",
   "execution_count": 414,
   "id": "f2f2b805-f0c8-4349-b7f4-2d43706bd2d4",
   "metadata": {},
   "outputs": [],
   "source": [
    "result = my_function(1, 2)"
   ]
  },
  {
   "cell_type": "code",
   "execution_count": 415,
   "id": "6192c7db-266e-44c7-abc2-5cc8c9b43e77",
   "metadata": {},
   "outputs": [
    {
     "data": {
      "text/plain": [
       "3"
      ]
     },
     "execution_count": 415,
     "metadata": {},
     "output_type": "execute_result"
    }
   ],
   "source": [
    "result"
   ]
  },
  {
   "cell_type": "code",
   "execution_count": 416,
   "id": "f4c899f9-8cb8-4427-9b30-27ef5b385ad2",
   "metadata": {},
   "outputs": [],
   "source": [
    "def function_without_return(x):\n",
    "    print(x)"
   ]
  },
  {
   "cell_type": "code",
   "execution_count": 417,
   "id": "3046a536-e196-4cf6-a255-76e197b022c1",
   "metadata": {},
   "outputs": [
    {
     "name": "stdout",
     "output_type": "stream",
     "text": [
      "hello!\n"
     ]
    }
   ],
   "source": [
    "result = function_without_return(\"hello!\")"
   ]
  },
  {
   "cell_type": "code",
   "execution_count": 418,
   "id": "a2bc3961-1ee3-401b-b84a-a05e21fc6957",
   "metadata": {},
   "outputs": [
    {
     "name": "stdout",
     "output_type": "stream",
     "text": [
      "None\n"
     ]
    }
   ],
   "source": [
    "print(result)"
   ]
  },
  {
   "cell_type": "code",
   "execution_count": 419,
   "id": "a290de82-3040-4c1a-b40c-6c3c919a1cda",
   "metadata": {},
   "outputs": [],
   "source": [
    "def my_function2(x, y, z=1.5):\n",
    "    if z > 1:\n",
    "        return z * (x + y)\n",
    "    else:\n",
    "        return z / (x + y)"
   ]
  },
  {
   "cell_type": "code",
   "execution_count": 420,
   "id": "2da6aff7-4f9a-4b00-81b6-ac449e0e8f50",
   "metadata": {},
   "outputs": [
    {
     "data": {
      "text/plain": [
       "0.06363636363636363"
      ]
     },
     "execution_count": 420,
     "metadata": {},
     "output_type": "execute_result"
    }
   ],
   "source": [
    "my_function2(5, 6, z=0.7)"
   ]
  },
  {
   "cell_type": "code",
   "execution_count": 421,
   "id": "b62b9bed-ccf0-4b2e-9433-15db95254a3d",
   "metadata": {},
   "outputs": [
    {
     "data": {
      "text/plain": [
       "35.49"
      ]
     },
     "execution_count": 421,
     "metadata": {},
     "output_type": "execute_result"
    }
   ],
   "source": [
    "my_function2(3.14, 7, 3.5)"
   ]
  },
  {
   "cell_type": "code",
   "execution_count": 422,
   "id": "f5470996-93c7-42f7-9d09-18b7895521fe",
   "metadata": {},
   "outputs": [
    {
     "data": {
      "text/plain": [
       "45.0"
      ]
     },
     "execution_count": 422,
     "metadata": {},
     "output_type": "execute_result"
    }
   ],
   "source": [
    "my_function2(10, 20)"
   ]
  },
  {
   "cell_type": "code",
   "execution_count": 423,
   "id": "66bcb482-ecd9-4403-8a2b-db0351398d14",
   "metadata": {},
   "outputs": [],
   "source": [
    "def func():\n",
    "    a = []\n",
    "    for i in range(5):\n",
    "        a.append(i)\n",
    "    return a"
   ]
  },
  {
   "cell_type": "code",
   "execution_count": 424,
   "id": "6a28b403-d3c1-454a-9aab-0140a23d44b6",
   "metadata": {},
   "outputs": [
    {
     "data": {
      "text/plain": [
       "[0, 1, 2, 3, 4]"
      ]
     },
     "execution_count": 424,
     "metadata": {},
     "output_type": "execute_result"
    }
   ],
   "source": [
    "func()"
   ]
  },
  {
   "cell_type": "code",
   "execution_count": 425,
   "id": "4c346c05-de78-4aa2-b617-bce80c68dab8",
   "metadata": {},
   "outputs": [],
   "source": [
    "a = []"
   ]
  },
  {
   "cell_type": "code",
   "execution_count": 426,
   "id": "63ca7aac-1597-4475-a7a6-d25ecd0cc6ad",
   "metadata": {},
   "outputs": [],
   "source": [
    "def func():\n",
    "    for i in range(5):\n",
    "        a.append(i)"
   ]
  },
  {
   "cell_type": "code",
   "execution_count": 427,
   "id": "38413ba4-428d-469a-96d2-27cc596b8b6a",
   "metadata": {},
   "outputs": [],
   "source": [
    "func()"
   ]
  },
  {
   "cell_type": "code",
   "execution_count": 428,
   "id": "1c53e6fb-1ef0-4126-9e07-b8ff1286774f",
   "metadata": {},
   "outputs": [
    {
     "data": {
      "text/plain": [
       "[0, 1, 2, 3, 4]"
      ]
     },
     "execution_count": 428,
     "metadata": {},
     "output_type": "execute_result"
    }
   ],
   "source": [
    "a"
   ]
  },
  {
   "cell_type": "code",
   "execution_count": 429,
   "id": "76d1379d-0434-46f4-9b45-a336678eedc6",
   "metadata": {},
   "outputs": [],
   "source": [
    "func()"
   ]
  },
  {
   "cell_type": "code",
   "execution_count": 430,
   "id": "2ec71570-0d1e-498f-aeae-c5565d6e9c34",
   "metadata": {},
   "outputs": [
    {
     "data": {
      "text/plain": [
       "[0, 1, 2, 3, 4, 0, 1, 2, 3, 4]"
      ]
     },
     "execution_count": 430,
     "metadata": {},
     "output_type": "execute_result"
    }
   ],
   "source": [
    "a"
   ]
  },
  {
   "cell_type": "code",
   "execution_count": 431,
   "id": "8c5900aa-00f6-4e02-8164-53bfb511f8c5",
   "metadata": {},
   "outputs": [],
   "source": [
    "a = None"
   ]
  },
  {
   "cell_type": "code",
   "execution_count": 432,
   "id": "74cf434a-1a20-4fe1-b3bd-6cfbce460005",
   "metadata": {},
   "outputs": [],
   "source": [
    "def bind_a_variable():\n",
    "    global a\n",
    "    a = []\n"
   ]
  },
  {
   "cell_type": "code",
   "execution_count": 433,
   "id": "d4952cdc-cf0d-4b10-84c8-7a111979faa7",
   "metadata": {},
   "outputs": [],
   "source": [
    "bind_a_variable()"
   ]
  },
  {
   "cell_type": "code",
   "execution_count": 434,
   "id": "630f3ac4-5cf8-451c-b7d2-b72b63337754",
   "metadata": {},
   "outputs": [
    {
     "name": "stdout",
     "output_type": "stream",
     "text": [
      "[]\n"
     ]
    }
   ],
   "source": [
    "print(a)"
   ]
  },
  {
   "cell_type": "code",
   "execution_count": 435,
   "id": "af87eeb0-2c4c-4d6f-aef9-991e82178dc8",
   "metadata": {},
   "outputs": [],
   "source": [
    "def f():\n",
    "    a = 5\n",
    "    b = 6\n",
    "    c = 7\n",
    "    return a, b, c\n",
    "\n",
    "a, b, c = f()"
   ]
  },
  {
   "cell_type": "code",
   "execution_count": 436,
   "id": "1a561cab-c0dc-4855-963b-38cfb427065b",
   "metadata": {},
   "outputs": [],
   "source": [
    "return_value = f()"
   ]
  },
  {
   "cell_type": "code",
   "execution_count": 437,
   "id": "5bac291b-4545-47ee-8830-a9b0ffefbff7",
   "metadata": {},
   "outputs": [
    {
     "data": {
      "text/plain": [
       "(5, 6, 7)"
      ]
     },
     "execution_count": 437,
     "metadata": {},
     "output_type": "execute_result"
    }
   ],
   "source": [
    "return_value"
   ]
  },
  {
   "cell_type": "code",
   "execution_count": 438,
   "id": "b78e72b1-405b-4520-bbdd-7b8963ab1843",
   "metadata": {},
   "outputs": [],
   "source": [
    "def f():\n",
    "    a = 5\n",
    "    b = 6\n",
    "    c = 7\n",
    "    return {\"a\" : a, \"b\" : b, \"c\" : c}"
   ]
  },
  {
   "cell_type": "code",
   "execution_count": 439,
   "id": "a16b83bc-bfcd-48ab-be19-2c82bb25d02f",
   "metadata": {},
   "outputs": [],
   "source": [
    "return_value = f()"
   ]
  },
  {
   "cell_type": "code",
   "execution_count": 440,
   "id": "616a01a5-b26e-44a0-afd5-c1bafb5a19af",
   "metadata": {},
   "outputs": [
    {
     "data": {
      "text/plain": [
       "{'a': 5, 'b': 6, 'c': 7}"
      ]
     },
     "execution_count": 440,
     "metadata": {},
     "output_type": "execute_result"
    }
   ],
   "source": [
    "return_value"
   ]
  },
  {
   "cell_type": "code",
   "execution_count": 441,
   "id": "4de55f09-b598-4a72-9189-2dce44ea06b0",
   "metadata": {},
   "outputs": [],
   "source": [
    "states = [\"     Alabama\", \"Georgia!\", \"Georgia\", \"georgia\", \"FlOrIda\", \"south    carolina##\", \"West virginia?\"]"
   ]
  },
  {
   "cell_type": "code",
   "execution_count": 442,
   "id": "99f4bfa8-9ede-4ba2-971f-204bd05240d0",
   "metadata": {},
   "outputs": [],
   "source": [
    "import re"
   ]
  },
  {
   "cell_type": "code",
   "execution_count": 443,
   "id": "f999dd95-9e53-4e4e-bb08-2e88591be9ad",
   "metadata": {},
   "outputs": [],
   "source": [
    "def clean_strings(strings):\n",
    "    result = []\n",
    "    for value in strings:\n",
    "        value = value.strip()\n",
    "        value = re.sub(\"[!#?]\", \"\", value)\n",
    "        value = value.title()\n",
    "        result.append(value)\n",
    "    return result"
   ]
  },
  {
   "cell_type": "code",
   "execution_count": 444,
   "id": "16087d9c-6f03-4bc7-bbe7-8227cf314381",
   "metadata": {},
   "outputs": [
    {
     "data": {
      "text/plain": [
       "['Alabama',\n",
       " 'Georgia',\n",
       " 'Georgia',\n",
       " 'Georgia',\n",
       " 'Florida',\n",
       " 'South    Carolina',\n",
       " 'West Virginia']"
      ]
     },
     "execution_count": 444,
     "metadata": {},
     "output_type": "execute_result"
    }
   ],
   "source": [
    "clean_strings(states)"
   ]
  },
  {
   "cell_type": "code",
   "execution_count": 445,
   "id": "854ba7af-408b-4a99-be84-3717420d5f58",
   "metadata": {},
   "outputs": [
    {
     "name": "stdout",
     "output_type": "stream",
     "text": [
      "\u001b[31mSignature:\u001b[39m re.sub(pattern, repl, string, count=\u001b[32m0\u001b[39m, flags=\u001b[32m0\u001b[39m)\n",
      "\u001b[31mDocstring:\u001b[39m\n",
      "Return the string obtained by replacing the leftmost\n",
      "non-overlapping occurrences of the pattern in string by the\n",
      "replacement repl.  repl can be either a string or a callable;\n",
      "if a string, backslash escapes in it are processed.  If it is\n",
      "a callable, it's passed the Match object and must return\n",
      "a replacement string to be used.\n",
      "\u001b[31mFile:\u001b[39m      c:\\users\\rahul jangid\\appdata\\local\\programs\\python\\python313\\lib\\re\\__init__.py\n",
      "\u001b[31mType:\u001b[39m      function"
     ]
    }
   ],
   "source": [
    "re.sub?"
   ]
  },
  {
   "cell_type": "code",
   "execution_count": 446,
   "id": "fc3444bb-eafe-48b4-b23d-6e3da9d5427d",
   "metadata": {},
   "outputs": [],
   "source": [
    "a = \"dfasdfasdfhHHHHHkjhjdJlk\""
   ]
  },
  {
   "cell_type": "code",
   "execution_count": 447,
   "id": "677bb30d-e8bf-4f20-ba4f-9acccc6d5228",
   "metadata": {},
   "outputs": [
    {
     "name": "stdout",
     "output_type": "stream",
     "text": [
      "\u001b[31mSignature:\u001b[39m a.title()\n",
      "\u001b[31mDocstring:\u001b[39m\n",
      "Return a version of the string where each word is titlecased.\n",
      "\n",
      "More specifically, words start with uppercased characters and all remaining\n",
      "cased characters have lower case.\n",
      "\u001b[31mType:\u001b[39m      builtin_function_or_method"
     ]
    }
   ],
   "source": [
    "a.title?"
   ]
  },
  {
   "cell_type": "code",
   "execution_count": 448,
   "id": "d2ab07c5-b713-46c9-8810-38e66ff34664",
   "metadata": {},
   "outputs": [
    {
     "data": {
      "text/plain": [
       "'askdhjfklasjdhf     sdfas'"
      ]
     },
     "execution_count": 448,
     "metadata": {},
     "output_type": "execute_result"
    }
   ],
   "source": [
    "a = \"    askdhjfklasjdhf     sdfas    \"\n",
    "a.strip()"
   ]
  },
  {
   "cell_type": "code",
   "execution_count": 449,
   "id": "33667914-8466-470b-a21d-eedc60df958e",
   "metadata": {},
   "outputs": [],
   "source": [
    "def remove_punctuation(value):\n",
    "    return re.sub(\"[!#?]\", \"\", value)"
   ]
  },
  {
   "cell_type": "code",
   "execution_count": 450,
   "id": "50f2b8f1-2ae3-4d69-88b9-ad553500411f",
   "metadata": {},
   "outputs": [],
   "source": [
    "clean_ops = [str.strip, remove_punctuation, str.title]"
   ]
  },
  {
   "cell_type": "code",
   "execution_count": 451,
   "id": "afba6c61-c104-46f1-91e6-156561bc3ace",
   "metadata": {},
   "outputs": [],
   "source": [
    "def clean_strings(strings, ops):\n",
    "    result = []\n",
    "    for value in strings:\n",
    "        for func in ops:\n",
    "            value = func(value)\n",
    "        result.append(value)\n",
    "    return result"
   ]
  },
  {
   "cell_type": "code",
   "execution_count": 452,
   "id": "71d177e7-8f9f-4530-9836-ff780e47f5f6",
   "metadata": {},
   "outputs": [
    {
     "data": {
      "text/plain": [
       "['Alabama',\n",
       " 'Georgia',\n",
       " 'Georgia',\n",
       " 'Georgia',\n",
       " 'Florida',\n",
       " 'South    Carolina',\n",
       " 'West Virginia']"
      ]
     },
     "execution_count": 452,
     "metadata": {},
     "output_type": "execute_result"
    }
   ],
   "source": [
    "clean_strings(states, clean_ops)"
   ]
  },
  {
   "cell_type": "code",
   "execution_count": 453,
   "id": "fac00289-1acc-4a6f-ab3e-d719b2793a58",
   "metadata": {},
   "outputs": [
    {
     "name": "stdout",
     "output_type": "stream",
     "text": [
      "     Alabama\n",
      "Georgia\n",
      "Georgia\n",
      "georgia\n",
      "FlOrIda\n",
      "south    carolina\n",
      "West virginia\n"
     ]
    }
   ],
   "source": [
    "for x in map(remove_punctuation, states):\n",
    "    print(x)"
   ]
  },
  {
   "cell_type": "code",
   "execution_count": 454,
   "id": "d2ad5f3f-4131-4797-8499-36d393e460e9",
   "metadata": {},
   "outputs": [],
   "source": [
    "# Anonymous(Lambda) Functions"
   ]
  },
  {
   "cell_type": "code",
   "execution_count": 455,
   "id": "ac5b8cca-cecb-4632-94eb-1e843c3ec8c2",
   "metadata": {},
   "outputs": [],
   "source": [
    "def short_function(x):\n",
    "    return x*2"
   ]
  },
  {
   "cell_type": "code",
   "execution_count": 456,
   "id": "7b684460-e75f-4754-8e91-2d68861ed88a",
   "metadata": {},
   "outputs": [],
   "source": [
    "equiv_anon = lambda x: x*2"
   ]
  },
  {
   "cell_type": "code",
   "execution_count": 457,
   "id": "34968af0-c5e3-4f4c-a9a5-3fc01b440657",
   "metadata": {},
   "outputs": [],
   "source": [
    "def apply_to_list(some_list, f):\n",
    "    return [f(x) for x in some_list]"
   ]
  },
  {
   "cell_type": "code",
   "execution_count": 458,
   "id": "3bff8bc4-f307-42fa-900f-ec1e3f05d85d",
   "metadata": {},
   "outputs": [],
   "source": [
    "ints = [4, 0, 1, 5, 6]"
   ]
  },
  {
   "cell_type": "code",
   "execution_count": 459,
   "id": "d5d789d8-04d4-42b0-a718-6dae203a54f8",
   "metadata": {},
   "outputs": [
    {
     "data": {
      "text/plain": [
       "[8, 0, 2, 10, 12]"
      ]
     },
     "execution_count": 459,
     "metadata": {},
     "output_type": "execute_result"
    }
   ],
   "source": [
    "apply_to_list(ints, lambda x: x * 2)"
   ]
  },
  {
   "cell_type": "code",
   "execution_count": 460,
   "id": "ad2dc1cf-cc86-4173-8566-c26e1f372de3",
   "metadata": {},
   "outputs": [],
   "source": [
    "strings = [\"foo\", \"card\", \"bar\", \"aaaa\", \"abab\"]"
   ]
  },
  {
   "cell_type": "code",
   "execution_count": 461,
   "id": "b29f170a-c602-4fd3-95ab-c0027cfabba9",
   "metadata": {},
   "outputs": [],
   "source": [
    "strings.sort(key=lambda x: len(set(x)))"
   ]
  },
  {
   "cell_type": "code",
   "execution_count": 462,
   "id": "16212e03-579f-466e-856b-3bcba0ea18b3",
   "metadata": {},
   "outputs": [
    {
     "data": {
      "text/plain": [
       "['aaaa', 'foo', 'abab', 'bar', 'card']"
      ]
     },
     "execution_count": 462,
     "metadata": {},
     "output_type": "execute_result"
    }
   ],
   "source": [
    "strings"
   ]
  },
  {
   "cell_type": "code",
   "execution_count": 463,
   "id": "f1314add-d0a0-4ef4-8342-7a8eb13cf316",
   "metadata": {},
   "outputs": [],
   "source": [
    "# Generators"
   ]
  },
  {
   "cell_type": "code",
   "execution_count": 464,
   "id": "d268841b-9db8-4f02-81e6-e148f497d320",
   "metadata": {},
   "outputs": [],
   "source": [
    "some_dict = {\"a\": 1, \"b\": 2, \"c\": 3}"
   ]
  },
  {
   "cell_type": "code",
   "execution_count": 465,
   "id": "04e74bdc-dde6-43a0-81c3-88df9ddc9f7c",
   "metadata": {},
   "outputs": [
    {
     "name": "stdout",
     "output_type": "stream",
     "text": [
      "a\n",
      "b\n",
      "c\n"
     ]
    }
   ],
   "source": [
    "for key in some_dict:\n",
    "    print(key)"
   ]
  },
  {
   "cell_type": "code",
   "execution_count": 466,
   "id": "2a7e36fe-0ee1-497d-bc0e-988146d5d07b",
   "metadata": {},
   "outputs": [],
   "source": [
    "dict_iterator = iter(some_dict)"
   ]
  },
  {
   "cell_type": "code",
   "execution_count": 467,
   "id": "90940768-3568-4a89-950a-039638aeeff6",
   "metadata": {},
   "outputs": [
    {
     "data": {
      "text/plain": [
       "<dict_keyiterator at 0x1edb27b9710>"
      ]
     },
     "execution_count": 467,
     "metadata": {},
     "output_type": "execute_result"
    }
   ],
   "source": [
    "dict_iterator"
   ]
  },
  {
   "cell_type": "code",
   "execution_count": 468,
   "id": "3d51ac7d-7975-4b3a-8b22-281e3aedb706",
   "metadata": {},
   "outputs": [
    {
     "data": {
      "text/plain": [
       "['a', 'b', 'c']"
      ]
     },
     "execution_count": 468,
     "metadata": {},
     "output_type": "execute_result"
    }
   ],
   "source": [
    "list(dict_iterator)"
   ]
  },
  {
   "cell_type": "code",
   "execution_count": 469,
   "id": "db762bb8-fbda-492d-b898-9d8e22585ba5",
   "metadata": {},
   "outputs": [],
   "source": [
    "def squares(n=10):\n",
    "    print(f\"Generating squares from 1 to {n ** 2}\")\n",
    "    for i in range(1, n + 1):\n",
    "        yield i ** 2"
   ]
  },
  {
   "cell_type": "code",
   "execution_count": 470,
   "id": "8e594461-b79c-4e44-8993-9e63eae76e3a",
   "metadata": {},
   "outputs": [],
   "source": [
    "gen = squares()"
   ]
  },
  {
   "cell_type": "code",
   "execution_count": 471,
   "id": "f21ff74b-bbc8-47f2-a46c-3b51ccd67a4a",
   "metadata": {},
   "outputs": [
    {
     "name": "stdout",
     "output_type": "stream",
     "text": [
      "<generator object squares at 0x000001EDB2793E60>\n"
     ]
    }
   ],
   "source": [
    "print(gen)"
   ]
  },
  {
   "cell_type": "code",
   "execution_count": 472,
   "id": "53707f26-f35b-4f5a-8b4a-f9ce8914749d",
   "metadata": {},
   "outputs": [
    {
     "name": "stdout",
     "output_type": "stream",
     "text": [
      "Generating squares from 1 to 100\n",
      "1 4 9 16 25 36 49 64 81 100 "
     ]
    }
   ],
   "source": [
    "for x in gen:\n",
    "    print(x, end=\" \")"
   ]
  },
  {
   "cell_type": "code",
   "execution_count": 473,
   "id": "c5e0c992-7abc-42b4-bba3-116da5c0f145",
   "metadata": {},
   "outputs": [],
   "source": [
    "gen  = (x ** 2 for x in range(100))"
   ]
  },
  {
   "cell_type": "code",
   "execution_count": 474,
   "id": "962ed384-190f-4397-8349-407ee5601e52",
   "metadata": {},
   "outputs": [
    {
     "data": {
      "text/plain": [
       "<generator object <genexpr> at 0x000001EDB28D9BE0>"
      ]
     },
     "execution_count": 474,
     "metadata": {},
     "output_type": "execute_result"
    }
   ],
   "source": [
    "gen"
   ]
  },
  {
   "cell_type": "code",
   "execution_count": 475,
   "id": "d1a15f98-c3e5-4baf-9222-ffb7da520b3f",
   "metadata": {},
   "outputs": [
    {
     "data": {
      "text/plain": [
       "<generator object _make_gen at 0x000001EDB2686A40>"
      ]
     },
     "execution_count": 475,
     "metadata": {},
     "output_type": "execute_result"
    }
   ],
   "source": [
    "def _make_gen():\n",
    "    for x in range(100):\n",
    "        yield x ** 2\n",
    "gen = _make_gen()\n",
    "(gen)"
   ]
  },
  {
   "cell_type": "code",
   "execution_count": 476,
   "id": "b5078ec2-a75b-42e5-a979-91a0fe55be4a",
   "metadata": {},
   "outputs": [
    {
     "data": {
      "text/plain": [
       "328350"
      ]
     },
     "execution_count": 476,
     "metadata": {},
     "output_type": "execute_result"
    }
   ],
   "source": [
    "sum(x ** 2 for x in range(100))"
   ]
  },
  {
   "cell_type": "code",
   "execution_count": 477,
   "id": "278553d2-29fa-492e-b160-c4a9a6a74952",
   "metadata": {},
   "outputs": [
    {
     "data": {
      "text/plain": [
       "{0: 0, 1: 1, 2: 4, 3: 9, 4: 16}"
      ]
     },
     "execution_count": 477,
     "metadata": {},
     "output_type": "execute_result"
    }
   ],
   "source": [
    "dict((i, i ** 2) for i in range(5))"
   ]
  },
  {
   "cell_type": "code",
   "execution_count": 478,
   "id": "2f688e2a-bd6a-4632-8d34-8f0a9b76a885",
   "metadata": {},
   "outputs": [],
   "source": [
    "import itertools"
   ]
  },
  {
   "cell_type": "code",
   "execution_count": 479,
   "id": "ea6302ce-f450-4cc9-87c8-3e678bcf3f83",
   "metadata": {},
   "outputs": [],
   "source": [
    "def first_letter(x):\n",
    "    return x[0]"
   ]
  },
  {
   "cell_type": "code",
   "execution_count": 480,
   "id": "e96aa4ca-14dd-44cf-af3f-3abdc2228c3e",
   "metadata": {},
   "outputs": [],
   "source": [
    "names = [\"Alan\", \"Adam\", \"Wes\", \"Will\", \"Albert\", \"Steven\"]"
   ]
  },
  {
   "cell_type": "code",
   "execution_count": 481,
   "id": "f946fece-232b-48dc-9def-9442cc19e159",
   "metadata": {},
   "outputs": [
    {
     "name": "stdout",
     "output_type": "stream",
     "text": [
      "A ['Alan', 'Adam']\n",
      "W ['Wes', 'Will']\n",
      "A ['Albert']\n",
      "S ['Steven']\n"
     ]
    }
   ],
   "source": [
    "for letter, names in itertools.groupby(names, first_letter):\n",
    "    print(letter, list(names))"
   ]
  },
  {
   "cell_type": "code",
   "execution_count": 482,
   "id": "7f2c5ef2-8706-490d-a7f9-046990e84011",
   "metadata": {},
   "outputs": [],
   "source": [
    "# Errors and Exception Handling"
   ]
  },
  {
   "cell_type": "code",
   "execution_count": 483,
   "id": "84ced258-d008-4155-8f84-9efbdec94a99",
   "metadata": {},
   "outputs": [
    {
     "data": {
      "text/plain": [
       "1.2345"
      ]
     },
     "execution_count": 483,
     "metadata": {},
     "output_type": "execute_result"
    }
   ],
   "source": [
    "float(\"1.2345\")"
   ]
  },
  {
   "cell_type": "code",
   "execution_count": 484,
   "id": "1f3315b6-2060-4440-a708-e9af569dd7fa",
   "metadata": {},
   "outputs": [
    {
     "ename": "ValueError",
     "evalue": "could not convert string to float: 'something'",
     "output_type": "error",
     "traceback": [
      "\u001b[31m---------------------------------------------------------------------------\u001b[39m",
      "\u001b[31mValueError\u001b[39m                                Traceback (most recent call last)",
      "\u001b[36mCell\u001b[39m\u001b[36m \u001b[39m\u001b[32mIn[484]\u001b[39m\u001b[32m, line 1\u001b[39m\n\u001b[32m----> \u001b[39m\u001b[32m1\u001b[39m \u001b[38;5;28;43mfloat\u001b[39;49m\u001b[43m(\u001b[49m\u001b[33;43m\"\u001b[39;49m\u001b[33;43msomething\u001b[39;49m\u001b[33;43m\"\u001b[39;49m\u001b[43m)\u001b[49m\n",
      "\u001b[31mValueError\u001b[39m: could not convert string to float: 'something'"
     ]
    }
   ],
   "source": [
    "float(\"something\")"
   ]
  },
  {
   "cell_type": "code",
   "execution_count": 485,
   "id": "5f3afccf-04b9-4945-b49a-9e492061f549",
   "metadata": {},
   "outputs": [],
   "source": [
    "def attempt_float(x):\n",
    "    try:\n",
    "        return float(x)\n",
    "    except:\n",
    "        return x"
   ]
  },
  {
   "cell_type": "code",
   "execution_count": 486,
   "id": "dbd23ba1-376b-4e1d-9c61-927f8a897754",
   "metadata": {},
   "outputs": [
    {
     "data": {
      "text/plain": [
       "1.2345"
      ]
     },
     "execution_count": 486,
     "metadata": {},
     "output_type": "execute_result"
    }
   ],
   "source": [
    "attempt_float(\"1.2345\")"
   ]
  },
  {
   "cell_type": "code",
   "execution_count": 487,
   "id": "3ca28235-f09a-4662-b040-2a5c60ebe94a",
   "metadata": {},
   "outputs": [
    {
     "data": {
      "text/plain": [
       "'something'"
      ]
     },
     "execution_count": 487,
     "metadata": {},
     "output_type": "execute_result"
    }
   ],
   "source": [
    "attempt_float(\"something\")"
   ]
  },
  {
   "cell_type": "code",
   "execution_count": 488,
   "id": "78db2224-47fa-48dd-8951-1898821ae9c4",
   "metadata": {},
   "outputs": [
    {
     "ename": "TypeError",
     "evalue": "float() argument must be a string or a real number, not 'tuple'",
     "output_type": "error",
     "traceback": [
      "\u001b[31m---------------------------------------------------------------------------\u001b[39m",
      "\u001b[31mTypeError\u001b[39m                                 Traceback (most recent call last)",
      "\u001b[36mCell\u001b[39m\u001b[36m \u001b[39m\u001b[32mIn[488]\u001b[39m\u001b[32m, line 1\u001b[39m\n\u001b[32m----> \u001b[39m\u001b[32m1\u001b[39m \u001b[38;5;28;43mfloat\u001b[39;49m\u001b[43m(\u001b[49m\u001b[43m(\u001b[49m\u001b[32;43m1\u001b[39;49m\u001b[43m,\u001b[49m\u001b[32;43m2\u001b[39;49m\u001b[43m)\u001b[49m\u001b[43m)\u001b[49m\n",
      "\u001b[31mTypeError\u001b[39m: float() argument must be a string or a real number, not 'tuple'"
     ]
    }
   ],
   "source": [
    "float((1,2))"
   ]
  },
  {
   "cell_type": "code",
   "execution_count": 489,
   "id": "8344114a-8b8e-430e-83a7-b8fd7dfacb22",
   "metadata": {},
   "outputs": [],
   "source": [
    "def attempt_float(x):\n",
    "    try:\n",
    "        return float(x)\n",
    "    except ValueError:\n",
    "        return x"
   ]
  },
  {
   "cell_type": "code",
   "execution_count": 490,
   "id": "11691888-9f91-4bcf-8213-52bfcbc3c635",
   "metadata": {},
   "outputs": [
    {
     "ename": "TypeError",
     "evalue": "float() argument must be a string or a real number, not 'tuple'",
     "output_type": "error",
     "traceback": [
      "\u001b[31m---------------------------------------------------------------------------\u001b[39m",
      "\u001b[31mTypeError\u001b[39m                                 Traceback (most recent call last)",
      "\u001b[36mCell\u001b[39m\u001b[36m \u001b[39m\u001b[32mIn[490]\u001b[39m\u001b[32m, line 1\u001b[39m\n\u001b[32m----> \u001b[39m\u001b[32m1\u001b[39m \u001b[43mattempt_float\u001b[49m\u001b[43m(\u001b[49m\u001b[43m(\u001b[49m\u001b[32;43m1\u001b[39;49m\u001b[43m,\u001b[49m\u001b[32;43m2\u001b[39;49m\u001b[43m)\u001b[49m\u001b[43m)\u001b[49m\n",
      "\u001b[36mCell\u001b[39m\u001b[36m \u001b[39m\u001b[32mIn[489]\u001b[39m\u001b[32m, line 3\u001b[39m, in \u001b[36mattempt_float\u001b[39m\u001b[34m(x)\u001b[39m\n\u001b[32m      1\u001b[39m \u001b[38;5;28;01mdef\u001b[39;00m\u001b[38;5;250m \u001b[39m\u001b[34mattempt_float\u001b[39m(x):\n\u001b[32m      2\u001b[39m     \u001b[38;5;28;01mtry\u001b[39;00m:\n\u001b[32m----> \u001b[39m\u001b[32m3\u001b[39m         \u001b[38;5;28;01mreturn\u001b[39;00m \u001b[38;5;28;43mfloat\u001b[39;49m\u001b[43m(\u001b[49m\u001b[43mx\u001b[49m\u001b[43m)\u001b[49m\n\u001b[32m      4\u001b[39m     \u001b[38;5;28;01mexcept\u001b[39;00m \u001b[38;5;167;01mValueError\u001b[39;00m:\n\u001b[32m      5\u001b[39m         \u001b[38;5;28;01mreturn\u001b[39;00m x\n",
      "\u001b[31mTypeError\u001b[39m: float() argument must be a string or a real number, not 'tuple'"
     ]
    }
   ],
   "source": [
    "attempt_float((1,2))"
   ]
  },
  {
   "cell_type": "code",
   "execution_count": 491,
   "id": "2df546ed-0624-41f7-b943-f76e1d5ca500",
   "metadata": {},
   "outputs": [],
   "source": [
    "def attempt_float(x):\n",
    "    try:\n",
    "        return float(x)\n",
    "    except (TypeError, ValueError):\n",
    "        return x"
   ]
  },
  {
   "cell_type": "code",
   "execution_count": 492,
   "id": "8c37a315-477e-40fc-816a-ef7a4a1f3be9",
   "metadata": {},
   "outputs": [
    {
     "data": {
      "text/plain": [
       "1.2345"
      ]
     },
     "execution_count": 492,
     "metadata": {},
     "output_type": "execute_result"
    }
   ],
   "source": [
    "attempt_float(\"1.2345\")"
   ]
  },
  {
   "cell_type": "code",
   "execution_count": 493,
   "id": "52547a9e-2107-4907-be9b-37a02741d05a",
   "metadata": {},
   "outputs": [
    {
     "data": {
      "text/plain": [
       "'something'"
      ]
     },
     "execution_count": 493,
     "metadata": {},
     "output_type": "execute_result"
    }
   ],
   "source": [
    "attempt_float(\"something\")"
   ]
  },
  {
   "cell_type": "code",
   "execution_count": 494,
   "id": "a6f35dd6-17d6-46c0-8c42-edf9382ae750",
   "metadata": {},
   "outputs": [
    {
     "data": {
      "text/plain": [
       "(1, 2)"
      ]
     },
     "execution_count": 494,
     "metadata": {},
     "output_type": "execute_result"
    }
   ],
   "source": [
    "attempt_float((1,2))"
   ]
  },
  {
   "cell_type": "code",
   "execution_count": 495,
   "id": "d8903ce8-e87d-4e63-9db5-6e0ce04a8a62",
   "metadata": {},
   "outputs": [
    {
     "ename": "Exception",
     "evalue": "File `'examples/ipython_bug.py'` not found.",
     "output_type": "error",
     "traceback": [
      "\u001b[31m---------------------------------------------------------------------------\u001b[39m",
      "\u001b[31mOSError\u001b[39m                                   Traceback (most recent call last)",
      "\u001b[36mFile \u001b[39m\u001b[32mc:\\Users\\Rahul Jangid\\AppData\\Local\\Programs\\Python\\Python313\\Lib\\site-packages\\IPython\\core\\magics\\execution.py:728\u001b[39m, in \u001b[36mExecutionMagics.run\u001b[39m\u001b[34m(self, parameter_s, runner, file_finder)\u001b[39m\n\u001b[32m    727\u001b[39m     fpath = arg_lst[\u001b[32m0\u001b[39m]\n\u001b[32m--> \u001b[39m\u001b[32m728\u001b[39m     filename = \u001b[43mfile_finder\u001b[49m\u001b[43m(\u001b[49m\u001b[43mfpath\u001b[49m\u001b[43m)\u001b[49m\n\u001b[32m    729\u001b[39m \u001b[38;5;28;01mexcept\u001b[39;00m \u001b[38;5;167;01mIndexError\u001b[39;00m \u001b[38;5;28;01mas\u001b[39;00m e:\n",
      "\u001b[36mFile \u001b[39m\u001b[32mc:\\Users\\Rahul Jangid\\AppData\\Local\\Programs\\Python\\Python313\\Lib\\site-packages\\IPython\\utils\\path.py:90\u001b[39m, in \u001b[36mget_py_filename\u001b[39m\u001b[34m(name)\u001b[39m\n\u001b[32m     89\u001b[39m         \u001b[38;5;28;01mreturn\u001b[39;00m py_name\n\u001b[32m---> \u001b[39m\u001b[32m90\u001b[39m \u001b[38;5;28;01mraise\u001b[39;00m \u001b[38;5;167;01mIOError\u001b[39;00m(\u001b[33m\"\u001b[39m\u001b[33mFile `\u001b[39m\u001b[38;5;132;01m%r\u001b[39;00m\u001b[33m` not found.\u001b[39m\u001b[33m\"\u001b[39m % name)\n",
      "\u001b[31mOSError\u001b[39m: File `'examples/ipython_bug.py'` not found.",
      "\nThe above exception was the direct cause of the following exception:\n",
      "\u001b[31mException\u001b[39m                                 Traceback (most recent call last)",
      "\u001b[36mCell\u001b[39m\u001b[36m \u001b[39m\u001b[32mIn[495]\u001b[39m\u001b[32m, line 1\u001b[39m\n\u001b[32m----> \u001b[39m\u001b[32m1\u001b[39m \u001b[43mget_ipython\u001b[49m\u001b[43m(\u001b[49m\u001b[43m)\u001b[49m\u001b[43m.\u001b[49m\u001b[43mrun_line_magic\u001b[49m\u001b[43m(\u001b[49m\u001b[33;43m'\u001b[39;49m\u001b[33;43mrun\u001b[39;49m\u001b[33;43m'\u001b[39;49m\u001b[43m,\u001b[49m\u001b[43m \u001b[49m\u001b[33;43m'\u001b[39;49m\u001b[33;43mexamples/ipython_bug.py\u001b[39;49m\u001b[33;43m'\u001b[39;49m\u001b[43m)\u001b[49m\n",
      "\u001b[36mFile \u001b[39m\u001b[32mc:\\Users\\Rahul Jangid\\AppData\\Local\\Programs\\Python\\Python313\\Lib\\site-packages\\IPython\\core\\interactiveshell.py:2504\u001b[39m, in \u001b[36mInteractiveShell.run_line_magic\u001b[39m\u001b[34m(self, magic_name, line, _stack_depth)\u001b[39m\n\u001b[32m   2502\u001b[39m     kwargs[\u001b[33m'\u001b[39m\u001b[33mlocal_ns\u001b[39m\u001b[33m'\u001b[39m] = \u001b[38;5;28mself\u001b[39m.get_local_scope(stack_depth)\n\u001b[32m   2503\u001b[39m \u001b[38;5;28;01mwith\u001b[39;00m \u001b[38;5;28mself\u001b[39m.builtin_trap:\n\u001b[32m-> \u001b[39m\u001b[32m2504\u001b[39m     result = \u001b[43mfn\u001b[49m\u001b[43m(\u001b[49m\u001b[43m*\u001b[49m\u001b[43margs\u001b[49m\u001b[43m,\u001b[49m\u001b[43m \u001b[49m\u001b[43m*\u001b[49m\u001b[43m*\u001b[49m\u001b[43mkwargs\u001b[49m\u001b[43m)\u001b[49m\n\u001b[32m   2506\u001b[39m \u001b[38;5;66;03m# The code below prevents the output from being displayed\u001b[39;00m\n\u001b[32m   2507\u001b[39m \u001b[38;5;66;03m# when using magics with decorator @output_can_be_silenced\u001b[39;00m\n\u001b[32m   2508\u001b[39m \u001b[38;5;66;03m# when the last Python token in the expression is a ';'.\u001b[39;00m\n\u001b[32m   2509\u001b[39m \u001b[38;5;28;01mif\u001b[39;00m \u001b[38;5;28mgetattr\u001b[39m(fn, magic.MAGIC_OUTPUT_CAN_BE_SILENCED, \u001b[38;5;28;01mFalse\u001b[39;00m):\n",
      "\u001b[36mFile \u001b[39m\u001b[32mc:\\Users\\Rahul Jangid\\AppData\\Local\\Programs\\Python\\Python313\\Lib\\site-packages\\IPython\\core\\magics\\execution.py:739\u001b[39m, in \u001b[36mExecutionMagics.run\u001b[39m\u001b[34m(self, parameter_s, runner, file_finder)\u001b[39m\n\u001b[32m    737\u001b[39m     \u001b[38;5;28;01mif\u001b[39;00m os.name == \u001b[33m'\u001b[39m\u001b[33mnt\u001b[39m\u001b[33m'\u001b[39m \u001b[38;5;129;01mand\u001b[39;00m re.match(\u001b[33mr\u001b[39m\u001b[33m\"\u001b[39m\u001b[33m^\u001b[39m\u001b[33m'\u001b[39m\u001b[33m.*\u001b[39m\u001b[33m'\u001b[39m\u001b[33m$\u001b[39m\u001b[33m\"\u001b[39m,fpath):\n\u001b[32m    738\u001b[39m         warn(\u001b[33m'\u001b[39m\u001b[33mFor Windows, use double quotes to wrap a filename: \u001b[39m\u001b[38;5;132;01m%r\u001b[39;00m\u001b[33mun \u001b[39m\u001b[33m\"\u001b[39m\u001b[33mmypath\u001b[39m\u001b[38;5;130;01m\\\\\u001b[39;00m\u001b[33mmyfile.py\u001b[39m\u001b[33m\"\u001b[39m\u001b[33m'\u001b[39m)\n\u001b[32m--> \u001b[39m\u001b[32m739\u001b[39m     \u001b[38;5;28;01mraise\u001b[39;00m \u001b[38;5;167;01mException\u001b[39;00m(msg) \u001b[38;5;28;01mfrom\u001b[39;00m\u001b[38;5;250m \u001b[39m\u001b[34;01me\u001b[39;00m\n\u001b[32m    740\u001b[39m \u001b[38;5;28;01mexcept\u001b[39;00m \u001b[38;5;167;01mTypeError\u001b[39;00m:\n\u001b[32m    741\u001b[39m     \u001b[38;5;28;01mif\u001b[39;00m fpath \u001b[38;5;129;01min\u001b[39;00m sys.meta_path:\n",
      "\u001b[31mException\u001b[39m: File `'examples/ipython_bug.py'` not found."
     ]
    }
   ],
   "source": [
    "%run examples/ipython_bug.py"
   ]
  },
  {
   "cell_type": "code",
   "execution_count": null,
   "id": "777da3dc-0079-4342-bb50-c33efe2bb81b",
   "metadata": {},
   "outputs": [
    {
     "name": "stdout",
     "output_type": "stream",
     "text": [
      "PK\u0003\u0004\u0014\u0000\u0006\u0000\u0000\u0000!\u0000ß¤ÒlZ\u0001\u0000\u0000 \u0005\u0000\u0000\u0013\u0002[Content_Types].xml ¢\u0004\u0002( \u0000\u0002\u0000\u0000\u0000\u0000\u0000\u0000\u0000\u0000\u0000\u0000\u0000\u0000\u0000\u0000\u0000\u0000\u0000\u0000\u0000\u0000\u0000\u0000\u0000\u0000\u0000\u0000\u0000\u0000\u0000\u0000\u0000\u0000\u0000\u0000\u0000\u0000\u0000\u0000\u0000\u0000\u0000\u0000\u0000\u0000\u0000\u0000\u0000\u0000\u0000\u0000\u0000\u0000\u0000\u0000\u0000\u0000\u0000\u0000\u0000\u0000\u0000\u0000\u0000\u0000\u0000\u0000\u0000\u0000\u0000\u0000\u0000\u0000\u0000\u0000\u0000\u0000\u0000\u0000\u0000\u0000\u0000\u0000\u0000\u0000\u0000\u0000\u0000\u0000\u0000\u0000\u0000\u0000\u0000\u0000\u0000\u0000\u0000\u0000\u0000\u0000\u0000\u0000\u0000\u0000\u0000\u0000\u0000\u0000\u0000\u0000\u0000\u0000\u0000\u0000\u0000\u0000\u0000\u0000\u0000\u0000\u0000\u0000\u0000\u0000\u0000\u0000\u0000\u0000\u0000\u0000\u0000\u0000\u0000\u0000\u0000\u0000\u0000\u0000\u0000\u0000\u0000\u0000\u0000\u0000\u0000\u0000\u0000\u0000\u0000\u0000\u0000\u0000\u0000\u0000\u0000\u0000\u0000\u0000\u0000\u0000\u0000\u0000\u0000\u0000\u0000\u0000\u0000\u0000\u0000\u0000\u0000\u0000\u0000\u0000\u0000\u0000\u0000\u0000\u0000\u0000\u0000\u0000\u0000\u0000\u0000\u0000\u0000\u0000\u0000\u0000\u0000\u0000\u0000\u0000\u0000\u0000\u0000\u0000\u0000\u0000\u0000\u0000\u0000\u0000\u0000\u0000\u0000\u0000\u0000\u0000\u0000\u0000\u0000\u0000\u0000\u0000\u0000\u0000\u0000\u0000\u0000\u0000\u0000\u0000\u0000\u0000\u0000\u0000\u0000\u0000\u0000\u0000\u0000\u0000\u0000\u0000\u0000\u0000\u0000\u0000\u0000\u0000\u0000\u0000\u0000\u0000\u0000\u0000\u0000\u0000\u0000\u0000\u0000\u0000\u0000\u0000\u0000\u0000\u0000\u0000\u0000\u0000\u0000\u0000\u0000\u0000\u0000\u0000\u0000\u0000\u0000\u0000\u0000\u0000\u0000\u0000\u0000\u0000\u0000\u0000\u0000\u0000\u0000\u0000\u0000\u0000\u0000\u0000\u0000\u0000\u0000\u0000\u0000\u0000\u0000\u0000\u0000\u0000\u0000\u0000\u0000\u0000\u0000\u0000\u0000\u0000\u0000\u0000\u0000\u0000\u0000\u0000\u0000\u0000\u0000\u0000\u0000\u0000\u0000\u0000\u0000\u0000\u0000\u0000\u0000\u0000\u0000\u0000\u0000\u0000\u0000\u0000\u0000\u0000\u0000\u0000\u0000\u0000\u0000\u0000\u0000\u0000\u0000\u0000\u0000\u0000\u0000\u0000\u0000\u0000\u0000\u0000\u0000\u0000\u0000\u0000\u0000\u0000\u0000\u0000\u0000\u0000\u0000\u0000\u0000\u0000\u0000\u0000\u0000\u0000\u0000\u0000\u0000\u0000\u0000\u0000\u0000\u0000\u0000\u0000\u0000\u0000\u0000\u0000\u0000\u0000\u0000\u0000\u0000\u0000\u0000\u0000\u0000\u0000\u0000\u0000\u0000\u0000\u0000\u0000\u0000\u0000\u0000\u0000\u0000\u0000\u0000\u0000\u0000\u0000\u0000\u0000\u0000\u0000\u0000\u0000\u0000\u0000\u0000\u0000\u0000\u0000\u0000\u0000\u0000\u0000\u0000\u0000\u0000\u0000\u0000\u0000\u0000\u0000\u0000\u0000\u0000\u0000\u0000\u0000\u0000\u0000\u0000\u0000\u0000\u0000\u0000\u0000\u0000\u0000\u0000\u0000\u0000\u0000\u0000\u0000\u0000\u0000\u0000\u0000\u0000\u0000\u0000\u0000\u0000\u0000\u0000\u0000\u0000\u0000\u0000\u0000\u0000\u0000\u0000\u0000\u0000\u0000\u0000\u0000\u0000\u0000\u0000\u0000\u0000\u0000\u0000\u0000\u0000\u0000\u0000\u0000\u0000\u0000\u0000\u0000\u0000\u0000\u0000\u0000\u0000\u0000\u0000\u0000\u0000\u0000\u0000\u0000\u0000\u0000\u0000\u0000´ËnÂ0\u0010E÷ú\u000f·Ubè¢ª*\u0002>-Ré\u0007\u0018{\u0002VýÇ¼þ¾\u0013\u0002QU\u0001\n",
      "\n",
      "l\"%3÷Þ3VÆÑÚl\t\u0011µw%ë\u0017=^i7+Ù×ä-d\u0019&á0ÞAÉ6l4¼½\u0019L6\u00010#µÃÍS\n",
      "\n",
      "O£\u0015Xø\u0000*V$z3\u001e\n",
      "ü\u00163à÷½Þ\u0003Þ%p)Oµ\u0007\u001b\u000e^ \u0012\u000b\n",
      "²×5}nH\"\u0018dÙsÓXgL`´\u0014ê|éÔ|PrÛs\u001d\n",
      "ð\u001a\u0018?PW\u0007ìt\u001ft4Q+ÈÆ\"¦wa©¯|T\\y¹°¤,NÛ\u001c\n",
      "àôU¥%´úÚ-D/\u0001ÎÜ¢­X¡Ýÿ(\u0007¦\u0001¼<EãÛ\u001d\n",
      "\u000f)à\u001a\u0000;çN\u0015L?¯FñË¼\u0013¤¢Ü\u001a¸<FkÝ\th\u0003¡yöÏæØÚ¤Îqô\u0001i£ã?ÆÞ¯l­Îià\u00001éÓ]HÖgÏ\u0007õm @\u001d\n",
      "ÈæÛûmø\u0003\u0000\u0000ÿÿ\u0003\u0000PK\u0003\u0004\u0014\u0000\u0006\u0000\u0000\u0000!\u0000\u001e\n",
      "\u001a·ï\u0000\u0000\u0000N\u0002\u0000\u0000\u000b\n",
      "\u0002_rels/.rels ¢\u0004\u0002( \u0000\u0002\u0000\u0000\u0000\u0000\u0000\u0000\u0000\u0000\u0000\u0000\u0000\u0000\u0000\u0000\u0000\u0000\u0000\u0000\u0000\u0000\u0000\u0000\u0000\u0000\u0000\u0000\u0000\u0000\u0000\u0000\u0000\u0000\u0000\u0000\u0000\u0000\u0000\u0000\u0000\u0000\u0000\u0000\u0000\u0000\u0000\u0000\u0000\u0000\u0000\u0000\u0000\u0000\u0000\u0000\u0000\u0000\u0000\u0000\u0000\u0000\u0000\u0000\u0000\u0000\u0000\u0000\u0000\u0000\u0000\u0000\u0000\u0000\u0000\u0000\u0000\u0000\u0000\u0000\u0000\u0000\u0000\u0000\u0000\u0000\u0000\u0000\u0000\u0000\u0000\u0000\u0000\u0000\u0000\u0000\u0000\u0000\u0000\u0000\u0000\u0000\u0000\u0000\u0000\u0000\u0000\u0000\u0000\u0000\u0000\u0000\u0000\u0000\u0000\u0000\u0000\u0000\u0000\u0000\u0000\u0000\u0000\u0000\u0000\u0000\u0000\u0000\u0000\u0000\u0000\u0000\u0000\u0000\u0000\u0000\u0000\u0000\u0000\u0000\u0000\u0000\u0000\u0000\u0000\u0000\u0000\u0000\u0000\u0000\u0000\u0000\u0000\u0000\u0000\u0000\u0000\u0000\u0000\u0000\u0000\u0000\u0000\u0000\u0000\u0000\u0000\u0000\u0000\u0000\u0000\u0000\u0000\u0000\u0000\u0000\u0000\u0000\u0000\u0000\u0000\u0000\u0000\u0000\u0000\u0000\u0000\u0000\u0000\u0000\u0000\u0000\u0000\u0000\u0000\u0000\u0000\u0000\u0000\u0000\u0000\u0000\u0000\u0000\u0000\u0000\u0000\u0000\u0000\u0000\u0000\u0000\u0000\u0000\u0000\u0000\u0000\u0000\u0000\u0000\u0000\u0000\u0000\u0000\u0000\u0000\u0000\u0000\u0000\u0000\u0000\u0000\u0000\u0000\u0000\u0000\u0000\u0000\u0000\u0000\u0000\u0000\u0000\u0000\u0000\u0000\u0000\u0000\u0000\u0000\u0000\u0000\u0000\u0000\u0000\u0000\u0000\u0000\u0000\u0000\u0000\u0000\u0000\u0000\u0000\u0000\u0000\u0000\u0000\u0000\u0000\u0000\u0000\u0000\u0000\u0000\u0000\u0000\u0000\u0000\u0000\u0000\u0000\u0000\u0000\u0000\u0000\u0000\u0000\u0000\u0000\u0000\u0000\u0000\u0000\u0000\u0000\u0000\u0000\u0000\u0000\u0000\u0000\u0000\u0000\u0000\u0000\u0000\u0000\u0000\u0000\u0000\u0000\u0000\u0000\u0000\u0000\u0000\u0000\u0000\u0000\u0000\u0000\u0000\u0000\u0000\u0000\u0000\u0000\u0000\u0000\u0000\u0000\u0000\u0000\u0000\u0000\u0000\u0000\u0000\u0000\u0000\u0000\u0000\u0000\u0000\u0000\u0000\u0000\u0000\u0000\u0000\u0000\u0000\u0000\u0000\u0000\u0000\u0000\u0000\u0000\u0000\u0000\u0000\u0000\u0000\u0000\u0000\u0000\u0000\u0000\u0000\u0000\u0000\u0000\u0000\u0000\u0000\u0000\u0000\u0000\u0000\u0000\u0000\u0000\u0000\u0000\u0000\u0000\u0000\u0000\u0000\u0000\u0000\u0000\u0000\u0000\u0000\u0000\u0000\u0000\u0000\u0000\u0000\u0000\u0000\u0000\u0000\u0000\u0000\u0000\u0000\u0000\u0000\u0000\u0000\u0000\u0000\u0000\u0000\u0000\u0000\u0000\u0000\u0000\u0000\u0000\u0000\u0000\u0000\u0000\u0000\u0000\u0000\u0000\u0000\u0000\u0000\u0000\u0000\u0000\u0000\u0000\u0000\u0000\u0000\u0000\u0000\u0000\u0000\u0000\u0000\u0000\u0000\u0000\u0000\u0000\u0000\u0000\u0000\u0000\u0000\u0000\u0000\u0000\u0000\u0000\u0000\u0000\u0000\u0000\u0000\u0000\u0000\u0000\u0000\u0000\u0000\u0000\u0000\u0000\u0000\u0000\u0000\u0000\u0000\u0000\u0000\u0000\u0000\u0000\u0000\u0000\u0000\u0000\u0000\u0000\u0000\u0000\u0000\u0000\u0000\u0000\u0000\u0000\u0000\u0000\u0000\u0000\u0000\u0000\u0000\u0000\u0000¬ÁjÃ0\f\n",
      "@ïýÑ½QÚÁ\u0018£N/cÐÛ\u0018Ù[IL\u0013ÛØj×þý<ØØ\u0002]éaGËÒÓÐzsFuà]ð\u001aU\n",
      "\n",
      "½\tÖù^Ã[û¼x\u0000\n",
      "¼¥1xÖpâ\f\n",
      "æöfýÊ#I)ÊY\u0015Ï\u001a\u0006øÍÀ\u0013å*Döå§\u000b\n",
      "i\")ÏÔc$³£qU×÷~3 1ÕÖjH[{\u0007ª=E¾\u001d\n",
      "ºÎ\u0019~\n",
      "\n",
      "f?±3-ÂÞ²]ÄTê¸2j)õ,\u001al0/%b¬\n",
      "\n",
      "\u001að¼Ñêz£¿§Å\n",
      ",\t¡\t/û|f\\\u0012Zþçæ\u0019?6ï!Y´_áo\u001b]Aó\u0001\u0000\u0000ÿÿ\u0003\u0000PK\u0003\u0004\u0014\u0000\u0006\u0000\u0000\u0000!\u0000\"L¸Ç#\t\u0000\u0000 %\u0000\u0000\u0011\u0000\u0000\u0000word/document.xmlÌZÛrã6\u0012}ßªý\u0007^cY¤îvÅÎmyâÝL7Ô<C$D\"\u0002\t\u0006\u0000%kj\u001fò\u0011û²¿/ÙÓ\u0010u³ì\t-9ÉLÕW\u001c\n",
      "4úrº\u001bô·ß=fÍ±Rç\u0017ð4h0G:yrÑøéãmsØ`Öñ<æJçâ¢±\u0010¶ñÝåßÿöíü<ÖQÜ1@äö|^D\u0017Ô¹â¼Õ²Q*2nO3\u0019\u0019mõÄF:kéÉDF¢5×&nµ0ðg\n",
      "Ñ°\u0016ó]ó|Æm£\u001e\n",
      "ë¡ÅÏ1\u0000»­(åÆÇ\n",
      "\n",
      "Føj^ë¬5Ü\u0007j\u001f\u0000\u0015¶Ã}¨Î«¡ú-j\u000f¨{\u0010\u0010¤ÚCê\u001d\n",
      "ôÌâú!µ÷\u0006!uö!í¹S¶ïàº\u00109\u001e\n",
      "N´É¸Ã¥IZ\u00197Ó²h\u0002¸àN¥n\u0001Ì ¿á2\u001e\n",
      " \u0011F­\u0011²NüjA+Ó±Px\n",
      "¢/\u001a¥ÉÏ«ñÍõx\u0012ý|9¾:¬UoZLwÖ\u0012NY·\u001akêèn9ü¦\"\u0016¯µ\u0011\n",
      "\n",
      "zÔ¹Me±fìP4<LW ³/)`©Õ{ó\"¬\u0019j/QÛÍÒ\f\n",
      "\u001bÀ:âW¶ËÔRò/#A\n",
      "\n",
      "k\u0012ÄzD\u001d\n",
      "\u0011vç\\IÁ7\u0013\u001f¤-å5Ég\u0005ÐÞ\u0003èG¢f²Xa\f\n",
      "+V´nÂ5Ãj\n",
      "³´\n",
      "\n",
      "áÈbÃ\u001c\n",
      "øT-¸|\u0015D»³\u000e4|\u000b\n",
      "ËÆ.N_\u0007·²QÆrÇSn×A³DÔ$\u0015bw\u000b\n",
      "qé`JGk>#Lñ:¥õÖlËEr\\ ¾7º,6hò8´»\n",
      "\n",
      "eÏ©xz\u0005V\u0015ðÛ$d\u0013æ!å\u0005<Îï\\\u001b>VáË\u0010Ì[~áÈtð§âÑß'ÿ©N&Nâ\u0011%6.Q\u0004u¼ c\u0007Ýó\u001b~\u0018ê\f\n",
      "\u0007íÞÍU»áï\"\n",
      ":º\u001bvÂw×Ýa\u000fwÏQpÆ?^4\u0002Äsïzt»¾uo¹y#&¼TnÿÉýÖ-Âø{\u0018·üïµÅ±µ¾ë.äi©Ø?yÈ\u001e\n",
      "¸åc?òY)<©PÖ³ø²÷Ü\u0016<\u001a\u000b\n",
      "#¬03Ñ¸\u001c\n",
      "ôïNØ\u0013\\\u0018AOFàÝ¢Àû¶\u0010J=8T\u0017\n",
      "\n",
      "/e%\n",
      "úì\u001c\n",
      "Ù®ÖøQ\u001e\n",
      "o~^\u001e\n",
      "\"$=X )7ù[\n",
      "\n",
      "s \u00183BìíÄ8X\u001d\n",
      "©\u0010\u0017¥á_,üçL¼¡NÑ<>AXH¬ï°¸ì ´Ã£ \f\n",
      "\n",
      "¨ûÜný#A±¡Þj\u0003¾´Àÿ<Õt5Ù7g!;ëwúv\u001f£ä\u000e:Í0hbù½\u001d\n",
      "\u0018ü\u0016Þ<;\u001c\n",
      "\u0019öa/\u0018v9rPýû\u00039òÅ%ý\u000eq~/\n",
      "\n",
      "û(x}cx-Ñ»7BÉ0\u000b\n",
      "ö½0=^p%ù\t{/P>ä\u001a\u001a\u001e\n",
      "Ý^«³¯GÃ¤\u0007nØ&Oj¬£7h\u000fà]¸»îMp{s=ØÈ÷g®ãù\u0018»c<câ1NÄÌiÆB-\u0018ê=æR±\u0017~úáUr\u00065\n",
      "\n",
      "{sµ°îhf(´Ôa2îÞLÈ\u001d\n",
      "?VÂSöIºi\u0000¾@b.5B\u001c\n",
      "­\u0005Ó2=\n",
      "\n",
      "\u000b\n",
      "a¤È#Áá¹¥\u000e\u001c\n",
      "\u000e;^i>\u0017\"¶Læ°1õ\u0007ÍØ`±9³xÙD\n",
      "\n",
      "{Âî~ûõ\u0019£\u001e\n",
      "6'WØÑ\u0007\u001e\n",
      "Y(=æ\n",
      "\n",
      "Þ¡]pp'lÂ­kP1à ¥\u0011'ç1Î²LZÚ¢$¨x\t\u0005_ãIª°\u0016¦\u000b\n",
      "ñã\u0005s\"Js­t²8­\u0011cÁ¨{{Û\n",
      "\n",
      "pE0ºißÞ^õ¿¦\u0018ËY¶`¸I]Z¤m%\u0018·³§a\u0001ó<\u001bvKù¥Ñ!¯¢÷\u001c\n",
      "+\"§\n",
      "\n",
      "¬ÎÐtLÉhLlsRæ\u0011E\u0016Wà\u0001\u000e\u000e\u0002Î\u0003\u000b\n",
      "fD¡÷ªªE!§Ñ\n",
      "ü,`ë4Dc\"Ox\"ü6s&­|\"Æ-9Y°Äè9ÅFApe@\u001b \u001c\n",
      "t¤p\u0015Q4cx\u000b\n",
      "ÆR=\n",
      "ãR*çQh'Ãá?\u0004Æ\t;Hcô»cÍ÷ñ7£Ôrñòh]ào%Ó\u000fZO¡å\u0007WÆòh:aóTF)\u0013Ù:\f\n",
      "W>é`vK\u001e\n",
      "i\ta*\u0016ì_÷w^Áð\tÅ`xqÊ~¢NõÍV÷ðï\u001fþ\u0010m×ú½Ö\t\"ó\u0001-³õ\n",
      "¸¤\u0010t\u001e\n",
      "\u0011åPÇM§8¬\u001d\n",
      "ø·_ÿ;1:c¿`SRâ&!uÜbª-¤ä?8\u001e\n",
      "\u0014meÒ\u001b)ò\\,\n",
      "\n",
      "B\u0016Q)3Äß\f\n",
      "si°¨ßh\n",
      "1\u0004m%\u0010¥.üú×Ñh£°Óy\u001d\n",
      "Jm_÷Âë^p³K©½«aotÓ¥­¯\n",
      "R?Be\u000b\n",
      "\u0012\n",
      "\n",
      "¸b¬K·±´>\n",
      "\n",
      "` x\u0006}B-Hoå©6âÄãdçÄ18Öoá&A½\u0017\u0010\u001b³Að\n",
      "\n",
      "|«ÌA£X(b\u0015SÒÇ>4´\t½&ó\\Ï¼\u000b\n",
      "P%$üâ\u0015\u000eH\u0013JÔpµ%b<^ä<\u0011ÆÏ¤Ñ9\u00114A\"ê\u0019NVÇ¼p|ùý£âì\f\n",
      "R:húËÜ\u001fOÙ\u0007ÊgzíqsªuÈáËZY¦äôù,öçrÛ\u0001\u0012¼\u0011ã/µG¬4Íõ\\\u00181ÿþw¿p©Î&K[ú4l©D©Lïû\u0012ôÊÐ¯a¢ôÜú\u0015­\n",
      "\n",
      "9r~OQV«Òêa\\É²²÷\n",
      "u\u0016I4W¶\u000eõôAØ\u001b\u0005]êùK;¿ç5öAS¡Òx\u000e:&ú\u001f{æF©¤ß0\u0015®uÈý×°£-í©\u0015|Yû\u0016\u001a\u0005ÚÛ'é}øúþ`Õ\u0013D,çøhæë3NõéD¾ÇE$\t\u0007ÕÙ§T h5 [ß$XèF¡Ì#Lú¢ªÄã&ÕaÒH+¸®xÎ{u|*R­ba|64bBõ¦ÏNÂÕ\u001e\n",
      "ÿ,|¡Gm\n",
      "\n",
      "ã2óIÓÓ[&¸-ýÞ8qH·®$lXåÐ:.Ø\u001d\n",
      "\f\n",
      "þ¨CÝ_Íæ\u0003Uç¥BT\t\u0005eÒâÄVáìCué|\u0014¾\u001b}Ù©Tø\u0015ËyÛæU\u0004bÖ©\u0003 \u000b\n",
      "¤\u0014_ò² ø)Ýðï£²hËÒæ(`ÜÈ\u000f£\u0014£@ØôÚ\u001c\n",
      "7ÁxèÍmõ\u0011ø.\u0016Å/\u0012S=§Zç6.A0Ïvô\\æ%è¤j\u0016h\u0019ÈbÔuÔ*dzap=ê\u000ewMÙï^w»W\u001d\n",
      "ºû\u0017ò\u00137\u0019\\;¡&ew\u000féKãö7-6^üXòÓ·ÁíY\u001d\n",
      "§?;ëÂîsJ©x¨¯¼_¯gë©;yøGóF\u0018ÑßWÌÏS¿¯\n",
      "\n",
      "£øÑEòÓ`§\u000b\n",
      "Üïv\u0003?\u001d\n",
      "Eðær¬\u001d\n",
      "ÓæZÉÖÓTp¸+\u0010x;ÓfÅÖeR:\u0019,§¨Z¯ÈÞñ·c\u001d\n",
      "½7ôYí\u001aß{é\"HÙéûA­Õ\u0012ýéòcZkó§Uÿ\u0007\u0000\u0000ÿÿ\u0003\u0000PK\u0003\u0004\u0014\u0000\u0006\u0000\u0000\u0000!\u0000Öd³Qô\u0000\u0000\u00001\u0003\u0000\u0000\u001c\n",
      "\u0001word/_rels/document.xml.rels ¢\u0004\u0001( \u0000\u0001\u0000\u0000\u0000\u0000\u0000\u0000\u0000\u0000\u0000\u0000\u0000\u0000\u0000\u0000\u0000\u0000\u0000\u0000\u0000\u0000\u0000\u0000\u0000\u0000\u0000\u0000\u0000\u0000\u0000\u0000\u0000\u0000\u0000\u0000\u0000\u0000\u0000\u0000\u0000\u0000\u0000\u0000\u0000\u0000\u0000\u0000\u0000\u0000\u0000\u0000\u0000\u0000\u0000\u0000\u0000\u0000\u0000\u0000\u0000\u0000\u0000\u0000\u0000\u0000\u0000\u0000\u0000\u0000\u0000\u0000\u0000\u0000\u0000\u0000\u0000\u0000\u0000\u0000\u0000\u0000\u0000\u0000\u0000\u0000\u0000\u0000\u0000\u0000\u0000\u0000\u0000\u0000\u0000\u0000\u0000\u0000\u0000\u0000\u0000\u0000\u0000\u0000\u0000\u0000\u0000\u0000\u0000\u0000\u0000\u0000\u0000\u0000\u0000\u0000\u0000\u0000\u0000\u0000\u0000\u0000\u0000\u0000\u0000\u0000\u0000\u0000\u0000\u0000\u0000\u0000\u0000\u0000\u0000\u0000\u0000\u0000\u0000\u0000\u0000\u0000\u0000\u0000\u0000\u0000\u0000\u0000\u0000\u0000\u0000\u0000\u0000\u0000\u0000\u0000\u0000\u0000\u0000\u0000\u0000\u0000\u0000\u0000\u0000\u0000\u0000\u0000\u0000\u0000\u0000\u0000\u0000\u0000\u0000\u0000\u0000\u0000\u0000\u0000\u0000\u0000\u0000\u0000\u0000\u0000\u0000\u0000\u0000\u0000\u0000\u0000\u0000\u0000\u0000\u0000\u0000\u0000\u0000\u0000\u0000\u0000\u0000\u0000\u0000\u0000\u0000\u0000\u0000\u0000\u0000\u0000\u0000\u0000\u0000\u0000\u0000\u0000\u0000\u0000\u0000\u0000\u0000\u0000\u0000\u0000\u0000\u0000\u0000\u0000\u0000\u0000\u0000\u0000\u0000\u0000\u0000\u0000\u0000\u0000\u0000\u0000\u0000\u0000\u0000\u0000\u0000\u0000\u0000\u0000\u0000\u0000\u0000\u0000\u0000\u0000\u0000\u0000¬ËjÃ0\u0010E÷\n",
      "þ}-;}PBälJ!ÛÖý\u0000E\u001e\n",
      "?¨,\tÍôá¿¯HIëÐ`ºðr®sÏ6ÛÏÁwÔ{§ Èr\u0010è¯{×*x©\u001e\n",
      "¯îA\u0010kWkë\u001d\n",
      "*\u0018`[^^lÐjNKÔõD¢8RÐ1µd:\u001c\n",
      "4e> K/æ4ÆV\u0006m^urçw2N\u0019P0Å®V\u0010wõ5j\f\n",
      "ø\u001f¶oÞà7o\u0003:>S!?pÿÌé8JX\u001d\n",
      "[d\u00050KDçEVKÐ\u001fc2§P,ªÀ£Å©Àa«¿]²Ó.þ¶\u001fÆï°s¸YÒ¡ñ+½·\u0013è(!O>zù\u0005\u0000\u0000ÿÿ\u0003\u0000PK\u0003\u0004\u0014\u0000\u0006\u0000\u0000\u0000!\u0000gü´Î\u0006\u0000\u0000Í \u0000\u0000\u0015\u0000\u0000\u0000word/theme/theme1.xmlìYÍ\u001b7\u0014¿\u0017ú?¹;\u001e\n",
      "¿x?³Mv%ë¤ä(ÛòÖÑ É»1!PS/\n",
      "BZz)ôÖC)\n",
      "\n",
      "4ÐÐKÿ\n",
      "6ý#*ilÏÈÖtó±¡¡ì\u001aÖ#é÷~zïééYsõÚ\u0013Ä8¦QË)]q\u001d\n",
      "¢1àÈo9wBÃ\u0001\\Àh\u0002\tPËY î\\Ûýô«pG\u0004(D@ÊG|\u0007¶@x§XäcÙ\n",
      "\n",
      "ù\u0015\u001a£HM)\u000b\n",
      "¡Mæ\u0017'\f\n",
      "J½!)z®[+\u0010G\u000e`(ÕÞNñ\u0018¡Réì®÷ü\u0017\t®:Æ\u001d\n",
      ")ÕÈÐØÉ¬¤¾øw\t\u0003'´\u001c\n",
      "9Ï\u000eÑ\u0003á\u0000\u0002¹\u0003-ÇÕNq÷jq-DDlFn ÿrKÉÌÓrÌ\u001f­\u0005Ý¾×¨Öú5m\\¿¡>k}\u001a\u0000Çc¹ÒK\u0016[ªÖÜ·Äf@É£Ew³^*øþò¶þf­ãU\f\n",
      "¼\u0006%í5\u000eý^ÕÀkPòXÝÂ·]¯Ó,\u001bx\n",
      "\n",
      "J\u001e\n",
      "k[øJ¿]÷ú\u0006^\u0002£Ù6ºVo4jKô\u001a2¥dÏ\n",
      "\n",
      "oÖjn½·§¨b&º\u0012ùHäÅ)\u001bHv.\u00148\u0002b\u0011£)\u001c\n",
      "K\\;\u0016\u001e\n",
      "æ1\u000b\n",
      "\u0007Ä0¢\\v»^©$\u0003¯âzë¶8ÜA0#tùVâ\u0003øáX´\u001bR«¼|ñâìñó³Ç¿=yröø\u0017°ý@Xäö`ägå^ÿøõßß\u0001þúõ×O¿±ãy\u0016ÿêç/_ýþÇ¿©\u0017\u0006­o½zþìåw_ýùÓS\u000b\n",
      "¼Íà(\u000b\n",
      "\u001fâ\u0010qp\u000b\n",
      ";4\u000b\n",
      "´LFìí$\u0001ÄYväs\u0018A%cA÷E` o- \u0016\\\u0007v¼Çdº°\u0001¯Ï\n",
      "\n",
      "ÂG\u0001\u000b\n",
      "l\u0001Þ\f\n",
      "B\u0003x@)éPf]ÓM5WÖ\n",
      "\n",
      "óÈ·OÎæYÜOlsw7¼ÜÇ2î±Me7@\u0006ÍC\"]\u000e}\u0014!\u0001Ô\u0018!d\u0011»±a×\u0003<fÓ©\u0000÷1è@l5É\u0010hJ\n",
      "öp(ý²°\u0011þ6lsp\u000ft(±©ï¡\u0013\u0013)÷\u0006$6\u0018f¼\u000eç\u0002VÆ0$Yä>\u0014äÑ\n",
      "\n",
      "s!=í#BA8·ÉÜf\u000b\n",
      "îM(óÕí\u0007d\u0011H&ðÌÜf=:ë\u00060­q\u0014d±ñ\f\n",
      "\u000e©° æ\u000eQmé\u0007\u0018åºû\u001e\n",
      "F»ÏßÛwe\u001a²\u0007\u001a3Û@ÔÜ\u000b\n",
      "2\n",
      "È¦¼ÍB#Å¶\u0019¶FGgî\u001b¡½\u0010§p\u0010¸û\n",
      "\n",
      "OcÃæ)é\u001bÌ*{Èf\u001bÐUÕ\u0010µ*n,ÅÙ#äÓ\u001c\n",
      ">\u0007Ä³Yæ[33dú#&7£-^Éxf¤RÌÔ¦µ¸ÍCc}¹Z\u000f\u0003hjs{¼.á¿7ÙcRæø\u001d\n",
      "dÐ[ËÈÄþÆ¶\u0019BbL\u0006Ì\u0010b°oK·RÄp*¢¶\u0016[å¦æ¦MÝPÜ(zB\u001c\n",
      "S\u0001ý7Eâbj\u001e\n",
      ";ð}ª¼²Yãäá6+.e\u0013üñ\u00176=8\u000e<K,ÐËºæ²®ùß×5yûù²¹¬f.«\u0019»È\u0007¨fÒ\u0002F_\u0003­.{´0÷æg\t9\u0012\u000b\n",
      "ö¹.}¸ÜûìÔ\n",
      "\n",
      "-´¾h\u0003ù¸ÎÀù\f\n",
      "êgÀ¨ø\u001c\n",
      "à(±¦¤gðùRµÏAL¹,t·U·\u001a óðN÷xªÎÒwR\u0000´ß­®ûe©&ÞZ=]«×-__¶(Ù·!Ì$Q¶¨¯:Ï!¡Wv!,\u0016\u0016\n",
      "\n",
      "¥>\n",
      "þZzE\u001e\n",
      "N\u0000ªkñj%a$ÃMôDù)_y÷Â=gLsÙeyMÅõb<mÈI\"\u0013<<6»/Ø×ÍÔ¥\u0006=em\u001aõÆðµJ\"\u001b¹Df\u000b\n",
      "Ê=W®J5c\u0018·©üÙ$\u001fÃXêã*SAâG-g,~Ì\u00123.z\u0007\tL\u000f%ë\u000f±@\f\n",
      "\u0010\u001c\n",
      "ÊXÏºD)·WWküHÉ5ÝÏrú+ëd4¢±ÈéIr,Qb\u001d\n",
      "}O°jÐ¹$}\u0014LNÁÌÙ\u001d\n",
      "(\n",
      "\n",
      "U­\u0001'µ5'e;µâFºZnEã\n",
      "\n",
      "PºE!\u0003¸<Q²É<ëç5Ì:4ÓÍUíåbF¾rÒ{ºç\u000b\n",
      "©LÒÌ9@Ô©iÏ\u001f\u001fîÏ°Jó¾Á*IÝ¹®¹Êuy§Äû\u0019jéd\u00065ÅØB-í5©]`An\u001d\n",
      "ygÄE\u0006Q«\u000eU]©[[/·éèXF~OV«s\"¸¦*µ0Ø]½L2î]e\u0007\u0002Ì\u0019n9\u000fÝj»ÒõªÝÛ¨ö\u000b\n",
      "rÅ-4ªír¡]­KýjÉíu¼GÒ(KÕdîü±O\u0016Ëw÷ºëý}¸*µ¯iX¤º\u000e.jaýþ¾äå¿¿\u0007XZæaÍ\u001b4ËÍN­Ð,·\u0007\n",
      "J¯Ó(4»µN¡WëÖ{^·Úh\u000e\u001e\n",
      "9àD+ír·Rë7\n",
      "\n",
      "µR·[¨Ô\\E¿Ñ,Ô+×®ÔÛ~¥ýhik¹òÕ÷Ê¼×î?\u0000\u0000\u0000ÿÿ\u0003\u0000PK\u0003\u0004\u0014\u0000\u0006\u0000\u0000\u0000!\u00008Äç\u0018S\u0004\u0000\u0000Î\f\n",
      "\u0000\u0000\u0011\u0000\u0000\u0000word/settings.xml´WmoÛ6\u0010þ>`ÿÁÐç9²Þ\u001c\n",
      "[¨S$N¼¤Û¡Î°ÏHYDHQ );î°ÿ¾#%ZJ\u0013\u0014q @DÝs÷Üñx¼?||âl´#RQQ-¼àlâH\u000b\n",
      "L«íÂûûa5y#¥Q\n",
      "\u0011\u0013\u0015Yx\u0007¢¼\u0017¿ÿöa*¢5¨©\u0011PT*åùÂ+µ®SßWyI8Rg¢&\u0015\n",
      "\u001c\n",
      "ix[#ùØÔã\\ð\u001aiQFõÁ\u000f'©×Ñ\n",
      "×È*í(ÆæR(Qhc¢ 9é\u001e\n",
      "ÎB¾Åokr-òJ[¾$\f\n",
      "b\u0010*i­\u001c\n",
      "\u001bÿY6\u0000KG²ûÑ&v9½}0yÃv÷Bâ£Å[Â3\u0006µ\u00149Q\n",
      "\n",
      "\u000e3\u0017 ­zÇñ\u000b\n",
      "¢£ï3ðÝmÑRy0±«aäÉi\u0004á\u000b\n",
      "iNNãu\u001c\n",
      ">X\u000ey(>gzä¡}béÏ\u00053 ÀÍI\u0014aäâ0\u000fc>àRXãò4:wF¾±E\u001aH\u001d\n",
      "+²e,Øiñ±-0&òÇ!'9-iÉðÀû3T/Ãz¥ª[èf\u0012É¶gt%Íóôn[\t2\u0006á@i :G6:ó\u001f\u000eÙ<ì<Y¹Ém·(Y@ê/ ¥}\u0013öiMd\u000e÷\u001aúádâù\u0006Û$F\u001a\u0018SU\u0013ÆlÌ\u0019A\u0010À>ÝJÄ¡µ9µÁ¤@\n",
      "\n",
      "Ó\u000f(ÛhQÒ\u000eÁ>ÏÃ2/D¹&rS£\u001c\n",
      "Ø¢ÒR0§Åg¡Ð&%ÜâÎÂ6Í~µi\u001b0XTÃÎ5ÕµÀÄDÖHúö#2\u0006Ö{\f\n",
      "]~ïHÀÀ\u0014\u0007ñ>0²à7ô\u001b¹¬ð§Fi\n",
      "\n",
      "¶µþB\u0004?\n",
      "\n",
      "TÆó\u0017¨CMV\u0004é\u0006ÒôNÎìI¬\u0018­×TJ!ï*\f\n",
      "µñnÎhQ\u0010\t\u000e(ÔÚ\u001aÊJ±·y¾Ã~'¿\"ÿ2\\Ñè\u0001ÊòñJh-øí¡.!×¿v¶ÞýaùÂ×\u0006Vnñ}T\n",
      "9,oVm¤\u0006}\u000b\n",
      "\u0012_%Ñå«Èì|2[^¾ÌçÑM\u0010¿¬VQ8µ§fºÿ%ÝÊû·\u0016KÄ3IÑhmæ¿o42ùxE+g\u0004\u0018\u0019\"&sàxÜ\u0002#ÆVx\u0007Ø¤ñ\u0014SU_Â®Ù\u001aÉmÏÛiÈW¥Ð{>\u001d\n",
      "¹L/#òO)ºE÷\u0012Õm\u0019; ;KZé{Ê\\5ÙÆYUÐv\u0007PSá/;ióÔ§gj(\u000b\n",
      "Û\u000eî-/«KªñÝç®üÜÒ!kT×m\u0005fÛ`á1º-u`FÃ\u001bÏDûmÃ\u000e\u000b\n",
      "-\u0016¶}A¹Ù\u0019hw^\u0016:Ù@/r²¨ÅN\u0016÷²ÄÉ^6u²©Ðs$\f\n",
      "G¸\f\n",
      "niä\n",
      "`Lì\t¾íñ\u0017¢6\tªD5¹nç\u0003h\u0005ÝÀP£]J`ú\u0010L5|}×\u0014sôdQ85æ6C\u0007Ñègº\u00063Êõs\u0006ó-Ð]ÿ±-ñïb1s+§P\u0003ÏúqtÖ\u0006Î¨ÖQÃäÒB:ì\u000f\u0005qE~gfmÜ\u0015Õ</Ë\u0016NìÄÓ¶»À¹%Å\u0015R\u0004w3MZÓÃ`6]F«óñ\u001c\n",
      "¶=Ãx>%Óù\u0018î-üÝ,£Y4ÿ¯»¤îÈÅÿ\u0000\u0000\u0000ÿÿ\u0003\u0000PK\u0003\u0004\u0014\u0000\u0006\u0000\u0000\u0000!\u0000\u0013T¬l\n",
      "\n",
      "\u0010\u0000\u0000ù¦\u0000\u0000\u000f\u0000\u0000\u0000word/styles.xmlì]msH\u0012þ~U÷\u001f(ºûµõbÙq­wËvë¬7vn?`d±F \u0003\u0014ÇûëoÞ@#5è¡­õ¦®R\u0015K@?3ÌÓO3Ý æÇ¿-à+Ï8KÏ\u000f\u0006?\u001c\n",
      "\u001d\n",
      "\u0004<\n",
      "\n",
      "³(NïÏ\u000f¾Ü½{uz\u0010\u0014%K#d)??xâÅÁÏ?ýýo?>\u0015åSÂ@\u0000¤ÅÙ\"<?åòìðç|Á\u001f²%OÅÎY/X)¾æ÷\u000b\n",
      "?¬¯Âl±de<¸|:\u001c\n",
      "\u001e\n",
      "\u001d\n",
      "M\u000e\f\n",
      "LÞ\u0005%Íâ¿ÉÂÕ§¥²?Ìy\"\u0010³´ÇË¢B{ìöåÑ2ÏB^\u0014â¤\u0017Æ[°8­a\u0006c\u0000´Ã<+²Yù8\u0019Ó#\u0005%Ì\u0007GêÓ\"Y\u0003\u001c\n",
      "ã\u0000\u0000`\u0012òo8Sq(,m8ÂáLj8²pü:c\u0001D+\u0014ÄpTõCþæ\u0016V\u0011Ñ\u001c\n",
      "\u0007Wqt(mYÉæ¬o\"Î\u0012\u001c\n",
      "âØBÔ\u000edáÉqv\\\u0003>-$ðìú>Ír6M\u0004ðÊ@8V åÿ\u001fùG}äßÔv9,æÃ,\u001fÄ¨ý$¤\u001beá\u001b>c«¤,ä×ü&7_Í7õç]EðxÆ0ïDE£X´ÿþ\"-â\u0003±³¢¼(bÖ¸s.?4î\tÒÚ|\u0019GñÁ¡lñç©Øý\u001fêMÅ\u001fõzËìÔÆ¶¥÷Õ6¾ºþdwNmúr+7MESç\u0007,u{¡\f\n",
      "\u0007ã³$¾gå*\u0017qL~:ÜåÑ8þ­\\±D\u001e\n",
      "|h\u0006Fÿµk¹ýMõrÉÂXuÍJ.¢Ú`r${Ä2\u000e_W_>¯$lUf¦\u0011\u0005 ÿÖ°1\u0011ìDè»Õ\u0011Xìå³\u000fÂ×xt[\u001d\n",
      "ç\u0007ª-±ñËõM\u001e\n",
      "g¹²ç\u0007¯Ubã-_Äïã(â©u`:#þÛ§_\n",
      "\n",
      "\u001e\n",
      "­·ÿúN9²Ù\u0010f«T|\u001e\n",
      "L\u0017%Eôö[È2î½)~\u0006<z\u0015¯\u001bWæÿ­À\u0006¶&û9gòâ\u0013\f\n",
      "¶!T÷Q\u0010CiQXgÛ¹Ú:wu\u0014ª¡Ñ¾\u001a\u001aï«¡ã}54ÙWC'ûjèt_\n",
      "\n",
      ")çl(N#q\u001d\n",
      "QÇÃf\u0000ê.\u001c\n",
      "\u001aÑ8\u000e±¡q\u001c\n",
      "ZBã8¤Æq(\u0001ãpt4ÃÑ8\u000e7EàYèòBËÙG\u000eooÇÝ}ðÃÝ}IðÃÝ}\u0005ðÃÝ\u001d\n",
      "ðýpwÇw?ÜÝáÜ\u000fwwôöÃÝ\u001d\n",
      "¬ñ¸zª\u0015\\\u000b\n",
      "¥eoÍ²¬L³\u0007rÒÛ\u001b¥\u0002Keä4xò¢Çs$ÑÍ\\{£\n",
      "L}ßí!J¤þ×óR&A6\u000b\n",
      "fñ½Lyzw§_y-yÀ¢Hà\u0011\u0002æ\\$e\u0011ññéÏxÎÓS:6\u001d\n",
      "¨Ì\u0004tµ\u0012øæÝañ4\"\u001e\n",
      "¾\n",
      "\n",
      "$(Ô\u000e-òç¹\u0014ILàÔ\u000b\n",
      "\u0016æYÿ®e,>|þc%AËUp\"¬O4.¦°úç\u0006\n",
      "\n",
      "¦j `úg\u0006\n",
      "\n",
      "¦b`qF5D\u0006h¤\f\n",
      "\u001aÑ\u00194¢qÓþI5n\u0006hÜ\f\n",
      "\u001aÑ¸\u0019´þãv\u0017\n",
      "\n",
      "ñö¬cÐ½vwdò\u001e\n",
      "Jï~ÜÆ÷©ªÊöF25Óàåì>gËy «ÚÍ°ö9cÛ¹Ì¢§àâV#QÍëÈZv®ú\u000fè\u0006\u001a¸j<\"yÕxD\u0002«ñúKì£&Ë\tÚ{|æv5-\u001bE«:ö%+=¡í¯6Vö÷°µ\u0000ÞÅyA&fX\u0002\u000fþ$§³NÈ·îeÿ­±úËj;*vÏ@\u0012ôRÞp¥\tÃï<\u0017iÙCo¤wYd<¢C¼-óLû-ù¡¢¤äß.sVÄ*WÚè~©¯>²eï\u0013ºIXÒðööÕÅI@7x÷ñCp-e)\u0007\u0006ð2+ËlAi*ÿøOÿIÓÁ\u000b\n",
      "\u0004§ODg{AT\u001e\n",
      "R`W1ÁEF#e\u0011\u0011fÆiLr\n",
      "\n",
      "UxÿæOÓå\u0011\n",
      "\n",
      "ÚMÎõó(%'B¼e¥t\u0010hKÄÅG\u0011fC\n",
      "\n",
      "ï?,e]JTw$`VÙ°XMçaÿP÷)\u000b\n",
      "H*C¿¬JUTS]eM\u0007×°\u0001× Ø\u0014\u0007é¿\u0004'»\u0001×ÿd7à¨Nö*aE\u0011;o¡zãQn\n",
      "G}¾ý?%Y>[%t\u0003X\u0001`\u0005H6Y²Z¤\u0005å\u0019+<Â\u0013VxÔçKè2\n",
      "\n",
      " $§ðþÇ\u0011\u0019\u0019\n",
      "\n",
      "\t\u0005FE\u0002£â@\u0012Ðÿ\t\u001d\n",
      "\u000b\n",
      "¬ÿc:\u0016Xÿgu4\u0018Ñ\u0014À\u0002£ò3ÒË?Ñ]\u001e\n",
      "\u000b\n",
      "ÊÏ\u0014\u0018)0*?S`T~6z\u0013ðÙLLé.1\u0016$ÏYt\u0017´äe³üòmÂï\u0019AT£ÝäÙLþ\u0012&KõCÜ\u0004²F\u0010N¶5\u001c\n",
      "\u0015É¿ñ)Y×$\u0016e*¢,I²¨¶¶¾à(ËÍg×v©_ôîÂMÂB>ÏçsrÛ|ùVÿ,c»ûª\u001bÊ\u001fâûy\u0019ÜÎëj¿\n",
      "\n",
      "39ÚiY%ì\u001bf»\u001bl\u001aóIõã&³<Wª£ðÇ\u0014QwcåÑ\u001bÆãÝÆëÄåqGKØæd·åz¼ayÒÑ\u0012¶yÚÑRétÃ²M\u000foXþÐ'mþSçx\u000eç;ió¢Ú¸±Ù6Gª-\\ð¤Í6¤\u0012\\¡¼[\u0000Ùé¦\u0019·}7ñ¸í1*r£`ääFé¬+7DÀ>ó¯±¼²c¦j¯~z\u0002Ä}5î\u00149]eºn¿qÃ©ûº®ÅÄ)-xÐ3ê~ãj#Ê¸Ç±s¸qCt;nÎ\u0001È\n",
      "\n",
      "Ñ)\u00129ÍQ!ÉÒ96¹!:\u0007)7\u0004:ZÁ+\u0002.ZA{\\´ö>Ñ\n",
      "\n",
      "¢øD«\u001e\n",
      "³\u00007Dçé\u001b\u0002-\u0016j\u001b\u0002%T`î%T\u0016*@\u000b\n",
      "\u0015B \n",
      "\n",
      "\n",
      "'`8¡B{P¡½P!P!\n",
      "\n",
      "Z¨\u0010\u0002-\u0016*@\u000b\n",
      "\u0015B \n",
      "ê9·w{\t\u0015¢ \n",
      "\n",
      "\n",
      "!ÐB\n",
      "\u0010h¡ªùb\u000f¡B{P¡½P!P!\n",
      "\n",
      "Z¨\u0010\u0002-\u0016*@\u000b\n",
      "\u0015B \n",
      "\n",
      "\n",
      "!PB\u0005æ^B\n",
      "(h¡´P!\u0004Z¨ú§þB\n",
      "ö8¡B{\u001f¡B\u0014\u001f¡B\u0014´P!\u0004Z¨\u0010\u0002-\u0016*@\u000b\n",
      "\u0015B \n",
      "\n",
      "Ì½\n",
      "\n",
      "QÐB\n",
      "\u0010h¡´PÕÍÂ\u001e\n",
      "B\n",
      "ö8¡B{\u001f¡B\u0014\u001f¡B\u0014´P!\u0004Z¨\u0010\u0002-\u0016*@\u000b\n",
      "\u0015B \n",
      "\n",
      "Ì½\n",
      "\n",
      "QÐB\n",
      "\u0010h¡B6ÿ4·(]Ù\u000fðUOç\u0013ûÝo]N}¶ÊmCºCU½rcuÿ-Âe=\u0004?<\u001c\n",
      "©|£\u001bH<MâL¨\u001d\n",
      "·Õm\\õH\u0004êÆç/Wí¿ð±Ñ{¾tÉü\u0016BÝ3\u0005àã® ¦2nsyÛ\u0012$yã6O·-Á¬sÜ\u0016}mKp\u0019\u001c\n",
      "·\u0005]¥Ëê¡\u0014q9\u0002ÆmaÆ2\u001e\n",
      "8ÌÛ¢µe\u000e¸-F[pÛ\"³\u0007¸-\u001e\n",
      "[Ç\f\n",
      "ÎÛÖÇ\u001d\n",
      "ÇiR?_\n",
      "\n",
      "\u0010ÚÜÑB8q#´¹%äª\n",
      "\n",
      "ÇP\u0018]Is#teÏÐF7\u0002O'\f\n",
      "X7\u0014a7\u001fÕPfXªý\n",
      "êFÀR\n",
      "\n",
      "\u0011¼¨\u00060þTC(oª!\u001fÕ00b©Xªý³\u001bÁj\u0000ãO5ò¦\u001aBùQ\n",
      "\n",
      "/eXª!\u0002j¥ºç\u0005Ù\tãO5ò¦\u001aBùQ\n",
      "\n",
      "'wXª!\u0002j¥\u001a\"xQ\n",
      "\n",
      "`ü©PÞTC(?ªA¦\u001a\"`©Xª!\u0017Õ\u0000ÆåM5j£ZUQ6¨F1lã&a!îl\u0019â³eè-YÖÙ\n",
      "à-A®*ÎqÙM\u001b¡+{n®4º\u0011P|:aðÄº¡Ð\f\n",
      "»¡ü¨ÆeKMTû\u000b\n",
      "Õ¥\u001a-9©ÆeK­Tã²¥VªqÙj\\¶ÔD5.[j¢Ú?8»\u0011¼¨ÆeK­Tã²¥VªqÙj\\¶ÔD5.[j¢\u001a-5QÝóìñ§\u001a-µRËÜTã²¥&ªqÙR\u0013Õ¸l©j\\¶ä¤\u001a-µRËZ©ÆeKnªqÙR\u0013Õ¸l©j\\¶ÔD5.[rRËZ©ÆeK­Tã²¥Â$&x\u0005Ôíåe@÷¾¸÷¬¬ÿË\t¿¤9/²ä+\u0002ÚSý:ËÃÇå¯$¶ZP\u001c\n",
      "_1o@·~®\u0014é7À\u001a@uàuT/S%eO\u0002³zÙ¬:ln×ê\u0016á¦jps¯x\u0000à×[©\u0016¦LÕ/r4@ã©|1bÃvé\u0010Õöª«9ËõÞµ«VÇ\u00181®Ïåñ,/â¨Ú}t4\u0018\u001e\n",
      "_½}§2=p¾ü$ÚWÛä\u0017Á\u000f/Ô·õºfSùN11\u0002#½°YæìÔ¨6Óomúð5©[2Ô6Z\u0017c¿·,2'w¾5Ûäþuæ6,×ëÌÉÍõ:s¡TyÝ¯wãò\n",
      "\n",
      "u°\u0000ç\u0007Lé½Y>\".Í@­¥«n6ÛËÒémÖq>Î3t:\tA4Î3ìà<kYêã6DùÌîeÖÍÛé^UdøÎÜkdÈ¶ÝKoëé^#§{Ç=hÜkô¸W5ä\u000e÷ÚåDûp¡¹m,©¶õt±ÓUÌó=4®2~á®rj{J\u0015ö¡§(ùÐ{J¬ÿ¿Ò½ëë7==âØé\u0011æ¹-\u001a8þ><B©äåÅ> mò\u0001ÅÒøÀä\n",
      "ûÀØö\u0001§\u000b\n",
      "(Yì5(\u001c\n",
      "¿ÿ¶\u001d\n",
      "B®º´v»X®æ{¡øêé\n",
      "\n",
      "'No0\u0015\t\u001ao8ù.¼¡\u001aðç{æÿÔÉ¿ÐðúBùßÅ¸\u0012Á^õ?<ÿºðÿbøÚÉ¿a\n",
      "ÿ×Qþ«!~NÅÓ3\u001e\n",
      "Áf¡y1»£f\u0016Xªß\u0010¤WÚö\u0005Ç*L\u000e\u001e\n",
      "Mq\f\n",
      "\u0010çîh)Ë·-TåÝÖ®\u0000;=«³kÓDs+>\\§Ò³\u001e\n",
      "¥[Ô=¾1\n",
      "\n",
      "%ö_ñ$ùÈôÑÙÒ}hÂgR\u001fbïàH½skÿT¯%á´ÏÕM\u0007'Àáfgô×vÇÐ«KÆú×0Î\u0002«¬¬7\f\n",
      "·úiVßîè´áª\u0010Cs+\u000fØîßFñt»fgÖ\u0001g+5:¾+nU.íYî(ôÿ:)R]ÒtQ:$¢Ô\u0014æº^¾û*\f\n",
      "ëª¢á\u0011\u0011Ã¦\u0010JÏðñÛlõ©\u0016\"ÙÒ\n",
      "=\u0017[c\"¶L-òå°µï\u001d\n",
      "\u0015]\\s±rLÄ©\u0007~?\u001a\"çA\u0017¸\\<Lx05¹¿:èK\u0017HJtÉEÉ\t\u0011%¦0öB¥ñ§ K=.\u0012NH0WÁ¿.9ÁßM®¾¸(yMD\u0019ù\u0017ª}ÕÕô\u001b1¶ÇZom\u001ablAM!­\tk¨Â\n",
      "\n",
      "U,\u0003\u00151}LVÃÄÐéê¸üòy%­Ê¬\u001aâT\u000eá%æ\n",
      "\n",
      "ýzä^ÀÃ\u001c\n",
      "ë3Rgýª\u001a\u0007×c¿KW[ÍõÖ]ëmt¢\\3Øè%}Õh¹Û9^fV»Î5\\/Î½MP½BÉ\u0015X«M\u0001\n",
      "\n",
      "%ætµÐ\u001fâ\u0004>gev>sM\u001b;\u000b\n",
      "\u0001Ü\u000fL\u0002²ßÄw\u0012\u0017ù}\u0005ºéDnÎ_øÄñ)kV¦^D`\u0019½B\n",
      "\n",
      "©MC3ñ¼ºÚ¯©#~\u000f+K»rÕ.ÐfËÜr|$ÿua:\n",
      "\n",
      "^\u000fU#\u001d\n",
      "}Ubqêfa§Dö:rÍ.+ï¬×áØ\u001e\n",
      "+õ+õî]>\f\n",
      "bdêg(Õ\u001d\n",
      ".yJ¾SÏ¸bÛ\\®£»Ô'm^4W¿ýnû´ÁëñpÒà\u0011¨\u000b\n",
      "ånïØãsYf,CÛæê)»Ü£K³kt#<by\u0019©¿ú¾¨:®\u0010dÖáþC>S'ÿñD©O\n",
      "\n",
      "»gY¼¾úÌ-I\u00193ÛõC\n",
      "\n",
      "ùM»¥±Óêº¡«¿©Cú\u0006ÿ?µ\f\n",
      "\n",
      "\n",
      "ü¨Õuû^\u000e6D²Ãc_î[cäú]®\u0001\\\u001fÑ7JV·úPQrª[5£U \\±%ÍØIdõÀåÖVþ\u0007\u0000\u0000ÿÿ\u0003\u0000PK\u0003\u0004\u0014\u0000\u0006\u0000\u0000\u0000!\u0000&ÞúHo\u0001\u0000\u0000-\u0004\u0000\u0000\u0014\u0000\u0000\u0000word/webSettings.xmlÓÝnÂ \u0014\u0000àû%{{¥:5Kc5Y\u0016Ý,K¶=\u0000Â©%\u0002§\u0001\\uO?¨ÕÕxcwS\u000eÐóåð7_îµJ¾Á:&'£aJ\u00120\u001c\n",
      "\n",
      "4|}®\u0006$q\u0019Á\u0014\u001aÈÉ\u0001\u001c\n",
      "Y.îïæuVÃú\u0003¼\u000fº$(Æeç¤ô¾Ê(u¼\u0004ÍÜ\u0010+0a²@«\u000f]»¡Ùí®\u001apÔ\u0015ór-ô\u0007:NÓ\u0019i\u0019{E!9<#ßi0¾É§\u0016T\u0010Ñ¸RVî¤Õ·h5ZQYäà\\XVGO3iÎÌhr\u0005iÉ-:,ü0,¦­¨¡Bú(m\"­þi?`|\u0005Ì8ìû\u0019­ACf×¢3;;Rtÿ\u0015Ó\u0001Ä®\u00171~8Õ\u0011Þ±ð¢ìÇÎÆ\\æYÉ\\y)\u0016ª8éÇ\u000b\n",
      "¦o»&ôÛ´é\u0019<èxg¯\u001b­UÂ­LÂÅJ\u001a8~ÃùÄ¦\taßÇmiBÅ ìÚ\"¼_¬¼Ôò\u0007Vh,Ö\u000e,ÃL)¬ßß^B^<òÅ/\u0000\u0000\u0000ÿÿ\u0003\u0000PK\u0003\u0004\u0014\u0000\u0006\u0000\u0000\u0000!\u0000ùìhÀ\u0003\u0002\u0000\u0000Õ\u0006\u0000\u0000\u0012\u0000\u0000\u0000word/fontTable.xmlÜËnÛ0\u0010E÷\u0005ú\u000f\u0002÷±(ù\u0011G\u001c\n",
      "´M\f\n",
      "tÓE|\u0000MQ\u0016\u0011>\u0004\u000emY_zD\u0017µº¬\u0000K£;;ÔãÓEèÌ\f\n",
      "p­r,0¢ºàê£·×ýÝ\u0016E`*Ðå¨ev_¿<6Y©\n",
      "ÈÕ+È$ÍQemÅ1ÐI\u0002\u000b\n",
      "]3å¥6X÷j±$æýTßQ-kbù\u000b\n",
      "nÛ8Åxz¹\n",
      "¢ËSö¬éI2eC}lpD­ â5\f\n",
      "´æ\u0016Z£MQ\u001bM\u0019Y'\tW#&Y]$§F.íÂ\n",
      "\n",
      "Ów\u0014P®<Á!â\u0003°\u0007H¯\u0000\u001bÊ.ó\u0018Û\u0011»Ê)\u0017ó8Ã\tçß\u0000Ó,Dº\u001c\n",
      "úð\u000f_>aAaj\u001e\n",
      "nØQìk%\u0015ê3±\u0014ó«\t±;`BÓ÷)Í3m=\u0002[éw(iöó¨´!\u0007áHîTFî`E\u0001ìïn?þ\u0011Bv\tº·¥\u000fJá\u0003çÚ®ÿr£&SD:Ð·Ú2­\u0001æ3gâÇ\u0018ÅáßDrÑ\u000e*4\u001c\n",
      " KÔÜÒjÐÏÄpßY\u0002~t\u0013\u001c\n",
      "pÜ\u0007\n",
      "qº½Gxr¸½\n",
      "\n",
      "îåg\n",
      "\u0006NxM\u001e\n",
      "ö½òÁ\t}ÆÝXWã½rÉ úÅè·D\n",
      "Ak¢4°d\u001c\n",
      "Ô\n",
      "\n",
      "^â5^¹_ê¢U7ÆMÀãÈ7äe\u001f&é\u001c\n",
      "ùáûíúû#\u000fw¤ãÜîHXxôÌ¡\u0016¤ý\u0016ß\u0007°û\u0003\u0000\u0000ÿÿ\u0003\u0000PK\u0003\u0004\u0014\u0000\u0006\u0000\u0000\u0000!\u0000Êb-\u0004y\u0001\u0000\u0000ÿ\u0002\u0000\u0000\u0011\u0001docProps/core.xml ¢\u0004\u0001( \u0000\u0001\u0000\u0000\u0000\u0000\u0000\u0000\u0000\u0000\u0000\u0000\u0000\u0000\u0000\u0000\u0000\u0000\u0000\u0000\u0000\u0000\u0000\u0000\u0000\u0000\u0000\u0000\u0000\u0000\u0000\u0000\u0000\u0000\u0000\u0000\u0000\u0000\u0000\u0000\u0000\u0000\u0000\u0000\u0000\u0000\u0000\u0000\u0000\u0000\u0000\u0000\u0000\u0000\u0000\u0000\u0000\u0000\u0000\u0000\u0000\u0000\u0000\u0000\u0000\u0000\u0000\u0000\u0000\u0000\u0000\u0000\u0000\u0000\u0000\u0000\u0000\u0000\u0000\u0000\u0000\u0000\u0000\u0000\u0000\u0000\u0000\u0000\u0000\u0000\u0000\u0000\u0000\u0000\u0000\u0000\u0000\u0000\u0000\u0000\u0000\u0000\u0000\u0000\u0000\u0000\u0000\u0000\u0000\u0000\u0000\u0000\u0000\u0000\u0000\u0000\u0000\u0000\u0000\u0000\u0000\u0000\u0000\u0000\u0000\u0000\u0000\u0000\u0000\u0000\u0000\u0000\u0000\u0000\u0000\u0000\u0000\u0000\u0000\u0000\u0000\u0000\u0000\u0000\u0000\u0000\u0000\u0000\u0000\u0000\u0000\u0000\u0000\u0000\u0000\u0000\u0000\u0000\u0000\u0000\u0000\u0000\u0000\u0000\u0000\u0000\u0000\u0000\u0000\u0000\u0000\u0000\u0000\u0000\u0000\u0000\u0000\u0000\u0000\u0000\u0000\u0000\u0000\u0000\u0000\u0000\u0000\u0000\u0000\u0000\u0000\u0000\u0000\u0000\u0000\u0000\u0000\u0000\u0000\u0000\u0000\u0000\u0000\u0000\u0000\u0000\u0000\u0000\u0000\u0000\u0000\u0000\u0000\u0000\u0000\u0000\u0000\u0000\u0000\u0000\u0000\u0000\u0000\u0000\u0000\u0000\u0000\u0000\u0000\u0000\u0000\u0000\u0000\u0000\u0000\u0000\u0000\u0000\u0000\u0000\u0000\u0000\u0000\u0000\u0000\u0000\u0000\u0000\u0000\u0000\u0000\u0000\u0000\u0000\u0000\u0000\u0000\u0000MOÃ0\f\n",
      "ïHü*÷6íÆø¨º\u000e\u0001â\u0004\u0012\u0012C n!1[Xó¡Ä£_OÚn\u001d\n",
      "\u0015 q³ãÇ¯7)f\u001fªÞÁyiôdIJ\"Ð©\u0017Sò0¿OIäiÁ*£aJ6àÉ¬<<(¸Í¹qpç\u0005\u0012|\u0014´Ï¹%¢Í)õ|\tù$\u0010:\u0014_S\f\n",
      "Cê\u0016Ô2¾b\u000b\n",
      " £4=¦\n",
      "\n",
      "\t6±í\u0015ÉVRð^Ò®]Õ\n",
      "\n",
      "N¡\u0002\u0005\u001a=ÍîY\u0004§ü¯\n",
      "\n",
      "må\u001b©$n,üî=ýáe\u000fÖuÔã\u0016\n",
      "\n",
      "ûgôéöæ¾½j,uã\u0015\u0007R\u0016ç(±² û0D~ýò\u0006\u001c\n",
      "»ã>\t1wÀÐ¸Ò±åºÂÏãñÙùB1Y%Ü¨\u0016Þ\u0001õ+ØÔÆ\t\u001fd\u0006YÀ\u0004xî¤Åð ÝÁA +æñ6¼ð«\u0004q±ùcÞO®iuð.Rf-Ñ§ÅÖönG\u0010Q°+ïÌÝU\u001e\n",
      "ÇWókRÒÑ$ÎÒ8\u001d\n",
      "Ï³£üè$OÓçfÍAÿ^Pm\u0017ø·âd2TÜ\ttN\n",
      "\n",
      "¿lù\u0005\u0000\u0000ÿÿ\u0003\u0000PK\u0003\u0004\u0014\u0000\u0006\u0000\u0000\u0000!\u0000\u0002Eë/v\u0001\u0000\u0000É\u0002\u0000\u0000\u0010\u0001docProps/app.xml ¢\u0004\u0001( \u0000\u0001\u0000\u0000\u0000\u0000\u0000\u0000\u0000\u0000\u0000\u0000\u0000\u0000\u0000\u0000\u0000\u0000\u0000\u0000\u0000\u0000\u0000\u0000\u0000\u0000\u0000\u0000\u0000\u0000\u0000\u0000\u0000\u0000\u0000\u0000\u0000\u0000\u0000\u0000\u0000\u0000\u0000\u0000\u0000\u0000\u0000\u0000\u0000\u0000\u0000\u0000\u0000\u0000\u0000\u0000\u0000\u0000\u0000\u0000\u0000\u0000\u0000\u0000\u0000\u0000\u0000\u0000\u0000\u0000\u0000\u0000\u0000\u0000\u0000\u0000\u0000\u0000\u0000\u0000\u0000\u0000\u0000\u0000\u0000\u0000\u0000\u0000\u0000\u0000\u0000\u0000\u0000\u0000\u0000\u0000\u0000\u0000\u0000\u0000\u0000\u0000\u0000\u0000\u0000\u0000\u0000\u0000\u0000\u0000\u0000\u0000\u0000\u0000\u0000\u0000\u0000\u0000\u0000\u0000\u0000\u0000\u0000\u0000\u0000\u0000\u0000\u0000\u0000\u0000\u0000\u0000\u0000\u0000\u0000\u0000\u0000\u0000\u0000\u0000\u0000\u0000\u0000\u0000\u0000\u0000\u0000\u0000\u0000\u0000\u0000\u0000\u0000\u0000\u0000\u0000\u0000\u0000\u0000\u0000\u0000\u0000\u0000\u0000\u0000\u0000\u0000\u0000\u0000\u0000\u0000\u0000\u0000\u0000\u0000\u0000\u0000\u0000\u0000\u0000\u0000\u0000\u0000\u0000\u0000\u0000\u0000\u0000\u0000\u0000\u0000\u0000\u0000\u0000\u0000\u0000\u0000\u0000\u0000\u0000\u0000\u0000\u0000\u0000\u0000\u0000\u0000\u0000\u0000\u0000\u0000\u0000\u0000\u0000\u0000\u0000\u0000\u0000\u0000\u0000\u0000\u0000\u0000\u0000\u0000\u0000\u0000\u0000\u0000\u0000\u0000\u0000\u0000\u0000\u0000\u0000\u0000\u0000\u0000\u0000\u0000\u0000\u0000\u0000\u0000\u0000\u0000\u0000\u0000\u0000\u0000\u0000\u0000\u0000\u0000\u0000\u0000\u0000RËNÃ0\u0010¼#ñ\u000fQî­\u0002U\n",
      "¶F¨\u0015âÀ£R\u0003-gX8¶e»þ=k\u0002!\u001b·ÝYïxfl¸zïuö>(kÖy9/ò\f\n",
      "´µ2í:ªnf«<\u000b\n",
      "QZhkp\u001f1äWüô\u0004vÞ:ôQaÈÂuÞÅè.\u0019\u000b\n",
      "²Ã^9\n",
      "\n",
      "M\u001aë{\u0011©õ-³M£$n­<ôh\"[\u0014Åá{DSc=s#a>0^¾ÅÿÖV&}á¹::âãPaï´È\u001fÒ¦\u00066\u0002PÙ(t¥zä+Ç\u0006v¢ÅÀK`C\u0001/Ö×\u0017À\u00126ðBF\n",
      "\n",
      "«¢\u00006\u0001àÚ9­¤+¿WÒÛ`=~Í\u0012\u0001°é\u0011 \u0003{\u0007¯â\u0013Õ´\n",
      ";e\u0014ºy¨H\u0017­\u0017®\u000b\n",
      "ü<\t\u001c\n",
      ";ØK¡qCÞy#t@`?\u0000llï!>6VÄ÷\u001a\\e·)¯ßàÄæÝÞ\tI\u0012\u0016eYN\n",
      "\n",
      "OF°'\u0014kr0j\u0018\u0001¸¥\u0007ñ:]@»¦ÅúûÌßAðyø¼\\Î\"E<ÁÈøøeø\u0007\u0000\u0000\u0000ÿÿ\u0003\u0000PK\u0001\u0002-\u0000\u0014\u0000\u0006\u0000\u0000\u0000!\u0000ß¤ÒlZ\u0001\u0000\u0000 \u0005\u0000\u0000\u0013\u0000\u0000\u0000\u0000\u0000\u0000\u0000\u0000\u0000\u0000\u0000\u0000\u0000\u0000\u0000\u0000\u0000[Content_Types].xmlPK\u0001\u0002-\u0000\u0014\u0000\u0006\u0000\u0000\u0000!\u0000\u001e\n",
      "\u001a·ï\u0000\u0000\u0000N\u0002\u0000\u0000\u000b\n",
      "\u0000\u0000\u0000\u0000\u0000\u0000\u0000\u0000\u0000\u0000\u0000\u0000\u0000\u0003\u0000\u0000_rels/.relsPK\u0001\u0002-\u0000\u0014\u0000\u0006\u0000\u0000\u0000!\u0000\"L¸Ç#\t\u0000\u0000 %\u0000\u0000\u0011\u0000\u0000\u0000\u0000\u0000\u0000\u0000\u0000\u0000\u0000\u0000\u0000\u0000³\u0006\u0000\u0000word/document.xmlPK\u0001\u0002-\u0000\u0014\u0000\u0006\u0000\u0000\u0000!\u0000Öd³Qô\u0000\u0000\u00001\u0003\u0000\u0000\u001c\n",
      "\u0000\u0000\u0000\u0000\u0000\u0000\u0000\u0000\u0000\u0000\u0000\u0000\u0000\u0005\u0010\u0000\u0000word/_rels/document.xml.relsPK\u0001\u0002-\u0000\u0014\u0000\u0006\u0000\u0000\u0000!\u0000gü´Î\u0006\u0000\u0000Í \u0000\u0000\u0015\u0000\u0000\u0000\u0000\u0000\u0000\u0000\u0000\u0000\u0000\u0000\u0000\u0000;\u0012\u0000\u0000word/theme/theme1.xmlPK\u0001\u0002-\u0000\u0014\u0000\u0006\u0000\u0000\u0000!\u00008Äç\u0018S\u0004\u0000\u0000Î\f\n",
      "\u0000\u0000\u0011\u0000\u0000\u0000\u0000\u0000\u0000\u0000\u0000\u0000\u0000\u0000\u0000\u0000<\u0019\u0000\u0000word/settings.xmlPK\u0001\u0002-\u0000\u0014\u0000\u0006\u0000\u0000\u0000!\u0000\u0013T¬l\n",
      "\n",
      "\u0010\u0000\u0000ù¦\u0000\u0000\u000f\u0000\u0000\u0000\u0000\u0000\u0000\u0000\u0000\u0000\u0000\u0000\u0000\u0000¾\u001d\n",
      "\u0000\u0000word/styles.xmlPK\u0001\u0002-\u0000\u0014\u0000\u0006\u0000\u0000\u0000!\u0000&ÞúHo\u0001\u0000\u0000-\u0004\u0000\u0000\u0014\u0000\u0000\u0000\u0000\u0000\u0000\u0000\u0000\u0000\u0000\u0000\u0000\u0000ø-\u0000\u0000word/webSettings.xmlPK\u0001\u0002-\u0000\u0014\u0000\u0006\u0000\u0000\u0000!\u0000ùìhÀ\u0003\u0002\u0000\u0000Õ\u0006\u0000\u0000\u0012\u0000\u0000\u0000\u0000\u0000\u0000\u0000\u0000\u0000\u0000\u0000\u0000\u0000/\u0000\u0000word/fontTable.xmlPK\u0001\u0002-\u0000\u0014\u0000\u0006\u0000\u0000\u0000!\u0000Êb-\u0004y\u0001\u0000\u0000ÿ\u0002\u0000\u0000\u0011\u0000\u0000\u0000\u0000\u0000\u0000\u0000\u0000\u0000\u0000\u0000\u0000\u0000Ì1\u0000\u0000docProps/core.xmlPK\u0001\u0002-\u0000\u0014\u0000\u0006\u0000\u0000\u0000!\u0000\u0002Eë/v\u0001\u0000\u0000É\u0002\u0000\u0000\u0010\u0000\u0000\u0000\u0000\u0000\u0000\u0000\u0000\u0000\u0000\u0000\u0000\u0000|4\u0000\u0000docProps/app.xmlPK\u0005\u0006\u0000\u0000\u0000\u0000\u000b\n",
      "\u0000\u000b\n",
      "\u0000Á\u0002\u0000\u0000(7\u0000\u0000\u0000\u0000\n"
     ]
    }
   ],
   "source": [
    "path = \"examples/segismundo.txt\"\n",
    "path2 = r\"C:\\Users\\Rahul Jangid\\OneDrive\\Documents\\Cover_Letter_Delivery_Hero_2025.docx\"\n",
    "\n",
    "f = open(path2, encoding=\"ISO-8859-1\")\n",
    "for line in f:\n",
    "    print(line)\n",
    "f.close()"
   ]
  },
  {
   "cell_type": "code",
   "execution_count": null,
   "id": "cc39f5d1-625f-4dda-9296-06e3ad4c4565",
   "metadata": {},
   "outputs": [],
   "source": [
    "f = open(path, encoding=\"utf-8\")"
   ]
  },
  {
   "cell_type": "code",
   "execution_count": null,
   "id": "bab254b1-4744-415c-9363-0a63bf2f7fd4",
   "metadata": {},
   "outputs": [
    {
     "name": "stdout",
     "output_type": "stream",
     "text": [
      "Sueña el rico en su riqueza,\n",
      "\n",
      "que más cuidados le ofrece;\n",
      "\n",
      "\n",
      "\n",
      "sueña el pobre que padece\n",
      "\n",
      "su miseria y su pobreza;\n",
      "\n",
      "\n",
      "\n",
      "sueña el que a medrar empieza,\n",
      "\n",
      "sueña el que afana y pretende,\n",
      "\n",
      "sueña el que agravia y ofende,\n",
      "\n",
      "\n",
      "\n",
      "y en el mundo, en conclusión,\n",
      "\n",
      "todos sueñan lo que son,\n",
      "\n",
      "aunque ninguno lo entiende.\n",
      "\n",
      "\n",
      "\n"
     ]
    }
   ],
   "source": [
    "for line in f:\n",
    "    print(line)"
   ]
  },
  {
   "cell_type": "code",
   "execution_count": null,
   "id": "a384a052-ef31-49c6-93fb-72d27403033b",
   "metadata": {},
   "outputs": [],
   "source": [
    "lines = [x.rstrip() for x in open(path, encoding=\"utf-8\")]"
   ]
  },
  {
   "cell_type": "code",
   "execution_count": null,
   "id": "52f85138-4fdc-4c91-8393-bae158e0fb32",
   "metadata": {},
   "outputs": [
    {
     "data": {
      "text/plain": [
       "['Sueña el rico en su riqueza,',\n",
       " 'que más cuidados le ofrece;',\n",
       " '',\n",
       " 'sueña el pobre que padece',\n",
       " 'su miseria y su pobreza;',\n",
       " '',\n",
       " 'sueña el que a medrar empieza,',\n",
       " 'sueña el que afana y pretende,',\n",
       " 'sueña el que agravia y ofende,',\n",
       " '',\n",
       " 'y en el mundo, en conclusión,',\n",
       " 'todos sueñan lo que son,',\n",
       " 'aunque ninguno lo entiende.',\n",
       " '']"
      ]
     },
     "execution_count": 407,
     "metadata": {},
     "output_type": "execute_result"
    }
   ],
   "source": [
    "lines"
   ]
  },
  {
   "cell_type": "code",
   "execution_count": 496,
   "id": "5a5990d7-0e93-48ea-9ace-7b8cb77bee46",
   "metadata": {},
   "outputs": [
    {
     "ename": "AttributeError",
     "evalue": "'function' object has no attribute 'close'",
     "output_type": "error",
     "traceback": [
      "\u001b[31m---------------------------------------------------------------------------\u001b[39m",
      "\u001b[31mAttributeError\u001b[39m                            Traceback (most recent call last)",
      "\u001b[36mCell\u001b[39m\u001b[36m \u001b[39m\u001b[32mIn[496]\u001b[39m\u001b[32m, line 1\u001b[39m\n\u001b[32m----> \u001b[39m\u001b[32m1\u001b[39m \u001b[43mf\u001b[49m\u001b[43m.\u001b[49m\u001b[43mclose\u001b[49m()\n",
      "\u001b[31mAttributeError\u001b[39m: 'function' object has no attribute 'close'"
     ]
    }
   ],
   "source": [
    "f.close()"
   ]
  },
  {
   "cell_type": "code",
   "execution_count": 497,
   "id": "fb1a8dcf-60f6-42b4-8871-90908fcd11e6",
   "metadata": {},
   "outputs": [
    {
     "ename": "NameError",
     "evalue": "name 'path' is not defined",
     "output_type": "error",
     "traceback": [
      "\u001b[31m---------------------------------------------------------------------------\u001b[39m",
      "\u001b[31mNameError\u001b[39m                                 Traceback (most recent call last)",
      "\u001b[36mCell\u001b[39m\u001b[36m \u001b[39m\u001b[32mIn[497]\u001b[39m\u001b[32m, line 1\u001b[39m\n\u001b[32m----> \u001b[39m\u001b[32m1\u001b[39m \u001b[38;5;28;01mwith\u001b[39;00m \u001b[38;5;28mopen\u001b[39m(\u001b[43mpath\u001b[49m, encoding=\u001b[33m\"\u001b[39m\u001b[33mutf-8\u001b[39m\u001b[33m\"\u001b[39m) \u001b[38;5;28;01mas\u001b[39;00m f:\n\u001b[32m      2\u001b[39m     lines = [x.rstrip() \u001b[38;5;28;01mfor\u001b[39;00m x \u001b[38;5;129;01min\u001b[39;00m f]\n\u001b[32m      3\u001b[39m     \u001b[38;5;28mprint\u001b[39m(lines)\n",
      "\u001b[31mNameError\u001b[39m: name 'path' is not defined"
     ]
    }
   ],
   "source": [
    "with open(path, encoding=\"utf-8\") as f:\n",
    "    lines = [x.rstrip() for x in f]\n",
    "    print(lines)"
   ]
  },
  {
   "cell_type": "code",
   "execution_count": 498,
   "id": "1fdffaba-ef2f-41cd-819f-98e40b40ef41",
   "metadata": {},
   "outputs": [
    {
     "ename": "NameError",
     "evalue": "name 'path' is not defined",
     "output_type": "error",
     "traceback": [
      "\u001b[31m---------------------------------------------------------------------------\u001b[39m",
      "\u001b[31mNameError\u001b[39m                                 Traceback (most recent call last)",
      "\u001b[36mCell\u001b[39m\u001b[36m \u001b[39m\u001b[32mIn[498]\u001b[39m\u001b[32m, line 1\u001b[39m\n\u001b[32m----> \u001b[39m\u001b[32m1\u001b[39m f1 = \u001b[38;5;28mopen\u001b[39m(\u001b[43mpath\u001b[49m)\n",
      "\u001b[31mNameError\u001b[39m: name 'path' is not defined"
     ]
    }
   ],
   "source": [
    "f1 = open(path)"
   ]
  },
  {
   "cell_type": "code",
   "execution_count": 499,
   "id": "5f56ec71-0d23-4a94-bf97-293a47a2e2ee",
   "metadata": {},
   "outputs": [
    {
     "ename": "NameError",
     "evalue": "name 'f1' is not defined",
     "output_type": "error",
     "traceback": [
      "\u001b[31m---------------------------------------------------------------------------\u001b[39m",
      "\u001b[31mNameError\u001b[39m                                 Traceback (most recent call last)",
      "\u001b[36mCell\u001b[39m\u001b[36m \u001b[39m\u001b[32mIn[499]\u001b[39m\u001b[32m, line 1\u001b[39m\n\u001b[32m----> \u001b[39m\u001b[32m1\u001b[39m \u001b[43mf1\u001b[49m.read(\u001b[32m10\u001b[39m)\n",
      "\u001b[31mNameError\u001b[39m: name 'f1' is not defined"
     ]
    }
   ],
   "source": [
    "f1.read(10)"
   ]
  },
  {
   "cell_type": "code",
   "execution_count": 500,
   "id": "826f65f2-306a-4760-8c7f-d6f6dddb58ee",
   "metadata": {},
   "outputs": [
    {
     "ename": "NameError",
     "evalue": "name 'path' is not defined",
     "output_type": "error",
     "traceback": [
      "\u001b[31m---------------------------------------------------------------------------\u001b[39m",
      "\u001b[31mNameError\u001b[39m                                 Traceback (most recent call last)",
      "\u001b[36mCell\u001b[39m\u001b[36m \u001b[39m\u001b[32mIn[500]\u001b[39m\u001b[32m, line 1\u001b[39m\n\u001b[32m----> \u001b[39m\u001b[32m1\u001b[39m f2 = \u001b[38;5;28mopen\u001b[39m(\u001b[43mpath\u001b[49m, mode=\u001b[33m\"\u001b[39m\u001b[33mrb\u001b[39m\u001b[33m\"\u001b[39m)\n",
      "\u001b[31mNameError\u001b[39m: name 'path' is not defined"
     ]
    }
   ],
   "source": [
    "f2 = open(path, mode=\"rb\")"
   ]
  },
  {
   "cell_type": "code",
   "execution_count": 501,
   "id": "50b200b6-55c5-4f57-8b40-e0d30e2a2934",
   "metadata": {},
   "outputs": [
    {
     "ename": "NameError",
     "evalue": "name 'f2' is not defined",
     "output_type": "error",
     "traceback": [
      "\u001b[31m---------------------------------------------------------------------------\u001b[39m",
      "\u001b[31mNameError\u001b[39m                                 Traceback (most recent call last)",
      "\u001b[36mCell\u001b[39m\u001b[36m \u001b[39m\u001b[32mIn[501]\u001b[39m\u001b[32m, line 1\u001b[39m\n\u001b[32m----> \u001b[39m\u001b[32m1\u001b[39m \u001b[43mf2\u001b[49m.read(\u001b[32m10\u001b[39m)\n",
      "\u001b[31mNameError\u001b[39m: name 'f2' is not defined"
     ]
    }
   ],
   "source": [
    "f2.read(10)"
   ]
  },
  {
   "cell_type": "code",
   "execution_count": 502,
   "id": "650b1033-563f-47aa-9f1a-71bb3bad1a9e",
   "metadata": {},
   "outputs": [
    {
     "ename": "NameError",
     "evalue": "name 'f1' is not defined",
     "output_type": "error",
     "traceback": [
      "\u001b[31m---------------------------------------------------------------------------\u001b[39m",
      "\u001b[31mNameError\u001b[39m                                 Traceback (most recent call last)",
      "\u001b[36mCell\u001b[39m\u001b[36m \u001b[39m\u001b[32mIn[502]\u001b[39m\u001b[32m, line 1\u001b[39m\n\u001b[32m----> \u001b[39m\u001b[32m1\u001b[39m \u001b[43mf1\u001b[49m.tell()\n",
      "\u001b[31mNameError\u001b[39m: name 'f1' is not defined"
     ]
    }
   ],
   "source": [
    "f1.tell()"
   ]
  },
  {
   "cell_type": "code",
   "execution_count": 503,
   "id": "423fdff6-f075-4887-bcc3-8bd25f0195d8",
   "metadata": {},
   "outputs": [
    {
     "ename": "NameError",
     "evalue": "name 'f2' is not defined",
     "output_type": "error",
     "traceback": [
      "\u001b[31m---------------------------------------------------------------------------\u001b[39m",
      "\u001b[31mNameError\u001b[39m                                 Traceback (most recent call last)",
      "\u001b[36mCell\u001b[39m\u001b[36m \u001b[39m\u001b[32mIn[503]\u001b[39m\u001b[32m, line 1\u001b[39m\n\u001b[32m----> \u001b[39m\u001b[32m1\u001b[39m \u001b[43mf2\u001b[49m.tell()\n",
      "\u001b[31mNameError\u001b[39m: name 'f2' is not defined"
     ]
    }
   ],
   "source": [
    "f2.tell()"
   ]
  },
  {
   "cell_type": "code",
   "execution_count": 504,
   "id": "09cc9719-5541-4a13-947a-797b3bffaca8",
   "metadata": {},
   "outputs": [],
   "source": [
    "import sys"
   ]
  },
  {
   "cell_type": "code",
   "execution_count": 505,
   "id": "efec5c5f-af41-4251-830e-973927051718",
   "metadata": {},
   "outputs": [
    {
     "data": {
      "text/plain": [
       "'utf-8'"
      ]
     },
     "execution_count": 505,
     "metadata": {},
     "output_type": "execute_result"
    }
   ],
   "source": [
    "sys.getdefaultencoding()"
   ]
  },
  {
   "cell_type": "code",
   "execution_count": 506,
   "id": "0a15ffd3-a75e-42dd-a4c3-2008a8e407ab",
   "metadata": {},
   "outputs": [],
   "source": [
    "# 12th Oct, 2025 Chapter 3"
   ]
  },
  {
   "cell_type": "code",
   "execution_count": 507,
   "id": "6216e758-9c58-4e0e-86c4-6e81db8043b6",
   "metadata": {},
   "outputs": [
    {
     "ename": "NameError",
     "evalue": "name 'f1' is not defined",
     "output_type": "error",
     "traceback": [
      "\u001b[31m---------------------------------------------------------------------------\u001b[39m",
      "\u001b[31mNameError\u001b[39m                                 Traceback (most recent call last)",
      "\u001b[36mCell\u001b[39m\u001b[36m \u001b[39m\u001b[32mIn[507]\u001b[39m\u001b[32m, line 1\u001b[39m\n\u001b[32m----> \u001b[39m\u001b[32m1\u001b[39m \u001b[43mf1\u001b[49m.seek(\u001b[32m3\u001b[39m)\n",
      "\u001b[31mNameError\u001b[39m: name 'f1' is not defined"
     ]
    }
   ],
   "source": [
    "f1.seek(3)"
   ]
  },
  {
   "cell_type": "code",
   "execution_count": 508,
   "id": "ae59ee3e-46c7-49f4-ac59-1b41873737b1",
   "metadata": {},
   "outputs": [
    {
     "ename": "NameError",
     "evalue": "name 'f1' is not defined",
     "output_type": "error",
     "traceback": [
      "\u001b[31m---------------------------------------------------------------------------\u001b[39m",
      "\u001b[31mNameError\u001b[39m                                 Traceback (most recent call last)",
      "\u001b[36mCell\u001b[39m\u001b[36m \u001b[39m\u001b[32mIn[508]\u001b[39m\u001b[32m, line 1\u001b[39m\n\u001b[32m----> \u001b[39m\u001b[32m1\u001b[39m \u001b[43mf1\u001b[49m.read(\u001b[32m1\u001b[39m)\n",
      "\u001b[31mNameError\u001b[39m: name 'f1' is not defined"
     ]
    }
   ],
   "source": [
    "f1.read(1)"
   ]
  },
  {
   "cell_type": "code",
   "execution_count": 509,
   "id": "03b19f29-afd6-4a9a-b2c8-02df74a4652e",
   "metadata": {},
   "outputs": [
    {
     "ename": "NameError",
     "evalue": "name 'f1' is not defined",
     "output_type": "error",
     "traceback": [
      "\u001b[31m---------------------------------------------------------------------------\u001b[39m",
      "\u001b[31mNameError\u001b[39m                                 Traceback (most recent call last)",
      "\u001b[36mCell\u001b[39m\u001b[36m \u001b[39m\u001b[32mIn[509]\u001b[39m\u001b[32m, line 1\u001b[39m\n\u001b[32m----> \u001b[39m\u001b[32m1\u001b[39m \u001b[43mf1\u001b[49m.tell()\n",
      "\u001b[31mNameError\u001b[39m: name 'f1' is not defined"
     ]
    }
   ],
   "source": [
    "f1.tell()"
   ]
  },
  {
   "cell_type": "code",
   "execution_count": 510,
   "id": "63a4e9fe-491e-4d39-a04d-40c098b4e4dc",
   "metadata": {},
   "outputs": [
    {
     "ename": "NameError",
     "evalue": "name 'f1' is not defined",
     "output_type": "error",
     "traceback": [
      "\u001b[31m---------------------------------------------------------------------------\u001b[39m",
      "\u001b[31mNameError\u001b[39m                                 Traceback (most recent call last)",
      "\u001b[36mCell\u001b[39m\u001b[36m \u001b[39m\u001b[32mIn[510]\u001b[39m\u001b[32m, line 1\u001b[39m\n\u001b[32m----> \u001b[39m\u001b[32m1\u001b[39m \u001b[43mf1\u001b[49m.close()\n",
      "\u001b[31mNameError\u001b[39m: name 'f1' is not defined"
     ]
    }
   ],
   "source": [
    "f1.close()"
   ]
  },
  {
   "cell_type": "code",
   "execution_count": 511,
   "id": "5efd73f0-f7d0-4c00-920e-443b85430c9c",
   "metadata": {},
   "outputs": [
    {
     "ename": "NameError",
     "evalue": "name 'f2' is not defined",
     "output_type": "error",
     "traceback": [
      "\u001b[31m---------------------------------------------------------------------------\u001b[39m",
      "\u001b[31mNameError\u001b[39m                                 Traceback (most recent call last)",
      "\u001b[36mCell\u001b[39m\u001b[36m \u001b[39m\u001b[32mIn[511]\u001b[39m\u001b[32m, line 1\u001b[39m\n\u001b[32m----> \u001b[39m\u001b[32m1\u001b[39m \u001b[43mf2\u001b[49m.close()\n",
      "\u001b[31mNameError\u001b[39m: name 'f2' is not defined"
     ]
    }
   ],
   "source": [
    "f2.close()"
   ]
  },
  {
   "cell_type": "code",
   "execution_count": 512,
   "id": "dcbe84cc-8a5b-47b2-b6e1-836006910942",
   "metadata": {},
   "outputs": [
    {
     "ename": "NameError",
     "evalue": "name 'path' is not defined",
     "output_type": "error",
     "traceback": [
      "\u001b[31m---------------------------------------------------------------------------\u001b[39m",
      "\u001b[31mNameError\u001b[39m                                 Traceback (most recent call last)",
      "\u001b[36mCell\u001b[39m\u001b[36m \u001b[39m\u001b[32mIn[512]\u001b[39m\u001b[32m, line 1\u001b[39m\n\u001b[32m----> \u001b[39m\u001b[32m1\u001b[39m \u001b[43mpath\u001b[49m\n",
      "\u001b[31mNameError\u001b[39m: name 'path' is not defined"
     ]
    }
   ],
   "source": [
    "path"
   ]
  },
  {
   "cell_type": "code",
   "execution_count": 513,
   "id": "b30aeca8-fd85-44d6-a2c9-fad2ac8c4456",
   "metadata": {},
   "outputs": [
    {
     "ename": "NameError",
     "evalue": "name 'path' is not defined",
     "output_type": "error",
     "traceback": [
      "\u001b[31m---------------------------------------------------------------------------\u001b[39m",
      "\u001b[31mNameError\u001b[39m                                 Traceback (most recent call last)",
      "\u001b[36mCell\u001b[39m\u001b[36m \u001b[39m\u001b[32mIn[513]\u001b[39m\u001b[32m, line 2\u001b[39m\n\u001b[32m      1\u001b[39m \u001b[38;5;28;01mwith\u001b[39;00m \u001b[38;5;28mopen\u001b[39m(\u001b[33m\"\u001b[39m\u001b[33mtmp.txt\u001b[39m\u001b[33m\"\u001b[39m, mode=\u001b[33m\"\u001b[39m\u001b[33mw\u001b[39m\u001b[33m\"\u001b[39m) \u001b[38;5;28;01mas\u001b[39;00m handle:\n\u001b[32m----> \u001b[39m\u001b[32m2\u001b[39m     handle.writelines(x \u001b[38;5;28;01mfor\u001b[39;00m x \u001b[38;5;129;01min\u001b[39;00m \u001b[38;5;28mopen\u001b[39m(\u001b[43mpath\u001b[49m) \u001b[38;5;28;01mif\u001b[39;00m \u001b[38;5;28mlen\u001b[39m(x) > \u001b[32m1\u001b[39m)\n",
      "\u001b[31mNameError\u001b[39m: name 'path' is not defined"
     ]
    }
   ],
   "source": [
    "with open(\"tmp.txt\", mode=\"w\") as handle:\n",
    "    handle.writelines(x for x in open(path) if len(x) > 1)"
   ]
  },
  {
   "cell_type": "code",
   "execution_count": 514,
   "id": "61cdf0a4-6b5d-465d-a2e0-ff90e28785c1",
   "metadata": {},
   "outputs": [],
   "source": [
    "with open(\"tmp.txt\") as f:\n",
    "    lines = f.readlines()"
   ]
  },
  {
   "cell_type": "code",
   "execution_count": 515,
   "id": "879bb999-6246-4302-b7c8-399ea485d148",
   "metadata": {},
   "outputs": [
    {
     "data": {
      "text/plain": [
       "[]"
      ]
     },
     "execution_count": 515,
     "metadata": {},
     "output_type": "execute_result"
    }
   ],
   "source": [
    "lines"
   ]
  },
  {
   "cell_type": "code",
   "execution_count": 516,
   "id": "b0f1cdb5-c8c2-4f5e-9e03-c832b3fadacc",
   "metadata": {},
   "outputs": [
    {
     "ename": "NameError",
     "evalue": "name 'path' is not defined",
     "output_type": "error",
     "traceback": [
      "\u001b[31m---------------------------------------------------------------------------\u001b[39m",
      "\u001b[31mNameError\u001b[39m                                 Traceback (most recent call last)",
      "\u001b[36mCell\u001b[39m\u001b[36m \u001b[39m\u001b[32mIn[516]\u001b[39m\u001b[32m, line 1\u001b[39m\n\u001b[32m----> \u001b[39m\u001b[32m1\u001b[39m \u001b[38;5;28;01mwith\u001b[39;00m \u001b[38;5;28mopen\u001b[39m(\u001b[43mpath\u001b[49m) \u001b[38;5;28;01mas\u001b[39;00m f:\n\u001b[32m      2\u001b[39m     chars = f.read(\u001b[32m10\u001b[39m)\n",
      "\u001b[31mNameError\u001b[39m: name 'path' is not defined"
     ]
    }
   ],
   "source": [
    "with open(path) as f:\n",
    "    chars = f.read(10)"
   ]
  },
  {
   "cell_type": "code",
   "execution_count": 517,
   "id": "c39fe924-a38d-4bd4-ab97-f77b5925caa5",
   "metadata": {},
   "outputs": [
    {
     "ename": "NameError",
     "evalue": "name 'chars' is not defined",
     "output_type": "error",
     "traceback": [
      "\u001b[31m---------------------------------------------------------------------------\u001b[39m",
      "\u001b[31mNameError\u001b[39m                                 Traceback (most recent call last)",
      "\u001b[36mCell\u001b[39m\u001b[36m \u001b[39m\u001b[32mIn[517]\u001b[39m\u001b[32m, line 1\u001b[39m\n\u001b[32m----> \u001b[39m\u001b[32m1\u001b[39m \u001b[43mchars\u001b[49m\n",
      "\u001b[31mNameError\u001b[39m: name 'chars' is not defined"
     ]
    }
   ],
   "source": [
    "chars"
   ]
  },
  {
   "cell_type": "code",
   "execution_count": 518,
   "id": "4cd6b137-34bf-4a7e-b4c7-8de98ec81152",
   "metadata": {},
   "outputs": [
    {
     "ename": "NameError",
     "evalue": "name 'chars' is not defined",
     "output_type": "error",
     "traceback": [
      "\u001b[31m---------------------------------------------------------------------------\u001b[39m",
      "\u001b[31mNameError\u001b[39m                                 Traceback (most recent call last)",
      "\u001b[36mCell\u001b[39m\u001b[36m \u001b[39m\u001b[32mIn[518]\u001b[39m\u001b[32m, line 1\u001b[39m\n\u001b[32m----> \u001b[39m\u001b[32m1\u001b[39m \u001b[38;5;28mlen\u001b[39m(\u001b[43mchars\u001b[49m)\n",
      "\u001b[31mNameError\u001b[39m: name 'chars' is not defined"
     ]
    }
   ],
   "source": [
    "len(chars)"
   ]
  },
  {
   "cell_type": "code",
   "execution_count": 519,
   "id": "ab03b830-cd4e-43b8-be57-79a17cedfe79",
   "metadata": {},
   "outputs": [
    {
     "ename": "NameError",
     "evalue": "name 'path' is not defined",
     "output_type": "error",
     "traceback": [
      "\u001b[31m---------------------------------------------------------------------------\u001b[39m",
      "\u001b[31mNameError\u001b[39m                                 Traceback (most recent call last)",
      "\u001b[36mCell\u001b[39m\u001b[36m \u001b[39m\u001b[32mIn[519]\u001b[39m\u001b[32m, line 1\u001b[39m\n\u001b[32m----> \u001b[39m\u001b[32m1\u001b[39m \u001b[38;5;28;01mwith\u001b[39;00m \u001b[38;5;28mopen\u001b[39m(\u001b[43mpath\u001b[49m, mode=\u001b[33m\"\u001b[39m\u001b[33mrb\u001b[39m\u001b[33m\"\u001b[39m) \u001b[38;5;28;01mas\u001b[39;00m f:\n\u001b[32m      2\u001b[39m     data = f.read(\u001b[32m10\u001b[39m)\n",
      "\u001b[31mNameError\u001b[39m: name 'path' is not defined"
     ]
    }
   ],
   "source": [
    "with open(path, mode=\"rb\") as f:\n",
    "    data = f.read(10)"
   ]
  },
  {
   "cell_type": "code",
   "execution_count": 520,
   "id": "9a796ef9-0b82-4974-beaa-329ad2e8cc62",
   "metadata": {},
   "outputs": [
    {
     "data": {
      "text/plain": [
       "[1, 2, 3, 4]"
      ]
     },
     "execution_count": 520,
     "metadata": {},
     "output_type": "execute_result"
    }
   ],
   "source": [
    "data"
   ]
  },
  {
   "cell_type": "code",
   "execution_count": 521,
   "id": "3893bddc-7f89-4d2e-9aff-b69ecab3eff0",
   "metadata": {},
   "outputs": [
    {
     "ename": "AttributeError",
     "evalue": "'list' object has no attribute 'decode'",
     "output_type": "error",
     "traceback": [
      "\u001b[31m---------------------------------------------------------------------------\u001b[39m",
      "\u001b[31mAttributeError\u001b[39m                            Traceback (most recent call last)",
      "\u001b[36mCell\u001b[39m\u001b[36m \u001b[39m\u001b[32mIn[521]\u001b[39m\u001b[32m, line 1\u001b[39m\n\u001b[32m----> \u001b[39m\u001b[32m1\u001b[39m \u001b[43mdata\u001b[49m\u001b[43m.\u001b[49m\u001b[43mdecode\u001b[49m(\u001b[33m\"\u001b[39m\u001b[33mutf-8\u001b[39m\u001b[33m\"\u001b[39m)\n",
      "\u001b[31mAttributeError\u001b[39m: 'list' object has no attribute 'decode'"
     ]
    }
   ],
   "source": [
    "data.decode(\"utf-8\")"
   ]
  },
  {
   "cell_type": "code",
   "execution_count": null,
   "id": "0c6bd651-ebbd-4f26-83bf-9c34b631228e",
   "metadata": {},
   "outputs": [
    {
     "ename": "UnicodeDecodeError",
     "evalue": "'utf-8' codec can't decode byte 0xc3 in position 3: unexpected end of data",
     "output_type": "error",
     "traceback": [
      "\u001b[31m---------------------------------------------------------------------------\u001b[39m",
      "\u001b[31mUnicodeDecodeError\u001b[39m                        Traceback (most recent call last)",
      "\u001b[36mCell\u001b[39m\u001b[36m \u001b[39m\u001b[32mIn[434]\u001b[39m\u001b[32m, line 1\u001b[39m\n\u001b[32m----> \u001b[39m\u001b[32m1\u001b[39m \u001b[43mdata\u001b[49m\u001b[43m[\u001b[49m\u001b[43m:\u001b[49m\u001b[32;43m4\u001b[39;49m\u001b[43m]\u001b[49m\u001b[43m.\u001b[49m\u001b[43mdecode\u001b[49m\u001b[43m(\u001b[49m\u001b[33;43m\"\u001b[39;49m\u001b[33;43mutf-8\u001b[39;49m\u001b[33;43m\"\u001b[39;49m\u001b[43m)\u001b[49m\n",
      "\u001b[31mUnicodeDecodeError\u001b[39m: 'utf-8' codec can't decode byte 0xc3 in position 3: unexpected end of data"
     ]
    }
   ],
   "source": [
    "data[:4].decode(\"utf-8\")"
   ]
  },
  {
   "cell_type": "code",
   "execution_count": null,
   "id": "fa181552-d5a2-4702-9e6f-2ed1ce259ef6",
   "metadata": {},
   "outputs": [],
   "source": [
    "sink_path = \"sink.txt\""
   ]
  },
  {
   "cell_type": "code",
   "execution_count": 522,
   "id": "7c7e1013-9a6d-42a5-8f2e-9b12dd8288b2",
   "metadata": {},
   "outputs": [
    {
     "ename": "NameError",
     "evalue": "name 'path' is not defined",
     "output_type": "error",
     "traceback": [
      "\u001b[31m---------------------------------------------------------------------------\u001b[39m",
      "\u001b[31mNameError\u001b[39m                                 Traceback (most recent call last)",
      "\u001b[36mCell\u001b[39m\u001b[36m \u001b[39m\u001b[32mIn[522]\u001b[39m\u001b[32m, line 1\u001b[39m\n\u001b[32m----> \u001b[39m\u001b[32m1\u001b[39m \u001b[38;5;28;01mwith\u001b[39;00m \u001b[38;5;28mopen\u001b[39m(\u001b[43mpath\u001b[49m) \u001b[38;5;28;01mas\u001b[39;00m source:\n\u001b[32m      2\u001b[39m     \u001b[38;5;28;01mwith\u001b[39;00m \u001b[38;5;28mopen\u001b[39m(sink_path, \u001b[33m\"\u001b[39m\u001b[33mx\u001b[39m\u001b[33m\"\u001b[39m, encoding=\u001b[33m\"\u001b[39m\u001b[33miso-8859-1\u001b[39m\u001b[33m\"\u001b[39m) \u001b[38;5;28;01mas\u001b[39;00m sink:\n\u001b[32m      3\u001b[39m         sink.write(source.read())\n",
      "\u001b[31mNameError\u001b[39m: name 'path' is not defined"
     ]
    }
   ],
   "source": [
    "with open(path) as source:\n",
    "    with open(sink_path, \"x\", encoding=\"iso-8859-1\") as sink:\n",
    "        sink.write(source.read())"
   ]
  },
  {
   "cell_type": "code",
   "execution_count": null,
   "id": "3ba9b33a-6019-4c11-aeac-1a02cda81606",
   "metadata": {},
   "outputs": [],
   "source": [
    "with open(sink_path, encoding=\"iso-8859-1\") as f:\n",
    "    print(f.read(10))"
   ]
  },
  {
   "cell_type": "code",
   "execution_count": 523,
   "id": "d1f8e271-0d49-481d-a6be-541fe2225823",
   "metadata": {},
   "outputs": [
    {
     "ename": "NameError",
     "evalue": "name 'path' is not defined",
     "output_type": "error",
     "traceback": [
      "\u001b[31m---------------------------------------------------------------------------\u001b[39m",
      "\u001b[31mNameError\u001b[39m                                 Traceback (most recent call last)",
      "\u001b[36mCell\u001b[39m\u001b[36m \u001b[39m\u001b[32mIn[523]\u001b[39m\u001b[32m, line 1\u001b[39m\n\u001b[32m----> \u001b[39m\u001b[32m1\u001b[39m f = \u001b[38;5;28mopen\u001b[39m(\u001b[43mpath\u001b[49m, encoding=\u001b[33m'\u001b[39m\u001b[33mutf-8\u001b[39m\u001b[33m'\u001b[39m)\n",
      "\u001b[31mNameError\u001b[39m: name 'path' is not defined"
     ]
    }
   ],
   "source": [
    "f = open(path, encoding='utf-8')"
   ]
  },
  {
   "cell_type": "code",
   "execution_count": 524,
   "id": "1fe9b276-720f-41c3-8dff-2b25f733d410",
   "metadata": {},
   "outputs": [
    {
     "ename": "ValueError",
     "evalue": "I/O operation on closed file.",
     "output_type": "error",
     "traceback": [
      "\u001b[31m---------------------------------------------------------------------------\u001b[39m",
      "\u001b[31mValueError\u001b[39m                                Traceback (most recent call last)",
      "\u001b[36mCell\u001b[39m\u001b[36m \u001b[39m\u001b[32mIn[524]\u001b[39m\u001b[32m, line 1\u001b[39m\n\u001b[32m----> \u001b[39m\u001b[32m1\u001b[39m \u001b[43mf\u001b[49m\u001b[43m.\u001b[49m\u001b[43mread\u001b[49m\u001b[43m(\u001b[49m\u001b[32;43m5\u001b[39;49m\u001b[43m)\u001b[49m\n",
      "\u001b[31mValueError\u001b[39m: I/O operation on closed file."
     ]
    }
   ],
   "source": [
    "f.read(5)"
   ]
  },
  {
   "cell_type": "code",
   "execution_count": 525,
   "id": "1bc28fa8-161a-48f6-9bff-3ce4348af8cf",
   "metadata": {},
   "outputs": [
    {
     "ename": "ValueError",
     "evalue": "I/O operation on closed file.",
     "output_type": "error",
     "traceback": [
      "\u001b[31m---------------------------------------------------------------------------\u001b[39m",
      "\u001b[31mValueError\u001b[39m                                Traceback (most recent call last)",
      "\u001b[36mCell\u001b[39m\u001b[36m \u001b[39m\u001b[32mIn[525]\u001b[39m\u001b[32m, line 1\u001b[39m\n\u001b[32m----> \u001b[39m\u001b[32m1\u001b[39m \u001b[43mf\u001b[49m\u001b[43m.\u001b[49m\u001b[43mseek\u001b[49m\u001b[43m(\u001b[49m\u001b[32;43m4\u001b[39;49m\u001b[43m)\u001b[49m\n",
      "\u001b[31mValueError\u001b[39m: I/O operation on closed file."
     ]
    }
   ],
   "source": [
    "f.seek(4)"
   ]
  },
  {
   "cell_type": "code",
   "execution_count": null,
   "id": "20ed1e50-2309-4477-9ff9-e5e828cde67b",
   "metadata": {},
   "outputs": [
    {
     "ename": "UnicodeDecodeError",
     "evalue": "'utf-8' codec can't decode byte 0xb1 in position 0: invalid start byte",
     "output_type": "error",
     "traceback": [
      "\u001b[31m---------------------------------------------------------------------------\u001b[39m",
      "\u001b[31mUnicodeDecodeError\u001b[39m                        Traceback (most recent call last)",
      "\u001b[36mCell\u001b[39m\u001b[36m \u001b[39m\u001b[32mIn[440]\u001b[39m\u001b[32m, line 1\u001b[39m\n\u001b[32m----> \u001b[39m\u001b[32m1\u001b[39m \u001b[43mf\u001b[49m\u001b[43m.\u001b[49m\u001b[43mread\u001b[49m\u001b[43m(\u001b[49m\u001b[32;43m1\u001b[39;49m\u001b[43m)\u001b[49m\n",
      "\u001b[36mFile \u001b[39m\u001b[32m<frozen codecs>:325\u001b[39m, in \u001b[36mdecode\u001b[39m\u001b[34m(self, input, final)\u001b[39m\n",
      "\u001b[31mUnicodeDecodeError\u001b[39m: 'utf-8' codec can't decode byte 0xb1 in position 0: invalid start byte"
     ]
    }
   ],
   "source": [
    "f.read(1)"
   ]
  },
  {
   "cell_type": "code",
   "execution_count": 526,
   "id": "99c80777-3d02-43c0-8232-ea01866cffa8",
   "metadata": {},
   "outputs": [],
   "source": [
    "f.close()"
   ]
  },
  {
   "cell_type": "code",
   "execution_count": 527,
   "id": "b6c567ac-7f5b-4dbe-bf23-72136245ff60",
   "metadata": {},
   "outputs": [],
   "source": [
    "# 12th October 2025 Chapter 4"
   ]
  },
  {
   "cell_type": "code",
   "execution_count": 528,
   "id": "1a632074-e82d-44d4-9790-dde560b52b30",
   "metadata": {},
   "outputs": [],
   "source": [
    "# NumPy Basics: Arrays and Vectorized Computation"
   ]
  },
  {
   "cell_type": "code",
   "execution_count": 529,
   "id": "83741e0d-64ad-490f-bfe7-dd34c99ca0ec",
   "metadata": {},
   "outputs": [],
   "source": [
    "import numpy as np"
   ]
  },
  {
   "cell_type": "code",
   "execution_count": 530,
   "id": "784bca5c-d513-429b-8cbd-b168e9042d04",
   "metadata": {},
   "outputs": [],
   "source": [
    "my_arr = np.arange(1_000_000)"
   ]
  },
  {
   "cell_type": "code",
   "execution_count": 531,
   "id": "0d26c11c-c289-449d-a380-cd8eb4abdc46",
   "metadata": {},
   "outputs": [],
   "source": [
    "my_list = list(range(1_000_000))"
   ]
  },
  {
   "cell_type": "code",
   "execution_count": 532,
   "id": "d03ff51f-2561-4ab7-9efb-d3683e6e2cc7",
   "metadata": {},
   "outputs": [
    {
     "name": "stdout",
     "output_type": "stream",
     "text": [
      "2.41 ms ± 160 μs per loop (mean ± std. dev. of 7 runs, 100 loops each)\n"
     ]
    }
   ],
   "source": [
    "%timeit my_arr2 = my_arr * 2"
   ]
  },
  {
   "cell_type": "code",
   "execution_count": 533,
   "id": "68ea8be2-9e40-4c84-8255-03533fed0baa",
   "metadata": {},
   "outputs": [
    {
     "name": "stdout",
     "output_type": "stream",
     "text": [
      "44.7 ms ± 3.25 ms per loop (mean ± std. dev. of 7 runs, 10 loops each)\n"
     ]
    }
   ],
   "source": [
    "%timeit my_list2 = [x*2 for x in my_list]"
   ]
  },
  {
   "cell_type": "code",
   "execution_count": 534,
   "id": "80e90375-2880-41c3-9602-8e58ec154318",
   "metadata": {},
   "outputs": [],
   "source": [
    "# Numpy ndarray : A multidimensional array object"
   ]
  },
  {
   "cell_type": "code",
   "execution_count": 535,
   "id": "b9f8b597-490f-4846-84ba-3e3588031636",
   "metadata": {},
   "outputs": [],
   "source": [
    "data = np.array([[1.5, -0.1, 3],[0, -3, 6.5]])"
   ]
  },
  {
   "cell_type": "code",
   "execution_count": 536,
   "id": "3cbd5b02-b44e-4b73-83d2-c5492749cf23",
   "metadata": {},
   "outputs": [
    {
     "data": {
      "text/plain": [
       "array([[ 1.5, -0.1,  3. ],\n",
       "       [ 0. , -3. ,  6.5]])"
      ]
     },
     "execution_count": 536,
     "metadata": {},
     "output_type": "execute_result"
    }
   ],
   "source": [
    "data"
   ]
  },
  {
   "cell_type": "code",
   "execution_count": 537,
   "id": "d718eab5-577f-4631-9c7c-416d2a78ec18",
   "metadata": {},
   "outputs": [
    {
     "data": {
      "text/plain": [
       "array([[ 15.,  -1.,  30.],\n",
       "       [  0., -30.,  65.]])"
      ]
     },
     "execution_count": 537,
     "metadata": {},
     "output_type": "execute_result"
    }
   ],
   "source": [
    "data * 10"
   ]
  },
  {
   "cell_type": "code",
   "execution_count": 538,
   "id": "0a939734-78c2-4fa9-b726-dfc5a990cd7e",
   "metadata": {},
   "outputs": [
    {
     "data": {
      "text/plain": [
       "array([[ 3. , -0.2,  6. ],\n",
       "       [ 0. , -6. , 13. ]])"
      ]
     },
     "execution_count": 538,
     "metadata": {},
     "output_type": "execute_result"
    }
   ],
   "source": [
    "data + data"
   ]
  },
  {
   "cell_type": "code",
   "execution_count": 539,
   "id": "32b1ac1d-177d-4ea6-8674-f853b2730fb2",
   "metadata": {},
   "outputs": [
    {
     "data": {
      "text/plain": [
       "(2, 3)"
      ]
     },
     "execution_count": 539,
     "metadata": {},
     "output_type": "execute_result"
    }
   ],
   "source": [
    "data.shape"
   ]
  },
  {
   "cell_type": "code",
   "execution_count": 540,
   "id": "c0867a0f-3ced-4a75-845d-47f5c19ba696",
   "metadata": {},
   "outputs": [
    {
     "data": {
      "text/plain": [
       "dtype('float64')"
      ]
     },
     "execution_count": 540,
     "metadata": {},
     "output_type": "execute_result"
    }
   ],
   "source": [
    "data.dtype"
   ]
  },
  {
   "cell_type": "code",
   "execution_count": 541,
   "id": "e3ac930c-f613-471b-9a0d-757ae7e04ee3",
   "metadata": {},
   "outputs": [],
   "source": [
    "data1 = [6, 7.5, 8, 0, 1]"
   ]
  },
  {
   "cell_type": "code",
   "execution_count": 542,
   "id": "148c5e10-dd76-497f-b3a8-af9a14aec9d3",
   "metadata": {},
   "outputs": [],
   "source": [
    "arr1 = np.array(data1)"
   ]
  },
  {
   "cell_type": "code",
   "execution_count": 543,
   "id": "a23cef23-8eb3-4717-a6a3-d515c67ea04b",
   "metadata": {},
   "outputs": [
    {
     "data": {
      "text/plain": [
       "array([6. , 7.5, 8. , 0. , 1. ])"
      ]
     },
     "execution_count": 543,
     "metadata": {},
     "output_type": "execute_result"
    }
   ],
   "source": [
    "arr1"
   ]
  },
  {
   "cell_type": "code",
   "execution_count": 544,
   "id": "c9c3344a-14c0-4777-b5d6-965b44cc78dd",
   "metadata": {},
   "outputs": [],
   "source": [
    "data2 = [[1, 2, 3, 4], [5, 6, 7, 8]]"
   ]
  },
  {
   "cell_type": "code",
   "execution_count": 545,
   "id": "a6728b8b-8bf5-4c0e-a4e8-5082ba787dfa",
   "metadata": {},
   "outputs": [],
   "source": [
    "arr2 = np.array(data2)"
   ]
  },
  {
   "cell_type": "code",
   "execution_count": 546,
   "id": "2f8be876-f140-4681-8783-928d89fdd337",
   "metadata": {},
   "outputs": [
    {
     "data": {
      "text/plain": [
       "array([[1, 2, 3, 4],\n",
       "       [5, 6, 7, 8]])"
      ]
     },
     "execution_count": 546,
     "metadata": {},
     "output_type": "execute_result"
    }
   ],
   "source": [
    "arr2"
   ]
  },
  {
   "cell_type": "code",
   "execution_count": 547,
   "id": "b0b723a5-753e-48e7-b7c1-b71878f65fda",
   "metadata": {},
   "outputs": [
    {
     "data": {
      "text/plain": [
       "2"
      ]
     },
     "execution_count": 547,
     "metadata": {},
     "output_type": "execute_result"
    }
   ],
   "source": [
    "arr2.ndim"
   ]
  },
  {
   "cell_type": "code",
   "execution_count": 548,
   "id": "c76e70df-7daa-4e88-9a3f-8417b0b8888d",
   "metadata": {},
   "outputs": [
    {
     "data": {
      "text/plain": [
       "(2, 4)"
      ]
     },
     "execution_count": 548,
     "metadata": {},
     "output_type": "execute_result"
    }
   ],
   "source": [
    "arr2.shape"
   ]
  },
  {
   "cell_type": "code",
   "execution_count": 549,
   "id": "185598f1-b5a2-4522-84f1-1e63d232f35f",
   "metadata": {},
   "outputs": [
    {
     "data": {
      "text/plain": [
       "dtype('float64')"
      ]
     },
     "execution_count": 549,
     "metadata": {},
     "output_type": "execute_result"
    }
   ],
   "source": [
    "arr1.dtype"
   ]
  },
  {
   "cell_type": "code",
   "execution_count": 550,
   "id": "11f32171-0d65-4dd7-b1f5-77fdb1583fa2",
   "metadata": {},
   "outputs": [
    {
     "data": {
      "text/plain": [
       "dtype('int64')"
      ]
     },
     "execution_count": 550,
     "metadata": {},
     "output_type": "execute_result"
    }
   ],
   "source": [
    "arr2.dtype"
   ]
  },
  {
   "cell_type": "code",
   "execution_count": 551,
   "id": "5a7553a8-3117-4e0a-bb97-7b19a66bc131",
   "metadata": {},
   "outputs": [
    {
     "data": {
      "text/plain": [
       "array([0., 0., 0., 0., 0., 0., 0., 0., 0., 0.])"
      ]
     },
     "execution_count": 551,
     "metadata": {},
     "output_type": "execute_result"
    }
   ],
   "source": [
    "np.zeros(10)"
   ]
  },
  {
   "cell_type": "code",
   "execution_count": 552,
   "id": "6dc8b938-e290-492d-ac0d-5c0adb7d0ca5",
   "metadata": {},
   "outputs": [
    {
     "data": {
      "text/plain": [
       "array([[0., 0., 0., 0., 0., 0.],\n",
       "       [0., 0., 0., 0., 0., 0.],\n",
       "       [0., 0., 0., 0., 0., 0.]])"
      ]
     },
     "execution_count": 552,
     "metadata": {},
     "output_type": "execute_result"
    }
   ],
   "source": [
    "np.zeros((3,6))"
   ]
  },
  {
   "cell_type": "code",
   "execution_count": 553,
   "id": "19e92b68-f39e-4ee6-a18f-78c962aeea5f",
   "metadata": {},
   "outputs": [
    {
     "data": {
      "text/plain": [
       "array([[[1.04749130e-311, 3.16202013e-322],\n",
       "        [0.00000000e+000, 0.00000000e+000],\n",
       "        [1.29441743e-312, 6.82466192e-067]],\n",
       "\n",
       "       [[1.78675737e-051, 1.25735981e-071],\n",
       "        [5.44322734e-062, 8.44602828e+169],\n",
       "        [4.50545152e+174, 1.22281485e+161]]])"
      ]
     },
     "execution_count": 553,
     "metadata": {},
     "output_type": "execute_result"
    }
   ],
   "source": [
    "np.empty((2, 3, 2))"
   ]
  },
  {
   "cell_type": "code",
   "execution_count": 554,
   "id": "b115f441-f816-4df6-956e-67773feb787b",
   "metadata": {},
   "outputs": [
    {
     "data": {
      "text/plain": [
       "array([ 0,  1,  2,  3,  4,  5,  6,  7,  8,  9, 10, 11, 12, 13, 14])"
      ]
     },
     "execution_count": 554,
     "metadata": {},
     "output_type": "execute_result"
    }
   ],
   "source": [
    "np.arange(15)"
   ]
  },
  {
   "cell_type": "code",
   "execution_count": 555,
   "id": "af78e59a-e5d9-4d8c-b608-dc70c5788da8",
   "metadata": {},
   "outputs": [],
   "source": [
    "arr1 = np.array([1, 2, 3], dtype=np.float64)"
   ]
  },
  {
   "cell_type": "code",
   "execution_count": 556,
   "id": "ceb642fb-631c-4edb-85cf-bf962d5927f0",
   "metadata": {},
   "outputs": [],
   "source": [
    "arr2 = np.array([1, 2, 3], dtype=np.int32)"
   ]
  },
  {
   "cell_type": "code",
   "execution_count": 557,
   "id": "679d4eea-124f-4be0-b940-38116b54d604",
   "metadata": {},
   "outputs": [
    {
     "data": {
      "text/plain": [
       "dtype('float64')"
      ]
     },
     "execution_count": 557,
     "metadata": {},
     "output_type": "execute_result"
    }
   ],
   "source": [
    "arr1.dtype"
   ]
  },
  {
   "cell_type": "code",
   "execution_count": 558,
   "id": "386f41e9-7b34-4168-8c95-331219910b8c",
   "metadata": {},
   "outputs": [
    {
     "data": {
      "text/plain": [
       "dtype('int32')"
      ]
     },
     "execution_count": 558,
     "metadata": {},
     "output_type": "execute_result"
    }
   ],
   "source": [
    "arr2.dtype"
   ]
  },
  {
   "cell_type": "code",
   "execution_count": 559,
   "id": "48fca3c6-6dbf-4d94-940d-97d605763809",
   "metadata": {},
   "outputs": [],
   "source": [
    "# 13th October 2025 Chapter 4"
   ]
  },
  {
   "cell_type": "code",
   "execution_count": 560,
   "id": "766b9b7a-d5e9-453c-82e9-fe6e81ccba90",
   "metadata": {},
   "outputs": [],
   "source": [
    "arr = np.array([1, 2, 3, 4, 5])"
   ]
  },
  {
   "cell_type": "code",
   "execution_count": 561,
   "id": "f94c9085-1bf1-4878-a138-7261f8abf662",
   "metadata": {},
   "outputs": [
    {
     "data": {
      "text/plain": [
       "dtype('int64')"
      ]
     },
     "execution_count": 561,
     "metadata": {},
     "output_type": "execute_result"
    }
   ],
   "source": [
    "arr.dtype"
   ]
  },
  {
   "cell_type": "code",
   "execution_count": 562,
   "id": "db4b33c1-8ff5-44f9-af46-1c32f3e786f3",
   "metadata": {},
   "outputs": [],
   "source": [
    "float_arr = arr.astype(np.float64)"
   ]
  },
  {
   "cell_type": "code",
   "execution_count": 563,
   "id": "577323b3-68fd-4220-a25f-bc0127a18f42",
   "metadata": {},
   "outputs": [
    {
     "data": {
      "text/plain": [
       "array([1., 2., 3., 4., 5.])"
      ]
     },
     "execution_count": 563,
     "metadata": {},
     "output_type": "execute_result"
    }
   ],
   "source": [
    "float_arr"
   ]
  },
  {
   "cell_type": "code",
   "execution_count": 564,
   "id": "04f50ee0-afc2-4ea2-aa2a-90c1b646cc2b",
   "metadata": {},
   "outputs": [
    {
     "data": {
      "text/plain": [
       "dtype('float64')"
      ]
     },
     "execution_count": 564,
     "metadata": {},
     "output_type": "execute_result"
    }
   ],
   "source": [
    "float_arr.dtype"
   ]
  },
  {
   "cell_type": "code",
   "execution_count": 565,
   "id": "538ba23b-14e7-4a8b-a2bd-4d9785d11eb3",
   "metadata": {},
   "outputs": [],
   "source": [
    "arr = np.array([3.7, -1.2, -2.6, 0.5, 12.9, 10.1])"
   ]
  },
  {
   "cell_type": "code",
   "execution_count": 566,
   "id": "d3ae585a-df6b-4c8d-8e6b-8fac6e3d2519",
   "metadata": {},
   "outputs": [
    {
     "data": {
      "text/plain": [
       "array([ 3.7, -1.2, -2.6,  0.5, 12.9, 10.1])"
      ]
     },
     "execution_count": 566,
     "metadata": {},
     "output_type": "execute_result"
    }
   ],
   "source": [
    "arr"
   ]
  },
  {
   "cell_type": "code",
   "execution_count": 567,
   "id": "6350980d-d539-48fa-8337-46441b058bda",
   "metadata": {},
   "outputs": [
    {
     "data": {
      "text/plain": [
       "array([ 3, -1, -2,  0, 12, 10], dtype=int32)"
      ]
     },
     "execution_count": 567,
     "metadata": {},
     "output_type": "execute_result"
    }
   ],
   "source": [
    "arr.astype(np.int32)"
   ]
  },
  {
   "cell_type": "code",
   "execution_count": 568,
   "id": "215cdbf1-3012-48af-999f-b7959df3334b",
   "metadata": {},
   "outputs": [],
   "source": [
    "numeric_strings = np.array([\"1.25\", \"-9.6\", \"42\"], dtype=np.bytes_)"
   ]
  },
  {
   "cell_type": "code",
   "execution_count": 569,
   "id": "b949086e-39f2-4893-9b24-31b78a4291d6",
   "metadata": {},
   "outputs": [
    {
     "data": {
      "text/plain": [
       "array([ 1.25, -9.6 , 42.  ])"
      ]
     },
     "execution_count": 569,
     "metadata": {},
     "output_type": "execute_result"
    }
   ],
   "source": [
    "numeric_strings.astype(float)"
   ]
  },
  {
   "cell_type": "code",
   "execution_count": 570,
   "id": "aca63954-2eea-4954-b895-ee89c0083ebe",
   "metadata": {},
   "outputs": [],
   "source": [
    "int_array = np.arange(10)"
   ]
  },
  {
   "cell_type": "code",
   "execution_count": 571,
   "id": "aa4a7c30-da6c-4167-b851-7f43a4b12739",
   "metadata": {},
   "outputs": [],
   "source": [
    "calibers = np.array([.22, .270, .357, .380, .44, .50])"
   ]
  },
  {
   "cell_type": "code",
   "execution_count": 572,
   "id": "1e0859e5-0053-4520-9a55-2dd7f6a74c29",
   "metadata": {},
   "outputs": [
    {
     "data": {
      "text/plain": [
       "array([0., 1., 2., 3., 4., 5., 6., 7., 8., 9.])"
      ]
     },
     "execution_count": 572,
     "metadata": {},
     "output_type": "execute_result"
    }
   ],
   "source": [
    "int_array.astype(calibers.dtype)"
   ]
  },
  {
   "cell_type": "code",
   "execution_count": 573,
   "id": "c8ec03af-dd99-4c78-850e-a0886ac6c37e",
   "metadata": {},
   "outputs": [],
   "source": [
    "zeros_uint32 = np.zeros(8, dtype=\"u4\")"
   ]
  },
  {
   "cell_type": "code",
   "execution_count": 574,
   "id": "df8ba457-f3f4-4454-9ffc-555a2a11362b",
   "metadata": {},
   "outputs": [
    {
     "data": {
      "text/plain": [
       "array([0, 0, 0, 0, 0, 0, 0, 0], dtype=uint32)"
      ]
     },
     "execution_count": 574,
     "metadata": {},
     "output_type": "execute_result"
    }
   ],
   "source": [
    "zeros_uint32"
   ]
  },
  {
   "cell_type": "code",
   "execution_count": 575,
   "id": "cc223e7f-9a1a-4dd0-81ba-a851aa82b546",
   "metadata": {},
   "outputs": [],
   "source": [
    "# Arithmetic with NumPy Arrays"
   ]
  },
  {
   "cell_type": "code",
   "execution_count": 576,
   "id": "bbe41bbb-69ff-4e64-a503-0cf1e8bc53a6",
   "metadata": {},
   "outputs": [],
   "source": [
    "arr = np.array([[1., 2., 3.], [4., 5., 6.]])"
   ]
  },
  {
   "cell_type": "code",
   "execution_count": 577,
   "id": "50d64483-da94-401e-88ad-a17070559486",
   "metadata": {},
   "outputs": [
    {
     "data": {
      "text/plain": [
       "array([[1., 2., 3.],\n",
       "       [4., 5., 6.]])"
      ]
     },
     "execution_count": 577,
     "metadata": {},
     "output_type": "execute_result"
    }
   ],
   "source": [
    "arr"
   ]
  },
  {
   "cell_type": "code",
   "execution_count": 578,
   "id": "f216c04f-413d-421e-93c0-dd5be10c2395",
   "metadata": {},
   "outputs": [
    {
     "data": {
      "text/plain": [
       "array([[ 1.,  4.,  9.],\n",
       "       [16., 25., 36.]])"
      ]
     },
     "execution_count": 578,
     "metadata": {},
     "output_type": "execute_result"
    }
   ],
   "source": [
    "arr * arr"
   ]
  },
  {
   "cell_type": "code",
   "execution_count": 579,
   "id": "1dd7531b-d4b6-4085-8c06-7c24dbf69abe",
   "metadata": {},
   "outputs": [
    {
     "data": {
      "text/plain": [
       "array([[0., 0., 0.],\n",
       "       [0., 0., 0.]])"
      ]
     },
     "execution_count": 579,
     "metadata": {},
     "output_type": "execute_result"
    }
   ],
   "source": [
    "arr - arr"
   ]
  },
  {
   "cell_type": "code",
   "execution_count": 580,
   "id": "9574c9b2-594e-4383-8279-f517b815b9c2",
   "metadata": {},
   "outputs": [
    {
     "data": {
      "text/plain": [
       "array([[1.        , 0.5       , 0.33333333],\n",
       "       [0.25      , 0.2       , 0.16666667]])"
      ]
     },
     "execution_count": 580,
     "metadata": {},
     "output_type": "execute_result"
    }
   ],
   "source": [
    "1 / arr"
   ]
  },
  {
   "cell_type": "code",
   "execution_count": 581,
   "id": "e3cd91d1-f263-4181-a5c2-99b5ed56e6de",
   "metadata": {},
   "outputs": [
    {
     "data": {
      "text/plain": [
       "array([[ 1.,  4.,  9.],\n",
       "       [16., 25., 36.]])"
      ]
     },
     "execution_count": 581,
     "metadata": {},
     "output_type": "execute_result"
    }
   ],
   "source": [
    "arr ** 2"
   ]
  },
  {
   "cell_type": "code",
   "execution_count": 582,
   "id": "fc91aa4e-efd9-449a-88c6-1ee3cb2dabb9",
   "metadata": {},
   "outputs": [],
   "source": [
    "arr2 = np.array([[0., 4., 1.], [7., 2., 12.]])"
   ]
  },
  {
   "cell_type": "code",
   "execution_count": 583,
   "id": "f4a8dc2e-282b-489f-a507-187a4e5f7ca0",
   "metadata": {},
   "outputs": [
    {
     "data": {
      "text/plain": [
       "array([[ 0.,  4.,  1.],\n",
       "       [ 7.,  2., 12.]])"
      ]
     },
     "execution_count": 583,
     "metadata": {},
     "output_type": "execute_result"
    }
   ],
   "source": [
    "arr2"
   ]
  },
  {
   "cell_type": "code",
   "execution_count": 584,
   "id": "07881f31-b054-401e-8d32-2e3a32748cb9",
   "metadata": {},
   "outputs": [
    {
     "data": {
      "text/plain": [
       "array([[False,  True, False],\n",
       "       [ True, False,  True]])"
      ]
     },
     "execution_count": 584,
     "metadata": {},
     "output_type": "execute_result"
    }
   ],
   "source": [
    "arr2 > arr"
   ]
  },
  {
   "cell_type": "code",
   "execution_count": 585,
   "id": "55cb1e6d-61ae-4cc4-8f9c-26cf7c6347a4",
   "metadata": {},
   "outputs": [],
   "source": [
    "# 14th October, 2025, Chapter 4"
   ]
  },
  {
   "cell_type": "code",
   "execution_count": 586,
   "id": "669f1911-d6e4-4fbf-a31a-09d268fcd94b",
   "metadata": {},
   "outputs": [],
   "source": [
    "# Basic indexing and slicing"
   ]
  },
  {
   "cell_type": "code",
   "execution_count": 587,
   "id": "c3f25f82-efc7-48d2-b870-2a9c6ee46771",
   "metadata": {},
   "outputs": [],
   "source": [
    "arr = np.arange(10)"
   ]
  },
  {
   "cell_type": "code",
   "execution_count": 588,
   "id": "f6fbafeb-a677-498d-98c4-4fd86d8976b0",
   "metadata": {},
   "outputs": [
    {
     "data": {
      "text/plain": [
       "array([0, 1, 2, 3, 4, 5, 6, 7, 8, 9])"
      ]
     },
     "execution_count": 588,
     "metadata": {},
     "output_type": "execute_result"
    }
   ],
   "source": [
    "arr"
   ]
  },
  {
   "cell_type": "code",
   "execution_count": 589,
   "id": "24840bcc-4e08-44d1-abde-83420ffe98c0",
   "metadata": {},
   "outputs": [
    {
     "data": {
      "text/plain": [
       "np.int64(5)"
      ]
     },
     "execution_count": 589,
     "metadata": {},
     "output_type": "execute_result"
    }
   ],
   "source": [
    "arr[5]"
   ]
  },
  {
   "cell_type": "code",
   "execution_count": 590,
   "id": "80b5bbf4-3456-4b1b-b369-d1c83cdd45a9",
   "metadata": {},
   "outputs": [
    {
     "data": {
      "text/plain": [
       "array([5, 6, 7])"
      ]
     },
     "execution_count": 590,
     "metadata": {},
     "output_type": "execute_result"
    }
   ],
   "source": [
    "arr[5:8]"
   ]
  },
  {
   "cell_type": "code",
   "execution_count": 591,
   "id": "6248f5bf-e0d6-4f1d-b48d-0795a30e05d6",
   "metadata": {},
   "outputs": [],
   "source": [
    "arr[5:8] = 12"
   ]
  },
  {
   "cell_type": "code",
   "execution_count": 592,
   "id": "a5da68aa-f2bb-4c34-8fad-1e83b49c0a1c",
   "metadata": {},
   "outputs": [
    {
     "data": {
      "text/plain": [
       "array([ 0,  1,  2,  3,  4, 12, 12, 12,  8,  9])"
      ]
     },
     "execution_count": 592,
     "metadata": {},
     "output_type": "execute_result"
    }
   ],
   "source": [
    "arr"
   ]
  },
  {
   "cell_type": "code",
   "execution_count": 593,
   "id": "f51a9e20-ad47-4dc1-93ba-128fa197c021",
   "metadata": {},
   "outputs": [],
   "source": [
    "arr_slice = arr[5:8]"
   ]
  },
  {
   "cell_type": "code",
   "execution_count": 594,
   "id": "81bd9df5-bf4a-4920-9697-dc7d174530af",
   "metadata": {},
   "outputs": [
    {
     "data": {
      "text/plain": [
       "array([12, 12, 12])"
      ]
     },
     "execution_count": 594,
     "metadata": {},
     "output_type": "execute_result"
    }
   ],
   "source": [
    "arr_slice"
   ]
  },
  {
   "cell_type": "code",
   "execution_count": 595,
   "id": "fbb632e0-e163-41bf-bbdd-24e8cc3c8db1",
   "metadata": {},
   "outputs": [],
   "source": [
    "arr_slice[1] = 12345"
   ]
  },
  {
   "cell_type": "code",
   "execution_count": 596,
   "id": "5202db8a-06e3-42d9-b2fc-ceb6a8848bae",
   "metadata": {},
   "outputs": [
    {
     "data": {
      "text/plain": [
       "array([    0,     1,     2,     3,     4,    12, 12345,    12,     8,\n",
       "           9])"
      ]
     },
     "execution_count": 596,
     "metadata": {},
     "output_type": "execute_result"
    }
   ],
   "source": [
    "arr"
   ]
  },
  {
   "cell_type": "code",
   "execution_count": 597,
   "id": "a6cf4d2f-5ebb-44d6-8b1b-34b5310d6907",
   "metadata": {},
   "outputs": [],
   "source": [
    "arr_slice[:] = 64"
   ]
  },
  {
   "cell_type": "code",
   "execution_count": 598,
   "id": "b84e68a9-553e-4a45-8356-5efe3aac6216",
   "metadata": {},
   "outputs": [
    {
     "data": {
      "text/plain": [
       "array([ 0,  1,  2,  3,  4, 64, 64, 64,  8,  9])"
      ]
     },
     "execution_count": 598,
     "metadata": {},
     "output_type": "execute_result"
    }
   ],
   "source": [
    "arr"
   ]
  },
  {
   "cell_type": "code",
   "execution_count": 599,
   "id": "5b04b940-1d92-4564-a1fc-2407781f6505",
   "metadata": {},
   "outputs": [],
   "source": [
    "arr2d = np.array([[1, 2, 3], [4, 5, 6], [7, 8, 9]])"
   ]
  },
  {
   "cell_type": "code",
   "execution_count": 600,
   "id": "d8909504-dd6b-4a5d-9a74-87b6e387f580",
   "metadata": {},
   "outputs": [
    {
     "data": {
      "text/plain": [
       "array([7, 8, 9])"
      ]
     },
     "execution_count": 600,
     "metadata": {},
     "output_type": "execute_result"
    }
   ],
   "source": [
    "arr2d[2]"
   ]
  },
  {
   "cell_type": "code",
   "execution_count": 601,
   "id": "3756b062-e7fa-4476-95f3-0cb51527cbc5",
   "metadata": {},
   "outputs": [
    {
     "data": {
      "text/plain": [
       "np.int64(3)"
      ]
     },
     "execution_count": 601,
     "metadata": {},
     "output_type": "execute_result"
    }
   ],
   "source": [
    "arr2d[0][2]"
   ]
  },
  {
   "cell_type": "code",
   "execution_count": 602,
   "id": "d4472c5b-fb99-4e0e-bb39-72e6e389e173",
   "metadata": {},
   "outputs": [
    {
     "data": {
      "text/plain": [
       "np.int64(3)"
      ]
     },
     "execution_count": 602,
     "metadata": {},
     "output_type": "execute_result"
    }
   ],
   "source": [
    "arr2d[0, 2]"
   ]
  },
  {
   "cell_type": "code",
   "execution_count": 603,
   "id": "61a2a8bd-a34d-4cfe-9b69-5eff0bdab495",
   "metadata": {},
   "outputs": [],
   "source": [
    "arr3d = np.array([[[1, 2, 3], [4, 5, 6]], [[7, 8, 9], [10, 11, 12]]])"
   ]
  },
  {
   "cell_type": "code",
   "execution_count": 604,
   "id": "5cd43744-fe6b-49c5-9d8c-3efa65de110a",
   "metadata": {},
   "outputs": [
    {
     "data": {
      "text/plain": [
       "array([[[ 1,  2,  3],\n",
       "        [ 4,  5,  6]],\n",
       "\n",
       "       [[ 7,  8,  9],\n",
       "        [10, 11, 12]]])"
      ]
     },
     "execution_count": 604,
     "metadata": {},
     "output_type": "execute_result"
    }
   ],
   "source": [
    "arr3d"
   ]
  },
  {
   "cell_type": "code",
   "execution_count": 605,
   "id": "5c26169b-56de-4a2a-aa3f-0c90aeef25af",
   "metadata": {},
   "outputs": [
    {
     "data": {
      "text/plain": [
       "array([[1, 2, 3],\n",
       "       [4, 5, 6]])"
      ]
     },
     "execution_count": 605,
     "metadata": {},
     "output_type": "execute_result"
    }
   ],
   "source": [
    "arr3d[0]"
   ]
  },
  {
   "cell_type": "code",
   "execution_count": 606,
   "id": "0b0e39bc-04af-4cf9-916c-2f57384a7b6b",
   "metadata": {},
   "outputs": [],
   "source": [
    "old_values = arr3d[0].copy()"
   ]
  },
  {
   "cell_type": "code",
   "execution_count": 607,
   "id": "1b03f225-f84b-43a7-b03c-d0bcd5db24b2",
   "metadata": {},
   "outputs": [],
   "source": [
    "arr3d[0] = 42"
   ]
  },
  {
   "cell_type": "code",
   "execution_count": 608,
   "id": "ce92bfe8-6cc4-4b13-84b3-c70b8f4b80ae",
   "metadata": {},
   "outputs": [
    {
     "data": {
      "text/plain": [
       "array([[[42, 42, 42],\n",
       "        [42, 42, 42]],\n",
       "\n",
       "       [[ 7,  8,  9],\n",
       "        [10, 11, 12]]])"
      ]
     },
     "execution_count": 608,
     "metadata": {},
     "output_type": "execute_result"
    }
   ],
   "source": [
    "arr3d"
   ]
  },
  {
   "cell_type": "code",
   "execution_count": 609,
   "id": "33a09eb8-a448-4d19-aa19-4c3725f98d96",
   "metadata": {},
   "outputs": [],
   "source": [
    "arr3d[0] = old_values"
   ]
  },
  {
   "cell_type": "code",
   "execution_count": 610,
   "id": "1e87cf8f-819b-4a04-a482-760468f46e24",
   "metadata": {},
   "outputs": [
    {
     "data": {
      "text/plain": [
       "array([[[ 1,  2,  3],\n",
       "        [ 4,  5,  6]],\n",
       "\n",
       "       [[ 7,  8,  9],\n",
       "        [10, 11, 12]]])"
      ]
     },
     "execution_count": 610,
     "metadata": {},
     "output_type": "execute_result"
    }
   ],
   "source": [
    "arr3d"
   ]
  },
  {
   "cell_type": "code",
   "execution_count": 611,
   "id": "bbc5df76-8675-4a66-a1b7-fa1be6c3d5e7",
   "metadata": {},
   "outputs": [
    {
     "data": {
      "text/plain": [
       "array([7, 8, 9])"
      ]
     },
     "execution_count": 611,
     "metadata": {},
     "output_type": "execute_result"
    }
   ],
   "source": [
    "arr3d[1, 0]"
   ]
  },
  {
   "cell_type": "code",
   "execution_count": 612,
   "id": "931a6837-0bf2-496c-8d92-b5ec9c2f573f",
   "metadata": {},
   "outputs": [],
   "source": [
    "x = arr3d[1]"
   ]
  },
  {
   "cell_type": "code",
   "execution_count": 613,
   "id": "4961862d-3b29-4df6-b5f6-ffd8ba2b771d",
   "metadata": {},
   "outputs": [
    {
     "data": {
      "text/plain": [
       "array([[ 7,  8,  9],\n",
       "       [10, 11, 12]])"
      ]
     },
     "execution_count": 613,
     "metadata": {},
     "output_type": "execute_result"
    }
   ],
   "source": [
    "x"
   ]
  },
  {
   "cell_type": "code",
   "execution_count": 614,
   "id": "e9b50d04-f774-44ae-8baf-3bb8e41ba970",
   "metadata": {},
   "outputs": [
    {
     "data": {
      "text/plain": [
       "array([7, 8, 9])"
      ]
     },
     "execution_count": 614,
     "metadata": {},
     "output_type": "execute_result"
    }
   ],
   "source": [
    "x[0]"
   ]
  },
  {
   "cell_type": "code",
   "execution_count": 615,
   "id": "05694128-459a-4305-b92d-dc4fb3b2dd8a",
   "metadata": {},
   "outputs": [],
   "source": [
    "list = [[1, 2, 3],[4, 5, 6]]"
   ]
  },
  {
   "cell_type": "code",
   "execution_count": 616,
   "id": "3120feb7-c790-4440-bd2a-8316d1fe9a90",
   "metadata": {},
   "outputs": [],
   "source": [
    "# 15th October 2025 Chapter 4"
   ]
  },
  {
   "cell_type": "code",
   "execution_count": 617,
   "id": "d98ece86-0ddf-40ff-93c1-d5737e628f1b",
   "metadata": {},
   "outputs": [],
   "source": [
    "# Indexing with slices"
   ]
  },
  {
   "cell_type": "code",
   "execution_count": 618,
   "id": "1ea79cec-355a-490c-8307-a38ba4c1266d",
   "metadata": {},
   "outputs": [
    {
     "data": {
      "text/plain": [
       "array([ 0,  1,  2,  3,  4, 64, 64, 64,  8,  9])"
      ]
     },
     "execution_count": 618,
     "metadata": {},
     "output_type": "execute_result"
    }
   ],
   "source": [
    "arr"
   ]
  },
  {
   "cell_type": "code",
   "execution_count": 619,
   "id": "2cde0c0f-e833-43b1-bd98-35b6aeb8173f",
   "metadata": {},
   "outputs": [
    {
     "data": {
      "text/plain": [
       "array([ 1,  2,  3,  4, 64])"
      ]
     },
     "execution_count": 619,
     "metadata": {},
     "output_type": "execute_result"
    }
   ],
   "source": [
    "arr[1:6]"
   ]
  },
  {
   "cell_type": "code",
   "execution_count": 620,
   "id": "40670e95-4fb1-41b8-89da-86be15d8b7ea",
   "metadata": {},
   "outputs": [
    {
     "data": {
      "text/plain": [
       "array([[1, 2, 3],\n",
       "       [4, 5, 6],\n",
       "       [7, 8, 9]])"
      ]
     },
     "execution_count": 620,
     "metadata": {},
     "output_type": "execute_result"
    }
   ],
   "source": [
    "arr2d"
   ]
  },
  {
   "cell_type": "code",
   "execution_count": 621,
   "id": "c4cd51bb-40b2-44ed-9eea-cda72172ccce",
   "metadata": {},
   "outputs": [
    {
     "data": {
      "text/plain": [
       "array([[1, 2, 3],\n",
       "       [4, 5, 6]])"
      ]
     },
     "execution_count": 621,
     "metadata": {},
     "output_type": "execute_result"
    }
   ],
   "source": [
    "arr2d[:2]"
   ]
  },
  {
   "cell_type": "code",
   "execution_count": 622,
   "id": "363678b2-0eb5-4c04-ae0c-a06a9dfc91e2",
   "metadata": {},
   "outputs": [
    {
     "data": {
      "text/plain": [
       "array([[2, 3],\n",
       "       [5, 6]])"
      ]
     },
     "execution_count": 622,
     "metadata": {},
     "output_type": "execute_result"
    }
   ],
   "source": [
    "arr2d[:2, 1:]"
   ]
  },
  {
   "cell_type": "code",
   "execution_count": 623,
   "id": "91df23b0-45f6-49c2-b23a-04578e083662",
   "metadata": {},
   "outputs": [],
   "source": [
    "lower_dim_slice = arr2d[1, :2]"
   ]
  },
  {
   "cell_type": "code",
   "execution_count": 624,
   "id": "0c28e41c-c247-4fef-9fa5-acf951acb4d5",
   "metadata": {},
   "outputs": [
    {
     "data": {
      "text/plain": [
       "array([4, 5])"
      ]
     },
     "execution_count": 624,
     "metadata": {},
     "output_type": "execute_result"
    }
   ],
   "source": [
    "lower_dim_slice"
   ]
  },
  {
   "cell_type": "code",
   "execution_count": 625,
   "id": "f779c33d-1262-4c09-a3ce-38591286ad4e",
   "metadata": {},
   "outputs": [
    {
     "data": {
      "text/plain": [
       "(2,)"
      ]
     },
     "execution_count": 625,
     "metadata": {},
     "output_type": "execute_result"
    }
   ],
   "source": [
    "lower_dim_slice.shape"
   ]
  },
  {
   "cell_type": "code",
   "execution_count": 626,
   "id": "5c3abebb-74d3-4215-a5d8-afffb67480b1",
   "metadata": {},
   "outputs": [
    {
     "data": {
      "text/plain": [
       "array([3, 6])"
      ]
     },
     "execution_count": 626,
     "metadata": {},
     "output_type": "execute_result"
    }
   ],
   "source": [
    "arr2d[:2,2]"
   ]
  },
  {
   "cell_type": "code",
   "execution_count": 627,
   "id": "d780d207-2ac3-4649-aa6f-4928c406d22c",
   "metadata": {},
   "outputs": [
    {
     "data": {
      "text/plain": [
       "array([[1],\n",
       "       [4],\n",
       "       [7]])"
      ]
     },
     "execution_count": 627,
     "metadata": {},
     "output_type": "execute_result"
    }
   ],
   "source": [
    "arr2d[:, :1]"
   ]
  },
  {
   "cell_type": "code",
   "execution_count": 628,
   "id": "1b88ca4c-fbc1-4175-a250-5f035b3ec05c",
   "metadata": {},
   "outputs": [],
   "source": [
    "arr2d[:2, 1:] = 0"
   ]
  },
  {
   "cell_type": "code",
   "execution_count": 629,
   "id": "9dc1adbe-4da6-48cc-8a44-16a2b5e057de",
   "metadata": {},
   "outputs": [
    {
     "data": {
      "text/plain": [
       "array([[1, 0, 0],\n",
       "       [4, 0, 0],\n",
       "       [7, 8, 9]])"
      ]
     },
     "execution_count": 629,
     "metadata": {},
     "output_type": "execute_result"
    }
   ],
   "source": [
    "arr2d"
   ]
  },
  {
   "cell_type": "code",
   "execution_count": 630,
   "id": "67d6c4b6-e415-43b4-8071-27c0b2342820",
   "metadata": {},
   "outputs": [],
   "source": [
    "# Boolean Indexing"
   ]
  },
  {
   "cell_type": "code",
   "execution_count": 631,
   "id": "31ac5524-91aa-4cd6-92a0-b2d7c750414d",
   "metadata": {},
   "outputs": [],
   "source": [
    "names = np.array([\"Bob\", \"Joe\", \"Will\", \"Bob\", \"Will\", \"Joe\", \"Joe\"])"
   ]
  },
  {
   "cell_type": "code",
   "execution_count": 632,
   "id": "e0d3cd72-4295-4049-960f-38d5c5c84148",
   "metadata": {},
   "outputs": [],
   "source": [
    "data = np.array([[4, 7], [0, 2], [-5, 6], [0, 0], [1, 2], [-12, -4], [3, 4]])"
   ]
  },
  {
   "cell_type": "code",
   "execution_count": 633,
   "id": "ed9017f1-47f4-4e98-a5a0-a4771813798b",
   "metadata": {},
   "outputs": [
    {
     "data": {
      "text/plain": [
       "array(['Bob', 'Joe', 'Will', 'Bob', 'Will', 'Joe', 'Joe'], dtype='<U4')"
      ]
     },
     "execution_count": 633,
     "metadata": {},
     "output_type": "execute_result"
    }
   ],
   "source": [
    "names"
   ]
  },
  {
   "cell_type": "code",
   "execution_count": 634,
   "id": "ff42d73e-12c6-490e-903e-e0a1be3c21e0",
   "metadata": {},
   "outputs": [
    {
     "data": {
      "text/plain": [
       "array([[  4,   7],\n",
       "       [  0,   2],\n",
       "       [ -5,   6],\n",
       "       [  0,   0],\n",
       "       [  1,   2],\n",
       "       [-12,  -4],\n",
       "       [  3,   4]])"
      ]
     },
     "execution_count": 634,
     "metadata": {},
     "output_type": "execute_result"
    }
   ],
   "source": [
    "data"
   ]
  },
  {
   "cell_type": "code",
   "execution_count": 635,
   "id": "907a599c-b004-4756-9d20-eb46fe932afd",
   "metadata": {},
   "outputs": [],
   "source": [
    "data_slice = data[:3, 0:1].copy()"
   ]
  },
  {
   "cell_type": "code",
   "execution_count": 636,
   "id": "526af502-82c0-453d-a49f-2e36d0d40467",
   "metadata": {},
   "outputs": [],
   "source": [
    "data_slice[:] = 0"
   ]
  },
  {
   "cell_type": "code",
   "execution_count": 637,
   "id": "73f5bb68-d30a-4def-bc3b-62085cf1a6fa",
   "metadata": {},
   "outputs": [
    {
     "name": "stdout",
     "output_type": "stream",
     "text": [
      "[[0]\n",
      " [0]\n",
      " [0]]\n",
      "[[  4   7]\n",
      " [  0   2]\n",
      " [ -5   6]\n",
      " [  0   0]\n",
      " [  1   2]\n",
      " [-12  -4]\n",
      " [  3   4]]\n"
     ]
    }
   ],
   "source": [
    "print(data_slice)\n",
    "print(data)"
   ]
  },
  {
   "cell_type": "code",
   "execution_count": 638,
   "id": "290f94e0-65be-48c6-8378-b4693d281589",
   "metadata": {},
   "outputs": [
    {
     "data": {
      "text/plain": [
       "array([ True, False, False,  True, False, False, False])"
      ]
     },
     "execution_count": 638,
     "metadata": {},
     "output_type": "execute_result"
    }
   ],
   "source": [
    "names == \"Bob\""
   ]
  },
  {
   "cell_type": "code",
   "execution_count": 639,
   "id": "2c397792-1e3c-4133-892f-cb199040acdc",
   "metadata": {},
   "outputs": [
    {
     "data": {
      "text/plain": [
       "array([[4, 7],\n",
       "       [0, 0]])"
      ]
     },
     "execution_count": 639,
     "metadata": {},
     "output_type": "execute_result"
    }
   ],
   "source": [
    "data[names == \"Bob\"]"
   ]
  },
  {
   "cell_type": "code",
   "execution_count": 640,
   "id": "88167232-e8e5-4164-97ed-6212b5de5dcc",
   "metadata": {},
   "outputs": [
    {
     "data": {
      "text/plain": [
       "array([[7],\n",
       "       [0]])"
      ]
     },
     "execution_count": 640,
     "metadata": {},
     "output_type": "execute_result"
    }
   ],
   "source": [
    "data[names == \"Bob\", 1:]"
   ]
  },
  {
   "cell_type": "code",
   "execution_count": 641,
   "id": "212d36d8-c0d3-4865-bec0-1e9e44a50ed1",
   "metadata": {},
   "outputs": [
    {
     "data": {
      "text/plain": [
       "array([False,  True,  True, False,  True,  True,  True])"
      ]
     },
     "execution_count": 641,
     "metadata": {},
     "output_type": "execute_result"
    }
   ],
   "source": [
    "names != \"Bob\""
   ]
  },
  {
   "cell_type": "code",
   "execution_count": 642,
   "id": "17c20999-52d1-4231-a473-5e5ee8e6a303",
   "metadata": {},
   "outputs": [
    {
     "data": {
      "text/plain": [
       "array([False,  True,  True, False,  True,  True,  True])"
      ]
     },
     "execution_count": 642,
     "metadata": {},
     "output_type": "execute_result"
    }
   ],
   "source": [
    "~(names == \"Bob\")"
   ]
  },
  {
   "cell_type": "code",
   "execution_count": 643,
   "id": "253041e8-4bc9-48d6-a8f1-83321e9c692a",
   "metadata": {},
   "outputs": [
    {
     "data": {
      "text/plain": [
       "array([[  0,   2],\n",
       "       [ -5,   6],\n",
       "       [  1,   2],\n",
       "       [-12,  -4],\n",
       "       [  3,   4]])"
      ]
     },
     "execution_count": 643,
     "metadata": {},
     "output_type": "execute_result"
    }
   ],
   "source": [
    "data[~(names == \"Bob\")]"
   ]
  },
  {
   "cell_type": "code",
   "execution_count": 644,
   "id": "2ee34881-b65c-4fb5-bbf0-8e53c61b0ec9",
   "metadata": {},
   "outputs": [],
   "source": [
    "cond = names == \"Bob\""
   ]
  },
  {
   "cell_type": "code",
   "execution_count": 645,
   "id": "679b922a-58ec-48e1-9637-2d02002bb899",
   "metadata": {},
   "outputs": [
    {
     "data": {
      "text/plain": [
       "array([[  0,   2],\n",
       "       [ -5,   6],\n",
       "       [  1,   2],\n",
       "       [-12,  -4],\n",
       "       [  3,   4]])"
      ]
     },
     "execution_count": 645,
     "metadata": {},
     "output_type": "execute_result"
    }
   ],
   "source": [
    "data[~cond]"
   ]
  },
  {
   "cell_type": "code",
   "execution_count": 646,
   "id": "43777c1e-860b-42b8-978f-aac244e294bd",
   "metadata": {},
   "outputs": [],
   "source": [
    "mask = (names == \"Bob\") | (names == \"Will\")"
   ]
  },
  {
   "cell_type": "code",
   "execution_count": 647,
   "id": "06ace7cc-f869-4a22-adc2-fefb17d16485",
   "metadata": {},
   "outputs": [
    {
     "data": {
      "text/plain": [
       "array([ True, False,  True,  True,  True, False, False])"
      ]
     },
     "execution_count": 647,
     "metadata": {},
     "output_type": "execute_result"
    }
   ],
   "source": [
    "mask"
   ]
  },
  {
   "cell_type": "code",
   "execution_count": 648,
   "id": "29497909-eef8-47cb-95dc-a3c48bdd081b",
   "metadata": {},
   "outputs": [
    {
     "data": {
      "text/plain": [
       "array([[ 4,  7],\n",
       "       [-5,  6],\n",
       "       [ 0,  0],\n",
       "       [ 1,  2]])"
      ]
     },
     "execution_count": 648,
     "metadata": {},
     "output_type": "execute_result"
    }
   ],
   "source": [
    "data[mask]"
   ]
  },
  {
   "cell_type": "code",
   "execution_count": 649,
   "id": "21fa7f8a-d4ea-4851-9365-979132db4510",
   "metadata": {},
   "outputs": [],
   "source": [
    "data[data < 0] = 0"
   ]
  },
  {
   "cell_type": "code",
   "execution_count": 650,
   "id": "8166a4aa-e95e-483c-b2e6-2805dc2f065e",
   "metadata": {},
   "outputs": [
    {
     "data": {
      "text/plain": [
       "array([[4, 7],\n",
       "       [0, 2],\n",
       "       [0, 6],\n",
       "       [0, 0],\n",
       "       [1, 2],\n",
       "       [0, 0],\n",
       "       [3, 4]])"
      ]
     },
     "execution_count": 650,
     "metadata": {},
     "output_type": "execute_result"
    }
   ],
   "source": [
    "data"
   ]
  },
  {
   "cell_type": "code",
   "execution_count": 651,
   "id": "09cd4e26-107f-4431-bf4d-96e04b872226",
   "metadata": {},
   "outputs": [],
   "source": [
    "data[names != \"Joe\"] = 7"
   ]
  },
  {
   "cell_type": "code",
   "execution_count": 652,
   "id": "655b81e2-30bc-45d5-80db-c597b3f00ba7",
   "metadata": {},
   "outputs": [
    {
     "data": {
      "text/plain": [
       "array([[7, 7],\n",
       "       [0, 2],\n",
       "       [7, 7],\n",
       "       [7, 7],\n",
       "       [7, 7],\n",
       "       [0, 0],\n",
       "       [3, 4]])"
      ]
     },
     "execution_count": 652,
     "metadata": {},
     "output_type": "execute_result"
    }
   ],
   "source": [
    "data"
   ]
  },
  {
   "cell_type": "code",
   "execution_count": 653,
   "id": "94a03615-5d70-45ab-99b3-d3679aa8b4cf",
   "metadata": {},
   "outputs": [],
   "source": [
    "# Fancy Indexing"
   ]
  },
  {
   "cell_type": "code",
   "execution_count": 654,
   "id": "da699f32-ace9-4c2b-93f4-270f3f07c468",
   "metadata": {},
   "outputs": [],
   "source": [
    "arr = np.zeros((8, 4))"
   ]
  },
  {
   "cell_type": "code",
   "execution_count": 655,
   "id": "f20eb1a2-40f2-42a2-b6eb-04b8a07f2585",
   "metadata": {},
   "outputs": [],
   "source": [
    "for i in range(8):\n",
    "    arr[i] = i"
   ]
  },
  {
   "cell_type": "code",
   "execution_count": 656,
   "id": "db2adb3d-9ff2-405f-926b-3b1ded642795",
   "metadata": {},
   "outputs": [
    {
     "data": {
      "text/plain": [
       "array([[0., 0., 0., 0.],\n",
       "       [1., 1., 1., 1.],\n",
       "       [2., 2., 2., 2.],\n",
       "       [3., 3., 3., 3.],\n",
       "       [4., 4., 4., 4.],\n",
       "       [5., 5., 5., 5.],\n",
       "       [6., 6., 6., 6.],\n",
       "       [7., 7., 7., 7.]])"
      ]
     },
     "execution_count": 656,
     "metadata": {},
     "output_type": "execute_result"
    }
   ],
   "source": [
    "arr"
   ]
  },
  {
   "cell_type": "code",
   "execution_count": 657,
   "id": "51b65daf-c740-411e-ba49-99debaa14c44",
   "metadata": {},
   "outputs": [
    {
     "data": {
      "text/plain": [
       "array([[4., 4., 4., 4.],\n",
       "       [3., 3., 3., 3.],\n",
       "       [0., 0., 0., 0.],\n",
       "       [6., 6., 6., 6.]])"
      ]
     },
     "execution_count": 657,
     "metadata": {},
     "output_type": "execute_result"
    }
   ],
   "source": [
    "arr[[4, 3, 0, 6]]"
   ]
  },
  {
   "cell_type": "code",
   "execution_count": 658,
   "id": "f553d1fa-8ebe-4d7a-8391-8d86af2119c1",
   "metadata": {},
   "outputs": [
    {
     "data": {
      "text/plain": [
       "array([[5., 5., 5., 5.],\n",
       "       [3., 3., 3., 3.],\n",
       "       [1., 1., 1., 1.]])"
      ]
     },
     "execution_count": 658,
     "metadata": {},
     "output_type": "execute_result"
    }
   ],
   "source": [
    "arr[[-3, -5, -7]]"
   ]
  },
  {
   "cell_type": "code",
   "execution_count": 659,
   "id": "23eccc73-7fd8-4df1-a072-554b88456db3",
   "metadata": {},
   "outputs": [],
   "source": [
    "arr = np.arange(32).reshape((8, 4))"
   ]
  },
  {
   "cell_type": "code",
   "execution_count": 660,
   "id": "24f869ae-43dc-4e57-a990-461cd1567bd2",
   "metadata": {},
   "outputs": [
    {
     "data": {
      "text/plain": [
       "array([[ 0,  1,  2,  3],\n",
       "       [ 4,  5,  6,  7],\n",
       "       [ 8,  9, 10, 11],\n",
       "       [12, 13, 14, 15],\n",
       "       [16, 17, 18, 19],\n",
       "       [20, 21, 22, 23],\n",
       "       [24, 25, 26, 27],\n",
       "       [28, 29, 30, 31]])"
      ]
     },
     "execution_count": 660,
     "metadata": {},
     "output_type": "execute_result"
    }
   ],
   "source": [
    "arr"
   ]
  },
  {
   "cell_type": "code",
   "execution_count": 661,
   "id": "0ed74f65-d107-4d14-bce8-bf0dfc8bfe43",
   "metadata": {},
   "outputs": [
    {
     "data": {
      "text/plain": [
       "array([ 4, 23, 29, 10])"
      ]
     },
     "execution_count": 661,
     "metadata": {},
     "output_type": "execute_result"
    }
   ],
   "source": [
    "arr[[1, 5, 7, 2], [0, 3, 1, 2]]"
   ]
  },
  {
   "cell_type": "code",
   "execution_count": 662,
   "id": "517c42c6-b3a5-4d37-a68b-a286f7b32394",
   "metadata": {},
   "outputs": [
    {
     "data": {
      "text/plain": [
       "array([[ 4,  7,  5,  6],\n",
       "       [20, 23, 21, 22],\n",
       "       [28, 31, 29, 30],\n",
       "       [ 8, 11,  9, 10]])"
      ]
     },
     "execution_count": 662,
     "metadata": {},
     "output_type": "execute_result"
    }
   ],
   "source": [
    "arr[[1, 5, 7, 2]][:, [0, 3, 1, 2]]"
   ]
  },
  {
   "cell_type": "code",
   "execution_count": 663,
   "id": "fb4330b9-81b7-481f-98e7-11a6292fc7eb",
   "metadata": {},
   "outputs": [
    {
     "data": {
      "text/plain": [
       "array([ 4, 23, 29, 10])"
      ]
     },
     "execution_count": 663,
     "metadata": {},
     "output_type": "execute_result"
    }
   ],
   "source": [
    "arr[[1, 5, 7, 2], [0, 3, 1, 2]]"
   ]
  },
  {
   "cell_type": "code",
   "execution_count": 664,
   "id": "767f9d40-7276-477d-ad8b-5de016273f4b",
   "metadata": {},
   "outputs": [],
   "source": [
    "arr[[1, 5, 7, 2], [0, 3, 1, 2]] = 0"
   ]
  },
  {
   "cell_type": "code",
   "execution_count": 665,
   "id": "9937e745-d77d-4a62-9e50-b60cdb290218",
   "metadata": {},
   "outputs": [
    {
     "data": {
      "text/plain": [
       "array([[ 0,  1,  2,  3],\n",
       "       [ 0,  5,  6,  7],\n",
       "       [ 8,  9,  0, 11],\n",
       "       [12, 13, 14, 15],\n",
       "       [16, 17, 18, 19],\n",
       "       [20, 21, 22,  0],\n",
       "       [24, 25, 26, 27],\n",
       "       [28,  0, 30, 31]])"
      ]
     },
     "execution_count": 665,
     "metadata": {},
     "output_type": "execute_result"
    }
   ],
   "source": [
    "arr"
   ]
  },
  {
   "cell_type": "code",
   "execution_count": 666,
   "id": "90a128e9-019c-43b5-af3b-e8a4db0ad9c4",
   "metadata": {},
   "outputs": [],
   "source": [
    "# Transposing Arrays and Swapping Axes"
   ]
  },
  {
   "cell_type": "code",
   "execution_count": 667,
   "id": "f2882c1c-1e60-45dc-8601-4413f9455013",
   "metadata": {},
   "outputs": [],
   "source": [
    "arr = np.arange(15).reshape((3, 5))"
   ]
  },
  {
   "cell_type": "code",
   "execution_count": 668,
   "id": "d9bedb89-0525-44a5-915b-bdcd5311f6b3",
   "metadata": {},
   "outputs": [
    {
     "data": {
      "text/plain": [
       "array([[ 0,  1,  2,  3,  4],\n",
       "       [ 5,  6,  7,  8,  9],\n",
       "       [10, 11, 12, 13, 14]])"
      ]
     },
     "execution_count": 668,
     "metadata": {},
     "output_type": "execute_result"
    }
   ],
   "source": [
    "arr"
   ]
  },
  {
   "cell_type": "code",
   "execution_count": 669,
   "id": "854fb923-36fa-487d-83d9-f937fc9d7477",
   "metadata": {},
   "outputs": [
    {
     "data": {
      "text/plain": [
       "array([[ 0,  5, 10],\n",
       "       [ 1,  6, 11],\n",
       "       [ 2,  7, 12],\n",
       "       [ 3,  8, 13],\n",
       "       [ 4,  9, 14]])"
      ]
     },
     "execution_count": 669,
     "metadata": {},
     "output_type": "execute_result"
    }
   ],
   "source": [
    "arr.T"
   ]
  },
  {
   "cell_type": "code",
   "execution_count": 670,
   "id": "61582aac-781b-49f5-a71e-caa26cbe4899",
   "metadata": {},
   "outputs": [],
   "source": [
    "arr = np.array([[0, 1, 0], [1, 2, -2], [6, 3, 2], [-1, 0, -1], [1, 0, 1]])"
   ]
  },
  {
   "cell_type": "code",
   "execution_count": 671,
   "id": "d8c033a2-fc03-47d4-8f8c-c4298b6d3718",
   "metadata": {},
   "outputs": [
    {
     "data": {
      "text/plain": [
       "array([[ 0,  1,  0],\n",
       "       [ 1,  2, -2],\n",
       "       [ 6,  3,  2],\n",
       "       [-1,  0, -1],\n",
       "       [ 1,  0,  1]])"
      ]
     },
     "execution_count": 671,
     "metadata": {},
     "output_type": "execute_result"
    }
   ],
   "source": [
    "arr"
   ]
  },
  {
   "cell_type": "code",
   "execution_count": 672,
   "id": "5bb7be6a-863d-4798-a905-23460b39e8f2",
   "metadata": {},
   "outputs": [
    {
     "data": {
      "text/plain": [
       "array([[39, 20, 12],\n",
       "       [20, 14,  2],\n",
       "       [12,  2, 10]])"
      ]
     },
     "execution_count": 672,
     "metadata": {},
     "output_type": "execute_result"
    }
   ],
   "source": [
    "np.dot(arr.T, arr)"
   ]
  },
  {
   "cell_type": "code",
   "execution_count": 673,
   "id": "ee15da30-d5ff-446e-b2aa-f0ace537c578",
   "metadata": {},
   "outputs": [
    {
     "name": "stdout",
     "output_type": "stream",
     "text": [
      "\u001b[31mSignature:\u001b[39m       np.swapaxes(a, axis1, axis2)\n",
      "\u001b[31mCall signature:\u001b[39m  np.swapaxes(*args, **kwargs)\n",
      "\u001b[31mType:\u001b[39m            _ArrayFunctionDispatcher\n",
      "\u001b[31mString form:\u001b[39m     <function swapaxes at 0x000001EDB22BE660>\n",
      "\u001b[31mFile:\u001b[39m            c:\\users\\rahul jangid\\appdata\\local\\programs\\python\\python313\\lib\\site-packages\\numpy\\_core\\fromnumeric.py\n",
      "\u001b[31mDocstring:\u001b[39m      \n",
      "Interchange two axes of an array.\n",
      "\n",
      "Parameters\n",
      "----------\n",
      "a : array_like\n",
      "    Input array.\n",
      "axis1 : int\n",
      "    First axis.\n",
      "axis2 : int\n",
      "    Second axis.\n",
      "\n",
      "Returns\n",
      "-------\n",
      "a_swapped : ndarray\n",
      "    For NumPy >= 1.10.0, if `a` is an ndarray, then a view of `a` is\n",
      "    returned; otherwise a new array is created. For earlier NumPy\n",
      "    versions a view of `a` is returned only if the order of the\n",
      "    axes is changed, otherwise the input array is returned.\n",
      "\n",
      "Examples\n",
      "--------\n",
      ">>> import numpy as np\n",
      ">>> x = np.array([[1,2,3]])\n",
      ">>> np.swapaxes(x,0,1)\n",
      "array([[1],\n",
      "       [2],\n",
      "       [3]])\n",
      "\n",
      ">>> x = np.array([[[0,1],[2,3]],[[4,5],[6,7]]])\n",
      ">>> x\n",
      "array([[[0, 1],\n",
      "        [2, 3]],\n",
      "       [[4, 5],\n",
      "        [6, 7]]])\n",
      "\n",
      ">>> np.swapaxes(x,0,2)\n",
      "array([[[0, 4],\n",
      "        [2, 6]],\n",
      "       [[1, 5],\n",
      "        [3, 7]]])\n",
      "\u001b[31mClass docstring:\u001b[39m\n",
      "Class to wrap functions with checks for __array_function__ overrides.\n",
      "\n",
      "All arguments are required, and can only be passed by position.\n",
      "\n",
      "Parameters\n",
      "----------\n",
      "dispatcher : function or None\n",
      "    The dispatcher function that returns a single sequence-like object\n",
      "    of all arguments relevant.  It must have the same signature (except\n",
      "    the default values) as the actual implementation.\n",
      "    If ``None``, this is a ``like=`` dispatcher and the\n",
      "    ``_ArrayFunctionDispatcher`` must be called with ``like`` as the\n",
      "    first (additional and positional) argument.\n",
      "implementation : function\n",
      "    Function that implements the operation on NumPy arrays without\n",
      "    overrides.  Arguments passed calling the ``_ArrayFunctionDispatcher``\n",
      "    will be forwarded to this (and the ``dispatcher``) as if using\n",
      "    ``*args, **kwargs``.\n",
      "\n",
      "Attributes\n",
      "----------\n",
      "_implementation : function\n",
      "    The original implementation passed in."
     ]
    }
   ],
   "source": [
    "np.swapaxes?"
   ]
  },
  {
   "cell_type": "code",
   "execution_count": 674,
   "id": "1dc886f2-ee55-4249-85d9-79d9c0a18532",
   "metadata": {},
   "outputs": [
    {
     "data": {
      "text/plain": [
       "array([[ 0,  1,  0],\n",
       "       [ 1,  2, -2],\n",
       "       [ 6,  3,  2],\n",
       "       [-1,  0, -1],\n",
       "       [ 1,  0,  1]])"
      ]
     },
     "execution_count": 674,
     "metadata": {},
     "output_type": "execute_result"
    }
   ],
   "source": [
    "arr"
   ]
  },
  {
   "cell_type": "code",
   "execution_count": 675,
   "id": "bccacdbd-efa1-427d-85c6-a53548985bff",
   "metadata": {},
   "outputs": [
    {
     "data": {
      "text/plain": [
       "array([[ 0,  1,  6, -1,  1],\n",
       "       [ 1,  2,  3,  0,  0],\n",
       "       [ 0, -2,  2, -1,  1]])"
      ]
     },
     "execution_count": 675,
     "metadata": {},
     "output_type": "execute_result"
    }
   ],
   "source": [
    "arr.swapaxes(0,1)"
   ]
  },
  {
   "cell_type": "code",
   "execution_count": 676,
   "id": "280d837a-649b-48bd-8a9a-34b2e46f5366",
   "metadata": {},
   "outputs": [],
   "source": [
    "#Pseudorandom Number Generation"
   ]
  },
  {
   "cell_type": "code",
   "execution_count": 677,
   "id": "a950e479-aeb0-4cb1-bde5-207cc2de3cb1",
   "metadata": {},
   "outputs": [],
   "source": [
    "samples = np.random.standard_normal(size=(4, 4))"
   ]
  },
  {
   "cell_type": "code",
   "execution_count": 678,
   "id": "eb9905c4-632d-49a8-851e-53d26f7ca9ca",
   "metadata": {},
   "outputs": [
    {
     "data": {
      "text/plain": [
       "array([[ 0.38359997, -0.3725371 ,  0.55464345,  0.6864324 ],\n",
       "       [ 0.28177014, -0.276858  , -0.65948476, -1.26892359],\n",
       "       [-0.31758695, -2.01625036,  1.05775917, -1.37749123],\n",
       "       [-1.04906665,  0.65445153, -0.15770666, -0.45658436]])"
      ]
     },
     "execution_count": 678,
     "metadata": {},
     "output_type": "execute_result"
    }
   ],
   "source": [
    "samples"
   ]
  },
  {
   "cell_type": "code",
   "execution_count": 679,
   "id": "56890863-0a18-4864-88c8-bfb18e2d28b0",
   "metadata": {},
   "outputs": [],
   "source": [
    "from random import normalvariate"
   ]
  },
  {
   "cell_type": "code",
   "execution_count": 680,
   "id": "53f7118c-3e0b-4e46-bba2-0140803cc009",
   "metadata": {},
   "outputs": [],
   "source": [
    "N = 1_000_000"
   ]
  },
  {
   "cell_type": "code",
   "execution_count": 681,
   "id": "b67b5a2a-a14c-4b4e-9f3a-f0fec7a70180",
   "metadata": {},
   "outputs": [
    {
     "name": "stdout",
     "output_type": "stream",
     "text": [
      "306 ms ± 25.3 ms per loop (mean ± std. dev. of 7 runs, 1 loop each)\n"
     ]
    }
   ],
   "source": [
    "%timeit samples = [normalvariate(0,1) for _ in range(N)]"
   ]
  },
  {
   "cell_type": "code",
   "execution_count": 682,
   "id": "4ee4c43b-4739-479b-9d27-3ee0e2a23668",
   "metadata": {},
   "outputs": [
    {
     "name": "stdout",
     "output_type": "stream",
     "text": [
      "13.2 ms ± 588 μs per loop (mean ± std. dev. of 7 runs, 100 loops each)\n"
     ]
    }
   ],
   "source": [
    "%timeit np.random.standard_normal(N)"
   ]
  },
  {
   "cell_type": "code",
   "execution_count": 683,
   "id": "9c85cee8-2efd-4111-8118-85b3ba6889b5",
   "metadata": {},
   "outputs": [],
   "source": [
    "rng = np.random.default_rng(seed=12345)"
   ]
  },
  {
   "cell_type": "code",
   "execution_count": 684,
   "id": "667ebd42-7c89-4dd0-9372-2394648422ca",
   "metadata": {},
   "outputs": [],
   "source": [
    "data = rng.standard_normal((2, 3))"
   ]
  },
  {
   "cell_type": "code",
   "execution_count": 685,
   "id": "ba3c383e-169e-4ba5-9da5-4c30286fa95d",
   "metadata": {},
   "outputs": [
    {
     "data": {
      "text/plain": [
       "array([[-1.42382504,  1.26372846, -0.87066174],\n",
       "       [-0.25917323, -0.07534331, -0.74088465]])"
      ]
     },
     "execution_count": 685,
     "metadata": {},
     "output_type": "execute_result"
    }
   ],
   "source": [
    "data"
   ]
  },
  {
   "cell_type": "code",
   "execution_count": 686,
   "id": "b3e9515d-58b3-42e9-a52a-edad9f4f4e97",
   "metadata": {},
   "outputs": [
    {
     "data": {
      "text/plain": [
       "numpy.random._generator.Generator"
      ]
     },
     "execution_count": 686,
     "metadata": {},
     "output_type": "execute_result"
    }
   ],
   "source": [
    "type(rng)"
   ]
  },
  {
   "cell_type": "code",
   "execution_count": 687,
   "id": "2567b0cd-cfcb-465f-9eeb-9dbd6d5740f1",
   "metadata": {},
   "outputs": [],
   "source": [
    "# 4.3 Universal Functions: Fast Element-Wise Array Functions"
   ]
  },
  {
   "cell_type": "code",
   "execution_count": 688,
   "id": "3c0ed187-300b-41b2-bdfd-bbcbd79fc521",
   "metadata": {},
   "outputs": [],
   "source": [
    "arr = np.arange(10)"
   ]
  },
  {
   "cell_type": "code",
   "execution_count": 689,
   "id": "07a068a8-079a-4af2-aae4-525a6891dab7",
   "metadata": {},
   "outputs": [
    {
     "data": {
      "text/plain": [
       "array([0, 1, 2, 3, 4, 5, 6, 7, 8, 9])"
      ]
     },
     "execution_count": 689,
     "metadata": {},
     "output_type": "execute_result"
    }
   ],
   "source": [
    "arr"
   ]
  },
  {
   "cell_type": "code",
   "execution_count": 690,
   "id": "8c3bf6c2-1599-4675-acc6-b935d81a47b6",
   "metadata": {},
   "outputs": [
    {
     "data": {
      "text/plain": [
       "array([0.        , 1.        , 1.41421356, 1.73205081, 2.        ,\n",
       "       2.23606798, 2.44948974, 2.64575131, 2.82842712, 3.        ])"
      ]
     },
     "execution_count": 690,
     "metadata": {},
     "output_type": "execute_result"
    }
   ],
   "source": [
    "np.sqrt(arr)"
   ]
  },
  {
   "cell_type": "code",
   "execution_count": 691,
   "id": "9e7dae28-ee23-4081-ab59-0f8339a1762d",
   "metadata": {},
   "outputs": [
    {
     "data": {
      "text/plain": [
       "array([1.00000000e+00, 2.71828183e+00, 7.38905610e+00, 2.00855369e+01,\n",
       "       5.45981500e+01, 1.48413159e+02, 4.03428793e+02, 1.09663316e+03,\n",
       "       2.98095799e+03, 8.10308393e+03])"
      ]
     },
     "execution_count": 691,
     "metadata": {},
     "output_type": "execute_result"
    }
   ],
   "source": [
    "np.exp(arr)"
   ]
  },
  {
   "cell_type": "code",
   "execution_count": 692,
   "id": "152d4d5d-2d63-4ecd-b25f-8c0acf86772e",
   "metadata": {},
   "outputs": [],
   "source": [
    "x = rng.standard_normal(8)"
   ]
  },
  {
   "cell_type": "code",
   "execution_count": 693,
   "id": "fecff036-84a4-4914-ba22-75829a3141d0",
   "metadata": {},
   "outputs": [],
   "source": [
    "y = rng.standard_normal(8)"
   ]
  },
  {
   "cell_type": "code",
   "execution_count": 694,
   "id": "d3da4fcc-335f-4905-9f79-31305656b20f",
   "metadata": {},
   "outputs": [
    {
     "data": {
      "text/plain": [
       "array([-1.3677927 ,  0.6488928 ,  0.36105811, -1.95286306,  2.34740965,\n",
       "        0.96849691, -0.75938718,  0.90219827])"
      ]
     },
     "execution_count": 694,
     "metadata": {},
     "output_type": "execute_result"
    }
   ],
   "source": [
    "x"
   ]
  },
  {
   "cell_type": "code",
   "execution_count": 695,
   "id": "8ef49aa8-c4d7-4aca-9ae5-7d1736ce5844",
   "metadata": {},
   "outputs": [
    {
     "data": {
      "text/plain": [
       "array([-0.46695317, -0.06068952,  0.78884434, -1.25666813,  0.57585751,\n",
       "        1.39897899,  1.32229806, -0.29969852])"
      ]
     },
     "execution_count": 695,
     "metadata": {},
     "output_type": "execute_result"
    }
   ],
   "source": [
    "y"
   ]
  },
  {
   "cell_type": "code",
   "execution_count": 696,
   "id": "1cc1817c-b2d4-4dee-b79b-fd80e29aa7d3",
   "metadata": {},
   "outputs": [
    {
     "data": {
      "text/plain": [
       "array([-0.46695317,  0.6488928 ,  0.78884434, -1.25666813,  2.34740965,\n",
       "        1.39897899,  1.32229806,  0.90219827])"
      ]
     },
     "execution_count": 696,
     "metadata": {},
     "output_type": "execute_result"
    }
   ],
   "source": [
    "np.maximum(x, y)"
   ]
  },
  {
   "cell_type": "code",
   "execution_count": 697,
   "id": "008e7f01-50bc-4ace-904b-25c821514ca4",
   "metadata": {},
   "outputs": [],
   "source": [
    "arr = rng.standard_normal(7) * 5"
   ]
  },
  {
   "cell_type": "code",
   "execution_count": 698,
   "id": "6a5b0481-873d-4eb6-adc0-8d9680bc95da",
   "metadata": {},
   "outputs": [
    {
     "data": {
      "text/plain": [
       "array([ 4.51459671, -8.10791367, -0.7909463 ,  2.24741966, -6.71800536,\n",
       "       -0.40843795,  8.62369966])"
      ]
     },
     "execution_count": 698,
     "metadata": {},
     "output_type": "execute_result"
    }
   ],
   "source": [
    "arr"
   ]
  },
  {
   "cell_type": "code",
   "execution_count": 699,
   "id": "5d6631a5-f0fc-4d8e-9957-e31371817597",
   "metadata": {},
   "outputs": [],
   "source": [
    "remainder, whole_part = np.modf(arr)"
   ]
  },
  {
   "cell_type": "code",
   "execution_count": 700,
   "id": "894d0395-13fc-44c2-8606-7756045e60c4",
   "metadata": {},
   "outputs": [
    {
     "data": {
      "text/plain": [
       "array([ 0.51459671, -0.10791367, -0.7909463 ,  0.24741966, -0.71800536,\n",
       "       -0.40843795,  0.62369966])"
      ]
     },
     "execution_count": 700,
     "metadata": {},
     "output_type": "execute_result"
    }
   ],
   "source": [
    "remainder"
   ]
  },
  {
   "cell_type": "code",
   "execution_count": 701,
   "id": "984ef11b-e78e-4893-a0fd-772e486b2c87",
   "metadata": {},
   "outputs": [
    {
     "data": {
      "text/plain": [
       "array([ 4., -8., -0.,  2., -6., -0.,  8.])"
      ]
     },
     "execution_count": 701,
     "metadata": {},
     "output_type": "execute_result"
    }
   ],
   "source": [
    "whole_part"
   ]
  },
  {
   "cell_type": "code",
   "execution_count": 702,
   "id": "94cb2c63-5067-4554-bfa9-10132f0be6c4",
   "metadata": {},
   "outputs": [
    {
     "data": {
      "text/plain": [
       "array([ 4.51459671, -8.10791367, -0.7909463 ,  2.24741966, -6.71800536,\n",
       "       -0.40843795,  8.62369966])"
      ]
     },
     "execution_count": 702,
     "metadata": {},
     "output_type": "execute_result"
    }
   ],
   "source": [
    "arr"
   ]
  },
  {
   "cell_type": "code",
   "execution_count": 703,
   "id": "78b0edf2-f4a4-41d5-a7fe-77dea455c482",
   "metadata": {},
   "outputs": [],
   "source": [
    "out = np.zeros_like(arr)"
   ]
  },
  {
   "cell_type": "code",
   "execution_count": 704,
   "id": "e418e341-b986-4187-a47f-648d34aa5151",
   "metadata": {},
   "outputs": [
    {
     "data": {
      "text/plain": [
       "array([ 5.51459671, -7.10791367,  0.2090537 ,  3.24741966, -5.71800536,\n",
       "        0.59156205,  9.62369966])"
      ]
     },
     "execution_count": 704,
     "metadata": {},
     "output_type": "execute_result"
    }
   ],
   "source": [
    "np.add(arr, 1)"
   ]
  },
  {
   "cell_type": "code",
   "execution_count": 705,
   "id": "565ef80d-d542-4bb2-a4ff-76f7c2d2a1ce",
   "metadata": {},
   "outputs": [
    {
     "data": {
      "text/plain": [
       "array([ 5.51459671, -7.10791367,  0.2090537 ,  3.24741966, -5.71800536,\n",
       "        0.59156205,  9.62369966])"
      ]
     },
     "execution_count": 705,
     "metadata": {},
     "output_type": "execute_result"
    }
   ],
   "source": [
    "np.add(arr, 1, out=out)"
   ]
  },
  {
   "cell_type": "code",
   "execution_count": 706,
   "id": "ad26a601-3126-4ebc-a81a-62092ae404a8",
   "metadata": {},
   "outputs": [
    {
     "data": {
      "text/plain": [
       "array([ 5.51459671, -7.10791367,  0.2090537 ,  3.24741966, -5.71800536,\n",
       "        0.59156205,  9.62369966])"
      ]
     },
     "execution_count": 706,
     "metadata": {},
     "output_type": "execute_result"
    }
   ],
   "source": [
    "out"
   ]
  },
  {
   "cell_type": "code",
   "execution_count": 707,
   "id": "8c3567e4-4748-4250-bea5-ae0b6bfd02ed",
   "metadata": {},
   "outputs": [],
   "source": [
    "# Array-Oriented Programming with Arrays"
   ]
  },
  {
   "cell_type": "code",
   "execution_count": 708,
   "id": "04feb520-7379-4bb5-a607-5f5783fd121a",
   "metadata": {},
   "outputs": [],
   "source": [
    "points = np.arange(-5, 5, 0.01) # 100 equally spaced points"
   ]
  },
  {
   "cell_type": "code",
   "execution_count": 709,
   "id": "024ca0e8-4019-43c4-8df0-3fcced39a866",
   "metadata": {},
   "outputs": [],
   "source": [
    "xs, ys = np.meshgrid(points, points)"
   ]
  },
  {
   "cell_type": "code",
   "execution_count": 710,
   "id": "78509e99-18cf-4b00-83c6-3c5a6b82217a",
   "metadata": {},
   "outputs": [
    {
     "data": {
      "text/plain": [
       "array([[-5.  , -5.  , -5.  , ..., -5.  , -5.  , -5.  ],\n",
       "       [-4.99, -4.99, -4.99, ..., -4.99, -4.99, -4.99],\n",
       "       [-4.98, -4.98, -4.98, ..., -4.98, -4.98, -4.98],\n",
       "       ...,\n",
       "       [ 4.97,  4.97,  4.97, ...,  4.97,  4.97,  4.97],\n",
       "       [ 4.98,  4.98,  4.98, ...,  4.98,  4.98,  4.98],\n",
       "       [ 4.99,  4.99,  4.99, ...,  4.99,  4.99,  4.99]],\n",
       "      shape=(1000, 1000))"
      ]
     },
     "execution_count": 710,
     "metadata": {},
     "output_type": "execute_result"
    }
   ],
   "source": [
    "ys"
   ]
  },
  {
   "cell_type": "code",
   "execution_count": 711,
   "id": "57c30034-c27f-43b8-98d9-f39c598fe06c",
   "metadata": {},
   "outputs": [
    {
     "data": {
      "text/plain": [
       "array([[-5.  , -4.99, -4.98, ...,  4.97,  4.98,  4.99],\n",
       "       [-5.  , -4.99, -4.98, ...,  4.97,  4.98,  4.99],\n",
       "       [-5.  , -4.99, -4.98, ...,  4.97,  4.98,  4.99],\n",
       "       ...,\n",
       "       [-5.  , -4.99, -4.98, ...,  4.97,  4.98,  4.99],\n",
       "       [-5.  , -4.99, -4.98, ...,  4.97,  4.98,  4.99],\n",
       "       [-5.  , -4.99, -4.98, ...,  4.97,  4.98,  4.99]],\n",
       "      shape=(1000, 1000))"
      ]
     },
     "execution_count": 711,
     "metadata": {},
     "output_type": "execute_result"
    }
   ],
   "source": [
    "xs"
   ]
  },
  {
   "cell_type": "code",
   "execution_count": 712,
   "id": "6205eb6e-9697-4388-a821-53e819560f6c",
   "metadata": {},
   "outputs": [],
   "source": [
    "z = np.sqrt(xs ** 2 + ys ** 2)"
   ]
  },
  {
   "cell_type": "code",
   "execution_count": 713,
   "id": "3d4b2505-12b8-46de-a443-7d5998190839",
   "metadata": {},
   "outputs": [
    {
     "data": {
      "text/plain": [
       "array([[7.07106781, 7.06400028, 7.05693985, ..., 7.04988652, 7.05693985,\n",
       "        7.06400028],\n",
       "       [7.06400028, 7.05692568, 7.04985815, ..., 7.04279774, 7.04985815,\n",
       "        7.05692568],\n",
       "       [7.05693985, 7.04985815, 7.04278354, ..., 7.03571603, 7.04278354,\n",
       "        7.04985815],\n",
       "       ...,\n",
       "       [7.04988652, 7.04279774, 7.03571603, ..., 7.0286414 , 7.03571603,\n",
       "        7.04279774],\n",
       "       [7.05693985, 7.04985815, 7.04278354, ..., 7.03571603, 7.04278354,\n",
       "        7.04985815],\n",
       "       [7.06400028, 7.05692568, 7.04985815, ..., 7.04279774, 7.04985815,\n",
       "        7.05692568]], shape=(1000, 1000))"
      ]
     },
     "execution_count": 713,
     "metadata": {},
     "output_type": "execute_result"
    }
   ],
   "source": [
    "z"
   ]
  },
  {
   "cell_type": "code",
   "execution_count": 714,
   "id": "1dde2d47-64ae-4b4f-969c-77010994a188",
   "metadata": {},
   "outputs": [],
   "source": [
    "import matplotlib.pyplot as plt"
   ]
  },
  {
   "cell_type": "code",
   "execution_count": 715,
   "id": "f120c9b8-67c6-40ed-88d2-a818b74833ec",
   "metadata": {},
   "outputs": [
    {
     "data": {
      "image/png": "[encoded data removed]",
      "text/plain": [
       "<Figure size 640x480 with 1 Axes>"
      ]
     },
     "metadata": {},
     "output_type": "display_data"
    }
   ],
   "source": [
    "im = plt.imshow(z, cmap=plt.cm.gray, extent=[-5, 5, -5, 5])"
   ]
  },
  {
   "cell_type": "code",
   "execution_count": 716,
   "id": "c13fe596-ac4c-4653-a966-9009d6a3e85e",
   "metadata": {},
   "outputs": [
    {
     "data": {
      "text/plain": [
       "<matplotlib.colorbar.Colorbar at 0x1edb70a82f0>"
      ]
     },
     "execution_count": 716,
     "metadata": {},
     "output_type": "execute_result"
    },
    {
     "data": {
      "image/png": "[encoded data removed]",
      "text/plain": [
       "<Figure size 640x480 with 2 Axes>"
      ]
     },
     "metadata": {},
     "output_type": "display_data"
    }
   ],
   "source": [
    "plt.colorbar(plt.imshow(z, cmap=plt.cm.gray, extent=[-5, 5, -5, 5]))"
   ]
  },
  {
   "cell_type": "code",
   "execution_count": 717,
   "id": "bab56cf1-6b6a-44ae-aaca-3c2de5fde539",
   "metadata": {},
   "outputs": [
    {
     "name": "stderr",
     "output_type": "stream",
     "text": [
      "<>:1: SyntaxWarning: invalid escape sequence '\\s'\n",
      "<>:1: SyntaxWarning: invalid escape sequence '\\s'\n",
      "C:\\Users\\Rahul Jangid\\AppData\\Local\\Temp\\ipykernel_37396\\3763670414.py:1: SyntaxWarning: invalid escape sequence '\\s'\n",
      "  plt.title(\"Image plot of $\\sqrt{x^2 + y^2}$ for a grid of values\")\n"
     ]
    },
    {
     "data": {
      "text/plain": [
       "Text(0.5, 1.0, 'Image plot of $\\\\sqrt{x^2 + y^2}$ for a grid of values')"
      ]
     },
     "execution_count": 717,
     "metadata": {},
     "output_type": "execute_result"
    },
    {
     "data": {
      "image/png": "[encoded data removed]",
      "text/plain": [
       "<Figure size 640x480 with 1 Axes>"
      ]
     },
     "metadata": {},
     "output_type": "display_data"
    }
   ],
   "source": [
    "plt.title(\"Image plot of $\\sqrt{x^2 + y^2}$ for a grid of values\")"
   ]
  },
  {
   "cell_type": "code",
   "execution_count": 718,
   "id": "a8715a57-a55c-48e9-934d-e4270e28795b",
   "metadata": {},
   "outputs": [],
   "source": [
    "plt.close(\"all\")"
   ]
  },
  {
   "cell_type": "code",
   "execution_count": 719,
   "id": "55c7622b-a66e-45d9-9887-d418a3d01907",
   "metadata": {},
   "outputs": [],
   "source": [
    "#Expressing Conditional Logic as Array Operations"
   ]
  },
  {
   "cell_type": "code",
   "execution_count": 720,
   "id": "58d3e85b-80a1-468f-b5d0-1c33ac525116",
   "metadata": {},
   "outputs": [],
   "source": [
    "xarr = np.array([1.1, 1.2, 1.3, 1.4, 1.5])"
   ]
  },
  {
   "cell_type": "code",
   "execution_count": 721,
   "id": "0f56b0f3-0c0c-4933-985c-19668c3603ff",
   "metadata": {},
   "outputs": [],
   "source": [
    "yarr = np.array([2.1, 2.2, 2.3, 2.4, 2.5])"
   ]
  },
  {
   "cell_type": "code",
   "execution_count": 722,
   "id": "26e17302-0607-4193-95ec-c13809f3d449",
   "metadata": {},
   "outputs": [],
   "source": [
    "cond = np.array([True, False, True, True, False])"
   ]
  },
  {
   "cell_type": "code",
   "execution_count": 723,
   "id": "aba32970-a37a-44d3-a9e8-2c6e05933a83",
   "metadata": {},
   "outputs": [],
   "source": [
    "result = [float(x if c else y) for x, y, c in zip(xarr, yarr, cond)]"
   ]
  },
  {
   "cell_type": "code",
   "execution_count": 724,
   "id": "67834453-f683-4ca7-8912-13d76346f190",
   "metadata": {},
   "outputs": [
    {
     "data": {
      "text/plain": [
       "[1.1, 2.2, 1.3, 1.4, 2.5]"
      ]
     },
     "execution_count": 724,
     "metadata": {},
     "output_type": "execute_result"
    }
   ],
   "source": [
    "result"
   ]
  },
  {
   "cell_type": "code",
   "execution_count": 725,
   "id": "ad95ed37-4305-4ead-a685-37869378bbfc",
   "metadata": {},
   "outputs": [],
   "source": [
    "result = np.where(cond, xarr, yarr)"
   ]
  },
  {
   "cell_type": "code",
   "execution_count": 726,
   "id": "77a46a6c-c309-4426-8503-bb99052b0181",
   "metadata": {},
   "outputs": [
    {
     "data": {
      "text/plain": [
       "array([1.1, 2.2, 1.3, 1.4, 2.5])"
      ]
     },
     "execution_count": 726,
     "metadata": {},
     "output_type": "execute_result"
    }
   ],
   "source": [
    "result"
   ]
  },
  {
   "cell_type": "code",
   "execution_count": 727,
   "id": "0a110c3b-232f-4b06-8883-36d8754cf85b",
   "metadata": {},
   "outputs": [],
   "source": [
    "arr = rng.standard_normal((4, 4))"
   ]
  },
  {
   "cell_type": "code",
   "execution_count": 728,
   "id": "5ce73b29-fa96-4bfe-8374-fae5337dc28a",
   "metadata": {},
   "outputs": [
    {
     "data": {
      "text/plain": [
       "array([[ 2.61815943,  0.77736134,  0.8286332 , -0.95898831],\n",
       "       [-1.20938829, -1.41229201,  0.54154683,  0.7519394 ],\n",
       "       [-0.65876032, -1.22867499,  0.25755777,  0.31290292],\n",
       "       [-0.13081169,  1.26998312, -0.09296246, -0.06615089]])"
      ]
     },
     "execution_count": 728,
     "metadata": {},
     "output_type": "execute_result"
    }
   ],
   "source": [
    "arr"
   ]
  },
  {
   "cell_type": "code",
   "execution_count": 729,
   "id": "7bba1297-7c3f-42be-a2a7-7202fa5ce038",
   "metadata": {},
   "outputs": [
    {
     "data": {
      "text/plain": [
       "array([[ True,  True,  True, False],\n",
       "       [False, False,  True,  True],\n",
       "       [False, False,  True,  True],\n",
       "       [False,  True, False, False]])"
      ]
     },
     "execution_count": 729,
     "metadata": {},
     "output_type": "execute_result"
    }
   ],
   "source": [
    "arr > 0"
   ]
  },
  {
   "cell_type": "code",
   "execution_count": 730,
   "id": "cab97d1f-21ef-44dd-8f46-8e032a379e1e",
   "metadata": {},
   "outputs": [
    {
     "data": {
      "text/plain": [
       "array([[ 2,  2,  2, -2],\n",
       "       [-2, -2,  2,  2],\n",
       "       [-2, -2,  2,  2],\n",
       "       [-2,  2, -2, -2]])"
      ]
     },
     "execution_count": 730,
     "metadata": {},
     "output_type": "execute_result"
    }
   ],
   "source": [
    "np.where(arr > 0, 2, -2)"
   ]
  },
  {
   "cell_type": "code",
   "execution_count": 731,
   "id": "dfc982b6-c01d-43ac-b2ad-89c22266b870",
   "metadata": {},
   "outputs": [
    {
     "data": {
      "text/plain": [
       "array([[ 2.        ,  2.        ,  2.        , -0.95898831],\n",
       "       [-1.20938829, -1.41229201,  2.        ,  2.        ],\n",
       "       [-0.65876032, -1.22867499,  2.        ,  2.        ],\n",
       "       [-0.13081169,  2.        , -0.09296246, -0.06615089]])"
      ]
     },
     "execution_count": 731,
     "metadata": {},
     "output_type": "execute_result"
    }
   ],
   "source": [
    "np.where(arr > 0, 2, arr) # set only positive values to 2"
   ]
  },
  {
   "cell_type": "code",
   "execution_count": 732,
   "id": "bb724971-96a3-45aa-89cd-aab656208fd1",
   "metadata": {},
   "outputs": [],
   "source": [
    "arr = rng.standard_normal((5, 4))"
   ]
  },
  {
   "cell_type": "code",
   "execution_count": 733,
   "id": "01f2dbb2-0784-4dd1-b7ef-b2ee6574156a",
   "metadata": {},
   "outputs": [
    {
     "data": {
      "text/plain": [
       "array([[-1.10821447,  0.13595685,  1.34707776,  0.06114402],\n",
       "       [ 0.0709146 ,  0.43365454,  0.27748366,  0.53025239],\n",
       "       [ 0.53672097,  0.61835001, -0.79501746,  0.30003095],\n",
       "       [-1.60270159,  0.26679883, -1.26162378, -0.07127081],\n",
       "       [ 0.47404973, -0.41485376,  0.0977165 , -1.64041784]])"
      ]
     },
     "execution_count": 733,
     "metadata": {},
     "output_type": "execute_result"
    }
   ],
   "source": [
    "arr"
   ]
  },
  {
   "cell_type": "code",
   "execution_count": 734,
   "id": "678942af-d4e2-4c5a-8ef7-e4e21e9ff367",
   "metadata": {},
   "outputs": [
    {
     "data": {
      "text/plain": [
       "-0.08719744457434529"
      ]
     },
     "execution_count": 734,
     "metadata": {},
     "output_type": "execute_result"
    }
   ],
   "source": [
    "float(arr.mean())"
   ]
  },
  {
   "cell_type": "code",
   "execution_count": 735,
   "id": "22761593-1927-47f6-b446-92385d1aaf8c",
   "metadata": {},
   "outputs": [
    {
     "data": {
      "text/plain": [
       "-0.08719744457434529"
      ]
     },
     "execution_count": 735,
     "metadata": {},
     "output_type": "execute_result"
    }
   ],
   "source": [
    "float(np.mean(arr))"
   ]
  },
  {
   "cell_type": "code",
   "execution_count": 736,
   "id": "4a25af35-7006-4144-a0f6-aa14860f22d3",
   "metadata": {},
   "outputs": [
    {
     "data": {
      "text/plain": [
       "-1.743948891486906"
      ]
     },
     "execution_count": 736,
     "metadata": {},
     "output_type": "execute_result"
    }
   ],
   "source": [
    "float(arr.sum())"
   ]
  },
  {
   "cell_type": "code",
   "execution_count": 737,
   "id": "afa6be3f-0f8b-4743-908d-132635a0b1cf",
   "metadata": {},
   "outputs": [
    {
     "data": {
      "text/plain": [
       "array([-0.32584615,  0.20798129, -0.06687266, -0.16405226])"
      ]
     },
     "execution_count": 737,
     "metadata": {},
     "output_type": "execute_result"
    }
   ],
   "source": [
    "arr.mean(axis=0)"
   ]
  },
  {
   "cell_type": "code",
   "execution_count": 738,
   "id": "572beb6d-ef36-41b4-b1df-a6f8efb855a0",
   "metadata": {},
   "outputs": [
    {
     "data": {
      "text/plain": [
       "array([-1.62923076,  1.03990647, -0.33436331, -0.82026129])"
      ]
     },
     "execution_count": 738,
     "metadata": {},
     "output_type": "execute_result"
    }
   ],
   "source": [
    "arr.sum(axis=0)"
   ]
  },
  {
   "cell_type": "code",
   "execution_count": 739,
   "id": "d16811df-bfbe-4eaf-a4e7-bf8031f837df",
   "metadata": {},
   "outputs": [],
   "source": [
    "arr = np.arange(16).reshape((4, 4))"
   ]
  },
  {
   "cell_type": "code",
   "execution_count": 740,
   "id": "97bb576f-11a5-4c5b-9417-d0751cb5c345",
   "metadata": {},
   "outputs": [
    {
     "data": {
      "text/plain": [
       "array([[ 0,  1,  2,  3],\n",
       "       [ 4,  5,  6,  7],\n",
       "       [ 8,  9, 10, 11],\n",
       "       [12, 13, 14, 15]])"
      ]
     },
     "execution_count": 740,
     "metadata": {},
     "output_type": "execute_result"
    }
   ],
   "source": [
    "arr"
   ]
  },
  {
   "cell_type": "code",
   "execution_count": 741,
   "id": "f25603bf-335e-4a18-9165-905c88a11893",
   "metadata": {},
   "outputs": [
    {
     "data": {
      "text/plain": [
       "array([24, 28, 32, 36])"
      ]
     },
     "execution_count": 741,
     "metadata": {},
     "output_type": "execute_result"
    }
   ],
   "source": [
    "np.sum(arr, axis=0)"
   ]
  },
  {
   "cell_type": "code",
   "execution_count": 742,
   "id": "935c2076-a80e-4406-82e1-bdf92c06de19",
   "metadata": {},
   "outputs": [],
   "source": [
    "arr = np.array([0, 1, 2, 3, 4, 5, 6, 7])"
   ]
  },
  {
   "cell_type": "code",
   "execution_count": 743,
   "id": "a931114f-b76e-40ca-addb-621650e5214e",
   "metadata": {},
   "outputs": [
    {
     "data": {
      "text/plain": [
       "array([ 0,  1,  3,  6, 10, 15, 21, 28])"
      ]
     },
     "execution_count": 743,
     "metadata": {},
     "output_type": "execute_result"
    }
   ],
   "source": [
    "arr.cumsum()"
   ]
  },
  {
   "cell_type": "code",
   "execution_count": 744,
   "id": "dcf96d87-9a8a-4f35-859c-088fcf69acfc",
   "metadata": {},
   "outputs": [],
   "source": [
    "arr = np.arange(9).reshape((3, 3))"
   ]
  },
  {
   "cell_type": "code",
   "execution_count": 745,
   "id": "269d24b2-a3e0-491e-8336-a9eb2f6a4ace",
   "metadata": {},
   "outputs": [
    {
     "data": {
      "text/plain": [
       "array([[0, 1, 2],\n",
       "       [3, 4, 5],\n",
       "       [6, 7, 8]])"
      ]
     },
     "execution_count": 745,
     "metadata": {},
     "output_type": "execute_result"
    }
   ],
   "source": [
    "arr"
   ]
  },
  {
   "cell_type": "code",
   "execution_count": 746,
   "id": "4a607055-7cc8-4f57-880f-73d67b52930e",
   "metadata": {},
   "outputs": [
    {
     "data": {
      "text/plain": [
       "array([[ 0,  1,  2],\n",
       "       [ 3,  5,  7],\n",
       "       [ 9, 12, 15]])"
      ]
     },
     "execution_count": 746,
     "metadata": {},
     "output_type": "execute_result"
    }
   ],
   "source": [
    "arr.cumsum(axis=0)"
   ]
  },
  {
   "cell_type": "code",
   "execution_count": 747,
   "id": "aace3925-8caf-43e5-8a4e-910d9eebc871",
   "metadata": {},
   "outputs": [
    {
     "data": {
      "text/plain": [
       "array([[ 0,  1,  3],\n",
       "       [ 3,  7, 12],\n",
       "       [ 6, 13, 21]])"
      ]
     },
     "execution_count": 747,
     "metadata": {},
     "output_type": "execute_result"
    }
   ],
   "source": [
    "arr.cumsum(axis=1)"
   ]
  },
  {
   "cell_type": "code",
   "execution_count": 748,
   "id": "1d3e3d85-0510-4923-bc8f-3933b9bf91b9",
   "metadata": {},
   "outputs": [],
   "source": [
    "#Methods for boolean Arrays"
   ]
  },
  {
   "cell_type": "code",
   "execution_count": 749,
   "id": "1806c01a-96b5-4ee0-bec3-30e7e9f88337",
   "metadata": {},
   "outputs": [],
   "source": [
    "arr = rng.standard_normal(100)"
   ]
  },
  {
   "cell_type": "code",
   "execution_count": 750,
   "id": "53ae6085-c1dc-4cc7-9d8e-a7ac67820dd4",
   "metadata": {},
   "outputs": [
    {
     "data": {
      "text/plain": [
       "np.int64(48)"
      ]
     },
     "execution_count": 750,
     "metadata": {},
     "output_type": "execute_result"
    }
   ],
   "source": [
    "(arr > 0).sum() # Number of positive values"
   ]
  },
  {
   "cell_type": "code",
   "execution_count": 751,
   "id": "4770c585-3811-4ac4-b614-6e73a6bf0b9a",
   "metadata": {},
   "outputs": [
    {
     "data": {
      "text/plain": [
       "np.int64(52)"
      ]
     },
     "execution_count": 751,
     "metadata": {},
     "output_type": "execute_result"
    }
   ],
   "source": [
    "(arr < 0).sum() # Number of non positive values"
   ]
  },
  {
   "cell_type": "code",
   "execution_count": 752,
   "id": "64512ef0-1c41-4780-9e27-e29cb5081310",
   "metadata": {},
   "outputs": [],
   "source": [
    "bools = np.array([False, False, True, False])"
   ]
  },
  {
   "cell_type": "code",
   "execution_count": 753,
   "id": "82e31e4d-5dcc-4bd4-a464-4c5442acb3f6",
   "metadata": {},
   "outputs": [
    {
     "data": {
      "text/plain": [
       "True"
      ]
     },
     "execution_count": 753,
     "metadata": {},
     "output_type": "execute_result"
    }
   ],
   "source": [
    "bool(bools.any())"
   ]
  },
  {
   "cell_type": "code",
   "execution_count": 754,
   "id": "e446a460-07c6-482e-9c26-43fc1c72ce00",
   "metadata": {},
   "outputs": [
    {
     "data": {
      "text/plain": [
       "False"
      ]
     },
     "execution_count": 754,
     "metadata": {},
     "output_type": "execute_result"
    }
   ],
   "source": [
    "bool(bools.all())"
   ]
  },
  {
   "cell_type": "code",
   "execution_count": 755,
   "id": "b3563d1a-4828-4341-b7c3-706cc6d609b2",
   "metadata": {},
   "outputs": [],
   "source": [
    "arr = rng.standard_normal(6)"
   ]
  },
  {
   "cell_type": "code",
   "execution_count": 756,
   "id": "75ddfacc-8116-45c5-b9d5-978dbab4815f",
   "metadata": {},
   "outputs": [
    {
     "data": {
      "text/plain": [
       "array([ 0.07726066, -0.68391322, -0.72083767,  1.12062282, -0.05481416,\n",
       "       -0.08241372])"
      ]
     },
     "execution_count": 756,
     "metadata": {},
     "output_type": "execute_result"
    }
   ],
   "source": [
    "arr"
   ]
  },
  {
   "cell_type": "code",
   "execution_count": 757,
   "id": "e57cc9bc-082e-46ff-b9d0-d5311d3e6910",
   "metadata": {},
   "outputs": [],
   "source": [
    "arr.sort()"
   ]
  },
  {
   "cell_type": "code",
   "execution_count": 758,
   "id": "079a2f34-dc5a-4c2b-b670-554a3d1db2f3",
   "metadata": {},
   "outputs": [
    {
     "data": {
      "text/plain": [
       "array([-0.72083767, -0.68391322, -0.08241372, -0.05481416,  0.07726066,\n",
       "        1.12062282])"
      ]
     },
     "execution_count": 758,
     "metadata": {},
     "output_type": "execute_result"
    }
   ],
   "source": [
    "arr"
   ]
  },
  {
   "cell_type": "code",
   "execution_count": 759,
   "id": "b3347975-0e45-4889-8d88-0aecff94079b",
   "metadata": {},
   "outputs": [],
   "source": [
    "arr = rng.standard_normal((5, 3))"
   ]
  },
  {
   "cell_type": "code",
   "execution_count": 760,
   "id": "2f0e40e9-21b0-4f39-8f7c-2d1a6f9f346a",
   "metadata": {},
   "outputs": [
    {
     "data": {
      "text/plain": [
       "array([[ 0.9359865 ,  1.23853712,  1.27279553],\n",
       "       [ 0.40589222, -0.05032522,  0.28931754],\n",
       "       [ 0.17930568,  1.39748056,  0.29204679],\n",
       "       [ 0.63840567, -0.02788771,  1.37105185],\n",
       "       [-2.05280763,  0.38050908,  0.75539067]])"
      ]
     },
     "execution_count": 760,
     "metadata": {},
     "output_type": "execute_result"
    }
   ],
   "source": [
    "arr"
   ]
  },
  {
   "cell_type": "code",
   "execution_count": 761,
   "id": "96200c53-6530-4748-b3c7-e18e7341928d",
   "metadata": {},
   "outputs": [],
   "source": [
    "arr.sort(axis=0)"
   ]
  },
  {
   "cell_type": "code",
   "execution_count": 762,
   "id": "120064eb-602a-4836-98da-e5a989ad2cf1",
   "metadata": {},
   "outputs": [
    {
     "data": {
      "text/plain": [
       "array([[-2.05280763, -0.05032522,  0.28931754],\n",
       "       [ 0.17930568, -0.02788771,  0.29204679],\n",
       "       [ 0.40589222,  0.38050908,  0.75539067],\n",
       "       [ 0.63840567,  1.23853712,  1.27279553],\n",
       "       [ 0.9359865 ,  1.39748056,  1.37105185]])"
      ]
     },
     "execution_count": 762,
     "metadata": {},
     "output_type": "execute_result"
    }
   ],
   "source": [
    "arr"
   ]
  },
  {
   "cell_type": "code",
   "execution_count": 763,
   "id": "a7dbc351-cc89-444f-a69d-2e8daa9c3980",
   "metadata": {},
   "outputs": [],
   "source": [
    "arr.sort(axis=1)"
   ]
  },
  {
   "cell_type": "code",
   "execution_count": 764,
   "id": "6b3a18ca-61b1-4ff6-a847-3e867472f06d",
   "metadata": {},
   "outputs": [
    {
     "data": {
      "text/plain": [
       "array([[-2.05280763, -0.05032522,  0.28931754],\n",
       "       [-0.02788771,  0.17930568,  0.29204679],\n",
       "       [ 0.38050908,  0.40589222,  0.75539067],\n",
       "       [ 0.63840567,  1.23853712,  1.27279553],\n",
       "       [ 0.9359865 ,  1.37105185,  1.39748056]])"
      ]
     },
     "execution_count": 764,
     "metadata": {},
     "output_type": "execute_result"
    }
   ],
   "source": [
    "arr"
   ]
  },
  {
   "cell_type": "code",
   "execution_count": 765,
   "id": "669d16f6-0b72-4dd4-94db-c3800b841d1b",
   "metadata": {},
   "outputs": [],
   "source": [
    "arr2 = np.array([5, -10, 7, 1, 0, -3])"
   ]
  },
  {
   "cell_type": "code",
   "execution_count": 766,
   "id": "36efe4f8-e161-4d85-ba03-eb7f596590c1",
   "metadata": {},
   "outputs": [],
   "source": [
    "sorted_arr2 = np.sort(arr2)"
   ]
  },
  {
   "cell_type": "code",
   "execution_count": 767,
   "id": "e4b689c8-c7b6-4e3d-92b0-328c3854b48b",
   "metadata": {},
   "outputs": [
    {
     "data": {
      "text/plain": [
       "array([-10,  -3,   0,   1,   5,   7])"
      ]
     },
     "execution_count": 767,
     "metadata": {},
     "output_type": "execute_result"
    }
   ],
   "source": [
    "sorted_arr2"
   ]
  },
  {
   "cell_type": "code",
   "execution_count": 768,
   "id": "500dc0b0-714f-4ebc-ab42-c3e62633a855",
   "metadata": {},
   "outputs": [],
   "source": [
    "# Unique and Other Set Logic"
   ]
  },
  {
   "cell_type": "code",
   "execution_count": 769,
   "id": "ec570aa1-bee5-4e60-8224-4a2e95a963c9",
   "metadata": {},
   "outputs": [],
   "source": [
    "names = np.array([\"Bob\", \"Will\", \"Joe\", \"Bob\", \"Will\", \"Joe\", \"Joe\"])"
   ]
  },
  {
   "cell_type": "code",
   "execution_count": 770,
   "id": "373dce21-0c15-4d0c-a524-d641ba4df1af",
   "metadata": {},
   "outputs": [
    {
     "data": {
      "text/plain": [
       "array(['Bob', 'Joe', 'Will'], dtype='<U4')"
      ]
     },
     "execution_count": 770,
     "metadata": {},
     "output_type": "execute_result"
    }
   ],
   "source": [
    "np.unique(names)"
   ]
  },
  {
   "cell_type": "code",
   "execution_count": 771,
   "id": "2c4df427-3a2b-42bf-bc38-6982bac399e9",
   "metadata": {},
   "outputs": [],
   "source": [
    "ints = np.array([3, 3, 3, 2, 2, 1, 1, 4, 4])"
   ]
  },
  {
   "cell_type": "code",
   "execution_count": 772,
   "id": "96262ad7-dbd4-4e31-8bb4-d1d9efecd6c1",
   "metadata": {},
   "outputs": [
    {
     "data": {
      "text/plain": [
       "array([1, 2, 3, 4])"
      ]
     },
     "execution_count": 772,
     "metadata": {},
     "output_type": "execute_result"
    }
   ],
   "source": [
    "np.unique(ints)"
   ]
  },
  {
   "cell_type": "code",
   "execution_count": 773,
   "id": "35a9158f-0129-494f-bc48-4d8ee241a977",
   "metadata": {},
   "outputs": [
    {
     "name": "stdout",
     "output_type": "stream",
     "text": [
      "2.96 μs ± 284 ns per loop (mean ± std. dev. of 7 runs, 100,000 loops each)\n"
     ]
    }
   ],
   "source": [
    "%timeit a = np.unique(names)"
   ]
  },
  {
   "cell_type": "code",
   "execution_count": 774,
   "id": "46c67070-862b-4a73-92c1-337ddaef1125",
   "metadata": {},
   "outputs": [
    {
     "name": "stdout",
     "output_type": "stream",
     "text": [
      "1.77 μs ± 26.3 ns per loop (mean ± std. dev. of 7 runs, 1,000,000 loops each)\n"
     ]
    }
   ],
   "source": [
    "%timeit b = sorted(set(str(x) for x in names))"
   ]
  },
  {
   "cell_type": "code",
   "execution_count": 775,
   "id": "7451a07c-b324-4913-a65f-b1f3ffbeb40e",
   "metadata": {},
   "outputs": [],
   "source": [
    "values = np.array([6, 0, 0, 3, 2, 5, 6])"
   ]
  },
  {
   "cell_type": "code",
   "execution_count": 776,
   "id": "678ce5cd-7039-417e-b247-bb74b3a6746c",
   "metadata": {},
   "outputs": [
    {
     "data": {
      "text/plain": [
       "array([ True, False, False,  True,  True, False,  True])"
      ]
     },
     "execution_count": 776,
     "metadata": {},
     "output_type": "execute_result"
    }
   ],
   "source": [
    "np.isin(values, [2, 3, 6])"
   ]
  },
  {
   "cell_type": "code",
   "execution_count": 777,
   "id": "6ee65adc-08e1-493e-b80a-b279d087b6db",
   "metadata": {},
   "outputs": [],
   "source": [
    "x = np.array([2, 2, 3, 4, 5, 6, 7, 8, 9])"
   ]
  },
  {
   "cell_type": "code",
   "execution_count": 778,
   "id": "64fa3b23-cc36-4f49-8479-86043b7e4947",
   "metadata": {},
   "outputs": [],
   "source": [
    "y = np.array([2, 4, 6, 9])"
   ]
  },
  {
   "cell_type": "code",
   "execution_count": 779,
   "id": "bccb5c5c-d6fc-4ccf-9a98-cd9e8693e4da",
   "metadata": {},
   "outputs": [
    {
     "data": {
      "text/plain": [
       "array([2, 4, 6, 9])"
      ]
     },
     "execution_count": 779,
     "metadata": {},
     "output_type": "execute_result"
    }
   ],
   "source": [
    "np.intersect1d(x,y)"
   ]
  },
  {
   "cell_type": "code",
   "execution_count": 780,
   "id": "4efa694d-65be-4dea-adf1-66b54ae5cf0f",
   "metadata": {},
   "outputs": [],
   "source": [
    "# 4.5 File Input and Output with Arrays"
   ]
  },
  {
   "cell_type": "code",
   "execution_count": 781,
   "id": "5b93a254-4428-4494-9308-1a53681f8d8f",
   "metadata": {},
   "outputs": [],
   "source": [
    "arr = np.arange(10)"
   ]
  },
  {
   "cell_type": "code",
   "execution_count": 782,
   "id": "5452eea2-7aec-49c4-b42c-19a24982c217",
   "metadata": {},
   "outputs": [],
   "source": [
    "np.save(\"some_array\", arr)"
   ]
  },
  {
   "cell_type": "code",
   "execution_count": 783,
   "id": "5c941779-c4a2-4b7a-84d0-fff964030563",
   "metadata": {},
   "outputs": [
    {
     "data": {
      "text/plain": [
       "array([0, 1, 2, 3, 4, 5, 6, 7, 8, 9])"
      ]
     },
     "execution_count": 783,
     "metadata": {},
     "output_type": "execute_result"
    }
   ],
   "source": [
    "np.load(\"some_array.npy\")"
   ]
  },
  {
   "cell_type": "code",
   "execution_count": 784,
   "id": "4c8dbb02-742a-43f0-aa45-42077c82affa",
   "metadata": {},
   "outputs": [],
   "source": [
    "np.savez(\"array_archive.npz\", a=arr, b=arr)"
   ]
  },
  {
   "cell_type": "code",
   "execution_count": 785,
   "id": "03dc369a-535c-4d56-9c5e-2d2f4b2b9fd0",
   "metadata": {},
   "outputs": [],
   "source": [
    "arch = np.load(\"array_archive.npz\")"
   ]
  },
  {
   "cell_type": "code",
   "execution_count": 786,
   "id": "34cd9062-40bd-4be4-b676-66629b54759a",
   "metadata": {},
   "outputs": [
    {
     "data": {
      "text/plain": [
       "array([0, 1, 2, 3, 4, 5, 6, 7, 8, 9])"
      ]
     },
     "execution_count": 786,
     "metadata": {},
     "output_type": "execute_result"
    }
   ],
   "source": [
    "arch[\"b\"]"
   ]
  },
  {
   "cell_type": "code",
   "execution_count": 787,
   "id": "ea5c5723-5392-4549-acb3-5a4bb210948e",
   "metadata": {},
   "outputs": [],
   "source": [
    "np.savez_compressed(\"arrays_compressed.npz\", a=arr, b=arr)"
   ]
  },
  {
   "cell_type": "code",
   "execution_count": 788,
   "id": "004196d9-d73a-44de-a188-3b3d0b825a81",
   "metadata": {},
   "outputs": [],
   "source": [
    "arch_compressed = np.load(\"arrays_compressed.npz\")"
   ]
  },
  {
   "cell_type": "code",
   "execution_count": 789,
   "id": "3eb046d1-16a7-433d-9849-363ba4506e46",
   "metadata": {},
   "outputs": [
    {
     "data": {
      "text/plain": [
       "array([0, 1, 2, 3, 4, 5, 6, 7, 8, 9])"
      ]
     },
     "execution_count": 789,
     "metadata": {},
     "output_type": "execute_result"
    }
   ],
   "source": [
    "arch_compressed[\"a\"]"
   ]
  },
  {
   "cell_type": "code",
   "execution_count": 790,
   "id": "fa03308d-6912-42bc-b777-6fc9ef424cd8",
   "metadata": {},
   "outputs": [],
   "source": [
    "# 4.6 Linear Algebra"
   ]
  },
  {
   "cell_type": "code",
   "execution_count": 791,
   "id": "93fb98d1-0843-48e1-a7b0-30ac89b80a9d",
   "metadata": {},
   "outputs": [],
   "source": [
    "x = np.array([[1., 2., 3.], [4., 5., 6.]])"
   ]
  },
  {
   "cell_type": "code",
   "execution_count": 792,
   "id": "ba42398c-014c-4df9-b9fb-a99ab2e60ca5",
   "metadata": {},
   "outputs": [],
   "source": [
    "y = np.array([[6., 23.], [-1, 7], [8, 9]])"
   ]
  },
  {
   "cell_type": "code",
   "execution_count": 793,
   "id": "7a77e569-5fc5-4ba0-979e-b07447bd77a2",
   "metadata": {},
   "outputs": [
    {
     "data": {
      "text/plain": [
       "array([[1., 2., 3.],\n",
       "       [4., 5., 6.]])"
      ]
     },
     "execution_count": 793,
     "metadata": {},
     "output_type": "execute_result"
    }
   ],
   "source": [
    "x"
   ]
  },
  {
   "cell_type": "code",
   "execution_count": 794,
   "id": "af6d7fd5-830f-48c7-ad43-01255d28bdba",
   "metadata": {},
   "outputs": [
    {
     "data": {
      "text/plain": [
       "array([[ 6., 23.],\n",
       "       [-1.,  7.],\n",
       "       [ 8.,  9.]])"
      ]
     },
     "execution_count": 794,
     "metadata": {},
     "output_type": "execute_result"
    }
   ],
   "source": [
    "y"
   ]
  },
  {
   "cell_type": "code",
   "execution_count": 795,
   "id": "a5b51522-ae87-4971-b436-5adce5ccd39c",
   "metadata": {},
   "outputs": [
    {
     "data": {
      "text/plain": [
       "array([[ 28.,  64.],\n",
       "       [ 67., 181.]])"
      ]
     },
     "execution_count": 795,
     "metadata": {},
     "output_type": "execute_result"
    }
   ],
   "source": [
    "x.dot(y)"
   ]
  },
  {
   "cell_type": "code",
   "execution_count": 796,
   "id": "30e911d2-ce30-42fb-bd02-8ef7740d5fd8",
   "metadata": {},
   "outputs": [
    {
     "data": {
      "text/plain": [
       "array([[ 28.,  64.],\n",
       "       [ 67., 181.]])"
      ]
     },
     "execution_count": 796,
     "metadata": {},
     "output_type": "execute_result"
    }
   ],
   "source": [
    "np.dot(x, y)"
   ]
  },
  {
   "cell_type": "code",
   "execution_count": 797,
   "id": "60118a28-a4be-41ea-b692-31c3f5526ba2",
   "metadata": {},
   "outputs": [
    {
     "data": {
      "text/plain": [
       "array([ 6., 15.])"
      ]
     },
     "execution_count": 797,
     "metadata": {},
     "output_type": "execute_result"
    }
   ],
   "source": [
    "x @ np.ones(3)"
   ]
  },
  {
   "cell_type": "code",
   "execution_count": 798,
   "id": "8c06d87f-cf3a-48cf-aefd-a32e4eb661af",
   "metadata": {},
   "outputs": [],
   "source": [
    "from numpy.linalg import inv, qr"
   ]
  },
  {
   "cell_type": "code",
   "execution_count": 799,
   "id": "50994328-059c-40d0-864f-996052e2a579",
   "metadata": {},
   "outputs": [],
   "source": [
    "X = rng.standard_normal((5, 5))"
   ]
  },
  {
   "cell_type": "code",
   "execution_count": 800,
   "id": "b07c2552-d6cc-442f-bcdf-b80a4f0b04d0",
   "metadata": {},
   "outputs": [],
   "source": [
    "mat = X.T @ X"
   ]
  },
  {
   "cell_type": "code",
   "execution_count": 801,
   "id": "dead6864-cd68-49b3-996b-e87cc5289d08",
   "metadata": {},
   "outputs": [
    {
     "data": {
      "text/plain": [
       "array([[  3.49932285,   2.84436268,   3.59557002, -16.55376878,\n",
       "          4.47325573],\n",
       "       [  2.84436268,   2.56666253,   2.9001963 , -13.57742   ,\n",
       "          3.76776505],\n",
       "       [  3.59557002,   2.9001963 ,   4.48232906, -18.34525499,\n",
       "          4.70660032],\n",
       "       [-16.55376878, -13.57742   , -18.34525499,  84.01018808,\n",
       "        -22.04840478],\n",
       "       [  4.47325573,   3.76776505,   4.70660032, -22.04840478,\n",
       "          6.05251342]])"
      ]
     },
     "execution_count": 801,
     "metadata": {},
     "output_type": "execute_result"
    }
   ],
   "source": [
    "inv(mat)"
   ]
  },
  {
   "cell_type": "code",
   "execution_count": 802,
   "id": "b9dcd6dc-9056-4efe-a867-fe01905bd8f2",
   "metadata": {},
   "outputs": [
    {
     "data": {
      "text/plain": [
       "array([[ 1.00000000e+00,  1.75067964e-15, -2.80207584e-15,\n",
       "         9.86737630e-16, -1.66652414e-15],\n",
       "       [ 1.65521536e-17,  1.00000000e+00,  6.05561798e-16,\n",
       "         4.15196154e-15, -2.52119478e-15],\n",
       "       [ 3.86407015e-16, -7.07260933e-16,  1.00000000e+00,\n",
       "        -6.75452839e-15, -1.18024337e-15],\n",
       "       [ 1.82488652e-16, -1.79488644e-17,  2.45759362e-16,\n",
       "         1.00000000e+00, -8.63545476e-16],\n",
       "       [ 3.45446591e-16, -1.23954858e-15,  2.22757702e-15,\n",
       "        -1.91689727e-14,  1.00000000e+00]])"
      ]
     },
     "execution_count": 802,
     "metadata": {},
     "output_type": "execute_result"
    }
   ],
   "source": [
    "mat @ inv(mat)"
   ]
  },
  {
   "cell_type": "code",
   "execution_count": 803,
   "id": "94ac92f5-292d-443f-a15d-4c14b8117822",
   "metadata": {},
   "outputs": [],
   "source": [
    "# 4.7 Example: Random Walks"
   ]
  },
  {
   "cell_type": "code",
   "execution_count": 804,
   "id": "bd877d75-486c-4f89-9105-65b2a0dd9d34",
   "metadata": {},
   "outputs": [],
   "source": [
    "#! blockstart\n",
    "import random\n",
    "position = 0\n",
    "walk = [position]\n",
    "nsteps = 1000\n",
    "for _ in range(nsteps):\n",
    "    step = 1 if random.randint(0, 1) else -1\n",
    "    position += step\n",
    "    walk.append(position)\n",
    "#! blockend"
   ]
  },
  {
   "cell_type": "code",
   "execution_count": 805,
   "id": "dd0352fa-0eb7-4cdf-b270-273e4ca14382",
   "metadata": {},
   "outputs": [
    {
     "data": {
      "text/plain": [
       "[<matplotlib.lines.Line2D at 0x1edb7430690>]"
      ]
     },
     "execution_count": 805,
     "metadata": {},
     "output_type": "execute_result"
    },
    {
     "data": {
      "image/png": "[encoded data removed]",
      "text/plain": [
       "<Figure size 640x480 with 1 Axes>"
      ]
     },
     "metadata": {},
     "output_type": "display_data"
    }
   ],
   "source": [
    "plt.plot(walk[:100])"
   ]
  },
  {
   "cell_type": "code",
   "execution_count": 806,
   "id": "11fc9f7e-f8ff-4055-972e-a06066f598f7",
   "metadata": {},
   "outputs": [],
   "source": [
    "nsteps = 1000"
   ]
  },
  {
   "cell_type": "code",
   "execution_count": 807,
   "id": "04c64e47-e660-4534-a124-93f57e9b8a52",
   "metadata": {},
   "outputs": [],
   "source": [
    "rng = np.random.default_rng(seed=12345) # fresh random generator"
   ]
  },
  {
   "cell_type": "code",
   "execution_count": 808,
   "id": "b65d887c-cb23-41ec-9164-ab39be50f47c",
   "metadata": {},
   "outputs": [],
   "source": [
    "draws = rng.integers(0, 2, size=nsteps)"
   ]
  },
  {
   "cell_type": "code",
   "execution_count": 809,
   "id": "3cc9e5b1-e858-429c-b3be-f84a366f2a24",
   "metadata": {},
   "outputs": [],
   "source": [
    "steps = np.where(draws == 0, 1, -1)"
   ]
  },
  {
   "cell_type": "code",
   "execution_count": 810,
   "id": "5487d762-cfa6-4386-974a-66521164511a",
   "metadata": {},
   "outputs": [],
   "source": [
    "walk = steps.cumsum()"
   ]
  },
  {
   "cell_type": "code",
   "execution_count": 811,
   "id": "faf5b71b-06f0-4553-a4ca-78e956f19eae",
   "metadata": {},
   "outputs": [
    {
     "data": {
      "text/plain": [
       "-8.0"
      ]
     },
     "execution_count": 811,
     "metadata": {},
     "output_type": "execute_result"
    }
   ],
   "source": [
    "float(walk.min())"
   ]
  },
  {
   "cell_type": "code",
   "execution_count": 812,
   "id": "b93eef98-38d9-4e38-be88-ac45fbfceb55",
   "metadata": {},
   "outputs": [
    {
     "data": {
      "text/plain": [
       "50.0"
      ]
     },
     "execution_count": 812,
     "metadata": {},
     "output_type": "execute_result"
    }
   ],
   "source": [
    "float(walk.max())"
   ]
  },
  {
   "cell_type": "code",
   "execution_count": 813,
   "id": "30f2fea5-756e-4121-9f2c-c5a5c61798a2",
   "metadata": {},
   "outputs": [
    {
     "data": {
      "text/plain": [
       "np.int64(155)"
      ]
     },
     "execution_count": 813,
     "metadata": {},
     "output_type": "execute_result"
    }
   ],
   "source": [
    "(np.abs(walk) >= 10).argmax()"
   ]
  },
  {
   "cell_type": "code",
   "execution_count": 814,
   "id": "0f88eef3-34b5-4bc4-9e58-76e10b02ce85",
   "metadata": {},
   "outputs": [],
   "source": [
    "# Simulating Many Random Walks at Once"
   ]
  },
  {
   "cell_type": "code",
   "execution_count": 815,
   "id": "d5d7f5c3-32ca-41cf-bd29-74717c8d5061",
   "metadata": {},
   "outputs": [],
   "source": [
    "nwalks = 5000"
   ]
  },
  {
   "cell_type": "code",
   "execution_count": 816,
   "id": "7f96ba9e-70c2-465c-b57f-5728f6d9ccc2",
   "metadata": {},
   "outputs": [],
   "source": [
    "nsteps = 1000"
   ]
  },
  {
   "cell_type": "code",
   "execution_count": 817,
   "id": "ba93dce0-207a-40c9-abad-c51c0f602996",
   "metadata": {},
   "outputs": [],
   "source": [
    "draws = rng.integers(0,2, size=(nwalks, nsteps)) # 0 or 1"
   ]
  },
  {
   "cell_type": "code",
   "execution_count": 818,
   "id": "ddca2e42-2819-4c48-8470-ef2d07e89473",
   "metadata": {},
   "outputs": [],
   "source": [
    "steps = np.where(draws > 0, 1, -1)"
   ]
  },
  {
   "cell_type": "code",
   "execution_count": 819,
   "id": "18a9e654-3e45-49fc-b715-f9579b4220c3",
   "metadata": {},
   "outputs": [],
   "source": [
    "walks = steps.cumsum(axis=1)"
   ]
  },
  {
   "cell_type": "code",
   "execution_count": 820,
   "id": "48e7f40c-7882-40bb-8363-abfaa65a83eb",
   "metadata": {},
   "outputs": [
    {
     "data": {
      "text/plain": [
       "array([[  1,   2,   3, ...,  22,  23,  22],\n",
       "       [  1,   0,  -1, ..., -50, -49, -48],\n",
       "       [  1,   2,   3, ...,  50,  49,  48],\n",
       "       ...,\n",
       "       [ -1,  -2,  -1, ..., -10,  -9, -10],\n",
       "       [ -1,  -2,  -3, ...,   8,   9,   8],\n",
       "       [ -1,   0,   1, ...,  -4,  -3,  -2]], shape=(5000, 1000))"
      ]
     },
     "execution_count": 820,
     "metadata": {},
     "output_type": "execute_result"
    }
   ],
   "source": [
    "walks"
   ]
  },
  {
   "cell_type": "code",
   "execution_count": 821,
   "id": "02280a95-c0e6-4281-ade3-40933da9fe80",
   "metadata": {},
   "outputs": [
    {
     "data": {
      "text/plain": [
       "114.0"
      ]
     },
     "execution_count": 821,
     "metadata": {},
     "output_type": "execute_result"
    }
   ],
   "source": [
    "float(walks.max())"
   ]
  },
  {
   "cell_type": "code",
   "execution_count": 822,
   "id": "27d8a2cc-d062-4b69-8c6d-6ac1c6b807f0",
   "metadata": {},
   "outputs": [
    {
     "data": {
      "text/plain": [
       "-120.0"
      ]
     },
     "execution_count": 822,
     "metadata": {},
     "output_type": "execute_result"
    }
   ],
   "source": [
    "float(walks.min())"
   ]
  },
  {
   "cell_type": "code",
   "execution_count": 823,
   "id": "ebac38c3-c244-4af7-b43a-3bba515b2364",
   "metadata": {},
   "outputs": [],
   "source": [
    "hits30 = (np.abs(walks) >= 30).any(axis=1)"
   ]
  },
  {
   "cell_type": "code",
   "execution_count": 824,
   "id": "2f248c67-fc97-49c0-b284-9d5acac10b5e",
   "metadata": {},
   "outputs": [
    {
     "data": {
      "text/plain": [
       "array([False,  True,  True, ...,  True, False,  True], shape=(5000,))"
      ]
     },
     "execution_count": 824,
     "metadata": {},
     "output_type": "execute_result"
    }
   ],
   "source": [
    "hits30"
   ]
  },
  {
   "cell_type": "code",
   "execution_count": 825,
   "id": "5bf61fdc-4c93-44b1-a1cb-818bd2acf082",
   "metadata": {},
   "outputs": [
    {
     "data": {
      "text/plain": [
       "3395.0"
      ]
     },
     "execution_count": 825,
     "metadata": {},
     "output_type": "execute_result"
    }
   ],
   "source": [
    "float(hits30.sum()) # Number that hit 30 or -30"
   ]
  },
  {
   "cell_type": "code",
   "execution_count": 826,
   "id": "d320758a-9829-46b1-8e0a-a8cbe65b7c98",
   "metadata": {},
   "outputs": [],
   "source": [
    "crossing_times = (np.abs(walks[hits30]) >= 30).argmax(axis=1)"
   ]
  },
  {
   "cell_type": "code",
   "execution_count": 827,
   "id": "63828c21-3366-4663-b719-7b74f57331d4",
   "metadata": {},
   "outputs": [
    {
     "data": {
      "text/plain": [
       "array([201, 491, 283, ..., 219, 259, 541], shape=(3395,))"
      ]
     },
     "execution_count": 827,
     "metadata": {},
     "output_type": "execute_result"
    }
   ],
   "source": [
    "crossing_times"
   ]
  },
  {
   "cell_type": "code",
   "execution_count": 828,
   "id": "adc17adb-1f85-4865-975f-ba984011e9ce",
   "metadata": {},
   "outputs": [
    {
     "data": {
      "text/plain": [
       "np.float64(500.5699558173785)"
      ]
     },
     "execution_count": 828,
     "metadata": {},
     "output_type": "execute_result"
    }
   ],
   "source": [
    "crossing_times.mean()"
   ]
  },
  {
   "cell_type": "code",
   "execution_count": 829,
   "id": "ad8ba99e-fd86-4942-85bc-929b7eb9023b",
   "metadata": {},
   "outputs": [],
   "source": [
    "draws = 0.25 * rng.standard_normal((nwalks, nsteps))"
   ]
  },
  {
   "cell_type": "code",
   "execution_count": 830,
   "id": "b19f8a16-ee8e-4d7e-acf6-24b52ba77ae7",
   "metadata": {},
   "outputs": [
    {
     "data": {
      "text/plain": [
       "array([[-0.04049737, -0.72203015, -0.25774138, ...,  0.42355751,\n",
       "        -0.67303006, -0.41968018],\n",
       "       [-0.04384188, -0.35375729,  0.27860676, ...,  0.01100176,\n",
       "        -0.00527772, -0.08297507],\n",
       "       [ 0.35227417, -0.35383118,  0.09818312, ..., -0.02725589,\n",
       "        -0.04007853, -0.09849703],\n",
       "       ...,\n",
       "       [ 0.22455202, -0.12520673, -0.02435565, ..., -0.19437209,\n",
       "        -0.20666754,  0.16508676],\n",
       "       [-0.04544783,  0.2540093 , -0.298138  , ...,  0.467853  ,\n",
       "         0.03529931, -0.18926481],\n",
       "       [-0.10790612, -0.11282332, -0.05788132, ...,  0.11783678,\n",
       "        -0.03052947,  0.18259634]], shape=(5000, 1000))"
      ]
     },
     "execution_count": 830,
     "metadata": {},
     "output_type": "execute_result"
    }
   ],
   "source": [
    "draws"
   ]
  },
  {
   "cell_type": "code",
   "execution_count": 831,
   "id": "900c69d8-6773-4f68-9f7d-587a77ef446e",
   "metadata": {},
   "outputs": [],
   "source": [
    "# 16th October 2025 Chapter 5"
   ]
  },
  {
   "cell_type": "code",
   "execution_count": 832,
   "id": "194ea92c-de10-44c7-9918-7c7242df5205",
   "metadata": {},
   "outputs": [],
   "source": [
    "# Getting Started with pandas"
   ]
  },
  {
   "cell_type": "code",
   "execution_count": 4,
   "id": "69e7a437-5833-4e14-8467-858376369174",
   "metadata": {},
   "outputs": [],
   "source": [
    "import numpy as np"
   ]
  },
  {
   "cell_type": "code",
   "execution_count": 5,
   "id": "51e6da5c-4377-428f-b889-bb0adf77e525",
   "metadata": {},
   "outputs": [],
   "source": [
    "import pandas as pd"
   ]
  },
  {
   "cell_type": "code",
   "execution_count": 6,
   "id": "ce33688f-dc78-4697-93e6-381e145974c6",
   "metadata": {},
   "outputs": [],
   "source": [
    "from pandas import Series, DataFrame"
   ]
  },
  {
   "cell_type": "code",
   "execution_count": 7,
   "id": "fef767fb-7065-4aa6-b4d3-94c9b1876414",
   "metadata": {},
   "outputs": [],
   "source": [
    "# 5.1 Introduction to pandas Data Structures"
   ]
  },
  {
   "cell_type": "code",
   "execution_count": 8,
   "id": "d3e25fe5-802c-4f22-954a-9fbd65690f79",
   "metadata": {},
   "outputs": [],
   "source": [
    "# Series"
   ]
  },
  {
   "cell_type": "code",
   "execution_count": 9,
   "id": "ee03af54-3a86-4723-8fe5-943f6b84baf9",
   "metadata": {},
   "outputs": [],
   "source": [
    "obj = pd.Series([4, 7, -5, 3])"
   ]
  },
  {
   "cell_type": "code",
   "execution_count": 10,
   "id": "54ac4895-efec-41e2-a2a6-fcec97e5632b",
   "metadata": {},
   "outputs": [
    {
     "data": {
      "text/plain": [
       "0    4\n",
       "1    7\n",
       "2   -5\n",
       "3    3\n",
       "dtype: int64"
      ]
     },
     "execution_count": 10,
     "metadata": {},
     "output_type": "execute_result"
    }
   ],
   "source": [
    "obj"
   ]
  },
  {
   "cell_type": "code",
   "execution_count": null,
   "id": "b122a0cf-9509-494d-bcaa-f5d3799e62c2",
   "metadata": {},
   "outputs": [],
   "source": []
  },
  {
   "cell_type": "code",
   "execution_count": 17,
   "id": "c29a25d4-5ad5-436a-a996-78315a508a74",
   "metadata": {},
   "outputs": [
    {
     "data": {
      "text/plain": [
       "[4, 7, -5, 3]"
      ]
     },
     "execution_count": 17,
     "metadata": {},
     "output_type": "execute_result"
    }
   ],
   "source": [
    "list(obj)"
   ]
  },
  {
   "cell_type": "code",
   "execution_count": 18,
   "id": "8038be12-24d1-488e-a88a-f70d869c6cd7",
   "metadata": {},
   "outputs": [
    {
     "data": {
      "text/plain": [
       "<NumpyExtensionArray>\n",
       "[4, 7, -5, 3]\n",
       "Length: 4, dtype: int64"
      ]
     },
     "execution_count": 18,
     "metadata": {},
     "output_type": "execute_result"
    }
   ],
   "source": [
    "obj.array"
   ]
  },
  {
   "cell_type": "code",
   "execution_count": 19,
   "id": "a0ec9785-7a05-4a25-81fa-0324acf8af22",
   "metadata": {},
   "outputs": [
    {
     "data": {
      "text/plain": [
       "[4, 7, -5, 3]"
      ]
     },
     "execution_count": 19,
     "metadata": {},
     "output_type": "execute_result"
    }
   ],
   "source": [
    "[int(x) for x in list(obj.array)]"
   ]
  },
  {
   "cell_type": "code",
   "execution_count": 20,
   "id": "f3db2cf7-35cd-4218-8b50-0c8f8fd2b3e1",
   "metadata": {},
   "outputs": [
    {
     "data": {
      "text/plain": [
       "RangeIndex(start=0, stop=4, step=1)"
      ]
     },
     "execution_count": 20,
     "metadata": {},
     "output_type": "execute_result"
    }
   ],
   "source": [
    "obj.index"
   ]
  },
  {
   "cell_type": "code",
   "execution_count": 21,
   "id": "ea47f36c-8588-4d78-b262-9b4b2aec9c53",
   "metadata": {},
   "outputs": [],
   "source": [
    "obj2 = pd.Series([4, 7, -5, 3], index=[\"d\", \"b\", \"a\", \"c\"])"
   ]
  },
  {
   "cell_type": "code",
   "execution_count": 22,
   "id": "99d1c33f-2499-485a-ba90-63707f4eaf6b",
   "metadata": {},
   "outputs": [
    {
     "data": {
      "text/plain": [
       "d    4\n",
       "b    7\n",
       "a   -5\n",
       "c    3\n",
       "dtype: int64"
      ]
     },
     "execution_count": 22,
     "metadata": {},
     "output_type": "execute_result"
    }
   ],
   "source": [
    "obj2"
   ]
  },
  {
   "cell_type": "code",
   "execution_count": 23,
   "id": "869d8bde-3ef7-4678-98f2-416ce67d737e",
   "metadata": {},
   "outputs": [
    {
     "data": {
      "text/plain": [
       "Index(['d', 'b', 'a', 'c'], dtype='object')"
      ]
     },
     "execution_count": 23,
     "metadata": {},
     "output_type": "execute_result"
    }
   ],
   "source": [
    "obj2.index"
   ]
  },
  {
   "cell_type": "code",
   "execution_count": 24,
   "id": "f40b5137-3b55-47b9-b981-62923218015b",
   "metadata": {},
   "outputs": [
    {
     "data": {
      "text/plain": [
       "np.int64(-5)"
      ]
     },
     "execution_count": 24,
     "metadata": {},
     "output_type": "execute_result"
    }
   ],
   "source": [
    "obj2[\"a\"]"
   ]
  },
  {
   "cell_type": "code",
   "execution_count": 25,
   "id": "4c022267-d86e-4a29-8b11-b8e38e4faed2",
   "metadata": {},
   "outputs": [],
   "source": [
    "obj2[\"d\"] = 6"
   ]
  },
  {
   "cell_type": "code",
   "execution_count": 26,
   "id": "9985e2ff-56e7-40c9-b5ba-c6cd88e29425",
   "metadata": {},
   "outputs": [
    {
     "data": {
      "text/plain": [
       "c    3\n",
       "a   -5\n",
       "d    6\n",
       "dtype: int64"
      ]
     },
     "execution_count": 26,
     "metadata": {},
     "output_type": "execute_result"
    }
   ],
   "source": [
    "obj2[[\"c\", \"a\", \"d\"]]"
   ]
  },
  {
   "cell_type": "code",
   "execution_count": 27,
   "id": "245d00fd-e376-4357-9aae-9e2999f224b3",
   "metadata": {},
   "outputs": [
    {
     "data": {
      "text/plain": [
       "d    6\n",
       "b    7\n",
       "c    3\n",
       "dtype: int64"
      ]
     },
     "execution_count": 27,
     "metadata": {},
     "output_type": "execute_result"
    }
   ],
   "source": [
    "obj2[obj2 > 0]"
   ]
  },
  {
   "cell_type": "code",
   "execution_count": 28,
   "id": "a4d5cafa-6a73-4dbc-9514-58a81a0d626d",
   "metadata": {},
   "outputs": [
    {
     "data": {
      "text/plain": [
       "d    12\n",
       "b    14\n",
       "a   -10\n",
       "c     6\n",
       "dtype: int64"
      ]
     },
     "execution_count": 28,
     "metadata": {},
     "output_type": "execute_result"
    }
   ],
   "source": [
    "obj2 * 2"
   ]
  },
  {
   "cell_type": "code",
   "execution_count": 29,
   "id": "04b2332b-4458-49f6-8c4b-d33e023881f0",
   "metadata": {},
   "outputs": [
    {
     "data": {
      "text/plain": [
       "d     403.428793\n",
       "b    1096.633158\n",
       "a       0.006738\n",
       "c      20.085537\n",
       "dtype: float64"
      ]
     },
     "execution_count": 29,
     "metadata": {},
     "output_type": "execute_result"
    }
   ],
   "source": [
    "np.exp(obj2)"
   ]
  },
  {
   "cell_type": "code",
   "execution_count": 30,
   "id": "026af33f-ba64-44d1-800c-e69251adfe51",
   "metadata": {},
   "outputs": [
    {
     "data": {
      "text/plain": [
       "True"
      ]
     },
     "execution_count": 30,
     "metadata": {},
     "output_type": "execute_result"
    }
   ],
   "source": [
    "\"b\" in obj2"
   ]
  },
  {
   "cell_type": "code",
   "execution_count": 31,
   "id": "a0fd72f2-ec2b-4456-a958-a49f8d3f94fa",
   "metadata": {},
   "outputs": [
    {
     "data": {
      "text/plain": [
       "False"
      ]
     },
     "execution_count": 31,
     "metadata": {},
     "output_type": "execute_result"
    }
   ],
   "source": [
    "\"e\" in obj2"
   ]
  },
  {
   "cell_type": "code",
   "execution_count": 32,
   "id": "664abd01-fc05-4d82-bfde-c4ee32a178d6",
   "metadata": {},
   "outputs": [],
   "source": [
    "sdata = {\"Ohio\": 35000, \"Texas\": 71000, \"Oregon\": 16000, \"Utah\": 5000}"
   ]
  },
  {
   "cell_type": "code",
   "execution_count": 33,
   "id": "6b669c76-f6b6-47e0-ae4b-9c98817c8947",
   "metadata": {},
   "outputs": [],
   "source": [
    "obj3 = pd.Series(sdata)"
   ]
  },
  {
   "cell_type": "code",
   "execution_count": 34,
   "id": "1df158ae-b5b0-45c5-8b78-c15beebafeb7",
   "metadata": {},
   "outputs": [
    {
     "data": {
      "text/plain": [
       "Ohio      35000\n",
       "Texas     71000\n",
       "Oregon    16000\n",
       "Utah       5000\n",
       "dtype: int64"
      ]
     },
     "execution_count": 34,
     "metadata": {},
     "output_type": "execute_result"
    }
   ],
   "source": [
    "obj3"
   ]
  },
  {
   "cell_type": "code",
   "execution_count": 35,
   "id": "1b0515b1-31f8-4d8a-8ee1-71f3e869633e",
   "metadata": {},
   "outputs": [
    {
     "data": {
      "text/plain": [
       "{'Ohio': 35000, 'Texas': 71000, 'Oregon': 16000, 'Utah': 5000}"
      ]
     },
     "execution_count": 35,
     "metadata": {},
     "output_type": "execute_result"
    }
   ],
   "source": [
    "obj3.to_dict()"
   ]
  },
  {
   "cell_type": "code",
   "execution_count": 36,
   "id": "fb856ccc-9b08-4d30-8264-212dca86cea6",
   "metadata": {},
   "outputs": [],
   "source": [
    "states = [\"California\", \"Ohio\", \"Oregon\", \"Texas\"]"
   ]
  },
  {
   "cell_type": "code",
   "execution_count": 37,
   "id": "d0060bd8-ee8a-45cd-8013-a66762984a10",
   "metadata": {},
   "outputs": [],
   "source": [
    "obj4 = pd.Series(sdata, index=states)"
   ]
  },
  {
   "cell_type": "code",
   "execution_count": 38,
   "id": "777c0165-20a2-409a-9d61-df7598745ca6",
   "metadata": {},
   "outputs": [
    {
     "data": {
      "text/plain": [
       "California        NaN\n",
       "Ohio          35000.0\n",
       "Oregon        16000.0\n",
       "Texas         71000.0\n",
       "dtype: float64"
      ]
     },
     "execution_count": 38,
     "metadata": {},
     "output_type": "execute_result"
    }
   ],
   "source": [
    "obj4"
   ]
  },
  {
   "cell_type": "code",
   "execution_count": 39,
   "id": "154b29d4-b981-4e71-bf64-099d57a432ef",
   "metadata": {},
   "outputs": [
    {
     "data": {
      "text/plain": [
       "California     True\n",
       "Ohio          False\n",
       "Oregon        False\n",
       "Texas         False\n",
       "dtype: bool"
      ]
     },
     "execution_count": 39,
     "metadata": {},
     "output_type": "execute_result"
    }
   ],
   "source": [
    "pd.isna(obj4)"
   ]
  },
  {
   "cell_type": "code",
   "execution_count": 40,
   "id": "38e6dae0-eec4-4517-addb-6738b319bdda",
   "metadata": {},
   "outputs": [
    {
     "data": {
      "text/plain": [
       "California    False\n",
       "Ohio           True\n",
       "Oregon         True\n",
       "Texas          True\n",
       "dtype: bool"
      ]
     },
     "execution_count": 40,
     "metadata": {},
     "output_type": "execute_result"
    }
   ],
   "source": [
    "pd.notna(obj4)"
   ]
  },
  {
   "cell_type": "code",
   "execution_count": 41,
   "id": "7b4501bd-995f-4f4b-a112-cfcb935174b5",
   "metadata": {},
   "outputs": [
    {
     "data": {
      "text/plain": [
       "California     True\n",
       "Ohio          False\n",
       "Oregon        False\n",
       "Texas         False\n",
       "dtype: bool"
      ]
     },
     "execution_count": 41,
     "metadata": {},
     "output_type": "execute_result"
    }
   ],
   "source": [
    "obj4.isna()"
   ]
  },
  {
   "cell_type": "code",
   "execution_count": 42,
   "id": "b1c37cd3-9c3d-4a62-acfe-bf7b04eefa11",
   "metadata": {},
   "outputs": [
    {
     "data": {
      "text/plain": [
       "California    False\n",
       "Ohio           True\n",
       "Oregon         True\n",
       "Texas          True\n",
       "dtype: bool"
      ]
     },
     "execution_count": 42,
     "metadata": {},
     "output_type": "execute_result"
    }
   ],
   "source": [
    "obj4.notna()"
   ]
  },
  {
   "cell_type": "code",
   "execution_count": 43,
   "id": "e68a8a06-e7d0-4c54-a6ec-7aecc74e8e5a",
   "metadata": {},
   "outputs": [
    {
     "data": {
      "text/plain": [
       "Ohio      35000\n",
       "Texas     71000\n",
       "Oregon    16000\n",
       "Utah       5000\n",
       "dtype: int64"
      ]
     },
     "execution_count": 43,
     "metadata": {},
     "output_type": "execute_result"
    }
   ],
   "source": [
    "obj3"
   ]
  },
  {
   "cell_type": "code",
   "execution_count": 44,
   "id": "cde63aef-006a-4335-bd7c-1b4e5baba496",
   "metadata": {},
   "outputs": [
    {
     "data": {
      "text/plain": [
       "California        NaN\n",
       "Ohio          35000.0\n",
       "Oregon        16000.0\n",
       "Texas         71000.0\n",
       "dtype: float64"
      ]
     },
     "execution_count": 44,
     "metadata": {},
     "output_type": "execute_result"
    }
   ],
   "source": [
    "obj4"
   ]
  },
  {
   "cell_type": "code",
   "execution_count": 45,
   "id": "6233ceee-df50-48e1-84fb-dae9b23df2e8",
   "metadata": {},
   "outputs": [
    {
     "data": {
      "text/plain": [
       "California         NaN\n",
       "Ohio           70000.0\n",
       "Oregon         32000.0\n",
       "Texas         142000.0\n",
       "Utah               NaN\n",
       "dtype: float64"
      ]
     },
     "execution_count": 45,
     "metadata": {},
     "output_type": "execute_result"
    }
   ],
   "source": [
    "obj3 + obj4"
   ]
  },
  {
   "cell_type": "code",
   "execution_count": 46,
   "id": "d0c91661-efb0-45a0-a9b9-aaf1ad7d556d",
   "metadata": {},
   "outputs": [],
   "source": [
    "obj4.name = \"population\""
   ]
  },
  {
   "cell_type": "code",
   "execution_count": 47,
   "id": "d2d8892d-38a4-4bcb-a087-bc83c72e1c90",
   "metadata": {},
   "outputs": [],
   "source": [
    "obj4.index.name = \"state\""
   ]
  },
  {
   "cell_type": "code",
   "execution_count": 48,
   "id": "8f2a9e86-e4ff-4786-a7ac-e581ab473781",
   "metadata": {},
   "outputs": [
    {
     "data": {
      "text/plain": [
       "state\n",
       "California        NaN\n",
       "Ohio          35000.0\n",
       "Oregon        16000.0\n",
       "Texas         71000.0\n",
       "Name: population, dtype: float64"
      ]
     },
     "execution_count": 48,
     "metadata": {},
     "output_type": "execute_result"
    }
   ],
   "source": [
    "obj4"
   ]
  },
  {
   "cell_type": "code",
   "execution_count": 49,
   "id": "b945ece2-7d3a-42a2-83ee-61d5be8db0a3",
   "metadata": {},
   "outputs": [
    {
     "data": {
      "text/plain": [
       "0    4\n",
       "1    7\n",
       "2   -5\n",
       "3    3\n",
       "dtype: int64"
      ]
     },
     "execution_count": 49,
     "metadata": {},
     "output_type": "execute_result"
    }
   ],
   "source": [
    "obj"
   ]
  },
  {
   "cell_type": "code",
   "execution_count": 50,
   "id": "88d58388-e8b3-47fb-9e81-42bb0936b7f8",
   "metadata": {},
   "outputs": [],
   "source": [
    "obj.index = [\"Bob\", \"Steve\", \"Jeff\", \"Ryan\"]"
   ]
  },
  {
   "cell_type": "code",
   "execution_count": 51,
   "id": "1b6684e2-955b-40aa-9f02-842315e09460",
   "metadata": {},
   "outputs": [
    {
     "data": {
      "text/plain": [
       "Bob      4\n",
       "Steve    7\n",
       "Jeff    -5\n",
       "Ryan     3\n",
       "dtype: int64"
      ]
     },
     "execution_count": 51,
     "metadata": {},
     "output_type": "execute_result"
    }
   ],
   "source": [
    "obj"
   ]
  },
  {
   "cell_type": "code",
   "execution_count": 52,
   "id": "6d6b3505-4b2b-4f2e-9a2c-158b57d729ed",
   "metadata": {},
   "outputs": [],
   "source": [
    "data = {\"state\": [\"Ohio\", \"Ohio\", \"Ohio\", \"Nevada\", \"Nevada\", \"Nevada\"],\n",
    "        \"year\": [2000, 2001, 2002, 2001, 2002, 2003],\n",
    "        \"pop\": [1.5, 1.7, 3.6, 2.4, 2.9, 3.2]}"
   ]
  },
  {
   "cell_type": "code",
   "execution_count": 53,
   "id": "00a3f099-87b7-45b6-a039-6e92c4f7e0a9",
   "metadata": {},
   "outputs": [],
   "source": [
    "frame = pd.DataFrame(data)"
   ]
  },
  {
   "cell_type": "code",
   "execution_count": 54,
   "id": "3f99b02d-1eb5-43e3-8d6e-f34e1aca6807",
   "metadata": {},
   "outputs": [
    {
     "data": {
      "text/html": [
       "<div>\n",
       "<style scoped>\n",
       "    .dataframe tbody tr th:only-of-type {\n",
       "        vertical-align: middle;\n",
       "    }\n",
       "\n",
       "    .dataframe tbody tr th {\n",
       "        vertical-align: top;\n",
       "    }\n",
       "\n",
       "    .dataframe thead th {\n",
       "        text-align: right;\n",
       "    }\n",
       "</style>\n",
       "<table border=\"1\" class=\"dataframe\">\n",
       "  <thead>\n",
       "    <tr style=\"text-align: right;\">\n",
       "      <th></th>\n",
       "      <th>state</th>\n",
       "      <th>year</th>\n",
       "      <th>pop</th>\n",
       "    </tr>\n",
       "  </thead>\n",
       "  <tbody>\n",
       "    <tr>\n",
       "      <th>0</th>\n",
       "      <td>Ohio</td>\n",
       "      <td>2000</td>\n",
       "      <td>1.5</td>\n",
       "    </tr>\n",
       "    <tr>\n",
       "      <th>1</th>\n",
       "      <td>Ohio</td>\n",
       "      <td>2001</td>\n",
       "      <td>1.7</td>\n",
       "    </tr>\n",
       "    <tr>\n",
       "      <th>2</th>\n",
       "      <td>Ohio</td>\n",
       "      <td>2002</td>\n",
       "      <td>3.6</td>\n",
       "    </tr>\n",
       "    <tr>\n",
       "      <th>3</th>\n",
       "      <td>Nevada</td>\n",
       "      <td>2001</td>\n",
       "      <td>2.4</td>\n",
       "    </tr>\n",
       "    <tr>\n",
       "      <th>4</th>\n",
       "      <td>Nevada</td>\n",
       "      <td>2002</td>\n",
       "      <td>2.9</td>\n",
       "    </tr>\n",
       "    <tr>\n",
       "      <th>5</th>\n",
       "      <td>Nevada</td>\n",
       "      <td>2003</td>\n",
       "      <td>3.2</td>\n",
       "    </tr>\n",
       "  </tbody>\n",
       "</table>\n",
       "</div>"
      ],
      "text/plain": [
       "    state  year  pop\n",
       "0    Ohio  2000  1.5\n",
       "1    Ohio  2001  1.7\n",
       "2    Ohio  2002  3.6\n",
       "3  Nevada  2001  2.4\n",
       "4  Nevada  2002  2.9\n",
       "5  Nevada  2003  3.2"
      ]
     },
     "execution_count": 54,
     "metadata": {},
     "output_type": "execute_result"
    }
   ],
   "source": [
    "frame"
   ]
  },
  {
   "cell_type": "code",
   "execution_count": 55,
   "id": "828d6fa8-0c51-4137-a31d-64839e35d33a",
   "metadata": {},
   "outputs": [
    {
     "data": {
      "text/html": [
       "<div>\n",
       "<style scoped>\n",
       "    .dataframe tbody tr th:only-of-type {\n",
       "        vertical-align: middle;\n",
       "    }\n",
       "\n",
       "    .dataframe tbody tr th {\n",
       "        vertical-align: top;\n",
       "    }\n",
       "\n",
       "    .dataframe thead th {\n",
       "        text-align: right;\n",
       "    }\n",
       "</style>\n",
       "<table border=\"1\" class=\"dataframe\">\n",
       "  <thead>\n",
       "    <tr style=\"text-align: right;\">\n",
       "      <th></th>\n",
       "      <th>state</th>\n",
       "      <th>year</th>\n",
       "      <th>pop</th>\n",
       "    </tr>\n",
       "  </thead>\n",
       "  <tbody>\n",
       "    <tr>\n",
       "      <th>0</th>\n",
       "      <td>Ohio</td>\n",
       "      <td>2000</td>\n",
       "      <td>1.5</td>\n",
       "    </tr>\n",
       "    <tr>\n",
       "      <th>1</th>\n",
       "      <td>Ohio</td>\n",
       "      <td>2001</td>\n",
       "      <td>1.7</td>\n",
       "    </tr>\n",
       "    <tr>\n",
       "      <th>2</th>\n",
       "      <td>Ohio</td>\n",
       "      <td>2002</td>\n",
       "      <td>3.6</td>\n",
       "    </tr>\n",
       "    <tr>\n",
       "      <th>3</th>\n",
       "      <td>Nevada</td>\n",
       "      <td>2001</td>\n",
       "      <td>2.4</td>\n",
       "    </tr>\n",
       "    <tr>\n",
       "      <th>4</th>\n",
       "      <td>Nevada</td>\n",
       "      <td>2002</td>\n",
       "      <td>2.9</td>\n",
       "    </tr>\n",
       "  </tbody>\n",
       "</table>\n",
       "</div>"
      ],
      "text/plain": [
       "    state  year  pop\n",
       "0    Ohio  2000  1.5\n",
       "1    Ohio  2001  1.7\n",
       "2    Ohio  2002  3.6\n",
       "3  Nevada  2001  2.4\n",
       "4  Nevada  2002  2.9"
      ]
     },
     "execution_count": 55,
     "metadata": {},
     "output_type": "execute_result"
    }
   ],
   "source": [
    "frame.head()"
   ]
  },
  {
   "cell_type": "code",
   "execution_count": 56,
   "id": "c72413c5-e1cc-4e4e-b6f8-c674b853526d",
   "metadata": {},
   "outputs": [
    {
     "data": {
      "text/html": [
       "<div>\n",
       "<style scoped>\n",
       "    .dataframe tbody tr th:only-of-type {\n",
       "        vertical-align: middle;\n",
       "    }\n",
       "\n",
       "    .dataframe tbody tr th {\n",
       "        vertical-align: top;\n",
       "    }\n",
       "\n",
       "    .dataframe thead th {\n",
       "        text-align: right;\n",
       "    }\n",
       "</style>\n",
       "<table border=\"1\" class=\"dataframe\">\n",
       "  <thead>\n",
       "    <tr style=\"text-align: right;\">\n",
       "      <th></th>\n",
       "      <th>state</th>\n",
       "      <th>year</th>\n",
       "      <th>pop</th>\n",
       "    </tr>\n",
       "  </thead>\n",
       "  <tbody>\n",
       "    <tr>\n",
       "      <th>1</th>\n",
       "      <td>Ohio</td>\n",
       "      <td>2001</td>\n",
       "      <td>1.7</td>\n",
       "    </tr>\n",
       "    <tr>\n",
       "      <th>2</th>\n",
       "      <td>Ohio</td>\n",
       "      <td>2002</td>\n",
       "      <td>3.6</td>\n",
       "    </tr>\n",
       "    <tr>\n",
       "      <th>3</th>\n",
       "      <td>Nevada</td>\n",
       "      <td>2001</td>\n",
       "      <td>2.4</td>\n",
       "    </tr>\n",
       "    <tr>\n",
       "      <th>4</th>\n",
       "      <td>Nevada</td>\n",
       "      <td>2002</td>\n",
       "      <td>2.9</td>\n",
       "    </tr>\n",
       "    <tr>\n",
       "      <th>5</th>\n",
       "      <td>Nevada</td>\n",
       "      <td>2003</td>\n",
       "      <td>3.2</td>\n",
       "    </tr>\n",
       "  </tbody>\n",
       "</table>\n",
       "</div>"
      ],
      "text/plain": [
       "    state  year  pop\n",
       "1    Ohio  2001  1.7\n",
       "2    Ohio  2002  3.6\n",
       "3  Nevada  2001  2.4\n",
       "4  Nevada  2002  2.9\n",
       "5  Nevada  2003  3.2"
      ]
     },
     "execution_count": 56,
     "metadata": {},
     "output_type": "execute_result"
    }
   ],
   "source": [
    "frame.tail()"
   ]
  },
  {
   "cell_type": "code",
   "execution_count": 57,
   "id": "00f986fb-1740-421e-af76-0bdf1c70a3ea",
   "metadata": {},
   "outputs": [
    {
     "data": {
      "text/html": [
       "<div>\n",
       "<style scoped>\n",
       "    .dataframe tbody tr th:only-of-type {\n",
       "        vertical-align: middle;\n",
       "    }\n",
       "\n",
       "    .dataframe tbody tr th {\n",
       "        vertical-align: top;\n",
       "    }\n",
       "\n",
       "    .dataframe thead th {\n",
       "        text-align: right;\n",
       "    }\n",
       "</style>\n",
       "<table border=\"1\" class=\"dataframe\">\n",
       "  <thead>\n",
       "    <tr style=\"text-align: right;\">\n",
       "      <th></th>\n",
       "      <th>year</th>\n",
       "      <th>state</th>\n",
       "      <th>pop</th>\n",
       "    </tr>\n",
       "  </thead>\n",
       "  <tbody>\n",
       "    <tr>\n",
       "      <th>0</th>\n",
       "      <td>2000</td>\n",
       "      <td>Ohio</td>\n",
       "      <td>1.5</td>\n",
       "    </tr>\n",
       "    <tr>\n",
       "      <th>1</th>\n",
       "      <td>2001</td>\n",
       "      <td>Ohio</td>\n",
       "      <td>1.7</td>\n",
       "    </tr>\n",
       "    <tr>\n",
       "      <th>2</th>\n",
       "      <td>2002</td>\n",
       "      <td>Ohio</td>\n",
       "      <td>3.6</td>\n",
       "    </tr>\n",
       "    <tr>\n",
       "      <th>3</th>\n",
       "      <td>2001</td>\n",
       "      <td>Nevada</td>\n",
       "      <td>2.4</td>\n",
       "    </tr>\n",
       "    <tr>\n",
       "      <th>4</th>\n",
       "      <td>2002</td>\n",
       "      <td>Nevada</td>\n",
       "      <td>2.9</td>\n",
       "    </tr>\n",
       "    <tr>\n",
       "      <th>5</th>\n",
       "      <td>2003</td>\n",
       "      <td>Nevada</td>\n",
       "      <td>3.2</td>\n",
       "    </tr>\n",
       "  </tbody>\n",
       "</table>\n",
       "</div>"
      ],
      "text/plain": [
       "   year   state  pop\n",
       "0  2000    Ohio  1.5\n",
       "1  2001    Ohio  1.7\n",
       "2  2002    Ohio  3.6\n",
       "3  2001  Nevada  2.4\n",
       "4  2002  Nevada  2.9\n",
       "5  2003  Nevada  3.2"
      ]
     },
     "execution_count": 57,
     "metadata": {},
     "output_type": "execute_result"
    }
   ],
   "source": [
    "pd.DataFrame(data, columns=[\"year\", \"state\", \"pop\"])"
   ]
  },
  {
   "cell_type": "code",
   "execution_count": 58,
   "id": "d0484c36-af17-492b-9faf-1e703361448a",
   "metadata": {},
   "outputs": [],
   "source": [
    "frame2 = pd.DataFrame(data, columns=[\"year\", \"state\", \"pop\", \"debt\"])"
   ]
  },
  {
   "cell_type": "code",
   "execution_count": 59,
   "id": "f5e4eb8c-ac6d-4453-9969-b4617fd9c55e",
   "metadata": {},
   "outputs": [
    {
     "data": {
      "text/html": [
       "<div>\n",
       "<style scoped>\n",
       "    .dataframe tbody tr th:only-of-type {\n",
       "        vertical-align: middle;\n",
       "    }\n",
       "\n",
       "    .dataframe tbody tr th {\n",
       "        vertical-align: top;\n",
       "    }\n",
       "\n",
       "    .dataframe thead th {\n",
       "        text-align: right;\n",
       "    }\n",
       "</style>\n",
       "<table border=\"1\" class=\"dataframe\">\n",
       "  <thead>\n",
       "    <tr style=\"text-align: right;\">\n",
       "      <th></th>\n",
       "      <th>year</th>\n",
       "      <th>state</th>\n",
       "      <th>pop</th>\n",
       "      <th>debt</th>\n",
       "    </tr>\n",
       "  </thead>\n",
       "  <tbody>\n",
       "    <tr>\n",
       "      <th>0</th>\n",
       "      <td>2000</td>\n",
       "      <td>Ohio</td>\n",
       "      <td>1.5</td>\n",
       "      <td>NaN</td>\n",
       "    </tr>\n",
       "    <tr>\n",
       "      <th>1</th>\n",
       "      <td>2001</td>\n",
       "      <td>Ohio</td>\n",
       "      <td>1.7</td>\n",
       "      <td>NaN</td>\n",
       "    </tr>\n",
       "    <tr>\n",
       "      <th>2</th>\n",
       "      <td>2002</td>\n",
       "      <td>Ohio</td>\n",
       "      <td>3.6</td>\n",
       "      <td>NaN</td>\n",
       "    </tr>\n",
       "    <tr>\n",
       "      <th>3</th>\n",
       "      <td>2001</td>\n",
       "      <td>Nevada</td>\n",
       "      <td>2.4</td>\n",
       "      <td>NaN</td>\n",
       "    </tr>\n",
       "    <tr>\n",
       "      <th>4</th>\n",
       "      <td>2002</td>\n",
       "      <td>Nevada</td>\n",
       "      <td>2.9</td>\n",
       "      <td>NaN</td>\n",
       "    </tr>\n",
       "    <tr>\n",
       "      <th>5</th>\n",
       "      <td>2003</td>\n",
       "      <td>Nevada</td>\n",
       "      <td>3.2</td>\n",
       "      <td>NaN</td>\n",
       "    </tr>\n",
       "  </tbody>\n",
       "</table>\n",
       "</div>"
      ],
      "text/plain": [
       "   year   state  pop debt\n",
       "0  2000    Ohio  1.5  NaN\n",
       "1  2001    Ohio  1.7  NaN\n",
       "2  2002    Ohio  3.6  NaN\n",
       "3  2001  Nevada  2.4  NaN\n",
       "4  2002  Nevada  2.9  NaN\n",
       "5  2003  Nevada  3.2  NaN"
      ]
     },
     "execution_count": 59,
     "metadata": {},
     "output_type": "execute_result"
    }
   ],
   "source": [
    "frame2"
   ]
  },
  {
   "cell_type": "code",
   "execution_count": 60,
   "id": "d9c87a8a-0684-4d83-bbf3-c322a5066b6d",
   "metadata": {},
   "outputs": [
    {
     "data": {
      "text/plain": [
       "Index(['year', 'state', 'pop', 'debt'], dtype='object')"
      ]
     },
     "execution_count": 60,
     "metadata": {},
     "output_type": "execute_result"
    }
   ],
   "source": [
    "frame2.columns"
   ]
  },
  {
   "cell_type": "code",
   "execution_count": 61,
   "id": "48417ca7-4a43-4fbd-b78c-95b2cbbb1038",
   "metadata": {},
   "outputs": [
    {
     "data": {
      "text/plain": [
       "0    2000\n",
       "1    2001\n",
       "2    2002\n",
       "3    2001\n",
       "4    2002\n",
       "5    2003\n",
       "Name: year, dtype: int64"
      ]
     },
     "execution_count": 61,
     "metadata": {},
     "output_type": "execute_result"
    }
   ],
   "source": [
    "frame2[\"year\"]"
   ]
  },
  {
   "cell_type": "code",
   "execution_count": 62,
   "id": "8089612f-32ef-420c-b89b-169b3bbbe3dc",
   "metadata": {},
   "outputs": [
    {
     "data": {
      "text/plain": [
       "0    2000\n",
       "1    2001\n",
       "2    2002\n",
       "3    2001\n",
       "4    2002\n",
       "5    2003\n",
       "Name: year, dtype: int64"
      ]
     },
     "execution_count": 62,
     "metadata": {},
     "output_type": "execute_result"
    }
   ],
   "source": [
    "frame2.year"
   ]
  },
  {
   "cell_type": "code",
   "execution_count": 63,
   "id": "6836f666-b2fb-4ffc-8b4f-37ce870fb378",
   "metadata": {},
   "outputs": [
    {
     "data": {
      "text/plain": [
       "year     2001\n",
       "state    Ohio\n",
       "pop       1.7\n",
       "debt      NaN\n",
       "Name: 1, dtype: object"
      ]
     },
     "execution_count": 63,
     "metadata": {},
     "output_type": "execute_result"
    }
   ],
   "source": [
    "frame2.loc[1]"
   ]
  },
  {
   "cell_type": "code",
   "execution_count": 64,
   "id": "ac32a9f4-b16f-4242-babe-e1d53d78dc2d",
   "metadata": {},
   "outputs": [
    {
     "data": {
      "text/plain": [
       "year     2002\n",
       "state    Ohio\n",
       "pop       3.6\n",
       "debt      NaN\n",
       "Name: 2, dtype: object"
      ]
     },
     "execution_count": 64,
     "metadata": {},
     "output_type": "execute_result"
    }
   ],
   "source": [
    "frame2.iloc[2]"
   ]
  },
  {
   "cell_type": "code",
   "execution_count": 65,
   "id": "e801918b-14e5-4972-b377-685a33ca141b",
   "metadata": {},
   "outputs": [],
   "source": [
    "frame2[\"debt\"] = 16.5"
   ]
  },
  {
   "cell_type": "code",
   "execution_count": 66,
   "id": "ed181fd9-7f22-405f-8eff-b56738aa3340",
   "metadata": {},
   "outputs": [
    {
     "data": {
      "text/html": [
       "<div>\n",
       "<style scoped>\n",
       "    .dataframe tbody tr th:only-of-type {\n",
       "        vertical-align: middle;\n",
       "    }\n",
       "\n",
       "    .dataframe tbody tr th {\n",
       "        vertical-align: top;\n",
       "    }\n",
       "\n",
       "    .dataframe thead th {\n",
       "        text-align: right;\n",
       "    }\n",
       "</style>\n",
       "<table border=\"1\" class=\"dataframe\">\n",
       "  <thead>\n",
       "    <tr style=\"text-align: right;\">\n",
       "      <th></th>\n",
       "      <th>year</th>\n",
       "      <th>state</th>\n",
       "      <th>pop</th>\n",
       "      <th>debt</th>\n",
       "    </tr>\n",
       "  </thead>\n",
       "  <tbody>\n",
       "    <tr>\n",
       "      <th>0</th>\n",
       "      <td>2000</td>\n",
       "      <td>Ohio</td>\n",
       "      <td>1.5</td>\n",
       "      <td>16.5</td>\n",
       "    </tr>\n",
       "    <tr>\n",
       "      <th>1</th>\n",
       "      <td>2001</td>\n",
       "      <td>Ohio</td>\n",
       "      <td>1.7</td>\n",
       "      <td>16.5</td>\n",
       "    </tr>\n",
       "    <tr>\n",
       "      <th>2</th>\n",
       "      <td>2002</td>\n",
       "      <td>Ohio</td>\n",
       "      <td>3.6</td>\n",
       "      <td>16.5</td>\n",
       "    </tr>\n",
       "    <tr>\n",
       "      <th>3</th>\n",
       "      <td>2001</td>\n",
       "      <td>Nevada</td>\n",
       "      <td>2.4</td>\n",
       "      <td>16.5</td>\n",
       "    </tr>\n",
       "    <tr>\n",
       "      <th>4</th>\n",
       "      <td>2002</td>\n",
       "      <td>Nevada</td>\n",
       "      <td>2.9</td>\n",
       "      <td>16.5</td>\n",
       "    </tr>\n",
       "    <tr>\n",
       "      <th>5</th>\n",
       "      <td>2003</td>\n",
       "      <td>Nevada</td>\n",
       "      <td>3.2</td>\n",
       "      <td>16.5</td>\n",
       "    </tr>\n",
       "  </tbody>\n",
       "</table>\n",
       "</div>"
      ],
      "text/plain": [
       "   year   state  pop  debt\n",
       "0  2000    Ohio  1.5  16.5\n",
       "1  2001    Ohio  1.7  16.5\n",
       "2  2002    Ohio  3.6  16.5\n",
       "3  2001  Nevada  2.4  16.5\n",
       "4  2002  Nevada  2.9  16.5\n",
       "5  2003  Nevada  3.2  16.5"
      ]
     },
     "execution_count": 66,
     "metadata": {},
     "output_type": "execute_result"
    }
   ],
   "source": [
    "frame2"
   ]
  },
  {
   "cell_type": "code",
   "execution_count": 67,
   "id": "36a17760-c5b4-473b-a2a0-b4fb8e9e431a",
   "metadata": {},
   "outputs": [],
   "source": [
    "frame2[\"debt\"] = np.arange(6.)"
   ]
  },
  {
   "cell_type": "code",
   "execution_count": 68,
   "id": "56984e29-2d06-41ab-aa92-31912eaa1290",
   "metadata": {},
   "outputs": [
    {
     "data": {
      "text/html": [
       "<div>\n",
       "<style scoped>\n",
       "    .dataframe tbody tr th:only-of-type {\n",
       "        vertical-align: middle;\n",
       "    }\n",
       "\n",
       "    .dataframe tbody tr th {\n",
       "        vertical-align: top;\n",
       "    }\n",
       "\n",
       "    .dataframe thead th {\n",
       "        text-align: right;\n",
       "    }\n",
       "</style>\n",
       "<table border=\"1\" class=\"dataframe\">\n",
       "  <thead>\n",
       "    <tr style=\"text-align: right;\">\n",
       "      <th></th>\n",
       "      <th>year</th>\n",
       "      <th>state</th>\n",
       "      <th>pop</th>\n",
       "      <th>debt</th>\n",
       "    </tr>\n",
       "  </thead>\n",
       "  <tbody>\n",
       "    <tr>\n",
       "      <th>0</th>\n",
       "      <td>2000</td>\n",
       "      <td>Ohio</td>\n",
       "      <td>1.5</td>\n",
       "      <td>0.0</td>\n",
       "    </tr>\n",
       "    <tr>\n",
       "      <th>1</th>\n",
       "      <td>2001</td>\n",
       "      <td>Ohio</td>\n",
       "      <td>1.7</td>\n",
       "      <td>1.0</td>\n",
       "    </tr>\n",
       "    <tr>\n",
       "      <th>2</th>\n",
       "      <td>2002</td>\n",
       "      <td>Ohio</td>\n",
       "      <td>3.6</td>\n",
       "      <td>2.0</td>\n",
       "    </tr>\n",
       "    <tr>\n",
       "      <th>3</th>\n",
       "      <td>2001</td>\n",
       "      <td>Nevada</td>\n",
       "      <td>2.4</td>\n",
       "      <td>3.0</td>\n",
       "    </tr>\n",
       "    <tr>\n",
       "      <th>4</th>\n",
       "      <td>2002</td>\n",
       "      <td>Nevada</td>\n",
       "      <td>2.9</td>\n",
       "      <td>4.0</td>\n",
       "    </tr>\n",
       "    <tr>\n",
       "      <th>5</th>\n",
       "      <td>2003</td>\n",
       "      <td>Nevada</td>\n",
       "      <td>3.2</td>\n",
       "      <td>5.0</td>\n",
       "    </tr>\n",
       "  </tbody>\n",
       "</table>\n",
       "</div>"
      ],
      "text/plain": [
       "   year   state  pop  debt\n",
       "0  2000    Ohio  1.5   0.0\n",
       "1  2001    Ohio  1.7   1.0\n",
       "2  2002    Ohio  3.6   2.0\n",
       "3  2001  Nevada  2.4   3.0\n",
       "4  2002  Nevada  2.9   4.0\n",
       "5  2003  Nevada  3.2   5.0"
      ]
     },
     "execution_count": 68,
     "metadata": {},
     "output_type": "execute_result"
    }
   ],
   "source": [
    "frame2"
   ]
  },
  {
   "cell_type": "code",
   "execution_count": 69,
   "id": "ec4f3213-dbba-4a0c-9815-da4cee3495c2",
   "metadata": {},
   "outputs": [],
   "source": [
    "val = pd.Series([-1.2, -1.5, -1.7], index=[\"two\", \"four\", \"five\"])"
   ]
  },
  {
   "cell_type": "code",
   "execution_count": 70,
   "id": "2a34caed-0c04-41c8-88d9-8431cb295eae",
   "metadata": {},
   "outputs": [],
   "source": [
    "frame2[\"debt\"] = val"
   ]
  },
  {
   "cell_type": "code",
   "execution_count": 71,
   "id": "5f1aa48c-894f-4e2d-977d-852e6ba69f24",
   "metadata": {},
   "outputs": [
    {
     "data": {
      "text/html": [
       "<div>\n",
       "<style scoped>\n",
       "    .dataframe tbody tr th:only-of-type {\n",
       "        vertical-align: middle;\n",
       "    }\n",
       "\n",
       "    .dataframe tbody tr th {\n",
       "        vertical-align: top;\n",
       "    }\n",
       "\n",
       "    .dataframe thead th {\n",
       "        text-align: right;\n",
       "    }\n",
       "</style>\n",
       "<table border=\"1\" class=\"dataframe\">\n",
       "  <thead>\n",
       "    <tr style=\"text-align: right;\">\n",
       "      <th></th>\n",
       "      <th>year</th>\n",
       "      <th>state</th>\n",
       "      <th>pop</th>\n",
       "      <th>debt</th>\n",
       "    </tr>\n",
       "  </thead>\n",
       "  <tbody>\n",
       "    <tr>\n",
       "      <th>0</th>\n",
       "      <td>2000</td>\n",
       "      <td>Ohio</td>\n",
       "      <td>1.5</td>\n",
       "      <td>NaN</td>\n",
       "    </tr>\n",
       "    <tr>\n",
       "      <th>1</th>\n",
       "      <td>2001</td>\n",
       "      <td>Ohio</td>\n",
       "      <td>1.7</td>\n",
       "      <td>NaN</td>\n",
       "    </tr>\n",
       "    <tr>\n",
       "      <th>2</th>\n",
       "      <td>2002</td>\n",
       "      <td>Ohio</td>\n",
       "      <td>3.6</td>\n",
       "      <td>NaN</td>\n",
       "    </tr>\n",
       "    <tr>\n",
       "      <th>3</th>\n",
       "      <td>2001</td>\n",
       "      <td>Nevada</td>\n",
       "      <td>2.4</td>\n",
       "      <td>NaN</td>\n",
       "    </tr>\n",
       "    <tr>\n",
       "      <th>4</th>\n",
       "      <td>2002</td>\n",
       "      <td>Nevada</td>\n",
       "      <td>2.9</td>\n",
       "      <td>NaN</td>\n",
       "    </tr>\n",
       "    <tr>\n",
       "      <th>5</th>\n",
       "      <td>2003</td>\n",
       "      <td>Nevada</td>\n",
       "      <td>3.2</td>\n",
       "      <td>NaN</td>\n",
       "    </tr>\n",
       "  </tbody>\n",
       "</table>\n",
       "</div>"
      ],
      "text/plain": [
       "   year   state  pop  debt\n",
       "0  2000    Ohio  1.5   NaN\n",
       "1  2001    Ohio  1.7   NaN\n",
       "2  2002    Ohio  3.6   NaN\n",
       "3  2001  Nevada  2.4   NaN\n",
       "4  2002  Nevada  2.9   NaN\n",
       "5  2003  Nevada  3.2   NaN"
      ]
     },
     "execution_count": 71,
     "metadata": {},
     "output_type": "execute_result"
    }
   ],
   "source": [
    "frame2"
   ]
  },
  {
   "cell_type": "code",
   "execution_count": 72,
   "id": "28ce124c-1f4d-43ae-ba4f-88dea42c1956",
   "metadata": {},
   "outputs": [],
   "source": [
    "frame2[\"eastern\"] = frame2[\"state\"] == \"Ohio\""
   ]
  },
  {
   "cell_type": "code",
   "execution_count": 73,
   "id": "0779c234-7ea0-46ba-8e16-b16a539b57b9",
   "metadata": {},
   "outputs": [
    {
     "data": {
      "text/html": [
       "<div>\n",
       "<style scoped>\n",
       "    .dataframe tbody tr th:only-of-type {\n",
       "        vertical-align: middle;\n",
       "    }\n",
       "\n",
       "    .dataframe tbody tr th {\n",
       "        vertical-align: top;\n",
       "    }\n",
       "\n",
       "    .dataframe thead th {\n",
       "        text-align: right;\n",
       "    }\n",
       "</style>\n",
       "<table border=\"1\" class=\"dataframe\">\n",
       "  <thead>\n",
       "    <tr style=\"text-align: right;\">\n",
       "      <th></th>\n",
       "      <th>year</th>\n",
       "      <th>state</th>\n",
       "      <th>pop</th>\n",
       "      <th>debt</th>\n",
       "      <th>eastern</th>\n",
       "    </tr>\n",
       "  </thead>\n",
       "  <tbody>\n",
       "    <tr>\n",
       "      <th>0</th>\n",
       "      <td>2000</td>\n",
       "      <td>Ohio</td>\n",
       "      <td>1.5</td>\n",
       "      <td>NaN</td>\n",
       "      <td>True</td>\n",
       "    </tr>\n",
       "    <tr>\n",
       "      <th>1</th>\n",
       "      <td>2001</td>\n",
       "      <td>Ohio</td>\n",
       "      <td>1.7</td>\n",
       "      <td>NaN</td>\n",
       "      <td>True</td>\n",
       "    </tr>\n",
       "    <tr>\n",
       "      <th>2</th>\n",
       "      <td>2002</td>\n",
       "      <td>Ohio</td>\n",
       "      <td>3.6</td>\n",
       "      <td>NaN</td>\n",
       "      <td>True</td>\n",
       "    </tr>\n",
       "    <tr>\n",
       "      <th>3</th>\n",
       "      <td>2001</td>\n",
       "      <td>Nevada</td>\n",
       "      <td>2.4</td>\n",
       "      <td>NaN</td>\n",
       "      <td>False</td>\n",
       "    </tr>\n",
       "    <tr>\n",
       "      <th>4</th>\n",
       "      <td>2002</td>\n",
       "      <td>Nevada</td>\n",
       "      <td>2.9</td>\n",
       "      <td>NaN</td>\n",
       "      <td>False</td>\n",
       "    </tr>\n",
       "    <tr>\n",
       "      <th>5</th>\n",
       "      <td>2003</td>\n",
       "      <td>Nevada</td>\n",
       "      <td>3.2</td>\n",
       "      <td>NaN</td>\n",
       "      <td>False</td>\n",
       "    </tr>\n",
       "  </tbody>\n",
       "</table>\n",
       "</div>"
      ],
      "text/plain": [
       "   year   state  pop  debt  eastern\n",
       "0  2000    Ohio  1.5   NaN     True\n",
       "1  2001    Ohio  1.7   NaN     True\n",
       "2  2002    Ohio  3.6   NaN     True\n",
       "3  2001  Nevada  2.4   NaN    False\n",
       "4  2002  Nevada  2.9   NaN    False\n",
       "5  2003  Nevada  3.2   NaN    False"
      ]
     },
     "execution_count": 73,
     "metadata": {},
     "output_type": "execute_result"
    }
   ],
   "source": [
    "frame2"
   ]
  },
  {
   "cell_type": "code",
   "execution_count": 74,
   "id": "1e5bcfc7-8d98-4218-bba5-539ccbe18017",
   "metadata": {},
   "outputs": [],
   "source": [
    "del frame2[\"eastern\"]"
   ]
  },
  {
   "cell_type": "code",
   "execution_count": 75,
   "id": "89f87e22-15ff-42b2-b9fd-57c19992a8ba",
   "metadata": {},
   "outputs": [
    {
     "data": {
      "text/plain": [
       "Index(['year', 'state', 'pop', 'debt'], dtype='object')"
      ]
     },
     "execution_count": 75,
     "metadata": {},
     "output_type": "execute_result"
    }
   ],
   "source": [
    "frame2.columns"
   ]
  },
  {
   "cell_type": "code",
   "execution_count": 76,
   "id": "e79cd154-a96a-4c10-ae6d-3cccfedcff6b",
   "metadata": {},
   "outputs": [],
   "source": [
    "populations = {\"Ohio\": {2000: 1.5, 2001: 1.7, 2002: 3.6}, \"Nevada\": {2001: 2.4, 2002: 2.9}}"
   ]
  },
  {
   "cell_type": "code",
   "execution_count": 77,
   "id": "d3b8b7d1-c7a1-40f7-8f2b-ff80f310317f",
   "metadata": {},
   "outputs": [],
   "source": [
    "frame3 = pd.DataFrame(populations)"
   ]
  },
  {
   "cell_type": "code",
   "execution_count": 78,
   "id": "e6fce1ee-e565-41e7-b4e3-efd9eae275d2",
   "metadata": {},
   "outputs": [
    {
     "data": {
      "text/html": [
       "<div>\n",
       "<style scoped>\n",
       "    .dataframe tbody tr th:only-of-type {\n",
       "        vertical-align: middle;\n",
       "    }\n",
       "\n",
       "    .dataframe tbody tr th {\n",
       "        vertical-align: top;\n",
       "    }\n",
       "\n",
       "    .dataframe thead th {\n",
       "        text-align: right;\n",
       "    }\n",
       "</style>\n",
       "<table border=\"1\" class=\"dataframe\">\n",
       "  <thead>\n",
       "    <tr style=\"text-align: right;\">\n",
       "      <th></th>\n",
       "      <th>Ohio</th>\n",
       "      <th>Nevada</th>\n",
       "    </tr>\n",
       "  </thead>\n",
       "  <tbody>\n",
       "    <tr>\n",
       "      <th>2000</th>\n",
       "      <td>1.5</td>\n",
       "      <td>NaN</td>\n",
       "    </tr>\n",
       "    <tr>\n",
       "      <th>2001</th>\n",
       "      <td>1.7</td>\n",
       "      <td>2.4</td>\n",
       "    </tr>\n",
       "    <tr>\n",
       "      <th>2002</th>\n",
       "      <td>3.6</td>\n",
       "      <td>2.9</td>\n",
       "    </tr>\n",
       "  </tbody>\n",
       "</table>\n",
       "</div>"
      ],
      "text/plain": [
       "      Ohio  Nevada\n",
       "2000   1.5     NaN\n",
       "2001   1.7     2.4\n",
       "2002   3.6     2.9"
      ]
     },
     "execution_count": 78,
     "metadata": {},
     "output_type": "execute_result"
    }
   ],
   "source": [
    "frame3"
   ]
  },
  {
   "cell_type": "code",
   "execution_count": 79,
   "id": "0ee7fc1b-0e6a-413b-8560-2561f29c12d0",
   "metadata": {},
   "outputs": [
    {
     "data": {
      "text/html": [
       "<div>\n",
       "<style scoped>\n",
       "    .dataframe tbody tr th:only-of-type {\n",
       "        vertical-align: middle;\n",
       "    }\n",
       "\n",
       "    .dataframe tbody tr th {\n",
       "        vertical-align: top;\n",
       "    }\n",
       "\n",
       "    .dataframe thead th {\n",
       "        text-align: right;\n",
       "    }\n",
       "</style>\n",
       "<table border=\"1\" class=\"dataframe\">\n",
       "  <thead>\n",
       "    <tr style=\"text-align: right;\">\n",
       "      <th></th>\n",
       "      <th>2000</th>\n",
       "      <th>2001</th>\n",
       "      <th>2002</th>\n",
       "    </tr>\n",
       "  </thead>\n",
       "  <tbody>\n",
       "    <tr>\n",
       "      <th>Ohio</th>\n",
       "      <td>1.5</td>\n",
       "      <td>1.7</td>\n",
       "      <td>3.6</td>\n",
       "    </tr>\n",
       "    <tr>\n",
       "      <th>Nevada</th>\n",
       "      <td>NaN</td>\n",
       "      <td>2.4</td>\n",
       "      <td>2.9</td>\n",
       "    </tr>\n",
       "  </tbody>\n",
       "</table>\n",
       "</div>"
      ],
      "text/plain": [
       "        2000  2001  2002\n",
       "Ohio     1.5   1.7   3.6\n",
       "Nevada   NaN   2.4   2.9"
      ]
     },
     "execution_count": 79,
     "metadata": {},
     "output_type": "execute_result"
    }
   ],
   "source": [
    "frame3.T"
   ]
  },
  {
   "cell_type": "code",
   "execution_count": 80,
   "id": "c31a66f2-8d9e-4127-9a6c-ce7c6407a444",
   "metadata": {},
   "outputs": [
    {
     "data": {
      "text/html": [
       "<div>\n",
       "<style scoped>\n",
       "    .dataframe tbody tr th:only-of-type {\n",
       "        vertical-align: middle;\n",
       "    }\n",
       "\n",
       "    .dataframe tbody tr th {\n",
       "        vertical-align: top;\n",
       "    }\n",
       "\n",
       "    .dataframe thead th {\n",
       "        text-align: right;\n",
       "    }\n",
       "</style>\n",
       "<table border=\"1\" class=\"dataframe\">\n",
       "  <thead>\n",
       "    <tr style=\"text-align: right;\">\n",
       "      <th></th>\n",
       "      <th>Ohio</th>\n",
       "      <th>Nevada</th>\n",
       "    </tr>\n",
       "  </thead>\n",
       "  <tbody>\n",
       "    <tr>\n",
       "      <th>2001</th>\n",
       "      <td>1.7</td>\n",
       "      <td>2.4</td>\n",
       "    </tr>\n",
       "    <tr>\n",
       "      <th>2002</th>\n",
       "      <td>3.6</td>\n",
       "      <td>2.9</td>\n",
       "    </tr>\n",
       "    <tr>\n",
       "      <th>2003</th>\n",
       "      <td>NaN</td>\n",
       "      <td>NaN</td>\n",
       "    </tr>\n",
       "  </tbody>\n",
       "</table>\n",
       "</div>"
      ],
      "text/plain": [
       "      Ohio  Nevada\n",
       "2001   1.7     2.4\n",
       "2002   3.6     2.9\n",
       "2003   NaN     NaN"
      ]
     },
     "execution_count": 80,
     "metadata": {},
     "output_type": "execute_result"
    }
   ],
   "source": [
    "pd.DataFrame(populations, index=[2001, 2002, 2003])"
   ]
  },
  {
   "cell_type": "code",
   "execution_count": 81,
   "id": "70cc5cc7-30ea-4da1-ac46-97adab0370c9",
   "metadata": {},
   "outputs": [],
   "source": [
    "pdata = {\"Ohio\": frame3[\"Ohio\"][:-1], \"Nevada\": frame3[\"Nevada\"][:2]}"
   ]
  },
  {
   "cell_type": "code",
   "execution_count": 82,
   "id": "6f8dd7c1-5b48-4adc-b0d6-ce71fbd3dcd8",
   "metadata": {},
   "outputs": [
    {
     "data": {
      "text/html": [
       "<div>\n",
       "<style scoped>\n",
       "    .dataframe tbody tr th:only-of-type {\n",
       "        vertical-align: middle;\n",
       "    }\n",
       "\n",
       "    .dataframe tbody tr th {\n",
       "        vertical-align: top;\n",
       "    }\n",
       "\n",
       "    .dataframe thead th {\n",
       "        text-align: right;\n",
       "    }\n",
       "</style>\n",
       "<table border=\"1\" class=\"dataframe\">\n",
       "  <thead>\n",
       "    <tr style=\"text-align: right;\">\n",
       "      <th></th>\n",
       "      <th>Ohio</th>\n",
       "      <th>Nevada</th>\n",
       "    </tr>\n",
       "  </thead>\n",
       "  <tbody>\n",
       "    <tr>\n",
       "      <th>2000</th>\n",
       "      <td>1.5</td>\n",
       "      <td>NaN</td>\n",
       "    </tr>\n",
       "    <tr>\n",
       "      <th>2001</th>\n",
       "      <td>1.7</td>\n",
       "      <td>2.4</td>\n",
       "    </tr>\n",
       "  </tbody>\n",
       "</table>\n",
       "</div>"
      ],
      "text/plain": [
       "      Ohio  Nevada\n",
       "2000   1.5     NaN\n",
       "2001   1.7     2.4"
      ]
     },
     "execution_count": 82,
     "metadata": {},
     "output_type": "execute_result"
    }
   ],
   "source": [
    "pd.DataFrame(pdata)"
   ]
  },
  {
   "cell_type": "code",
   "execution_count": 83,
   "id": "2bcc34ad-eb32-4e8a-97ad-14dca263f926",
   "metadata": {},
   "outputs": [],
   "source": [
    "frame3.index.name = \"year\""
   ]
  },
  {
   "cell_type": "code",
   "execution_count": 84,
   "id": "9ce56ce4-d1da-488d-9c28-b7268a99796f",
   "metadata": {},
   "outputs": [],
   "source": [
    "frame3.columns.name = \"state\""
   ]
  },
  {
   "cell_type": "code",
   "execution_count": 85,
   "id": "556f3479-ebf4-498f-ba3a-cc0d4f425d2b",
   "metadata": {},
   "outputs": [
    {
     "data": {
      "text/html": [
       "<div>\n",
       "<style scoped>\n",
       "    .dataframe tbody tr th:only-of-type {\n",
       "        vertical-align: middle;\n",
       "    }\n",
       "\n",
       "    .dataframe tbody tr th {\n",
       "        vertical-align: top;\n",
       "    }\n",
       "\n",
       "    .dataframe thead th {\n",
       "        text-align: right;\n",
       "    }\n",
       "</style>\n",
       "<table border=\"1\" class=\"dataframe\">\n",
       "  <thead>\n",
       "    <tr style=\"text-align: right;\">\n",
       "      <th>state</th>\n",
       "      <th>Ohio</th>\n",
       "      <th>Nevada</th>\n",
       "    </tr>\n",
       "    <tr>\n",
       "      <th>year</th>\n",
       "      <th></th>\n",
       "      <th></th>\n",
       "    </tr>\n",
       "  </thead>\n",
       "  <tbody>\n",
       "    <tr>\n",
       "      <th>2000</th>\n",
       "      <td>1.5</td>\n",
       "      <td>NaN</td>\n",
       "    </tr>\n",
       "    <tr>\n",
       "      <th>2001</th>\n",
       "      <td>1.7</td>\n",
       "      <td>2.4</td>\n",
       "    </tr>\n",
       "    <tr>\n",
       "      <th>2002</th>\n",
       "      <td>3.6</td>\n",
       "      <td>2.9</td>\n",
       "    </tr>\n",
       "  </tbody>\n",
       "</table>\n",
       "</div>"
      ],
      "text/plain": [
       "state  Ohio  Nevada\n",
       "year               \n",
       "2000    1.5     NaN\n",
       "2001    1.7     2.4\n",
       "2002    3.6     2.9"
      ]
     },
     "execution_count": 85,
     "metadata": {},
     "output_type": "execute_result"
    }
   ],
   "source": [
    "frame3"
   ]
  },
  {
   "cell_type": "code",
   "execution_count": 86,
   "id": "0b4e950f-05f3-419e-9f97-5f475de2f995",
   "metadata": {},
   "outputs": [
    {
     "data": {
      "text/plain": [
       "array([[1.5, nan],\n",
       "       [1.7, 2.4],\n",
       "       [3.6, 2.9]])"
      ]
     },
     "execution_count": 86,
     "metadata": {},
     "output_type": "execute_result"
    }
   ],
   "source": [
    "frame3.to_numpy()"
   ]
  },
  {
   "cell_type": "code",
   "execution_count": 87,
   "id": "da6fa4e6-c023-4d3f-94cc-9f57d393155c",
   "metadata": {},
   "outputs": [
    {
     "data": {
      "text/plain": [
       "array([[2000, 'Ohio', 1.5, nan],\n",
       "       [2001, 'Ohio', 1.7, nan],\n",
       "       [2002, 'Ohio', 3.6, nan],\n",
       "       [2001, 'Nevada', 2.4, nan],\n",
       "       [2002, 'Nevada', 2.9, nan],\n",
       "       [2003, 'Nevada', 3.2, nan]], dtype=object)"
      ]
     },
     "execution_count": 87,
     "metadata": {},
     "output_type": "execute_result"
    }
   ],
   "source": [
    "frame2.to_numpy()"
   ]
  },
  {
   "cell_type": "code",
   "execution_count": 88,
   "id": "6e769f1a-62f6-41da-887b-065ad55ab145",
   "metadata": {},
   "outputs": [
    {
     "data": {
      "text/html": [
       "<div>\n",
       "<style scoped>\n",
       "    .dataframe tbody tr th:only-of-type {\n",
       "        vertical-align: middle;\n",
       "    }\n",
       "\n",
       "    .dataframe tbody tr th {\n",
       "        vertical-align: top;\n",
       "    }\n",
       "\n",
       "    .dataframe thead th {\n",
       "        text-align: right;\n",
       "    }\n",
       "</style>\n",
       "<table border=\"1\" class=\"dataframe\">\n",
       "  <thead>\n",
       "    <tr style=\"text-align: right;\">\n",
       "      <th></th>\n",
       "      <th>year</th>\n",
       "      <th>state</th>\n",
       "      <th>pop</th>\n",
       "      <th>debt</th>\n",
       "    </tr>\n",
       "  </thead>\n",
       "  <tbody>\n",
       "    <tr>\n",
       "      <th>0</th>\n",
       "      <td>2000</td>\n",
       "      <td>Ohio</td>\n",
       "      <td>1.5</td>\n",
       "      <td>NaN</td>\n",
       "    </tr>\n",
       "    <tr>\n",
       "      <th>1</th>\n",
       "      <td>2001</td>\n",
       "      <td>Ohio</td>\n",
       "      <td>1.7</td>\n",
       "      <td>NaN</td>\n",
       "    </tr>\n",
       "    <tr>\n",
       "      <th>2</th>\n",
       "      <td>2002</td>\n",
       "      <td>Ohio</td>\n",
       "      <td>3.6</td>\n",
       "      <td>NaN</td>\n",
       "    </tr>\n",
       "    <tr>\n",
       "      <th>3</th>\n",
       "      <td>2001</td>\n",
       "      <td>Nevada</td>\n",
       "      <td>2.4</td>\n",
       "      <td>NaN</td>\n",
       "    </tr>\n",
       "    <tr>\n",
       "      <th>4</th>\n",
       "      <td>2002</td>\n",
       "      <td>Nevada</td>\n",
       "      <td>2.9</td>\n",
       "      <td>NaN</td>\n",
       "    </tr>\n",
       "  </tbody>\n",
       "</table>\n",
       "</div>"
      ],
      "text/plain": [
       "   year   state  pop  debt\n",
       "0  2000    Ohio  1.5   NaN\n",
       "1  2001    Ohio  1.7   NaN\n",
       "2  2002    Ohio  3.6   NaN\n",
       "3  2001  Nevada  2.4   NaN\n",
       "4  2002  Nevada  2.9   NaN"
      ]
     },
     "execution_count": 88,
     "metadata": {},
     "output_type": "execute_result"
    }
   ],
   "source": [
    "frame2.head()"
   ]
  },
  {
   "cell_type": "code",
   "execution_count": null,
   "id": "0fc17202",
   "metadata": {},
   "outputs": [],
   "source": []
  },
  {
   "cell_type": "code",
   "execution_count": null,
   "id": "cb9d04d1",
   "metadata": {},
   "outputs": [],
   "source": []
  },
  {
   "cell_type": "code",
   "execution_count": null,
   "id": "105fabf0",
   "metadata": {},
   "outputs": [],
   "source": []
  },
  {
   "cell_type": "code",
   "execution_count": null,
   "id": "5351fa3c",
   "metadata": {},
   "outputs": [],
   "source": []
  },
  {
   "cell_type": "code",
   "execution_count": null,
   "id": "66d1ad43",
   "metadata": {},
   "outputs": [],
   "source": []
  },
  {
   "cell_type": "code",
   "execution_count": null,
   "id": "947ab940",
   "metadata": {},
   "outputs": [],
   "source": []
  },
  {
   "cell_type": "code",
   "execution_count": null,
   "id": "630c8c2b-3f6a-48a0-97ca-b3219f6616bf",
   "metadata": {},
   "outputs": [],
   "source": []
  },
  {
   "cell_type": "code",
   "execution_count": null,
   "id": "fd7cf30f-720a-4322-8372-c181964c35f4",
   "metadata": {},
   "outputs": [],
   "source": []
  },
  {
   "cell_type": "code",
   "execution_count": null,
   "id": "a25a4d07-bb36-4033-967b-a1f911deb960",
   "metadata": {},
   "outputs": [],
   "source": []
  },
  {
   "cell_type": "code",
   "execution_count": null,
   "id": "4fb052c3-5a0e-47cf-830a-61231487463b",
   "metadata": {},
   "outputs": [],
   "source": []
  },
  {
   "cell_type": "code",
   "execution_count": null,
   "id": "299c2995-8a41-482b-945a-e5df43e636f4",
   "metadata": {},
   "outputs": [],
   "source": []
  },
  {
   "cell_type": "code",
   "execution_count": null,
   "id": "7621a2ec-4a06-4bd1-9c3e-f4b883b2488e",
   "metadata": {},
   "outputs": [],
   "source": []
  },
  {
   "cell_type": "code",
   "execution_count": null,
   "id": "3ea21abe-a94a-4207-9076-26e21ed766a2",
   "metadata": {},
   "outputs": [],
   "source": []
  },
  {
   "cell_type": "code",
   "execution_count": null,
   "id": "48ac7527-ee8b-4282-8146-f6e3e019a88e",
   "metadata": {},
   "outputs": [],
   "source": []
  },
  {
   "cell_type": "code",
   "execution_count": null,
   "id": "57556bd9-c41e-4eb8-9504-7d707de9ec32",
   "metadata": {},
   "outputs": [],
   "source": []
  },
  {
   "cell_type": "code",
   "execution_count": null,
   "id": "f1c8c363-83bd-485c-974f-e1d7ec93cebc",
   "metadata": {},
   "outputs": [],
   "source": []
  }
 ],
 "metadata": {
  "kernelspec": {
   "display_name": "Python 3",
   "language": "python",
   "name": "python3"
  },
  "language_info": {
   "codemirror_mode": {
    "name": "ipython",
    "version": 3
   },
   "file_extension": ".py",
   "mimetype": "text/x-python",
   "name": "python",
   "nbconvert_exporter": "python",
   "pygments_lexer": "ipython3",
   "version": "3.13.7"
  }
 },
 "nbformat": 4,
 "nbformat_minor": 5
}
